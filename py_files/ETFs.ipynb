{
 "cells": [
  {
   "cell_type": "code",
   "execution_count": 1,
   "id": "f88bae2e-d391-4fb4-b537-3f8f682d89ed",
   "metadata": {},
   "outputs": [],
   "source": [
    "import pandas as pd"
   ]
  },
  {
   "cell_type": "markdown",
   "id": "af53cd88-71af-4186-ba99-5755bd50975b",
   "metadata": {},
   "source": [
    "#### Extracting data"
   ]
  },
  {
   "cell_type": "code",
   "execution_count": 3,
   "id": "7e32abe3-5c96-45c7-8b97-bad959d111c8",
   "metadata": {},
   "outputs": [
    {
     "name": "stdout",
     "output_type": "stream",
     "text": [
      "Requirement already satisfied: yfinance in d:\\users\\sujay\\lib\\site-packages (0.2.48)\n",
      "Requirement already satisfied: pandas>=1.3.0 in d:\\users\\sujay\\lib\\site-packages (from yfinance) (2.1.4)\n",
      "Requirement already satisfied: numpy>=1.16.5 in d:\\users\\sujay\\lib\\site-packages (from yfinance) (1.26.4)\n",
      "Requirement already satisfied: requests>=2.31 in d:\\users\\sujay\\lib\\site-packages (from yfinance) (2.31.0)\n",
      "Requirement already satisfied: multitasking>=0.0.7 in d:\\users\\sujay\\lib\\site-packages (from yfinance) (0.0.11)\n",
      "Requirement already satisfied: lxml>=4.9.1 in d:\\users\\sujay\\lib\\site-packages (from yfinance) (4.9.3)\n",
      "Requirement already satisfied: platformdirs>=2.0.0 in d:\\users\\sujay\\lib\\site-packages (from yfinance) (3.10.0)\n",
      "Requirement already satisfied: pytz>=2022.5 in d:\\users\\sujay\\lib\\site-packages (from yfinance) (2023.3.post1)\n",
      "Requirement already satisfied: frozendict>=2.3.4 in d:\\users\\sujay\\lib\\site-packages (from yfinance) (2.4.2)\n",
      "Requirement already satisfied: peewee>=3.16.2 in d:\\users\\sujay\\lib\\site-packages (from yfinance) (3.17.7)\n",
      "Requirement already satisfied: beautifulsoup4>=4.11.1 in d:\\users\\sujay\\lib\\site-packages (from yfinance) (4.12.2)\n",
      "Requirement already satisfied: html5lib>=1.1 in d:\\users\\sujay\\lib\\site-packages (from yfinance) (1.1)\n",
      "Requirement already satisfied: soupsieve>1.2 in d:\\users\\sujay\\lib\\site-packages (from beautifulsoup4>=4.11.1->yfinance) (2.5)\n",
      "Requirement already satisfied: six>=1.9 in d:\\users\\sujay\\lib\\site-packages (from html5lib>=1.1->yfinance) (1.16.0)\n",
      "Requirement already satisfied: webencodings in d:\\users\\sujay\\lib\\site-packages (from html5lib>=1.1->yfinance) (0.5.1)\n",
      "Requirement already satisfied: python-dateutil>=2.8.2 in d:\\users\\sujay\\lib\\site-packages (from pandas>=1.3.0->yfinance) (2.8.2)\n",
      "Requirement already satisfied: tzdata>=2022.1 in d:\\users\\sujay\\lib\\site-packages (from pandas>=1.3.0->yfinance) (2023.3)\n",
      "Requirement already satisfied: charset-normalizer<4,>=2 in d:\\users\\sujay\\lib\\site-packages (from requests>=2.31->yfinance) (2.0.4)\n",
      "Requirement already satisfied: idna<4,>=2.5 in d:\\users\\sujay\\lib\\site-packages (from requests>=2.31->yfinance) (3.4)\n",
      "Requirement already satisfied: urllib3<3,>=1.21.1 in d:\\users\\sujay\\lib\\site-packages (from requests>=2.31->yfinance) (2.0.7)\n",
      "Requirement already satisfied: certifi>=2017.4.17 in d:\\users\\sujay\\lib\\site-packages (from requests>=2.31->yfinance) (2024.8.30)\n",
      "Note: you may need to restart the kernel to use updated packages.\n"
     ]
    }
   ],
   "source": [
    "pip install yfinance"
   ]
  },
  {
   "cell_type": "code",
   "execution_count": 4,
   "id": "eba07541-7348-4de1-a6f4-f7328197fc66",
   "metadata": {},
   "outputs": [],
   "source": [
    "import yfinance as yf"
   ]
  },
  {
   "cell_type": "markdown",
   "id": "c1eddc22-88b7-4743-9884-2ca4a1c604de",
   "metadata": {},
   "source": [
    "**Enter dates range:**"
   ]
  },
  {
   "cell_type": "code",
   "execution_count": 6,
   "id": "9894729c-660b-412d-a2a5-d90a4a48f492",
   "metadata": {},
   "outputs": [
    {
     "name": "stdout",
     "output_type": "stream",
     "text": [
      "34\n"
     ]
    }
   ],
   "source": [
    "# Define the start and end dates (yyyy-mm-dd)\n",
    "start_date = pd.to_datetime(\"2022-01-01\")\n",
    "end_date = pd.to_datetime(\"2024-11-06\")\n",
    "\n",
    "# Calculate the difference in months\n",
    "months_diff = (end_date.year - start_date.year) * 12 + end_date.month - start_date.month\n",
    "\n",
    "print(months_diff)"
   ]
  },
  {
   "cell_type": "markdown",
   "id": "fc781043-0bdf-47dc-b12a-8b1dbe700ec9",
   "metadata": {},
   "source": [
    "**Enter tickers:**"
   ]
  },
  {
   "cell_type": "code",
   "execution_count": 8,
   "id": "fda0b01f-e1e3-46b0-9b9f-adbb01fa64fc",
   "metadata": {},
   "outputs": [
    {
     "name": "stderr",
     "output_type": "stream",
     "text": [
      "[*********************100%***********************]  10 of 10 completed"
     ]
    },
    {
     "name": "stdout",
     "output_type": "stream",
     "text": [
      "Ticker                     APOLLOHOSP.NS    COLPAL.NS      DLF.NS  \\\n",
      "Date                                                                \n",
      "2022-01-03 00:00:00+00:00    4990.500000  1463.800049  394.750000   \n",
      "2022-01-04 00:00:00+00:00    4964.600098  1464.800049  394.450012   \n",
      "2022-01-05 00:00:00+00:00    4973.250000  1466.150024  402.049988   \n",
      "2022-01-06 00:00:00+00:00    4964.450195  1456.900024  398.950012   \n",
      "2022-01-07 00:00:00+00:00    5021.850098  1469.900024  400.600006   \n",
      "\n",
      "Ticker                     HDFCBANK.NS  ICICIBANK.NS  KPITTECH.NS     NMDC.NS  \\\n",
      "Date                                                                            \n",
      "2022-01-03 00:00:00+00:00  1519.650024    764.700012   608.150024  103.997322   \n",
      "2022-01-04 00:00:00+00:00  1528.550049    772.849976   608.150024  104.381645   \n",
      "2022-01-05 00:00:00+00:00  1564.849976    788.049988   594.200012  106.533844   \n",
      "2022-01-06 00:00:00+00:00  1539.750000    785.049988   630.450012  106.572273   \n",
      "2022-01-07 00:00:00+00:00  1550.550049    793.250000   711.250000  106.572273   \n",
      "\n",
      "Ticker                        ONGC.NS  POWERGRID.NS  TATAPOWER.NS  \n",
      "Date                                                               \n",
      "2022-01-03 00:00:00+00:00  143.050003    153.750000    223.399994  \n",
      "2022-01-04 00:00:00+00:00  147.800003    157.949997    226.300003  \n",
      "2022-01-05 00:00:00+00:00  150.350006    156.487503    223.500000  \n",
      "2022-01-06 00:00:00+00:00  150.800003    154.462494    228.449997  \n",
      "2022-01-07 00:00:00+00:00  157.050003    153.899994    229.800003  \n"
     ]
    },
    {
     "name": "stderr",
     "output_type": "stream",
     "text": [
      "\n"
     ]
    }
   ],
   "source": [
    "# List of tickers for NSE stocks (append '.NS' to each NSE ticker)\n",
    "tickers = [\"HDFCBANK.NS\", \"ONGC.NS\", \"ICICIBANK.NS\", \"APOLLOHOSP.NS\", \"COLPAL.NS\", \"POWERGRID.NS\", \"TATAPOWER.NS\", \"KPITTECH.NS\", \"DLF.NS\", \"NMDC.NS\"]  # Add more tickers as needed\n",
    "\n",
    "# Download historical data for 1 or 2 years\n",
    "data = yf.download(tickers, start=start_date, end=end_date)\n",
    "\n",
    "# Extract only the closing prices\n",
    "closing_prices = data['Close']\n",
    "\n",
    "# Display the combined DataFrame\n",
    "print(closing_prices.head())\n",
    "\n",
    "# Optionally, save to a CSV file if you want\n",
    "closing_prices.to_csv(\"nse_closing_prices.csv\")"
   ]
  },
  {
   "cell_type": "code",
   "execution_count": 9,
   "id": "08f8b6cd-17fc-4ee5-8849-38d5b3ed3753",
   "metadata": {},
   "outputs": [
    {
     "data": {
      "text/html": [
       "<div>\n",
       "<style scoped>\n",
       "    .dataframe tbody tr th:only-of-type {\n",
       "        vertical-align: middle;\n",
       "    }\n",
       "\n",
       "    .dataframe tbody tr th {\n",
       "        vertical-align: top;\n",
       "    }\n",
       "\n",
       "    .dataframe thead th {\n",
       "        text-align: right;\n",
       "    }\n",
       "</style>\n",
       "<table border=\"1\" class=\"dataframe\">\n",
       "  <thead>\n",
       "    <tr style=\"text-align: right;\">\n",
       "      <th></th>\n",
       "      <th>Date</th>\n",
       "      <th>APOLLOHOSP.NS</th>\n",
       "      <th>COLPAL.NS</th>\n",
       "      <th>DLF.NS</th>\n",
       "      <th>HDFCBANK.NS</th>\n",
       "      <th>ICICIBANK.NS</th>\n",
       "      <th>KPITTECH.NS</th>\n",
       "      <th>NMDC.NS</th>\n",
       "      <th>ONGC.NS</th>\n",
       "      <th>POWERGRID.NS</th>\n",
       "      <th>TATAPOWER.NS</th>\n",
       "    </tr>\n",
       "  </thead>\n",
       "  <tbody>\n",
       "    <tr>\n",
       "      <th>0</th>\n",
       "      <td>2022-01-03 00:00:00+00:00</td>\n",
       "      <td>4990.500000</td>\n",
       "      <td>1463.800049</td>\n",
       "      <td>394.750000</td>\n",
       "      <td>1519.650024</td>\n",
       "      <td>764.700012</td>\n",
       "      <td>608.150024</td>\n",
       "      <td>103.997322</td>\n",
       "      <td>143.050003</td>\n",
       "      <td>153.750000</td>\n",
       "      <td>223.399994</td>\n",
       "    </tr>\n",
       "    <tr>\n",
       "      <th>1</th>\n",
       "      <td>2022-01-04 00:00:00+00:00</td>\n",
       "      <td>4964.600098</td>\n",
       "      <td>1464.800049</td>\n",
       "      <td>394.450012</td>\n",
       "      <td>1528.550049</td>\n",
       "      <td>772.849976</td>\n",
       "      <td>608.150024</td>\n",
       "      <td>104.381645</td>\n",
       "      <td>147.800003</td>\n",
       "      <td>157.949997</td>\n",
       "      <td>226.300003</td>\n",
       "    </tr>\n",
       "    <tr>\n",
       "      <th>2</th>\n",
       "      <td>2022-01-05 00:00:00+00:00</td>\n",
       "      <td>4973.250000</td>\n",
       "      <td>1466.150024</td>\n",
       "      <td>402.049988</td>\n",
       "      <td>1564.849976</td>\n",
       "      <td>788.049988</td>\n",
       "      <td>594.200012</td>\n",
       "      <td>106.533844</td>\n",
       "      <td>150.350006</td>\n",
       "      <td>156.487503</td>\n",
       "      <td>223.500000</td>\n",
       "    </tr>\n",
       "    <tr>\n",
       "      <th>3</th>\n",
       "      <td>2022-01-06 00:00:00+00:00</td>\n",
       "      <td>4964.450195</td>\n",
       "      <td>1456.900024</td>\n",
       "      <td>398.950012</td>\n",
       "      <td>1539.750000</td>\n",
       "      <td>785.049988</td>\n",
       "      <td>630.450012</td>\n",
       "      <td>106.572273</td>\n",
       "      <td>150.800003</td>\n",
       "      <td>154.462494</td>\n",
       "      <td>228.449997</td>\n",
       "    </tr>\n",
       "    <tr>\n",
       "      <th>4</th>\n",
       "      <td>2022-01-07 00:00:00+00:00</td>\n",
       "      <td>5021.850098</td>\n",
       "      <td>1469.900024</td>\n",
       "      <td>400.600006</td>\n",
       "      <td>1550.550049</td>\n",
       "      <td>793.250000</td>\n",
       "      <td>711.250000</td>\n",
       "      <td>106.572273</td>\n",
       "      <td>157.050003</td>\n",
       "      <td>153.899994</td>\n",
       "      <td>229.800003</td>\n",
       "    </tr>\n",
       "  </tbody>\n",
       "</table>\n",
       "</div>"
      ],
      "text/plain": [
       "                        Date  APOLLOHOSP.NS    COLPAL.NS      DLF.NS  \\\n",
       "0  2022-01-03 00:00:00+00:00    4990.500000  1463.800049  394.750000   \n",
       "1  2022-01-04 00:00:00+00:00    4964.600098  1464.800049  394.450012   \n",
       "2  2022-01-05 00:00:00+00:00    4973.250000  1466.150024  402.049988   \n",
       "3  2022-01-06 00:00:00+00:00    4964.450195  1456.900024  398.950012   \n",
       "4  2022-01-07 00:00:00+00:00    5021.850098  1469.900024  400.600006   \n",
       "\n",
       "   HDFCBANK.NS  ICICIBANK.NS  KPITTECH.NS     NMDC.NS     ONGC.NS  \\\n",
       "0  1519.650024    764.700012   608.150024  103.997322  143.050003   \n",
       "1  1528.550049    772.849976   608.150024  104.381645  147.800003   \n",
       "2  1564.849976    788.049988   594.200012  106.533844  150.350006   \n",
       "3  1539.750000    785.049988   630.450012  106.572273  150.800003   \n",
       "4  1550.550049    793.250000   711.250000  106.572273  157.050003   \n",
       "\n",
       "   POWERGRID.NS  TATAPOWER.NS  \n",
       "0    153.750000    223.399994  \n",
       "1    157.949997    226.300003  \n",
       "2    156.487503    223.500000  \n",
       "3    154.462494    228.449997  \n",
       "4    153.899994    229.800003  "
      ]
     },
     "execution_count": 9,
     "metadata": {},
     "output_type": "execute_result"
    }
   ],
   "source": [
    "df = pd.read_csv(r\"nse_closing_prices.csv\")\n",
    "df.head()"
   ]
  },
  {
   "cell_type": "code",
   "execution_count": 10,
   "id": "194e4040-8de3-41bb-9f96-cfad3bff15da",
   "metadata": {},
   "outputs": [],
   "source": [
    "df.set_index('Date', inplace =True)"
   ]
  },
  {
   "cell_type": "code",
   "execution_count": 11,
   "id": "a33d15c7-13f5-4c57-a816-a4319912d180",
   "metadata": {},
   "outputs": [
    {
     "data": {
      "text/html": [
       "<div>\n",
       "<style scoped>\n",
       "    .dataframe tbody tr th:only-of-type {\n",
       "        vertical-align: middle;\n",
       "    }\n",
       "\n",
       "    .dataframe tbody tr th {\n",
       "        vertical-align: top;\n",
       "    }\n",
       "\n",
       "    .dataframe thead th {\n",
       "        text-align: right;\n",
       "    }\n",
       "</style>\n",
       "<table border=\"1\" class=\"dataframe\">\n",
       "  <thead>\n",
       "    <tr style=\"text-align: right;\">\n",
       "      <th></th>\n",
       "      <th>APOLLOHOSP.NS</th>\n",
       "      <th>COLPAL.NS</th>\n",
       "      <th>DLF.NS</th>\n",
       "      <th>HDFCBANK.NS</th>\n",
       "      <th>ICICIBANK.NS</th>\n",
       "      <th>KPITTECH.NS</th>\n",
       "      <th>NMDC.NS</th>\n",
       "      <th>ONGC.NS</th>\n",
       "      <th>POWERGRID.NS</th>\n",
       "      <th>TATAPOWER.NS</th>\n",
       "    </tr>\n",
       "    <tr>\n",
       "      <th>Date</th>\n",
       "      <th></th>\n",
       "      <th></th>\n",
       "      <th></th>\n",
       "      <th></th>\n",
       "      <th></th>\n",
       "      <th></th>\n",
       "      <th></th>\n",
       "      <th></th>\n",
       "      <th></th>\n",
       "      <th></th>\n",
       "    </tr>\n",
       "  </thead>\n",
       "  <tbody>\n",
       "    <tr>\n",
       "      <th>2024-10-30 00:00:00+00:00</th>\n",
       "      <td>6982.500000</td>\n",
       "      <td>3091.149902</td>\n",
       "      <td>826.400024</td>\n",
       "      <td>1734.599976</td>\n",
       "      <td>1312.150024</td>\n",
       "      <td>1385.300049</td>\n",
       "      <td>224.259995</td>\n",
       "      <td>261.649994</td>\n",
       "      <td>318.450012</td>\n",
       "      <td>427.000000</td>\n",
       "    </tr>\n",
       "    <tr>\n",
       "      <th>2024-10-31 00:00:00+00:00</th>\n",
       "      <td>7022.700195</td>\n",
       "      <td>3062.500000</td>\n",
       "      <td>819.849976</td>\n",
       "      <td>1735.699951</td>\n",
       "      <td>1292.250000</td>\n",
       "      <td>1393.250000</td>\n",
       "      <td>221.869995</td>\n",
       "      <td>266.149994</td>\n",
       "      <td>320.799988</td>\n",
       "      <td>440.049988</td>\n",
       "    </tr>\n",
       "    <tr>\n",
       "      <th>2024-11-01 00:00:00+00:00</th>\n",
       "      <td>7031.950195</td>\n",
       "      <td>3066.000000</td>\n",
       "      <td>823.750000</td>\n",
       "      <td>1737.300049</td>\n",
       "      <td>1291.800049</td>\n",
       "      <td>1424.250000</td>\n",
       "      <td>222.839996</td>\n",
       "      <td>271.750000</td>\n",
       "      <td>322.049988</td>\n",
       "      <td>445.450012</td>\n",
       "    </tr>\n",
       "    <tr>\n",
       "      <th>2024-11-04 00:00:00+00:00</th>\n",
       "      <td>6958.399902</td>\n",
       "      <td>2984.600098</td>\n",
       "      <td>789.900024</td>\n",
       "      <td>1714.099976</td>\n",
       "      <td>1277.199951</td>\n",
       "      <td>1403.599976</td>\n",
       "      <td>226.500000</td>\n",
       "      <td>265.299988</td>\n",
       "      <td>315.450012</td>\n",
       "      <td>429.049988</td>\n",
       "    </tr>\n",
       "    <tr>\n",
       "      <th>2024-11-05 00:00:00+00:00</th>\n",
       "      <td>6966.299805</td>\n",
       "      <td>2981.649902</td>\n",
       "      <td>799.049988</td>\n",
       "      <td>1757.849976</td>\n",
       "      <td>1296.699951</td>\n",
       "      <td>1390.000000</td>\n",
       "      <td>234.729996</td>\n",
       "      <td>267.399994</td>\n",
       "      <td>316.600006</td>\n",
       "      <td>434.100006</td>\n",
       "    </tr>\n",
       "  </tbody>\n",
       "</table>\n",
       "</div>"
      ],
      "text/plain": [
       "                           APOLLOHOSP.NS    COLPAL.NS      DLF.NS  \\\n",
       "Date                                                                \n",
       "2024-10-30 00:00:00+00:00    6982.500000  3091.149902  826.400024   \n",
       "2024-10-31 00:00:00+00:00    7022.700195  3062.500000  819.849976   \n",
       "2024-11-01 00:00:00+00:00    7031.950195  3066.000000  823.750000   \n",
       "2024-11-04 00:00:00+00:00    6958.399902  2984.600098  789.900024   \n",
       "2024-11-05 00:00:00+00:00    6966.299805  2981.649902  799.049988   \n",
       "\n",
       "                           HDFCBANK.NS  ICICIBANK.NS  KPITTECH.NS     NMDC.NS  \\\n",
       "Date                                                                            \n",
       "2024-10-30 00:00:00+00:00  1734.599976   1312.150024  1385.300049  224.259995   \n",
       "2024-10-31 00:00:00+00:00  1735.699951   1292.250000  1393.250000  221.869995   \n",
       "2024-11-01 00:00:00+00:00  1737.300049   1291.800049  1424.250000  222.839996   \n",
       "2024-11-04 00:00:00+00:00  1714.099976   1277.199951  1403.599976  226.500000   \n",
       "2024-11-05 00:00:00+00:00  1757.849976   1296.699951  1390.000000  234.729996   \n",
       "\n",
       "                              ONGC.NS  POWERGRID.NS  TATAPOWER.NS  \n",
       "Date                                                               \n",
       "2024-10-30 00:00:00+00:00  261.649994    318.450012    427.000000  \n",
       "2024-10-31 00:00:00+00:00  266.149994    320.799988    440.049988  \n",
       "2024-11-01 00:00:00+00:00  271.750000    322.049988    445.450012  \n",
       "2024-11-04 00:00:00+00:00  265.299988    315.450012    429.049988  \n",
       "2024-11-05 00:00:00+00:00  267.399994    316.600006    434.100006  "
      ]
     },
     "execution_count": 11,
     "metadata": {},
     "output_type": "execute_result"
    }
   ],
   "source": [
    "df.tail()"
   ]
  },
  {
   "cell_type": "code",
   "execution_count": 12,
   "id": "075d0c07-4992-4bfb-9752-04e46003a8d4",
   "metadata": {},
   "outputs": [
    {
     "data": {
      "text/plain": [
       "(702, 10)"
      ]
     },
     "execution_count": 12,
     "metadata": {},
     "output_type": "execute_result"
    }
   ],
   "source": [
    "df.shape"
   ]
  },
  {
   "cell_type": "code",
   "execution_count": 13,
   "id": "ae253d26-f5d6-45c5-a908-895c8bc113e7",
   "metadata": {},
   "outputs": [],
   "source": [
    "# Save the DataFrame to an Excel file\n",
    "df.to_excel('stocks.xlsx', index=True)"
   ]
  },
  {
   "cell_type": "markdown",
   "id": "eb8f11db-eb26-4f70-85a3-db5248c3d62a",
   "metadata": {},
   "source": [
    "#### Calculating daily returns"
   ]
  },
  {
   "cell_type": "code",
   "execution_count": 15,
   "id": "21406f17-c4fe-4498-836a-88c3b0f70fdb",
   "metadata": {},
   "outputs": [],
   "source": [
    "import numpy as np"
   ]
  },
  {
   "cell_type": "code",
   "execution_count": 16,
   "id": "f1c20927-ffad-443e-aa39-37d7bb4fc51e",
   "metadata": {},
   "outputs": [],
   "source": [
    "returns = df.pct_change()"
   ]
  },
  {
   "cell_type": "code",
   "execution_count": 17,
   "id": "e9431861-5dd6-4ebc-9efb-26e43296f7ad",
   "metadata": {},
   "outputs": [],
   "source": [
    "returns.dropna(inplace = True)"
   ]
  },
  {
   "cell_type": "code",
   "execution_count": 18,
   "id": "226bc7fd-8efb-4358-8dcf-bcbbb5af95d8",
   "metadata": {},
   "outputs": [
    {
     "data": {
      "text/html": [
       "<div>\n",
       "<style scoped>\n",
       "    .dataframe tbody tr th:only-of-type {\n",
       "        vertical-align: middle;\n",
       "    }\n",
       "\n",
       "    .dataframe tbody tr th {\n",
       "        vertical-align: top;\n",
       "    }\n",
       "\n",
       "    .dataframe thead th {\n",
       "        text-align: right;\n",
       "    }\n",
       "</style>\n",
       "<table border=\"1\" class=\"dataframe\">\n",
       "  <thead>\n",
       "    <tr style=\"text-align: right;\">\n",
       "      <th></th>\n",
       "      <th>APOLLOHOSP.NS</th>\n",
       "      <th>COLPAL.NS</th>\n",
       "      <th>DLF.NS</th>\n",
       "      <th>HDFCBANK.NS</th>\n",
       "      <th>ICICIBANK.NS</th>\n",
       "      <th>KPITTECH.NS</th>\n",
       "      <th>NMDC.NS</th>\n",
       "      <th>ONGC.NS</th>\n",
       "      <th>POWERGRID.NS</th>\n",
       "      <th>TATAPOWER.NS</th>\n",
       "    </tr>\n",
       "    <tr>\n",
       "      <th>Date</th>\n",
       "      <th></th>\n",
       "      <th></th>\n",
       "      <th></th>\n",
       "      <th></th>\n",
       "      <th></th>\n",
       "      <th></th>\n",
       "      <th></th>\n",
       "      <th></th>\n",
       "      <th></th>\n",
       "      <th></th>\n",
       "    </tr>\n",
       "  </thead>\n",
       "  <tbody>\n",
       "    <tr>\n",
       "      <th>2022-01-04 00:00:00+00:00</th>\n",
       "      <td>-0.005190</td>\n",
       "      <td>0.000683</td>\n",
       "      <td>-0.000760</td>\n",
       "      <td>0.005857</td>\n",
       "      <td>0.010658</td>\n",
       "      <td>0.000000</td>\n",
       "      <td>0.003696</td>\n",
       "      <td>0.033205</td>\n",
       "      <td>0.027317</td>\n",
       "      <td>0.012981</td>\n",
       "    </tr>\n",
       "    <tr>\n",
       "      <th>2022-01-05 00:00:00+00:00</th>\n",
       "      <td>0.001742</td>\n",
       "      <td>0.000922</td>\n",
       "      <td>0.019267</td>\n",
       "      <td>0.023748</td>\n",
       "      <td>0.019667</td>\n",
       "      <td>-0.022938</td>\n",
       "      <td>0.020619</td>\n",
       "      <td>0.017253</td>\n",
       "      <td>-0.009259</td>\n",
       "      <td>-0.012373</td>\n",
       "    </tr>\n",
       "    <tr>\n",
       "      <th>2022-01-06 00:00:00+00:00</th>\n",
       "      <td>-0.001769</td>\n",
       "      <td>-0.006309</td>\n",
       "      <td>-0.007710</td>\n",
       "      <td>-0.016040</td>\n",
       "      <td>-0.003807</td>\n",
       "      <td>0.061006</td>\n",
       "      <td>0.000361</td>\n",
       "      <td>0.002993</td>\n",
       "      <td>-0.012940</td>\n",
       "      <td>0.022148</td>\n",
       "    </tr>\n",
       "    <tr>\n",
       "      <th>2022-01-07 00:00:00+00:00</th>\n",
       "      <td>0.011562</td>\n",
       "      <td>0.008923</td>\n",
       "      <td>0.004136</td>\n",
       "      <td>0.007014</td>\n",
       "      <td>0.010445</td>\n",
       "      <td>0.128162</td>\n",
       "      <td>0.000000</td>\n",
       "      <td>0.041446</td>\n",
       "      <td>-0.003642</td>\n",
       "      <td>0.005909</td>\n",
       "    </tr>\n",
       "    <tr>\n",
       "      <th>2022-01-10 00:00:00+00:00</th>\n",
       "      <td>0.008642</td>\n",
       "      <td>-0.003198</td>\n",
       "      <td>0.018347</td>\n",
       "      <td>0.005546</td>\n",
       "      <td>0.022061</td>\n",
       "      <td>0.048225</td>\n",
       "      <td>0.009376</td>\n",
       "      <td>0.008278</td>\n",
       "      <td>-0.005848</td>\n",
       "      <td>0.008486</td>\n",
       "    </tr>\n",
       "  </tbody>\n",
       "</table>\n",
       "</div>"
      ],
      "text/plain": [
       "                           APOLLOHOSP.NS  COLPAL.NS    DLF.NS  HDFCBANK.NS  \\\n",
       "Date                                                                         \n",
       "2022-01-04 00:00:00+00:00      -0.005190   0.000683 -0.000760     0.005857   \n",
       "2022-01-05 00:00:00+00:00       0.001742   0.000922  0.019267     0.023748   \n",
       "2022-01-06 00:00:00+00:00      -0.001769  -0.006309 -0.007710    -0.016040   \n",
       "2022-01-07 00:00:00+00:00       0.011562   0.008923  0.004136     0.007014   \n",
       "2022-01-10 00:00:00+00:00       0.008642  -0.003198  0.018347     0.005546   \n",
       "\n",
       "                           ICICIBANK.NS  KPITTECH.NS   NMDC.NS   ONGC.NS  \\\n",
       "Date                                                                       \n",
       "2022-01-04 00:00:00+00:00      0.010658     0.000000  0.003696  0.033205   \n",
       "2022-01-05 00:00:00+00:00      0.019667    -0.022938  0.020619  0.017253   \n",
       "2022-01-06 00:00:00+00:00     -0.003807     0.061006  0.000361  0.002993   \n",
       "2022-01-07 00:00:00+00:00      0.010445     0.128162  0.000000  0.041446   \n",
       "2022-01-10 00:00:00+00:00      0.022061     0.048225  0.009376  0.008278   \n",
       "\n",
       "                           POWERGRID.NS  TATAPOWER.NS  \n",
       "Date                                                   \n",
       "2022-01-04 00:00:00+00:00      0.027317      0.012981  \n",
       "2022-01-05 00:00:00+00:00     -0.009259     -0.012373  \n",
       "2022-01-06 00:00:00+00:00     -0.012940      0.022148  \n",
       "2022-01-07 00:00:00+00:00     -0.003642      0.005909  \n",
       "2022-01-10 00:00:00+00:00     -0.005848      0.008486  "
      ]
     },
     "execution_count": 18,
     "metadata": {},
     "output_type": "execute_result"
    }
   ],
   "source": [
    "returns.head()"
   ]
  },
  {
   "cell_type": "markdown",
   "id": "a1c52b18-21e1-4cc0-a38d-7f5861e6433b",
   "metadata": {},
   "source": [
    "#### Creating Portfolio of equal weights"
   ]
  },
  {
   "cell_type": "code",
   "execution_count": 20,
   "id": "9bbebf43-bbbb-4461-8979-70f8f8eae43e",
   "metadata": {},
   "outputs": [],
   "source": [
    "#weights = [0.1,0.1,0.1,0.1,0.1,0.1,0.1,0.1,0.1,0.1]\n",
    "# Count the total number of stocks\n",
    "num_stocks = len(df.columns)\n",
    "num_stocks\n",
    "\n",
    "\n",
    "# Create an array of equal weights\n",
    "equal_weights = np.repeat(1/num_stocks, num_stocks)\n",
    "equal_weights\n",
    "\n",
    "weights = equal_weights\n",
    "weights"
   ]
  },
  {
   "cell_type": "code",
   "execution_count": 21,
   "id": "6ca34403-b02d-45d3-9fae-53785bab802f",
   "metadata": {},
   "outputs": [],
   "source": [
    "# Create portfolio returns column\n",
    "returns['Portfolio']= returns.dot(weights)"
   ]
  },
  {
   "cell_type": "code",
   "execution_count": 22,
   "id": "4a0b6a01-c3ed-4f5e-808b-e73512dbb49b",
   "metadata": {},
   "outputs": [
    {
     "data": {
      "text/html": [
       "<div>\n",
       "<style scoped>\n",
       "    .dataframe tbody tr th:only-of-type {\n",
       "        vertical-align: middle;\n",
       "    }\n",
       "\n",
       "    .dataframe tbody tr th {\n",
       "        vertical-align: top;\n",
       "    }\n",
       "\n",
       "    .dataframe thead th {\n",
       "        text-align: right;\n",
       "    }\n",
       "</style>\n",
       "<table border=\"1\" class=\"dataframe\">\n",
       "  <thead>\n",
       "    <tr style=\"text-align: right;\">\n",
       "      <th></th>\n",
       "      <th>APOLLOHOSP.NS</th>\n",
       "      <th>COLPAL.NS</th>\n",
       "      <th>DLF.NS</th>\n",
       "      <th>HDFCBANK.NS</th>\n",
       "      <th>ICICIBANK.NS</th>\n",
       "      <th>KPITTECH.NS</th>\n",
       "      <th>NMDC.NS</th>\n",
       "      <th>ONGC.NS</th>\n",
       "      <th>POWERGRID.NS</th>\n",
       "      <th>TATAPOWER.NS</th>\n",
       "      <th>Portfolio</th>\n",
       "    </tr>\n",
       "    <tr>\n",
       "      <th>Date</th>\n",
       "      <th></th>\n",
       "      <th></th>\n",
       "      <th></th>\n",
       "      <th></th>\n",
       "      <th></th>\n",
       "      <th></th>\n",
       "      <th></th>\n",
       "      <th></th>\n",
       "      <th></th>\n",
       "      <th></th>\n",
       "      <th></th>\n",
       "    </tr>\n",
       "  </thead>\n",
       "  <tbody>\n",
       "    <tr>\n",
       "      <th>2022-01-04 00:00:00+00:00</th>\n",
       "      <td>-0.005190</td>\n",
       "      <td>0.000683</td>\n",
       "      <td>-0.000760</td>\n",
       "      <td>0.005857</td>\n",
       "      <td>0.010658</td>\n",
       "      <td>0.000000</td>\n",
       "      <td>0.003696</td>\n",
       "      <td>0.033205</td>\n",
       "      <td>0.027317</td>\n",
       "      <td>0.012981</td>\n",
       "      <td>0.008845</td>\n",
       "    </tr>\n",
       "    <tr>\n",
       "      <th>2022-01-05 00:00:00+00:00</th>\n",
       "      <td>0.001742</td>\n",
       "      <td>0.000922</td>\n",
       "      <td>0.019267</td>\n",
       "      <td>0.023748</td>\n",
       "      <td>0.019667</td>\n",
       "      <td>-0.022938</td>\n",
       "      <td>0.020619</td>\n",
       "      <td>0.017253</td>\n",
       "      <td>-0.009259</td>\n",
       "      <td>-0.012373</td>\n",
       "      <td>0.005865</td>\n",
       "    </tr>\n",
       "    <tr>\n",
       "      <th>2022-01-06 00:00:00+00:00</th>\n",
       "      <td>-0.001769</td>\n",
       "      <td>-0.006309</td>\n",
       "      <td>-0.007710</td>\n",
       "      <td>-0.016040</td>\n",
       "      <td>-0.003807</td>\n",
       "      <td>0.061006</td>\n",
       "      <td>0.000361</td>\n",
       "      <td>0.002993</td>\n",
       "      <td>-0.012940</td>\n",
       "      <td>0.022148</td>\n",
       "      <td>0.003793</td>\n",
       "    </tr>\n",
       "    <tr>\n",
       "      <th>2022-01-07 00:00:00+00:00</th>\n",
       "      <td>0.011562</td>\n",
       "      <td>0.008923</td>\n",
       "      <td>0.004136</td>\n",
       "      <td>0.007014</td>\n",
       "      <td>0.010445</td>\n",
       "      <td>0.128162</td>\n",
       "      <td>0.000000</td>\n",
       "      <td>0.041446</td>\n",
       "      <td>-0.003642</td>\n",
       "      <td>0.005909</td>\n",
       "      <td>0.021396</td>\n",
       "    </tr>\n",
       "    <tr>\n",
       "      <th>2022-01-10 00:00:00+00:00</th>\n",
       "      <td>0.008642</td>\n",
       "      <td>-0.003198</td>\n",
       "      <td>0.018347</td>\n",
       "      <td>0.005546</td>\n",
       "      <td>0.022061</td>\n",
       "      <td>0.048225</td>\n",
       "      <td>0.009376</td>\n",
       "      <td>0.008278</td>\n",
       "      <td>-0.005848</td>\n",
       "      <td>0.008486</td>\n",
       "      <td>0.011992</td>\n",
       "    </tr>\n",
       "  </tbody>\n",
       "</table>\n",
       "</div>"
      ],
      "text/plain": [
       "                           APOLLOHOSP.NS  COLPAL.NS    DLF.NS  HDFCBANK.NS  \\\n",
       "Date                                                                         \n",
       "2022-01-04 00:00:00+00:00      -0.005190   0.000683 -0.000760     0.005857   \n",
       "2022-01-05 00:00:00+00:00       0.001742   0.000922  0.019267     0.023748   \n",
       "2022-01-06 00:00:00+00:00      -0.001769  -0.006309 -0.007710    -0.016040   \n",
       "2022-01-07 00:00:00+00:00       0.011562   0.008923  0.004136     0.007014   \n",
       "2022-01-10 00:00:00+00:00       0.008642  -0.003198  0.018347     0.005546   \n",
       "\n",
       "                           ICICIBANK.NS  KPITTECH.NS   NMDC.NS   ONGC.NS  \\\n",
       "Date                                                                       \n",
       "2022-01-04 00:00:00+00:00      0.010658     0.000000  0.003696  0.033205   \n",
       "2022-01-05 00:00:00+00:00      0.019667    -0.022938  0.020619  0.017253   \n",
       "2022-01-06 00:00:00+00:00     -0.003807     0.061006  0.000361  0.002993   \n",
       "2022-01-07 00:00:00+00:00      0.010445     0.128162  0.000000  0.041446   \n",
       "2022-01-10 00:00:00+00:00      0.022061     0.048225  0.009376  0.008278   \n",
       "\n",
       "                           POWERGRID.NS  TATAPOWER.NS  Portfolio  \n",
       "Date                                                              \n",
       "2022-01-04 00:00:00+00:00      0.027317      0.012981   0.008845  \n",
       "2022-01-05 00:00:00+00:00     -0.009259     -0.012373   0.005865  \n",
       "2022-01-06 00:00:00+00:00     -0.012940      0.022148   0.003793  \n",
       "2022-01-07 00:00:00+00:00     -0.003642      0.005909   0.021396  \n",
       "2022-01-10 00:00:00+00:00     -0.005848      0.008486   0.011992  "
      ]
     },
     "execution_count": 22,
     "metadata": {},
     "output_type": "execute_result"
    }
   ],
   "source": [
    "returns.head()"
   ]
  },
  {
   "cell_type": "code",
   "execution_count": 23,
   "id": "2d3d494b-d6e6-4004-b852-552a37c64b0c",
   "metadata": {},
   "outputs": [
    {
     "data": {
      "text/html": [
       "<div>\n",
       "<style scoped>\n",
       "    .dataframe tbody tr th:only-of-type {\n",
       "        vertical-align: middle;\n",
       "    }\n",
       "\n",
       "    .dataframe tbody tr th {\n",
       "        vertical-align: top;\n",
       "    }\n",
       "\n",
       "    .dataframe thead th {\n",
       "        text-align: right;\n",
       "    }\n",
       "</style>\n",
       "<table border=\"1\" class=\"dataframe\">\n",
       "  <thead>\n",
       "    <tr style=\"text-align: right;\">\n",
       "      <th></th>\n",
       "      <th>count</th>\n",
       "      <th>mean</th>\n",
       "      <th>std</th>\n",
       "      <th>min</th>\n",
       "      <th>25%</th>\n",
       "      <th>50%</th>\n",
       "      <th>75%</th>\n",
       "      <th>max</th>\n",
       "    </tr>\n",
       "  </thead>\n",
       "  <tbody>\n",
       "    <tr>\n",
       "      <th>Portfolio</th>\n",
       "      <td>701.0</td>\n",
       "      <td>0.001046</td>\n",
       "      <td>0.010808</td>\n",
       "      <td>-0.078438</td>\n",
       "      <td>-0.004073</td>\n",
       "      <td>0.001464</td>\n",
       "      <td>0.007576</td>\n",
       "      <td>0.04307</td>\n",
       "    </tr>\n",
       "  </tbody>\n",
       "</table>\n",
       "</div>"
      ],
      "text/plain": [
       "           count      mean       std       min       25%       50%       75%  \\\n",
       "Portfolio  701.0  0.001046  0.010808 -0.078438 -0.004073  0.001464  0.007576   \n",
       "\n",
       "               max  \n",
       "Portfolio  0.04307  "
      ]
     },
     "execution_count": 23,
     "metadata": {},
     "output_type": "execute_result"
    }
   ],
   "source": [
    "returns['Portfolio'].describe().to_frame().T"
   ]
  },
  {
   "cell_type": "markdown",
   "id": "0d161050-6934-4569-8ff9-27e4431a4eee",
   "metadata": {},
   "source": [
    "#### Calculating Historical VaR and Expected Shortfall / Conditional VaR / CVaR"
   ]
  },
  {
   "cell_type": "code",
   "execution_count": 25,
   "id": "7b653ee4-55f2-4e9f-bb3b-db5958c8768e",
   "metadata": {},
   "outputs": [],
   "source": [
    "returns_port = returns['Portfolio']"
   ]
  },
  {
   "cell_type": "code",
   "execution_count": 26,
   "id": "1866518c-e713-4a08-854c-5fd5ea45d8a4",
   "metadata": {},
   "outputs": [
    {
     "data": {
      "text/plain": [
       "-0.01802780764035417"
      ]
     },
     "execution_count": 26,
     "metadata": {},
     "output_type": "execute_result"
    }
   ],
   "source": [
    "# Calculate Historical VaR:\n",
    "#confidence level\n",
    "var_level=95\n",
    "var = np.percentile(returns['Portfolio'], 100-var_level)\n",
    "var"
   ]
  },
  {
   "cell_type": "code",
   "execution_count": 27,
   "id": "a97c20ae-f6f7-4df9-8102-3283bba5965c",
   "metadata": {},
   "outputs": [
    {
     "data": {
      "text/plain": [
       "-0.025710513893098662"
      ]
     },
     "execution_count": 27,
     "metadata": {},
     "output_type": "execute_result"
    }
   ],
   "source": [
    "# Calculate Expected Shortfall:\n",
    "cvar = returns[returns['Portfolio']<=var]['Portfolio'].mean()\n",
    "cvar"
   ]
  },
  {
   "cell_type": "markdown",
   "id": "d24a6152-7851-42e3-902d-81be5e44d918",
   "metadata": {},
   "source": [
    "or using a series:"
   ]
  },
  {
   "cell_type": "code",
   "execution_count": 29,
   "id": "a6b2c607-bf76-4ddd-9b80-f9da49946cf8",
   "metadata": {},
   "outputs": [
    {
     "name": "stdout",
     "output_type": "stream",
     "text": [
      "Historical VaR: -0.01802780764035417\n"
     ]
    }
   ],
   "source": [
    "var_level=95\n",
    "var = np.percentile(returns_port, 100-var_level)\n",
    "print(\"Historical VaR:\", var)"
   ]
  },
  {
   "cell_type": "code",
   "execution_count": 30,
   "id": "9121976d-c4ff-4f0b-a6d4-3b42ddfc61a5",
   "metadata": {},
   "outputs": [
    {
     "name": "stdout",
     "output_type": "stream",
     "text": [
      "Expected Shortfall: -0.025710513893098662\n"
     ]
    }
   ],
   "source": [
    "cvar = returns_port[returns_port<=var].mean()\n",
    "print(\"Expected Shortfall:\", cvar)"
   ]
  },
  {
   "cell_type": "markdown",
   "id": "6a4a61d1-716c-40a6-a8b4-c13da16e7f39",
   "metadata": {},
   "source": [
    "#### Calculating daily cummulative return"
   ]
  },
  {
   "cell_type": "code",
   "execution_count": 32,
   "id": "13192ab1-6184-4c17-94ac-a50546baed7e",
   "metadata": {},
   "outputs": [
    {
     "data": {
      "text/html": [
       "<div>\n",
       "<style scoped>\n",
       "    .dataframe tbody tr th:only-of-type {\n",
       "        vertical-align: middle;\n",
       "    }\n",
       "\n",
       "    .dataframe tbody tr th {\n",
       "        vertical-align: top;\n",
       "    }\n",
       "\n",
       "    .dataframe thead th {\n",
       "        text-align: right;\n",
       "    }\n",
       "</style>\n",
       "<table border=\"1\" class=\"dataframe\">\n",
       "  <thead>\n",
       "    <tr style=\"text-align: right;\">\n",
       "      <th></th>\n",
       "      <th>APOLLOHOSP.NS</th>\n",
       "      <th>COLPAL.NS</th>\n",
       "      <th>DLF.NS</th>\n",
       "      <th>HDFCBANK.NS</th>\n",
       "      <th>ICICIBANK.NS</th>\n",
       "      <th>KPITTECH.NS</th>\n",
       "      <th>NMDC.NS</th>\n",
       "      <th>ONGC.NS</th>\n",
       "      <th>POWERGRID.NS</th>\n",
       "      <th>TATAPOWER.NS</th>\n",
       "      <th>Portfolio</th>\n",
       "    </tr>\n",
       "    <tr>\n",
       "      <th>Date</th>\n",
       "      <th></th>\n",
       "      <th></th>\n",
       "      <th></th>\n",
       "      <th></th>\n",
       "      <th></th>\n",
       "      <th></th>\n",
       "      <th></th>\n",
       "      <th></th>\n",
       "      <th></th>\n",
       "      <th></th>\n",
       "      <th></th>\n",
       "    </tr>\n",
       "  </thead>\n",
       "  <tbody>\n",
       "    <tr>\n",
       "      <th>2024-10-30 00:00:00+00:00</th>\n",
       "      <td>1.399158</td>\n",
       "      <td>2.111730</td>\n",
       "      <td>2.093477</td>\n",
       "      <td>1.141447</td>\n",
       "      <td>1.715902</td>\n",
       "      <td>2.277892</td>\n",
       "      <td>2.156402</td>\n",
       "      <td>1.829081</td>\n",
       "      <td>2.071220</td>\n",
       "      <td>1.911370</td>\n",
       "      <td>1.994851</td>\n",
       "    </tr>\n",
       "    <tr>\n",
       "      <th>2024-10-31 00:00:00+00:00</th>\n",
       "      <td>1.407214</td>\n",
       "      <td>2.092157</td>\n",
       "      <td>2.076884</td>\n",
       "      <td>1.142171</td>\n",
       "      <td>1.689878</td>\n",
       "      <td>2.290964</td>\n",
       "      <td>2.133420</td>\n",
       "      <td>1.860538</td>\n",
       "      <td>2.086504</td>\n",
       "      <td>1.969785</td>\n",
       "      <td>1.999689</td>\n",
       "    </tr>\n",
       "    <tr>\n",
       "      <th>2024-11-01 00:00:00+00:00</th>\n",
       "      <td>1.409067</td>\n",
       "      <td>2.094548</td>\n",
       "      <td>2.086764</td>\n",
       "      <td>1.143224</td>\n",
       "      <td>1.689290</td>\n",
       "      <td>2.341939</td>\n",
       "      <td>2.142747</td>\n",
       "      <td>1.899685</td>\n",
       "      <td>2.094634</td>\n",
       "      <td>1.993957</td>\n",
       "      <td>2.014011</td>\n",
       "    </tr>\n",
       "    <tr>\n",
       "      <th>2024-11-04 00:00:00+00:00</th>\n",
       "      <td>1.394329</td>\n",
       "      <td>2.038940</td>\n",
       "      <td>2.001013</td>\n",
       "      <td>1.127957</td>\n",
       "      <td>1.670197</td>\n",
       "      <td>2.307983</td>\n",
       "      <td>2.177941</td>\n",
       "      <td>1.854596</td>\n",
       "      <td>2.051707</td>\n",
       "      <td>1.920546</td>\n",
       "      <td>1.977380</td>\n",
       "    </tr>\n",
       "    <tr>\n",
       "      <th>2024-11-05 00:00:00+00:00</th>\n",
       "      <td>1.395912</td>\n",
       "      <td>2.036924</td>\n",
       "      <td>2.024192</td>\n",
       "      <td>1.156747</td>\n",
       "      <td>1.695698</td>\n",
       "      <td>2.285620</td>\n",
       "      <td>2.257077</td>\n",
       "      <td>1.869276</td>\n",
       "      <td>2.059187</td>\n",
       "      <td>1.943151</td>\n",
       "      <td>1.997648</td>\n",
       "    </tr>\n",
       "  </tbody>\n",
       "</table>\n",
       "</div>"
      ],
      "text/plain": [
       "                           APOLLOHOSP.NS  COLPAL.NS    DLF.NS  HDFCBANK.NS  \\\n",
       "Date                                                                         \n",
       "2024-10-30 00:00:00+00:00       1.399158   2.111730  2.093477     1.141447   \n",
       "2024-10-31 00:00:00+00:00       1.407214   2.092157  2.076884     1.142171   \n",
       "2024-11-01 00:00:00+00:00       1.409067   2.094548  2.086764     1.143224   \n",
       "2024-11-04 00:00:00+00:00       1.394329   2.038940  2.001013     1.127957   \n",
       "2024-11-05 00:00:00+00:00       1.395912   2.036924  2.024192     1.156747   \n",
       "\n",
       "                           ICICIBANK.NS  KPITTECH.NS   NMDC.NS   ONGC.NS  \\\n",
       "Date                                                                       \n",
       "2024-10-30 00:00:00+00:00      1.715902     2.277892  2.156402  1.829081   \n",
       "2024-10-31 00:00:00+00:00      1.689878     2.290964  2.133420  1.860538   \n",
       "2024-11-01 00:00:00+00:00      1.689290     2.341939  2.142747  1.899685   \n",
       "2024-11-04 00:00:00+00:00      1.670197     2.307983  2.177941  1.854596   \n",
       "2024-11-05 00:00:00+00:00      1.695698     2.285620  2.257077  1.869276   \n",
       "\n",
       "                           POWERGRID.NS  TATAPOWER.NS  Portfolio  \n",
       "Date                                                              \n",
       "2024-10-30 00:00:00+00:00      2.071220      1.911370   1.994851  \n",
       "2024-10-31 00:00:00+00:00      2.086504      1.969785   1.999689  \n",
       "2024-11-01 00:00:00+00:00      2.094634      1.993957   2.014011  \n",
       "2024-11-04 00:00:00+00:00      2.051707      1.920546   1.977380  \n",
       "2024-11-05 00:00:00+00:00      2.059187      1.943151   1.997648  "
      ]
     },
     "execution_count": 32,
     "metadata": {},
     "output_type": "execute_result"
    }
   ],
   "source": [
    "# Calculate cumulative returns (growth factor)\n",
    "daily_cum_ret=(1+returns).cumprod()\n",
    "daily_cum_ret.tail()"
   ]
  },
  {
   "cell_type": "code",
   "execution_count": 33,
   "id": "d4212252-6be2-4837-b85b-e58ae287fb67",
   "metadata": {},
   "outputs": [
    {
     "data": {
      "text/html": [
       "<div>\n",
       "<style scoped>\n",
       "    .dataframe tbody tr th:only-of-type {\n",
       "        vertical-align: middle;\n",
       "    }\n",
       "\n",
       "    .dataframe tbody tr th {\n",
       "        vertical-align: top;\n",
       "    }\n",
       "\n",
       "    .dataframe thead th {\n",
       "        text-align: right;\n",
       "    }\n",
       "</style>\n",
       "<table border=\"1\" class=\"dataframe\">\n",
       "  <thead>\n",
       "    <tr style=\"text-align: right;\">\n",
       "      <th></th>\n",
       "      <th>APOLLOHOSP.NS</th>\n",
       "      <th>COLPAL.NS</th>\n",
       "      <th>DLF.NS</th>\n",
       "      <th>HDFCBANK.NS</th>\n",
       "      <th>ICICIBANK.NS</th>\n",
       "      <th>KPITTECH.NS</th>\n",
       "      <th>NMDC.NS</th>\n",
       "      <th>ONGC.NS</th>\n",
       "      <th>POWERGRID.NS</th>\n",
       "      <th>TATAPOWER.NS</th>\n",
       "      <th>Portfolio</th>\n",
       "    </tr>\n",
       "    <tr>\n",
       "      <th>Date</th>\n",
       "      <th></th>\n",
       "      <th></th>\n",
       "      <th></th>\n",
       "      <th></th>\n",
       "      <th></th>\n",
       "      <th></th>\n",
       "      <th></th>\n",
       "      <th></th>\n",
       "      <th></th>\n",
       "      <th></th>\n",
       "      <th></th>\n",
       "    </tr>\n",
       "  </thead>\n",
       "  <tbody>\n",
       "    <tr>\n",
       "      <th>2024-10-30 00:00:00+00:00</th>\n",
       "      <td>39.915840</td>\n",
       "      <td>111.172961</td>\n",
       "      <td>109.347695</td>\n",
       "      <td>14.144701</td>\n",
       "      <td>71.590167</td>\n",
       "      <td>127.789196</td>\n",
       "      <td>115.640163</td>\n",
       "      <td>82.908066</td>\n",
       "      <td>107.121959</td>\n",
       "      <td>91.136979</td>\n",
       "      <td>99.485055</td>\n",
       "    </tr>\n",
       "    <tr>\n",
       "      <th>2024-10-31 00:00:00+00:00</th>\n",
       "      <td>40.721375</td>\n",
       "      <td>109.215733</td>\n",
       "      <td>107.688404</td>\n",
       "      <td>14.217084</td>\n",
       "      <td>68.987836</td>\n",
       "      <td>129.096431</td>\n",
       "      <td>113.342027</td>\n",
       "      <td>86.053819</td>\n",
       "      <td>108.650399</td>\n",
       "      <td>96.978514</td>\n",
       "      <td>99.968858</td>\n",
       "    </tr>\n",
       "    <tr>\n",
       "      <th>2024-11-01 00:00:00+00:00</th>\n",
       "      <td>40.906727</td>\n",
       "      <td>109.454837</td>\n",
       "      <td>108.676377</td>\n",
       "      <td>14.322378</td>\n",
       "      <td>68.928995</td>\n",
       "      <td>134.193857</td>\n",
       "      <td>114.274745</td>\n",
       "      <td>89.968538</td>\n",
       "      <td>109.463407</td>\n",
       "      <td>99.395714</td>\n",
       "      <td>101.401064</td>\n",
       "    </tr>\n",
       "    <tr>\n",
       "      <th>2024-11-04 00:00:00+00:00</th>\n",
       "      <td>39.432921</td>\n",
       "      <td>103.893974</td>\n",
       "      <td>100.101336</td>\n",
       "      <td>12.795706</td>\n",
       "      <td>67.019737</td>\n",
       "      <td>130.798310</td>\n",
       "      <td>117.794070</td>\n",
       "      <td>85.459617</td>\n",
       "      <td>105.170740</td>\n",
       "      <td>92.054610</td>\n",
       "      <td>97.738033</td>\n",
       "    </tr>\n",
       "    <tr>\n",
       "      <th>2024-11-05 00:00:00+00:00</th>\n",
       "      <td>39.591219</td>\n",
       "      <td>103.692431</td>\n",
       "      <td>102.419250</td>\n",
       "      <td>15.674658</td>\n",
       "      <td>69.569757</td>\n",
       "      <td>128.562023</td>\n",
       "      <td>125.707731</td>\n",
       "      <td>86.927639</td>\n",
       "      <td>105.918703</td>\n",
       "      <td>94.315138</td>\n",
       "      <td>99.764837</td>\n",
       "    </tr>\n",
       "  </tbody>\n",
       "</table>\n",
       "</div>"
      ],
      "text/plain": [
       "                           APOLLOHOSP.NS   COLPAL.NS      DLF.NS  HDFCBANK.NS  \\\n",
       "Date                                                                            \n",
       "2024-10-30 00:00:00+00:00      39.915840  111.172961  109.347695    14.144701   \n",
       "2024-10-31 00:00:00+00:00      40.721375  109.215733  107.688404    14.217084   \n",
       "2024-11-01 00:00:00+00:00      40.906727  109.454837  108.676377    14.322378   \n",
       "2024-11-04 00:00:00+00:00      39.432921  103.893974  100.101336    12.795706   \n",
       "2024-11-05 00:00:00+00:00      39.591219  103.692431  102.419250    15.674658   \n",
       "\n",
       "                           ICICIBANK.NS  KPITTECH.NS     NMDC.NS    ONGC.NS  \\\n",
       "Date                                                                          \n",
       "2024-10-30 00:00:00+00:00     71.590167   127.789196  115.640163  82.908066   \n",
       "2024-10-31 00:00:00+00:00     68.987836   129.096431  113.342027  86.053819   \n",
       "2024-11-01 00:00:00+00:00     68.928995   134.193857  114.274745  89.968538   \n",
       "2024-11-04 00:00:00+00:00     67.019737   130.798310  117.794070  85.459617   \n",
       "2024-11-05 00:00:00+00:00     69.569757   128.562023  125.707731  86.927639   \n",
       "\n",
       "                           POWERGRID.NS  TATAPOWER.NS   Portfolio  \n",
       "Date                                                               \n",
       "2024-10-30 00:00:00+00:00    107.121959     91.136979   99.485055  \n",
       "2024-10-31 00:00:00+00:00    108.650399     96.978514   99.968858  \n",
       "2024-11-01 00:00:00+00:00    109.463407     99.395714  101.401064  \n",
       "2024-11-04 00:00:00+00:00    105.170740     92.054610   97.738033  \n",
       "2024-11-05 00:00:00+00:00    105.918703     94.315138   99.764837  "
      ]
     },
     "execution_count": 33,
     "metadata": {},
     "output_type": "execute_result"
    }
   ],
   "source": [
    "#convert to cummulative percentage return\n",
    "daily_cum_ret=(1+returns).cumprod()    #cummulative daily return (growth factor)\n",
    "daily_cum_ret = (daily_cum_ret-1)*100\n",
    "daily_cum_ret.tail()"
   ]
  },
  {
   "cell_type": "markdown",
   "id": "0c04426a-645a-4e0d-8f0c-4e73f5b4405d",
   "metadata": {},
   "source": [
    "#### Calculating rolling volatility of a stock"
   ]
  },
  {
   "cell_type": "code",
   "execution_count": 35,
   "id": "54ab820c-0164-419d-9e7a-0af4043ed94c",
   "metadata": {},
   "outputs": [
    {
     "data": {
      "text/html": [
       "<div>\n",
       "<style scoped>\n",
       "    .dataframe tbody tr th:only-of-type {\n",
       "        vertical-align: middle;\n",
       "    }\n",
       "\n",
       "    .dataframe tbody tr th {\n",
       "        vertical-align: top;\n",
       "    }\n",
       "\n",
       "    .dataframe thead th {\n",
       "        text-align: right;\n",
       "    }\n",
       "</style>\n",
       "<table border=\"1\" class=\"dataframe\">\n",
       "  <thead>\n",
       "    <tr style=\"text-align: right;\">\n",
       "      <th></th>\n",
       "      <th>APOLLOHOSP.NS</th>\n",
       "      <th>COLPAL.NS</th>\n",
       "      <th>DLF.NS</th>\n",
       "      <th>HDFCBANK.NS</th>\n",
       "      <th>ICICIBANK.NS</th>\n",
       "      <th>KPITTECH.NS</th>\n",
       "      <th>NMDC.NS</th>\n",
       "      <th>ONGC.NS</th>\n",
       "      <th>POWERGRID.NS</th>\n",
       "      <th>TATAPOWER.NS</th>\n",
       "      <th>Portfolio</th>\n",
       "    </tr>\n",
       "    <tr>\n",
       "      <th>Date</th>\n",
       "      <th></th>\n",
       "      <th></th>\n",
       "      <th></th>\n",
       "      <th></th>\n",
       "      <th></th>\n",
       "      <th></th>\n",
       "      <th></th>\n",
       "      <th></th>\n",
       "      <th></th>\n",
       "      <th></th>\n",
       "      <th></th>\n",
       "    </tr>\n",
       "  </thead>\n",
       "  <tbody>\n",
       "    <tr>\n",
       "      <th>2022-01-04 00:00:00+00:00</th>\n",
       "      <td>-0.005190</td>\n",
       "      <td>0.000683</td>\n",
       "      <td>-0.000760</td>\n",
       "      <td>0.005857</td>\n",
       "      <td>0.010658</td>\n",
       "      <td>0.000000</td>\n",
       "      <td>0.003696</td>\n",
       "      <td>0.033205</td>\n",
       "      <td>0.027317</td>\n",
       "      <td>0.012981</td>\n",
       "      <td>0.008845</td>\n",
       "    </tr>\n",
       "    <tr>\n",
       "      <th>2022-01-05 00:00:00+00:00</th>\n",
       "      <td>0.001742</td>\n",
       "      <td>0.000922</td>\n",
       "      <td>0.019267</td>\n",
       "      <td>0.023748</td>\n",
       "      <td>0.019667</td>\n",
       "      <td>-0.022938</td>\n",
       "      <td>0.020619</td>\n",
       "      <td>0.017253</td>\n",
       "      <td>-0.009259</td>\n",
       "      <td>-0.012373</td>\n",
       "      <td>0.005865</td>\n",
       "    </tr>\n",
       "    <tr>\n",
       "      <th>2022-01-06 00:00:00+00:00</th>\n",
       "      <td>-0.001769</td>\n",
       "      <td>-0.006309</td>\n",
       "      <td>-0.007710</td>\n",
       "      <td>-0.016040</td>\n",
       "      <td>-0.003807</td>\n",
       "      <td>0.061006</td>\n",
       "      <td>0.000361</td>\n",
       "      <td>0.002993</td>\n",
       "      <td>-0.012940</td>\n",
       "      <td>0.022148</td>\n",
       "      <td>0.003793</td>\n",
       "    </tr>\n",
       "    <tr>\n",
       "      <th>2022-01-07 00:00:00+00:00</th>\n",
       "      <td>0.011562</td>\n",
       "      <td>0.008923</td>\n",
       "      <td>0.004136</td>\n",
       "      <td>0.007014</td>\n",
       "      <td>0.010445</td>\n",
       "      <td>0.128162</td>\n",
       "      <td>0.000000</td>\n",
       "      <td>0.041446</td>\n",
       "      <td>-0.003642</td>\n",
       "      <td>0.005909</td>\n",
       "      <td>0.021396</td>\n",
       "    </tr>\n",
       "    <tr>\n",
       "      <th>2022-01-10 00:00:00+00:00</th>\n",
       "      <td>0.008642</td>\n",
       "      <td>-0.003198</td>\n",
       "      <td>0.018347</td>\n",
       "      <td>0.005546</td>\n",
       "      <td>0.022061</td>\n",
       "      <td>0.048225</td>\n",
       "      <td>0.009376</td>\n",
       "      <td>0.008278</td>\n",
       "      <td>-0.005848</td>\n",
       "      <td>0.008486</td>\n",
       "      <td>0.011992</td>\n",
       "    </tr>\n",
       "  </tbody>\n",
       "</table>\n",
       "</div>"
      ],
      "text/plain": [
       "                           APOLLOHOSP.NS  COLPAL.NS    DLF.NS  HDFCBANK.NS  \\\n",
       "Date                                                                         \n",
       "2022-01-04 00:00:00+00:00      -0.005190   0.000683 -0.000760     0.005857   \n",
       "2022-01-05 00:00:00+00:00       0.001742   0.000922  0.019267     0.023748   \n",
       "2022-01-06 00:00:00+00:00      -0.001769  -0.006309 -0.007710    -0.016040   \n",
       "2022-01-07 00:00:00+00:00       0.011562   0.008923  0.004136     0.007014   \n",
       "2022-01-10 00:00:00+00:00       0.008642  -0.003198  0.018347     0.005546   \n",
       "\n",
       "                           ICICIBANK.NS  KPITTECH.NS   NMDC.NS   ONGC.NS  \\\n",
       "Date                                                                       \n",
       "2022-01-04 00:00:00+00:00      0.010658     0.000000  0.003696  0.033205   \n",
       "2022-01-05 00:00:00+00:00      0.019667    -0.022938  0.020619  0.017253   \n",
       "2022-01-06 00:00:00+00:00     -0.003807     0.061006  0.000361  0.002993   \n",
       "2022-01-07 00:00:00+00:00      0.010445     0.128162  0.000000  0.041446   \n",
       "2022-01-10 00:00:00+00:00      0.022061     0.048225  0.009376  0.008278   \n",
       "\n",
       "                           POWERGRID.NS  TATAPOWER.NS  Portfolio  \n",
       "Date                                                              \n",
       "2022-01-04 00:00:00+00:00      0.027317      0.012981   0.008845  \n",
       "2022-01-05 00:00:00+00:00     -0.009259     -0.012373   0.005865  \n",
       "2022-01-06 00:00:00+00:00     -0.012940      0.022148   0.003793  \n",
       "2022-01-07 00:00:00+00:00     -0.003642      0.005909   0.021396  \n",
       "2022-01-10 00:00:00+00:00     -0.005848      0.008486   0.011992  "
      ]
     },
     "execution_count": 35,
     "metadata": {},
     "output_type": "execute_result"
    }
   ],
   "source": [
    "returns.head()"
   ]
  },
  {
   "cell_type": "code",
   "execution_count": 36,
   "id": "adecaa5d-0c86-4fb9-aa36-d8b66e8c39c0",
   "metadata": {},
   "outputs": [
    {
     "data": {
      "text/plain": [
       "Date\n",
       "2024-10-30 00:00:00+00:00    0.010969\n",
       "2024-10-31 00:00:00+00:00    0.010997\n",
       "2024-11-01 00:00:00+00:00    0.010998\n",
       "2024-11-04 00:00:00+00:00    0.011069\n",
       "2024-11-05 00:00:00+00:00    0.010899\n",
       "Name: APOLLOHOSP.NS, dtype: float64"
      ]
     },
     "execution_count": 36,
     "metadata": {},
     "output_type": "execute_result"
    }
   ],
   "source": [
    "import matplotlib.pyplot as plt\n",
    "\n",
    "# Calculate rolling volatility with a 30-day window\n",
    "rolling_volatility = returns['APOLLOHOSP.NS'].rolling(window=30).std()\n",
    "\n",
    "rolling_volatility.tail()"
   ]
  },
  {
   "cell_type": "code",
   "execution_count": 37,
   "id": "f653a7da-e899-4ce2-ab33-312cce5c95ab",
   "metadata": {},
   "outputs": [
    {
     "data": {
      "text/plain": [
       "min       0.007965\n",
       "max       0.030540\n",
       "mean      0.015461\n",
       "median    0.014953\n",
       "Name: APOLLOHOSP.NS, dtype: float64"
      ]
     },
     "execution_count": 37,
     "metadata": {},
     "output_type": "execute_result"
    }
   ],
   "source": [
    "rolling_volatility.agg(['min','max','mean','median'])"
   ]
  },
  {
   "cell_type": "markdown",
   "id": "f2a67eff-cdd0-42de-a799-4ef4a2b2e38f",
   "metadata": {},
   "source": [
    "#### Measuring risk of a portfolio"
   ]
  },
  {
   "cell_type": "code",
   "execution_count": 39,
   "id": "b140e23e-f043-4b75-8639-a62e1efd713f",
   "metadata": {},
   "outputs": [
    {
     "data": {
      "text/html": [
       "<div>\n",
       "<style scoped>\n",
       "    .dataframe tbody tr th:only-of-type {\n",
       "        vertical-align: middle;\n",
       "    }\n",
       "\n",
       "    .dataframe tbody tr th {\n",
       "        vertical-align: top;\n",
       "    }\n",
       "\n",
       "    .dataframe thead th {\n",
       "        text-align: right;\n",
       "    }\n",
       "</style>\n",
       "<table border=\"1\" class=\"dataframe\">\n",
       "  <thead>\n",
       "    <tr style=\"text-align: right;\">\n",
       "      <th></th>\n",
       "      <th>APOLLOHOSP.NS</th>\n",
       "      <th>COLPAL.NS</th>\n",
       "      <th>DLF.NS</th>\n",
       "      <th>HDFCBANK.NS</th>\n",
       "      <th>ICICIBANK.NS</th>\n",
       "      <th>KPITTECH.NS</th>\n",
       "      <th>NMDC.NS</th>\n",
       "      <th>ONGC.NS</th>\n",
       "      <th>POWERGRID.NS</th>\n",
       "      <th>TATAPOWER.NS</th>\n",
       "    </tr>\n",
       "    <tr>\n",
       "      <th>Date</th>\n",
       "      <th></th>\n",
       "      <th></th>\n",
       "      <th></th>\n",
       "      <th></th>\n",
       "      <th></th>\n",
       "      <th></th>\n",
       "      <th></th>\n",
       "      <th></th>\n",
       "      <th></th>\n",
       "      <th></th>\n",
       "    </tr>\n",
       "  </thead>\n",
       "  <tbody>\n",
       "    <tr>\n",
       "      <th>2022-01-03 00:00:00+00:00</th>\n",
       "      <td>NaN</td>\n",
       "      <td>NaN</td>\n",
       "      <td>NaN</td>\n",
       "      <td>NaN</td>\n",
       "      <td>NaN</td>\n",
       "      <td>NaN</td>\n",
       "      <td>NaN</td>\n",
       "      <td>NaN</td>\n",
       "      <td>NaN</td>\n",
       "      <td>NaN</td>\n",
       "    </tr>\n",
       "    <tr>\n",
       "      <th>2022-01-04 00:00:00+00:00</th>\n",
       "      <td>-0.005190</td>\n",
       "      <td>0.000683</td>\n",
       "      <td>-0.000760</td>\n",
       "      <td>0.005857</td>\n",
       "      <td>0.010658</td>\n",
       "      <td>0.000000</td>\n",
       "      <td>0.003696</td>\n",
       "      <td>0.033205</td>\n",
       "      <td>0.027317</td>\n",
       "      <td>0.012981</td>\n",
       "    </tr>\n",
       "    <tr>\n",
       "      <th>2022-01-05 00:00:00+00:00</th>\n",
       "      <td>0.001742</td>\n",
       "      <td>0.000922</td>\n",
       "      <td>0.019267</td>\n",
       "      <td>0.023748</td>\n",
       "      <td>0.019667</td>\n",
       "      <td>-0.022938</td>\n",
       "      <td>0.020619</td>\n",
       "      <td>0.017253</td>\n",
       "      <td>-0.009259</td>\n",
       "      <td>-0.012373</td>\n",
       "    </tr>\n",
       "    <tr>\n",
       "      <th>2022-01-06 00:00:00+00:00</th>\n",
       "      <td>-0.001769</td>\n",
       "      <td>-0.006309</td>\n",
       "      <td>-0.007710</td>\n",
       "      <td>-0.016040</td>\n",
       "      <td>-0.003807</td>\n",
       "      <td>0.061006</td>\n",
       "      <td>0.000361</td>\n",
       "      <td>0.002993</td>\n",
       "      <td>-0.012940</td>\n",
       "      <td>0.022148</td>\n",
       "    </tr>\n",
       "    <tr>\n",
       "      <th>2022-01-07 00:00:00+00:00</th>\n",
       "      <td>0.011562</td>\n",
       "      <td>0.008923</td>\n",
       "      <td>0.004136</td>\n",
       "      <td>0.007014</td>\n",
       "      <td>0.010445</td>\n",
       "      <td>0.128162</td>\n",
       "      <td>0.000000</td>\n",
       "      <td>0.041446</td>\n",
       "      <td>-0.003642</td>\n",
       "      <td>0.005909</td>\n",
       "    </tr>\n",
       "  </tbody>\n",
       "</table>\n",
       "</div>"
      ],
      "text/plain": [
       "                           APOLLOHOSP.NS  COLPAL.NS    DLF.NS  HDFCBANK.NS  \\\n",
       "Date                                                                         \n",
       "2022-01-03 00:00:00+00:00            NaN        NaN       NaN          NaN   \n",
       "2022-01-04 00:00:00+00:00      -0.005190   0.000683 -0.000760     0.005857   \n",
       "2022-01-05 00:00:00+00:00       0.001742   0.000922  0.019267     0.023748   \n",
       "2022-01-06 00:00:00+00:00      -0.001769  -0.006309 -0.007710    -0.016040   \n",
       "2022-01-07 00:00:00+00:00       0.011562   0.008923  0.004136     0.007014   \n",
       "\n",
       "                           ICICIBANK.NS  KPITTECH.NS   NMDC.NS   ONGC.NS  \\\n",
       "Date                                                                       \n",
       "2022-01-03 00:00:00+00:00           NaN          NaN       NaN       NaN   \n",
       "2022-01-04 00:00:00+00:00      0.010658     0.000000  0.003696  0.033205   \n",
       "2022-01-05 00:00:00+00:00      0.019667    -0.022938  0.020619  0.017253   \n",
       "2022-01-06 00:00:00+00:00     -0.003807     0.061006  0.000361  0.002993   \n",
       "2022-01-07 00:00:00+00:00      0.010445     0.128162  0.000000  0.041446   \n",
       "\n",
       "                           POWERGRID.NS  TATAPOWER.NS  \n",
       "Date                                                   \n",
       "2022-01-03 00:00:00+00:00           NaN           NaN  \n",
       "2022-01-04 00:00:00+00:00      0.027317      0.012981  \n",
       "2022-01-05 00:00:00+00:00     -0.009259     -0.012373  \n",
       "2022-01-06 00:00:00+00:00     -0.012940      0.022148  \n",
       "2022-01-07 00:00:00+00:00     -0.003642      0.005909  "
      ]
     },
     "execution_count": 39,
     "metadata": {},
     "output_type": "execute_result"
    }
   ],
   "source": [
    "daily_returns = df.pct_change()\n",
    "daily_returns.head()"
   ]
  },
  {
   "cell_type": "code",
   "execution_count": 40,
   "id": "c7620b1b-a32f-406d-b7ac-6c572cfaee29",
   "metadata": {},
   "outputs": [],
   "source": [
    "weights = np.array([0.12,0.08,0.1,0.15,0.05,0.04,0.1,0.12,0.12,0.12])"
   ]
  },
  {
   "cell_type": "markdown",
   "id": "2dd00c85-c9ca-4fc1-a84b-6a012a22740b",
   "metadata": {},
   "source": [
    "np. array()\n",
    "\n",
    "Functionality: NumPy arrays support a wider range of mathematical functions out-of-the-box (like dot product, element-wise operations, etc.), which is not directly possible with lists without external libraries or loops."
   ]
  },
  {
   "cell_type": "code",
   "execution_count": 42,
   "id": "6ae230a0-9efb-4a8d-a41a-2c711e56479b",
   "metadata": {},
   "outputs": [
    {
     "data": {
      "text/plain": [
       "1.0"
      ]
     },
     "execution_count": 42,
     "metadata": {},
     "output_type": "execute_result"
    }
   ],
   "source": [
    "weights.sum() # to check is the sum is 100%"
   ]
  },
  {
   "cell_type": "markdown",
   "id": "5a7df156-6e23-44a5-af6c-0452681b97c5",
   "metadata": {},
   "source": [
    "Portfolio variance = Weights transposed x (Covariance matrix x Weights)\r\n",
    "\r\n",
    "to get the final portfolio variance."
   ]
  },
  {
   "cell_type": "code",
   "execution_count": 44,
   "id": "df9cf454-bba8-446e-8406-6aa3f3153113",
   "metadata": {},
   "outputs": [
    {
     "data": {
      "text/html": [
       "<div>\n",
       "<style scoped>\n",
       "    .dataframe tbody tr th:only-of-type {\n",
       "        vertical-align: middle;\n",
       "    }\n",
       "\n",
       "    .dataframe tbody tr th {\n",
       "        vertical-align: top;\n",
       "    }\n",
       "\n",
       "    .dataframe thead th {\n",
       "        text-align: right;\n",
       "    }\n",
       "</style>\n",
       "<table border=\"1\" class=\"dataframe\">\n",
       "  <thead>\n",
       "    <tr style=\"text-align: right;\">\n",
       "      <th></th>\n",
       "      <th>APOLLOHOSP.NS</th>\n",
       "      <th>COLPAL.NS</th>\n",
       "      <th>DLF.NS</th>\n",
       "      <th>HDFCBANK.NS</th>\n",
       "      <th>ICICIBANK.NS</th>\n",
       "      <th>KPITTECH.NS</th>\n",
       "      <th>NMDC.NS</th>\n",
       "      <th>ONGC.NS</th>\n",
       "      <th>POWERGRID.NS</th>\n",
       "      <th>TATAPOWER.NS</th>\n",
       "    </tr>\n",
       "  </thead>\n",
       "  <tbody>\n",
       "    <tr>\n",
       "      <th>APOLLOHOSP.NS</th>\n",
       "      <td>0.065317</td>\n",
       "      <td>0.009993</td>\n",
       "      <td>0.031434</td>\n",
       "      <td>0.011833</td>\n",
       "      <td>0.013116</td>\n",
       "      <td>0.017725</td>\n",
       "      <td>0.019918</td>\n",
       "      <td>0.007633</td>\n",
       "      <td>0.013124</td>\n",
       "      <td>0.021213</td>\n",
       "    </tr>\n",
       "    <tr>\n",
       "      <th>COLPAL.NS</th>\n",
       "      <td>0.009993</td>\n",
       "      <td>0.043932</td>\n",
       "      <td>0.017637</td>\n",
       "      <td>0.005448</td>\n",
       "      <td>0.004625</td>\n",
       "      <td>0.012141</td>\n",
       "      <td>0.009100</td>\n",
       "      <td>0.002269</td>\n",
       "      <td>0.006291</td>\n",
       "      <td>0.012220</td>\n",
       "    </tr>\n",
       "    <tr>\n",
       "      <th>DLF.NS</th>\n",
       "      <td>0.031434</td>\n",
       "      <td>0.017637</td>\n",
       "      <td>0.109596</td>\n",
       "      <td>0.026279</td>\n",
       "      <td>0.028955</td>\n",
       "      <td>0.037688</td>\n",
       "      <td>0.050893</td>\n",
       "      <td>0.027633</td>\n",
       "      <td>0.032001</td>\n",
       "      <td>0.060876</td>\n",
       "    </tr>\n",
       "    <tr>\n",
       "      <th>HDFCBANK.NS</th>\n",
       "      <td>0.011833</td>\n",
       "      <td>0.005448</td>\n",
       "      <td>0.026279</td>\n",
       "      <td>0.048680</td>\n",
       "      <td>0.021555</td>\n",
       "      <td>0.014718</td>\n",
       "      <td>0.017431</td>\n",
       "      <td>0.007540</td>\n",
       "      <td>0.011165</td>\n",
       "      <td>0.020619</td>\n",
       "    </tr>\n",
       "    <tr>\n",
       "      <th>ICICIBANK.NS</th>\n",
       "      <td>0.013116</td>\n",
       "      <td>0.004625</td>\n",
       "      <td>0.028955</td>\n",
       "      <td>0.021555</td>\n",
       "      <td>0.040404</td>\n",
       "      <td>0.014094</td>\n",
       "      <td>0.017642</td>\n",
       "      <td>0.010076</td>\n",
       "      <td>0.013751</td>\n",
       "      <td>0.022108</td>\n",
       "    </tr>\n",
       "    <tr>\n",
       "      <th>KPITTECH.NS</th>\n",
       "      <td>0.017725</td>\n",
       "      <td>0.012141</td>\n",
       "      <td>0.037688</td>\n",
       "      <td>0.014718</td>\n",
       "      <td>0.014094</td>\n",
       "      <td>0.168451</td>\n",
       "      <td>0.033340</td>\n",
       "      <td>0.025496</td>\n",
       "      <td>0.011946</td>\n",
       "      <td>0.036087</td>\n",
       "    </tr>\n",
       "    <tr>\n",
       "      <th>NMDC.NS</th>\n",
       "      <td>0.019918</td>\n",
       "      <td>0.009100</td>\n",
       "      <td>0.050893</td>\n",
       "      <td>0.017431</td>\n",
       "      <td>0.017642</td>\n",
       "      <td>0.033340</td>\n",
       "      <td>0.129210</td>\n",
       "      <td>0.050378</td>\n",
       "      <td>0.034274</td>\n",
       "      <td>0.058626</td>\n",
       "    </tr>\n",
       "    <tr>\n",
       "      <th>ONGC.NS</th>\n",
       "      <td>0.007633</td>\n",
       "      <td>0.002269</td>\n",
       "      <td>0.027633</td>\n",
       "      <td>0.007540</td>\n",
       "      <td>0.010076</td>\n",
       "      <td>0.025496</td>\n",
       "      <td>0.050378</td>\n",
       "      <td>0.111518</td>\n",
       "      <td>0.032910</td>\n",
       "      <td>0.038704</td>\n",
       "    </tr>\n",
       "    <tr>\n",
       "      <th>POWERGRID.NS</th>\n",
       "      <td>0.013124</td>\n",
       "      <td>0.006291</td>\n",
       "      <td>0.032001</td>\n",
       "      <td>0.011165</td>\n",
       "      <td>0.013751</td>\n",
       "      <td>0.011946</td>\n",
       "      <td>0.034274</td>\n",
       "      <td>0.032910</td>\n",
       "      <td>0.070600</td>\n",
       "      <td>0.040559</td>\n",
       "    </tr>\n",
       "    <tr>\n",
       "      <th>TATAPOWER.NS</th>\n",
       "      <td>0.021213</td>\n",
       "      <td>0.012220</td>\n",
       "      <td>0.060876</td>\n",
       "      <td>0.020619</td>\n",
       "      <td>0.022108</td>\n",
       "      <td>0.036087</td>\n",
       "      <td>0.058626</td>\n",
       "      <td>0.038704</td>\n",
       "      <td>0.040559</td>\n",
       "      <td>0.106464</td>\n",
       "    </tr>\n",
       "  </tbody>\n",
       "</table>\n",
       "</div>"
      ],
      "text/plain": [
       "               APOLLOHOSP.NS  COLPAL.NS    DLF.NS  HDFCBANK.NS  ICICIBANK.NS  \\\n",
       "APOLLOHOSP.NS       0.065317   0.009993  0.031434     0.011833      0.013116   \n",
       "COLPAL.NS           0.009993   0.043932  0.017637     0.005448      0.004625   \n",
       "DLF.NS              0.031434   0.017637  0.109596     0.026279      0.028955   \n",
       "HDFCBANK.NS         0.011833   0.005448  0.026279     0.048680      0.021555   \n",
       "ICICIBANK.NS        0.013116   0.004625  0.028955     0.021555      0.040404   \n",
       "KPITTECH.NS         0.017725   0.012141  0.037688     0.014718      0.014094   \n",
       "NMDC.NS             0.019918   0.009100  0.050893     0.017431      0.017642   \n",
       "ONGC.NS             0.007633   0.002269  0.027633     0.007540      0.010076   \n",
       "POWERGRID.NS        0.013124   0.006291  0.032001     0.011165      0.013751   \n",
       "TATAPOWER.NS        0.021213   0.012220  0.060876     0.020619      0.022108   \n",
       "\n",
       "               KPITTECH.NS   NMDC.NS   ONGC.NS  POWERGRID.NS  TATAPOWER.NS  \n",
       "APOLLOHOSP.NS     0.017725  0.019918  0.007633      0.013124      0.021213  \n",
       "COLPAL.NS         0.012141  0.009100  0.002269      0.006291      0.012220  \n",
       "DLF.NS            0.037688  0.050893  0.027633      0.032001      0.060876  \n",
       "HDFCBANK.NS       0.014718  0.017431  0.007540      0.011165      0.020619  \n",
       "ICICIBANK.NS      0.014094  0.017642  0.010076      0.013751      0.022108  \n",
       "KPITTECH.NS       0.168451  0.033340  0.025496      0.011946      0.036087  \n",
       "NMDC.NS           0.033340  0.129210  0.050378      0.034274      0.058626  \n",
       "ONGC.NS           0.025496  0.050378  0.111518      0.032910      0.038704  \n",
       "POWERGRID.NS      0.011946  0.034274  0.032910      0.070600      0.040559  \n",
       "TATAPOWER.NS      0.036087  0.058626  0.038704      0.040559      0.106464  "
      ]
     },
     "execution_count": 44,
     "metadata": {},
     "output_type": "execute_result"
    }
   ],
   "source": [
    "# Calculate the covariance matrix on daily returns\n",
    "cov_matrix = (daily_returns.cov())*250 \n",
    "'''\n",
    " Multiplying the daily covariance matrix by 250 annualizes it. \n",
    "This is because the covariance (and variance) of returns scales linearly with time when dealing with daily returns. \n",
    "So, multiplying by 250 gives you the annualized covariance matrix.\n",
    "\n",
    "Giving insights into how the returns of different assets vary together on a yearly basis.\n",
    "'''\n",
    "cov_matrix"
   ]
  },
  {
   "cell_type": "markdown",
   "id": "ed070eab-cc55-4e1f-b39a-fb228b1b69d3",
   "metadata": {},
   "source": [
    "NMDC & KPITTECH have high variance and are the riskiest"
   ]
  },
  {
   "cell_type": "code",
   "execution_count": 46,
   "id": "58cdf787-8aab-418d-8b99-317f3a697bea",
   "metadata": {},
   "outputs": [],
   "source": [
    "# Calculate the portfolio variance\n",
    "port_variance = np.dot(weights.T, np.dot(cov_matrix, weights))"
   ]
  },
  {
   "cell_type": "code",
   "execution_count": 47,
   "id": "6ec2f725-b02d-4b2c-a9f3-f964f56fc4c7",
   "metadata": {},
   "outputs": [],
   "source": [
    "# Calculate the standard deviation by taking the square root\n",
    "port_standard_dev = np.sqrt(port_variance)"
   ]
  },
  {
   "cell_type": "code",
   "execution_count": 48,
   "id": "bc929a6a-5626-41e6-ace6-a7463a3c7a89",
   "metadata": {},
   "outputs": [
    {
     "name": "stdout",
     "output_type": "stream",
     "text": [
      "17.28%\n"
     ]
    }
   ],
   "source": [
    "print(str(round(port_standard_dev * 100, 2)) +'%')"
   ]
  },
  {
   "cell_type": "markdown",
   "id": "735d44a6-93e7-45f8-9b64-0508acfdc076",
   "metadata": {},
   "source": [
    "#### Risk & Return"
   ]
  },
  {
   "cell_type": "code",
   "execution_count": 50,
   "id": "1f7a2e67-4bf6-459b-80c0-0730fec551a8",
   "metadata": {},
   "outputs": [
    {
     "data": {
      "text/html": [
       "<div>\n",
       "<style scoped>\n",
       "    .dataframe tbody tr th:only-of-type {\n",
       "        vertical-align: middle;\n",
       "    }\n",
       "\n",
       "    .dataframe tbody tr th {\n",
       "        vertical-align: top;\n",
       "    }\n",
       "\n",
       "    .dataframe thead th {\n",
       "        text-align: right;\n",
       "    }\n",
       "</style>\n",
       "<table border=\"1\" class=\"dataframe\">\n",
       "  <thead>\n",
       "    <tr style=\"text-align: right;\">\n",
       "      <th></th>\n",
       "      <th>APOLLOHOSP.NS</th>\n",
       "      <th>COLPAL.NS</th>\n",
       "      <th>DLF.NS</th>\n",
       "      <th>HDFCBANK.NS</th>\n",
       "      <th>ICICIBANK.NS</th>\n",
       "      <th>KPITTECH.NS</th>\n",
       "      <th>NMDC.NS</th>\n",
       "      <th>ONGC.NS</th>\n",
       "      <th>POWERGRID.NS</th>\n",
       "      <th>TATAPOWER.NS</th>\n",
       "    </tr>\n",
       "    <tr>\n",
       "      <th>Date</th>\n",
       "      <th></th>\n",
       "      <th></th>\n",
       "      <th></th>\n",
       "      <th></th>\n",
       "      <th></th>\n",
       "      <th></th>\n",
       "      <th></th>\n",
       "      <th></th>\n",
       "      <th></th>\n",
       "      <th></th>\n",
       "    </tr>\n",
       "  </thead>\n",
       "  <tbody>\n",
       "    <tr>\n",
       "      <th>2022-01-03 00:00:00+00:00</th>\n",
       "      <td>4990.500000</td>\n",
       "      <td>1463.800049</td>\n",
       "      <td>394.750000</td>\n",
       "      <td>1519.650024</td>\n",
       "      <td>764.700012</td>\n",
       "      <td>608.150024</td>\n",
       "      <td>103.997322</td>\n",
       "      <td>143.050003</td>\n",
       "      <td>153.750000</td>\n",
       "      <td>223.399994</td>\n",
       "    </tr>\n",
       "    <tr>\n",
       "      <th>2022-01-04 00:00:00+00:00</th>\n",
       "      <td>4964.600098</td>\n",
       "      <td>1464.800049</td>\n",
       "      <td>394.450012</td>\n",
       "      <td>1528.550049</td>\n",
       "      <td>772.849976</td>\n",
       "      <td>608.150024</td>\n",
       "      <td>104.381645</td>\n",
       "      <td>147.800003</td>\n",
       "      <td>157.949997</td>\n",
       "      <td>226.300003</td>\n",
       "    </tr>\n",
       "    <tr>\n",
       "      <th>2022-01-05 00:00:00+00:00</th>\n",
       "      <td>4973.250000</td>\n",
       "      <td>1466.150024</td>\n",
       "      <td>402.049988</td>\n",
       "      <td>1564.849976</td>\n",
       "      <td>788.049988</td>\n",
       "      <td>594.200012</td>\n",
       "      <td>106.533844</td>\n",
       "      <td>150.350006</td>\n",
       "      <td>156.487503</td>\n",
       "      <td>223.500000</td>\n",
       "    </tr>\n",
       "    <tr>\n",
       "      <th>2022-01-06 00:00:00+00:00</th>\n",
       "      <td>4964.450195</td>\n",
       "      <td>1456.900024</td>\n",
       "      <td>398.950012</td>\n",
       "      <td>1539.750000</td>\n",
       "      <td>785.049988</td>\n",
       "      <td>630.450012</td>\n",
       "      <td>106.572273</td>\n",
       "      <td>150.800003</td>\n",
       "      <td>154.462494</td>\n",
       "      <td>228.449997</td>\n",
       "    </tr>\n",
       "    <tr>\n",
       "      <th>2022-01-07 00:00:00+00:00</th>\n",
       "      <td>5021.850098</td>\n",
       "      <td>1469.900024</td>\n",
       "      <td>400.600006</td>\n",
       "      <td>1550.550049</td>\n",
       "      <td>793.250000</td>\n",
       "      <td>711.250000</td>\n",
       "      <td>106.572273</td>\n",
       "      <td>157.050003</td>\n",
       "      <td>153.899994</td>\n",
       "      <td>229.800003</td>\n",
       "    </tr>\n",
       "  </tbody>\n",
       "</table>\n",
       "</div>"
      ],
      "text/plain": [
       "                           APOLLOHOSP.NS    COLPAL.NS      DLF.NS  \\\n",
       "Date                                                                \n",
       "2022-01-03 00:00:00+00:00    4990.500000  1463.800049  394.750000   \n",
       "2022-01-04 00:00:00+00:00    4964.600098  1464.800049  394.450012   \n",
       "2022-01-05 00:00:00+00:00    4973.250000  1466.150024  402.049988   \n",
       "2022-01-06 00:00:00+00:00    4964.450195  1456.900024  398.950012   \n",
       "2022-01-07 00:00:00+00:00    5021.850098  1469.900024  400.600006   \n",
       "\n",
       "                           HDFCBANK.NS  ICICIBANK.NS  KPITTECH.NS     NMDC.NS  \\\n",
       "Date                                                                            \n",
       "2022-01-03 00:00:00+00:00  1519.650024    764.700012   608.150024  103.997322   \n",
       "2022-01-04 00:00:00+00:00  1528.550049    772.849976   608.150024  104.381645   \n",
       "2022-01-05 00:00:00+00:00  1564.849976    788.049988   594.200012  106.533844   \n",
       "2022-01-06 00:00:00+00:00  1539.750000    785.049988   630.450012  106.572273   \n",
       "2022-01-07 00:00:00+00:00  1550.550049    793.250000   711.250000  106.572273   \n",
       "\n",
       "                              ONGC.NS  POWERGRID.NS  TATAPOWER.NS  \n",
       "Date                                                               \n",
       "2022-01-03 00:00:00+00:00  143.050003    153.750000    223.399994  \n",
       "2022-01-04 00:00:00+00:00  147.800003    157.949997    226.300003  \n",
       "2022-01-05 00:00:00+00:00  150.350006    156.487503    223.500000  \n",
       "2022-01-06 00:00:00+00:00  150.800003    154.462494    228.449997  \n",
       "2022-01-07 00:00:00+00:00  157.050003    153.899994    229.800003  "
      ]
     },
     "execution_count": 50,
     "metadata": {},
     "output_type": "execute_result"
    }
   ],
   "source": [
    "pf = df.copy()\n",
    "pf.head()"
   ]
  },
  {
   "cell_type": "code",
   "execution_count": 51,
   "id": "13ec0f7d-c603-467a-b200-b6909c9c8c3b",
   "metadata": {},
   "outputs": [
    {
     "data": {
      "text/plain": [
       "1.0"
      ]
     },
     "execution_count": 51,
     "metadata": {},
     "output_type": "execute_result"
    }
   ],
   "source": [
    "weights = np.array([0.12,0.08,0.1,0.15,0.05,0.04,0.1,0.12,0.12,0.12])\n",
    "weights.sum()"
   ]
  },
  {
   "cell_type": "code",
   "execution_count": 52,
   "id": "ce6e7c6f-88f9-4301-b594-a8a3f402e968",
   "metadata": {},
   "outputs": [
    {
     "data": {
      "text/html": [
       "<div>\n",
       "<style scoped>\n",
       "    .dataframe tbody tr th:only-of-type {\n",
       "        vertical-align: middle;\n",
       "    }\n",
       "\n",
       "    .dataframe tbody tr th {\n",
       "        vertical-align: top;\n",
       "    }\n",
       "\n",
       "    .dataframe thead th {\n",
       "        text-align: right;\n",
       "    }\n",
       "</style>\n",
       "<table border=\"1\" class=\"dataframe\">\n",
       "  <thead>\n",
       "    <tr style=\"text-align: right;\">\n",
       "      <th></th>\n",
       "      <th>APOLLOHOSP.NS</th>\n",
       "      <th>COLPAL.NS</th>\n",
       "      <th>DLF.NS</th>\n",
       "      <th>HDFCBANK.NS</th>\n",
       "      <th>ICICIBANK.NS</th>\n",
       "      <th>KPITTECH.NS</th>\n",
       "      <th>NMDC.NS</th>\n",
       "      <th>ONGC.NS</th>\n",
       "      <th>POWERGRID.NS</th>\n",
       "      <th>TATAPOWER.NS</th>\n",
       "      <th>Portfolio</th>\n",
       "    </tr>\n",
       "    <tr>\n",
       "      <th>Date</th>\n",
       "      <th></th>\n",
       "      <th></th>\n",
       "      <th></th>\n",
       "      <th></th>\n",
       "      <th></th>\n",
       "      <th></th>\n",
       "      <th></th>\n",
       "      <th></th>\n",
       "      <th></th>\n",
       "      <th></th>\n",
       "      <th></th>\n",
       "    </tr>\n",
       "  </thead>\n",
       "  <tbody>\n",
       "    <tr>\n",
       "      <th>2024-10-30 00:00:00+00:00</th>\n",
       "      <td>6982.500000</td>\n",
       "      <td>3091.149902</td>\n",
       "      <td>826.400024</td>\n",
       "      <td>1734.599976</td>\n",
       "      <td>1312.150024</td>\n",
       "      <td>1385.300049</td>\n",
       "      <td>224.259995</td>\n",
       "      <td>261.649994</td>\n",
       "      <td>318.450012</td>\n",
       "      <td>427.000000</td>\n",
       "      <td>1692.319494</td>\n",
       "    </tr>\n",
       "    <tr>\n",
       "      <th>2024-10-31 00:00:00+00:00</th>\n",
       "      <td>7022.700195</td>\n",
       "      <td>3062.500000</td>\n",
       "      <td>819.849976</td>\n",
       "      <td>1735.699951</td>\n",
       "      <td>1292.250000</td>\n",
       "      <td>1393.250000</td>\n",
       "      <td>221.869995</td>\n",
       "      <td>266.149994</td>\n",
       "      <td>320.799988</td>\n",
       "      <td>440.049988</td>\n",
       "      <td>1695.833510</td>\n",
       "    </tr>\n",
       "    <tr>\n",
       "      <th>2024-11-01 00:00:00+00:00</th>\n",
       "      <td>7031.950195</td>\n",
       "      <td>3066.000000</td>\n",
       "      <td>823.750000</td>\n",
       "      <td>1737.300049</td>\n",
       "      <td>1291.800049</td>\n",
       "      <td>1424.250000</td>\n",
       "      <td>222.839996</td>\n",
       "      <td>271.750000</td>\n",
       "      <td>322.049988</td>\n",
       "      <td>445.450012</td>\n",
       "      <td>1700.638033</td>\n",
       "    </tr>\n",
       "    <tr>\n",
       "      <th>2024-11-04 00:00:00+00:00</th>\n",
       "      <td>6958.399902</td>\n",
       "      <td>2984.600098</td>\n",
       "      <td>789.900024</td>\n",
       "      <td>1714.099976</td>\n",
       "      <td>1277.199951</td>\n",
       "      <td>1403.599976</td>\n",
       "      <td>226.500000</td>\n",
       "      <td>265.299988</td>\n",
       "      <td>315.450012</td>\n",
       "      <td>429.049988</td>\n",
       "      <td>1673.710990</td>\n",
       "    </tr>\n",
       "    <tr>\n",
       "      <th>2024-11-05 00:00:00+00:00</th>\n",
       "      <td>6966.299805</td>\n",
       "      <td>2981.649902</td>\n",
       "      <td>799.049988</td>\n",
       "      <td>1757.849976</td>\n",
       "      <td>1296.699951</td>\n",
       "      <td>1390.000000</td>\n",
       "      <td>234.729996</td>\n",
       "      <td>267.399994</td>\n",
       "      <td>316.600006</td>\n",
       "      <td>434.100006</td>\n",
       "      <td>1684.150462</td>\n",
       "    </tr>\n",
       "  </tbody>\n",
       "</table>\n",
       "</div>"
      ],
      "text/plain": [
       "                           APOLLOHOSP.NS    COLPAL.NS      DLF.NS  \\\n",
       "Date                                                                \n",
       "2024-10-30 00:00:00+00:00    6982.500000  3091.149902  826.400024   \n",
       "2024-10-31 00:00:00+00:00    7022.700195  3062.500000  819.849976   \n",
       "2024-11-01 00:00:00+00:00    7031.950195  3066.000000  823.750000   \n",
       "2024-11-04 00:00:00+00:00    6958.399902  2984.600098  789.900024   \n",
       "2024-11-05 00:00:00+00:00    6966.299805  2981.649902  799.049988   \n",
       "\n",
       "                           HDFCBANK.NS  ICICIBANK.NS  KPITTECH.NS     NMDC.NS  \\\n",
       "Date                                                                            \n",
       "2024-10-30 00:00:00+00:00  1734.599976   1312.150024  1385.300049  224.259995   \n",
       "2024-10-31 00:00:00+00:00  1735.699951   1292.250000  1393.250000  221.869995   \n",
       "2024-11-01 00:00:00+00:00  1737.300049   1291.800049  1424.250000  222.839996   \n",
       "2024-11-04 00:00:00+00:00  1714.099976   1277.199951  1403.599976  226.500000   \n",
       "2024-11-05 00:00:00+00:00  1757.849976   1296.699951  1390.000000  234.729996   \n",
       "\n",
       "                              ONGC.NS  POWERGRID.NS  TATAPOWER.NS    Portfolio  \n",
       "Date                                                                            \n",
       "2024-10-30 00:00:00+00:00  261.649994    318.450012    427.000000  1692.319494  \n",
       "2024-10-31 00:00:00+00:00  266.149994    320.799988    440.049988  1695.833510  \n",
       "2024-11-01 00:00:00+00:00  271.750000    322.049988    445.450012  1700.638033  \n",
       "2024-11-04 00:00:00+00:00  265.299988    315.450012    429.049988  1673.710990  \n",
       "2024-11-05 00:00:00+00:00  267.399994    316.600006    434.100006  1684.150462  "
      ]
     },
     "execution_count": 52,
     "metadata": {},
     "output_type": "execute_result"
    }
   ],
   "source": [
    "# Create portfolio value column\n",
    "pf['Portfolio']= pf.dot(weights)\n",
    "pf.tail()"
   ]
  },
  {
   "cell_type": "code",
   "execution_count": 53,
   "id": "cb1d84c0-871f-4cec-a36c-35169d56e409",
   "metadata": {},
   "outputs": [],
   "source": [
    "pf_AUM = pf['Portfolio']"
   ]
  },
  {
   "cell_type": "code",
   "execution_count": 54,
   "id": "7a33c636-59f5-46de-abee-a8688c62fc42",
   "metadata": {},
   "outputs": [
    {
     "name": "stderr",
     "output_type": "stream",
     "text": [
      "C:\\Users\\sujay\\AppData\\Local\\Temp\\ipykernel_37524\\3803119708.py:2: FutureWarning: Series.__getitem__ treating keys as positions is deprecated. In a future version, integer keys will always be treated as labels (consistent with DataFrame behavior). To access a value by position, use `ser.iloc[pos]`\n",
      "  total_return = (pf_AUM[-1] - pf_AUM[0]) / pf_AUM[0]\n"
     ]
    },
    {
     "data": {
      "text/plain": [
       "0.5053573063154914"
      ]
     },
     "execution_count": 54,
     "metadata": {},
     "output_type": "execute_result"
    }
   ],
   "source": [
    "# Calculate total rate of return from start to end\n",
    "total_return = (pf_AUM[-1] - pf_AUM[0]) / pf_AUM[0]\n",
    "total_return"
   ]
  },
  {
   "cell_type": "code",
   "execution_count": 55,
   "id": "7fca7c82-6c94-4aa0-9568-09274f5d83cf",
   "metadata": {},
   "outputs": [
    {
     "data": {
      "text/plain": [
       "0.15530413452207092"
      ]
     },
     "execution_count": 55,
     "metadata": {},
     "output_type": "execute_result"
    }
   ],
   "source": [
    "# Annualize return\n",
    "annualized_return = ((1 + total_return)**(12/months_diff))-1\n",
    "annualized_return"
   ]
  },
  {
   "cell_type": "code",
   "execution_count": 56,
   "id": "f4147343-e9b6-4b6c-98ac-4b4f139c931d",
   "metadata": {},
   "outputs": [],
   "source": [
    "pf_returns = pf_AUM.pct_change()"
   ]
  },
  {
   "cell_type": "code",
   "execution_count": 57,
   "id": "e5409afe-7da5-43b3-a967-d1581ae2a8ef",
   "metadata": {},
   "outputs": [
    {
     "data": {
      "text/plain": [
       "Date\n",
       "2024-10-30 00:00:00+00:00   -0.002915\n",
       "2024-10-31 00:00:00+00:00    0.002076\n",
       "2024-11-01 00:00:00+00:00    0.002833\n",
       "2024-11-04 00:00:00+00:00   -0.015833\n",
       "2024-11-05 00:00:00+00:00    0.006237\n",
       "Name: Portfolio, dtype: float64"
      ]
     },
     "execution_count": 57,
     "metadata": {},
     "output_type": "execute_result"
    }
   ],
   "source": [
    "pf_returns.tail()"
   ]
  },
  {
   "cell_type": "code",
   "execution_count": 58,
   "id": "e8bde7f6-1a0b-4e0e-bdd2-07b447df6e3b",
   "metadata": {},
   "outputs": [
    {
     "data": {
      "text/plain": [
       "0.010827708832812264"
      ]
     },
     "execution_count": 58,
     "metadata": {},
     "output_type": "execute_result"
    }
   ],
   "source": [
    "pf_vol = pf_returns.std()\n",
    "pf_vol"
   ]
  },
  {
   "cell_type": "code",
   "execution_count": 167,
   "id": "67791fda-64a9-4175-80e6-238563290dd0",
   "metadata": {},
   "outputs": [
    {
     "data": {
      "text/plain": [
       "2.7069272082030658"
      ]
     },
     "execution_count": 167,
     "metadata": {},
     "output_type": "execute_result"
    }
   ],
   "source": [
    "# Calculate annualized volatility from the standard deviation\n",
    "pf_vol = pf_vol * np.sqrt(250)\n",
    "pf_vol"
   ]
  },
  {
   "cell_type": "code",
   "execution_count": 60,
   "id": "0c091150-6ffd-4167-a686-62e29fcba442",
   "metadata": {},
   "outputs": [],
   "source": [
    "rfr = 0"
   ]
  },
  {
   "cell_type": "markdown",
   "id": "470fa838-68bc-4a5e-9508-68e08bb35dc1",
   "metadata": {},
   "source": [
    "**Sharpe ratio**"
   ]
  },
  {
   "cell_type": "code",
   "execution_count": 62,
   "id": "e7b3325e-8242-4856-b2db-46bb3252828e",
   "metadata": {},
   "outputs": [
    {
     "data": {
      "text/plain": [
       "0.90714444341661"
      ]
     },
     "execution_count": 62,
     "metadata": {},
     "output_type": "execute_result"
    }
   ],
   "source": [
    "# Calculate the Sharpe ratio \n",
    "sharpe_ratio = ((annualized_return - rfr) / pf_vol)\n",
    "sharpe_ratio"
   ]
  },
  {
   "cell_type": "code",
   "execution_count": 63,
   "id": "b7505971-6116-4ef6-aeb6-5917d88b505f",
   "metadata": {},
   "outputs": [
    {
     "name": "stdout",
     "output_type": "stream",
     "text": [
      "mean :  0.06422828277523776\n",
      "Std. dev  :  1.0827708832812264\n",
      "skew :  -0.24677532700788932\n",
      "kurt :  1.8304691090271321\n"
     ]
    }
   ],
   "source": [
    "# Print the mean\n",
    "print(\"mean : \", pf_returns.mean()*100)\n",
    "\n",
    "# Print the standard deviation\n",
    "print(\"Std. dev  : \", pf_returns.std()*100)\n",
    "\n",
    "# Print the skewness\n",
    "print(\"skew : \", pf_returns.skew())\n",
    "\n",
    "# Print the kurtosis\n",
    "print(\"kurt : \", pf_returns.kurtosis())"
   ]
  },
  {
   "cell_type": "code",
   "execution_count": 64,
   "id": "6fa555e1-a35a-46c7-b48d-b5db862ad74b",
   "metadata": {},
   "outputs": [
    {
     "data": {
      "image/png": "[encoded data removed]",
      "text/plain": [
       "<Figure size 640x480 with 1 Axes>"
      ]
     },
     "metadata": {},
     "output_type": "display_data"
    }
   ],
   "source": [
    "pf_returns.hist()\n",
    "plt.show()"
   ]
  },
  {
   "cell_type": "markdown",
   "id": "02a6bb19-54e3-4d96-bee3-1754fd30246d",
   "metadata": {},
   "source": [
    "If a return distribution shows a positive skew => investors can expect many small losses and few large returns from investment. \n",
    "\n",
    "Conversely, a negatively skewed distribution => many small wins and a few large losses on the investment.\n",
    "\n",
    "this one is moderately symmetric"
   ]
  },
  {
   "cell_type": "markdown",
   "id": "8f97ca96-9155-4761-9ed8-4e76d514c4aa",
   "metadata": {},
   "source": [
    "If a return distribution shows a kurtosis > 3 => fat tailed. \n",
    "\n",
    "Conversely, kurtosis < 3 => tails are short and thin.\n",
    "\n",
    "kurtosis = 3 => normal distribution"
   ]
  },
  {
   "cell_type": "code",
   "execution_count": 67,
   "id": "3e25995c-fff1-4d18-b977-f569e31826b2",
   "metadata": {},
   "outputs": [
    {
     "data": {
      "image/png": "[encoded data removed]",
      "text/plain": [
       "<Figure size 640x480 with 12 Axes>"
      ]
     },
     "metadata": {},
     "output_type": "display_data"
    }
   ],
   "source": [
    "daily_returns.hist()\n",
    "plt.show()"
   ]
  },
  {
   "cell_type": "code",
   "execution_count": 68,
   "id": "f2b4acbb-842f-4c94-93ac-0407d7fc9d3c",
   "metadata": {},
   "outputs": [
    {
     "name": "stdout",
     "output_type": "stream",
     "text": [
      "skew :  APOLLOHOSP.NS    0.081439\n",
      "COLPAL.NS        0.059128\n",
      "DLF.NS          -0.175687\n",
      "HDFCBANK.NS     -0.113302\n",
      "ICICIBANK.NS    -0.387104\n",
      "KPITTECH.NS      0.351565\n",
      "NMDC.NS         -0.403963\n",
      "ONGC.NS         -0.558522\n",
      "POWERGRID.NS    -0.576199\n",
      "TATAPOWER.NS    -0.215066\n",
      "Portfolio       -0.942940\n",
      "dtype: float64\n",
      "kurt :  APOLLOHOSP.NS     1.832606\n",
      "COLPAL.NS         2.359502\n",
      "DLF.NS            2.771030\n",
      "HDFCBANK.NS       6.946195\n",
      "ICICIBANK.NS      3.277351\n",
      "KPITTECH.NS       4.063095\n",
      "NMDC.NS           2.313788\n",
      "ONGC.NS          10.522387\n",
      "POWERGRID.NS      6.273375\n",
      "TATAPOWER.NS      4.708910\n",
      "Portfolio         5.409080\n",
      "dtype: float64\n"
     ]
    }
   ],
   "source": [
    "# Print skewness and kurtosis of the stocks\n",
    "print (\"skew : \", returns.skew())\n",
    "print (\"kurt : \", returns.kurtosis())"
   ]
  },
  {
   "cell_type": "markdown",
   "id": "9780b17f-692f-48c9-adca-c6be56e269d5",
   "metadata": {},
   "source": [
    "#### Maximum drawdown"
   ]
  },
  {
   "cell_type": "code",
   "execution_count": 70,
   "id": "bc7c30ac-0cdc-45f9-8427-06479b95b369",
   "metadata": {},
   "outputs": [],
   "source": [
    "# Calculate the max value \n",
    "roll_max = pf_AUM.rolling(center=False,min_periods=1,window=252).max()\n",
    "\n",
    "# Calculate the daily draw-down relative to the max\n",
    "daily_draw_down = pf_AUM/roll_max - 1"
   ]
  },
  {
   "cell_type": "code",
   "execution_count": 71,
   "id": "8daad438-8e15-477f-8219-4a432223b035",
   "metadata": {},
   "outputs": [],
   "source": [
    "# Calculate the minimum (negative) daily draw-down | actually max daily drawdown\n",
    "max_daily_draw_down = daily_draw_down.rolling(center=False,min_periods=1,window=252).min()"
   ]
  },
  {
   "cell_type": "code",
   "execution_count": 72,
   "id": "1b457b47-cadc-4c19-bb13-f137fb9bd60b",
   "metadata": {},
   "outputs": [
    {
     "data": {
      "image/png": "[encoded data removed]",
      "text/plain": [
       "<Figure size 1500x600 with 1 Axes>"
      ]
     },
     "metadata": {},
     "output_type": "display_data"
    }
   ],
   "source": [
    "# Plot the results\n",
    "plt.figure(figsize=(15,6))\n",
    "\n",
    "plt.plot(pf_AUM.index, daily_draw_down, label='Daily drawdown')\n",
    "plt.plot(pf_AUM.index, max_daily_draw_down, label='Maximum daily drawdown in time-window')\n",
    "plt.legend()\n",
    "plt.show()"
   ]
  },
  {
   "cell_type": "code",
   "execution_count": 73,
   "id": "41294d58-40cd-463a-92d0-de249c1447c2",
   "metadata": {},
   "outputs": [
    {
     "data": {
      "text/html": [
       "<div>\n",
       "<style scoped>\n",
       "    .dataframe tbody tr th:only-of-type {\n",
       "        vertical-align: middle;\n",
       "    }\n",
       "\n",
       "    .dataframe tbody tr th {\n",
       "        vertical-align: top;\n",
       "    }\n",
       "\n",
       "    .dataframe thead th {\n",
       "        text-align: right;\n",
       "    }\n",
       "</style>\n",
       "<table border=\"1\" class=\"dataframe\">\n",
       "  <thead>\n",
       "    <tr style=\"text-align: right;\">\n",
       "      <th></th>\n",
       "      <th>Roll Max</th>\n",
       "      <th>Daily Draw Down</th>\n",
       "      <th>Max Daily Draw Down</th>\n",
       "    </tr>\n",
       "    <tr>\n",
       "      <th>Date</th>\n",
       "      <th></th>\n",
       "      <th></th>\n",
       "      <th></th>\n",
       "    </tr>\n",
       "  </thead>\n",
       "  <tbody>\n",
       "    <tr>\n",
       "      <th>2024-10-16 00:00:00+00:00</th>\n",
       "      <td>1815.628506</td>\n",
       "      <td>-0.032717</td>\n",
       "      <td>-0.074016</td>\n",
       "    </tr>\n",
       "    <tr>\n",
       "      <th>2024-10-17 00:00:00+00:00</th>\n",
       "      <td>1815.628506</td>\n",
       "      <td>-0.047925</td>\n",
       "      <td>-0.074016</td>\n",
       "    </tr>\n",
       "    <tr>\n",
       "      <th>2024-10-18 00:00:00+00:00</th>\n",
       "      <td>1815.628506</td>\n",
       "      <td>-0.044129</td>\n",
       "      <td>-0.074016</td>\n",
       "    </tr>\n",
       "    <tr>\n",
       "      <th>2024-10-21 00:00:00+00:00</th>\n",
       "      <td>1815.628506</td>\n",
       "      <td>-0.045664</td>\n",
       "      <td>-0.074016</td>\n",
       "    </tr>\n",
       "    <tr>\n",
       "      <th>2024-10-22 00:00:00+00:00</th>\n",
       "      <td>1815.628506</td>\n",
       "      <td>-0.058739</td>\n",
       "      <td>-0.074016</td>\n",
       "    </tr>\n",
       "    <tr>\n",
       "      <th>2024-10-23 00:00:00+00:00</th>\n",
       "      <td>1815.628506</td>\n",
       "      <td>-0.058702</td>\n",
       "      <td>-0.074016</td>\n",
       "    </tr>\n",
       "    <tr>\n",
       "      <th>2024-10-24 00:00:00+00:00</th>\n",
       "      <td>1815.628506</td>\n",
       "      <td>-0.064837</td>\n",
       "      <td>-0.074016</td>\n",
       "    </tr>\n",
       "    <tr>\n",
       "      <th>2024-10-25 00:00:00+00:00</th>\n",
       "      <td>1815.628506</td>\n",
       "      <td>-0.075306</td>\n",
       "      <td>-0.075306</td>\n",
       "    </tr>\n",
       "    <tr>\n",
       "      <th>2024-10-28 00:00:00+00:00</th>\n",
       "      <td>1815.628506</td>\n",
       "      <td>-0.071542</td>\n",
       "      <td>-0.075306</td>\n",
       "    </tr>\n",
       "    <tr>\n",
       "      <th>2024-10-29 00:00:00+00:00</th>\n",
       "      <td>1815.628506</td>\n",
       "      <td>-0.065190</td>\n",
       "      <td>-0.075306</td>\n",
       "    </tr>\n",
       "    <tr>\n",
       "      <th>2024-10-30 00:00:00+00:00</th>\n",
       "      <td>1815.628506</td>\n",
       "      <td>-0.067915</td>\n",
       "      <td>-0.075306</td>\n",
       "    </tr>\n",
       "    <tr>\n",
       "      <th>2024-10-31 00:00:00+00:00</th>\n",
       "      <td>1815.628506</td>\n",
       "      <td>-0.065980</td>\n",
       "      <td>-0.075306</td>\n",
       "    </tr>\n",
       "    <tr>\n",
       "      <th>2024-11-01 00:00:00+00:00</th>\n",
       "      <td>1815.628506</td>\n",
       "      <td>-0.063334</td>\n",
       "      <td>-0.075306</td>\n",
       "    </tr>\n",
       "    <tr>\n",
       "      <th>2024-11-04 00:00:00+00:00</th>\n",
       "      <td>1815.628506</td>\n",
       "      <td>-0.078164</td>\n",
       "      <td>-0.078164</td>\n",
       "    </tr>\n",
       "    <tr>\n",
       "      <th>2024-11-05 00:00:00+00:00</th>\n",
       "      <td>1815.628506</td>\n",
       "      <td>-0.072415</td>\n",
       "      <td>-0.078164</td>\n",
       "    </tr>\n",
       "  </tbody>\n",
       "</table>\n",
       "</div>"
      ],
      "text/plain": [
       "                              Roll Max  Daily Draw Down  Max Daily Draw Down\n",
       "Date                                                                        \n",
       "2024-10-16 00:00:00+00:00  1815.628506        -0.032717            -0.074016\n",
       "2024-10-17 00:00:00+00:00  1815.628506        -0.047925            -0.074016\n",
       "2024-10-18 00:00:00+00:00  1815.628506        -0.044129            -0.074016\n",
       "2024-10-21 00:00:00+00:00  1815.628506        -0.045664            -0.074016\n",
       "2024-10-22 00:00:00+00:00  1815.628506        -0.058739            -0.074016\n",
       "2024-10-23 00:00:00+00:00  1815.628506        -0.058702            -0.074016\n",
       "2024-10-24 00:00:00+00:00  1815.628506        -0.064837            -0.074016\n",
       "2024-10-25 00:00:00+00:00  1815.628506        -0.075306            -0.075306\n",
       "2024-10-28 00:00:00+00:00  1815.628506        -0.071542            -0.075306\n",
       "2024-10-29 00:00:00+00:00  1815.628506        -0.065190            -0.075306\n",
       "2024-10-30 00:00:00+00:00  1815.628506        -0.067915            -0.075306\n",
       "2024-10-31 00:00:00+00:00  1815.628506        -0.065980            -0.075306\n",
       "2024-11-01 00:00:00+00:00  1815.628506        -0.063334            -0.075306\n",
       "2024-11-04 00:00:00+00:00  1815.628506        -0.078164            -0.078164\n",
       "2024-11-05 00:00:00+00:00  1815.628506        -0.072415            -0.078164"
      ]
     },
     "execution_count": 73,
     "metadata": {},
     "output_type": "execute_result"
    }
   ],
   "source": [
    "# Concatenate the DataFrames along columns (axis=1)\n",
    "drawdown = pd.concat([roll_max, daily_draw_down, max_daily_draw_down], axis=1)\n",
    "\n",
    "# Optionally, rename the columns for clarity\n",
    "drawdown.columns = ['Roll Max', 'Daily Draw Down', 'Max Daily Draw Down']\n",
    "\n",
    "drawdown.tail(15)"
   ]
  },
  {
   "cell_type": "code",
   "execution_count": 74,
   "id": "541223d7-3c99-4e9b-a668-c9f1783c643b",
   "metadata": {},
   "outputs": [
    {
     "name": "stdout",
     "output_type": "stream",
     "text": [
      "DataFrame saved to drawdown_analysis.xlsx\n"
     ]
    }
   ],
   "source": [
    "# Save the DataFrame to an Excel file\n",
    "output_file = 'drawdown_analysis.xlsx'\n",
    "drawdown.to_excel(output_file)\n",
    "\n",
    "print(f\"DataFrame saved to {output_file}\")"
   ]
  },
  {
   "cell_type": "markdown",
   "id": "deacdf5d-ec1e-41fc-b334-b787e0f344a4",
   "metadata": {},
   "source": [
    "### Portfolio Optimization"
   ]
  },
  {
   "cell_type": "markdown",
   "id": "7b83433a-1c79-4c31-ab6e-c25558a3529e",
   "metadata": {},
   "source": [
    "#### PyPortfolioOpt"
   ]
  },
  {
   "cell_type": "code",
   "execution_count": 77,
   "id": "9cf10f05-d789-4c98-9412-da3e6cfaee73",
   "metadata": {},
   "outputs": [
    {
     "name": "stdout",
     "output_type": "stream",
     "text": [
      "Requirement already satisfied: PyPortfolioOpt in d:\\users\\sujay\\lib\\site-packages (1.5.5)\n",
      "Requirement already satisfied: cvxpy<2.0.0,>=1.1.19 in d:\\users\\sujay\\lib\\site-packages (from PyPortfolioOpt) (1.5.3)\n",
      "Requirement already satisfied: numpy<2.0.0,>=1.22.4 in d:\\users\\sujay\\lib\\site-packages (from PyPortfolioOpt) (1.26.4)\n",
      "Requirement already satisfied: pandas>=0.19 in d:\\users\\sujay\\lib\\site-packages (from PyPortfolioOpt) (2.1.4)\n",
      "Requirement already satisfied: scipy<2.0,>=1.3 in d:\\users\\sujay\\lib\\site-packages (from PyPortfolioOpt) (1.11.4)\n",
      "Requirement already satisfied: osqp>=0.6.2 in d:\\users\\sujay\\lib\\site-packages (from cvxpy<2.0.0,>=1.1.19->PyPortfolioOpt) (0.6.7.post3)\n",
      "Requirement already satisfied: ecos>=2 in d:\\users\\sujay\\lib\\site-packages (from cvxpy<2.0.0,>=1.1.19->PyPortfolioOpt) (2.0.14)\n",
      "Requirement already satisfied: clarabel>=0.5.0 in d:\\users\\sujay\\lib\\site-packages (from cvxpy<2.0.0,>=1.1.19->PyPortfolioOpt) (0.9.0)\n",
      "Requirement already satisfied: scs>=3.2.4.post1 in d:\\users\\sujay\\lib\\site-packages (from cvxpy<2.0.0,>=1.1.19->PyPortfolioOpt) (3.2.7)\n",
      "Requirement already satisfied: python-dateutil>=2.8.2 in d:\\users\\sujay\\lib\\site-packages (from pandas>=0.19->PyPortfolioOpt) (2.8.2)\n",
      "Requirement already satisfied: pytz>=2020.1 in d:\\users\\sujay\\lib\\site-packages (from pandas>=0.19->PyPortfolioOpt) (2023.3.post1)\n",
      "Requirement already satisfied: tzdata>=2022.1 in d:\\users\\sujay\\lib\\site-packages (from pandas>=0.19->PyPortfolioOpt) (2023.3)\n",
      "Requirement already satisfied: qdldl in d:\\users\\sujay\\lib\\site-packages (from osqp>=0.6.2->cvxpy<2.0.0,>=1.1.19->PyPortfolioOpt) (0.1.7.post4)\n",
      "Requirement already satisfied: six>=1.5 in d:\\users\\sujay\\lib\\site-packages (from python-dateutil>=2.8.2->pandas>=0.19->PyPortfolioOpt) (1.16.0)\n",
      "Note: you may need to restart the kernel to use updated packages.\n"
     ]
    }
   ],
   "source": [
    "pip install PyPortfolioOpt"
   ]
  },
  {
   "cell_type": "code",
   "execution_count": 78,
   "id": "c92a1bdb-6165-4fb5-bcc9-2dd33b9e300f",
   "metadata": {},
   "outputs": [],
   "source": [
    "# Import the packages \n",
    "from pypfopt import risk_models\n",
    "from pypfopt import expected_returns\n",
    "from pypfopt.efficient_frontier import EfficientFrontier"
   ]
  },
  {
   "cell_type": "code",
   "execution_count": 79,
   "id": "e3555ba6-ce50-4aab-936d-50801ab5cbd0",
   "metadata": {},
   "outputs": [],
   "source": [
    "stock_prices = df.copy()"
   ]
  },
  {
   "cell_type": "code",
   "execution_count": 80,
   "id": "86ef7c9f-a6b7-4553-9b73-a9a3831d988a",
   "metadata": {},
   "outputs": [
    {
     "data": {
      "text/html": [
       "<div>\n",
       "<style scoped>\n",
       "    .dataframe tbody tr th:only-of-type {\n",
       "        vertical-align: middle;\n",
       "    }\n",
       "\n",
       "    .dataframe tbody tr th {\n",
       "        vertical-align: top;\n",
       "    }\n",
       "\n",
       "    .dataframe thead th {\n",
       "        text-align: right;\n",
       "    }\n",
       "</style>\n",
       "<table border=\"1\" class=\"dataframe\">\n",
       "  <thead>\n",
       "    <tr style=\"text-align: right;\">\n",
       "      <th></th>\n",
       "      <th>APOLLOHOSP.NS</th>\n",
       "      <th>COLPAL.NS</th>\n",
       "      <th>DLF.NS</th>\n",
       "      <th>HDFCBANK.NS</th>\n",
       "      <th>ICICIBANK.NS</th>\n",
       "      <th>KPITTECH.NS</th>\n",
       "      <th>NMDC.NS</th>\n",
       "      <th>ONGC.NS</th>\n",
       "      <th>POWERGRID.NS</th>\n",
       "      <th>TATAPOWER.NS</th>\n",
       "    </tr>\n",
       "    <tr>\n",
       "      <th>Date</th>\n",
       "      <th></th>\n",
       "      <th></th>\n",
       "      <th></th>\n",
       "      <th></th>\n",
       "      <th></th>\n",
       "      <th></th>\n",
       "      <th></th>\n",
       "      <th></th>\n",
       "      <th></th>\n",
       "      <th></th>\n",
       "    </tr>\n",
       "  </thead>\n",
       "  <tbody>\n",
       "    <tr>\n",
       "      <th>2024-10-30 00:00:00+00:00</th>\n",
       "      <td>6982.500000</td>\n",
       "      <td>3091.149902</td>\n",
       "      <td>826.400024</td>\n",
       "      <td>1734.599976</td>\n",
       "      <td>1312.150024</td>\n",
       "      <td>1385.300049</td>\n",
       "      <td>224.259995</td>\n",
       "      <td>261.649994</td>\n",
       "      <td>318.450012</td>\n",
       "      <td>427.000000</td>\n",
       "    </tr>\n",
       "    <tr>\n",
       "      <th>2024-10-31 00:00:00+00:00</th>\n",
       "      <td>7022.700195</td>\n",
       "      <td>3062.500000</td>\n",
       "      <td>819.849976</td>\n",
       "      <td>1735.699951</td>\n",
       "      <td>1292.250000</td>\n",
       "      <td>1393.250000</td>\n",
       "      <td>221.869995</td>\n",
       "      <td>266.149994</td>\n",
       "      <td>320.799988</td>\n",
       "      <td>440.049988</td>\n",
       "    </tr>\n",
       "    <tr>\n",
       "      <th>2024-11-01 00:00:00+00:00</th>\n",
       "      <td>7031.950195</td>\n",
       "      <td>3066.000000</td>\n",
       "      <td>823.750000</td>\n",
       "      <td>1737.300049</td>\n",
       "      <td>1291.800049</td>\n",
       "      <td>1424.250000</td>\n",
       "      <td>222.839996</td>\n",
       "      <td>271.750000</td>\n",
       "      <td>322.049988</td>\n",
       "      <td>445.450012</td>\n",
       "    </tr>\n",
       "    <tr>\n",
       "      <th>2024-11-04 00:00:00+00:00</th>\n",
       "      <td>6958.399902</td>\n",
       "      <td>2984.600098</td>\n",
       "      <td>789.900024</td>\n",
       "      <td>1714.099976</td>\n",
       "      <td>1277.199951</td>\n",
       "      <td>1403.599976</td>\n",
       "      <td>226.500000</td>\n",
       "      <td>265.299988</td>\n",
       "      <td>315.450012</td>\n",
       "      <td>429.049988</td>\n",
       "    </tr>\n",
       "    <tr>\n",
       "      <th>2024-11-05 00:00:00+00:00</th>\n",
       "      <td>6966.299805</td>\n",
       "      <td>2981.649902</td>\n",
       "      <td>799.049988</td>\n",
       "      <td>1757.849976</td>\n",
       "      <td>1296.699951</td>\n",
       "      <td>1390.000000</td>\n",
       "      <td>234.729996</td>\n",
       "      <td>267.399994</td>\n",
       "      <td>316.600006</td>\n",
       "      <td>434.100006</td>\n",
       "    </tr>\n",
       "  </tbody>\n",
       "</table>\n",
       "</div>"
      ],
      "text/plain": [
       "                           APOLLOHOSP.NS    COLPAL.NS      DLF.NS  \\\n",
       "Date                                                                \n",
       "2024-10-30 00:00:00+00:00    6982.500000  3091.149902  826.400024   \n",
       "2024-10-31 00:00:00+00:00    7022.700195  3062.500000  819.849976   \n",
       "2024-11-01 00:00:00+00:00    7031.950195  3066.000000  823.750000   \n",
       "2024-11-04 00:00:00+00:00    6958.399902  2984.600098  789.900024   \n",
       "2024-11-05 00:00:00+00:00    6966.299805  2981.649902  799.049988   \n",
       "\n",
       "                           HDFCBANK.NS  ICICIBANK.NS  KPITTECH.NS     NMDC.NS  \\\n",
       "Date                                                                            \n",
       "2024-10-30 00:00:00+00:00  1734.599976   1312.150024  1385.300049  224.259995   \n",
       "2024-10-31 00:00:00+00:00  1735.699951   1292.250000  1393.250000  221.869995   \n",
       "2024-11-01 00:00:00+00:00  1737.300049   1291.800049  1424.250000  222.839996   \n",
       "2024-11-04 00:00:00+00:00  1714.099976   1277.199951  1403.599976  226.500000   \n",
       "2024-11-05 00:00:00+00:00  1757.849976   1296.699951  1390.000000  234.729996   \n",
       "\n",
       "                              ONGC.NS  POWERGRID.NS  TATAPOWER.NS  \n",
       "Date                                                               \n",
       "2024-10-30 00:00:00+00:00  261.649994    318.450012    427.000000  \n",
       "2024-10-31 00:00:00+00:00  266.149994    320.799988    440.049988  \n",
       "2024-11-01 00:00:00+00:00  271.750000    322.049988    445.450012  \n",
       "2024-11-04 00:00:00+00:00  265.299988    315.450012    429.049988  \n",
       "2024-11-05 00:00:00+00:00  267.399994    316.600006    434.100006  "
      ]
     },
     "execution_count": 80,
     "metadata": {},
     "output_type": "execute_result"
    }
   ],
   "source": [
    "stock_prices.tail()"
   ]
  },
  {
   "cell_type": "markdown",
   "id": "4505b4a9-89bf-4c2a-af37-633ac14e829c",
   "metadata": {},
   "source": [
    "**Mean Expected Returns | mu**"
   ]
  },
  {
   "cell_type": "code",
   "execution_count": 82,
   "id": "f1ee1b82-038b-465f-8b61-dec171d00b46",
   "metadata": {},
   "outputs": [
    {
     "data": {
      "text/plain": [
       "APOLLOHOSP.NS    0.127391\n",
       "COLPAL.NS        0.291434\n",
       "DLF.NS           0.288527\n",
       "HDFCBANK.NS      0.053740\n",
       "ICICIBANK.NS     0.209059\n",
       "KPITTECH.NS      0.346037\n",
       "NMDC.NS          0.339970\n",
       "ONGC.NS          0.252169\n",
       "POWERGRID.NS     0.296491\n",
       "TATAPOWER.NS     0.269738\n",
       "dtype: float64"
      ]
     },
     "execution_count": 82,
     "metadata": {},
     "output_type": "execute_result"
    }
   ],
   "source": [
    "# Calculate expected returns mu \n",
    "mu = expected_returns.mean_historical_return(stock_prices)\n",
    "mu"
   ]
  },
  {
   "cell_type": "markdown",
   "id": "1f08f976-426f-4b95-854f-7f5b850744ec",
   "metadata": {},
   "source": [
    "**Covariance matrix | Sigma**"
   ]
  },
  {
   "cell_type": "code",
   "execution_count": 84,
   "id": "e627f61f-8123-4022-9c23-e04935e64722",
   "metadata": {},
   "outputs": [
    {
     "data": {
      "text/html": [
       "<div>\n",
       "<style scoped>\n",
       "    .dataframe tbody tr th:only-of-type {\n",
       "        vertical-align: middle;\n",
       "    }\n",
       "\n",
       "    .dataframe tbody tr th {\n",
       "        vertical-align: top;\n",
       "    }\n",
       "\n",
       "    .dataframe thead th {\n",
       "        text-align: right;\n",
       "    }\n",
       "</style>\n",
       "<table border=\"1\" class=\"dataframe\">\n",
       "  <thead>\n",
       "    <tr style=\"text-align: right;\">\n",
       "      <th></th>\n",
       "      <th>APOLLOHOSP.NS</th>\n",
       "      <th>COLPAL.NS</th>\n",
       "      <th>DLF.NS</th>\n",
       "      <th>HDFCBANK.NS</th>\n",
       "      <th>ICICIBANK.NS</th>\n",
       "      <th>KPITTECH.NS</th>\n",
       "      <th>NMDC.NS</th>\n",
       "      <th>ONGC.NS</th>\n",
       "      <th>POWERGRID.NS</th>\n",
       "      <th>TATAPOWER.NS</th>\n",
       "    </tr>\n",
       "  </thead>\n",
       "  <tbody>\n",
       "    <tr>\n",
       "      <th>APOLLOHOSP.NS</th>\n",
       "      <td>0.065840</td>\n",
       "      <td>0.010073</td>\n",
       "      <td>0.031685</td>\n",
       "      <td>0.011927</td>\n",
       "      <td>0.013221</td>\n",
       "      <td>0.017866</td>\n",
       "      <td>0.020078</td>\n",
       "      <td>0.007694</td>\n",
       "      <td>0.013229</td>\n",
       "      <td>0.021383</td>\n",
       "    </tr>\n",
       "    <tr>\n",
       "      <th>COLPAL.NS</th>\n",
       "      <td>0.010073</td>\n",
       "      <td>0.044283</td>\n",
       "      <td>0.017778</td>\n",
       "      <td>0.005492</td>\n",
       "      <td>0.004662</td>\n",
       "      <td>0.012239</td>\n",
       "      <td>0.009173</td>\n",
       "      <td>0.002287</td>\n",
       "      <td>0.006342</td>\n",
       "      <td>0.012317</td>\n",
       "    </tr>\n",
       "    <tr>\n",
       "      <th>DLF.NS</th>\n",
       "      <td>0.031685</td>\n",
       "      <td>0.017778</td>\n",
       "      <td>0.110473</td>\n",
       "      <td>0.026489</td>\n",
       "      <td>0.029186</td>\n",
       "      <td>0.037990</td>\n",
       "      <td>0.051300</td>\n",
       "      <td>0.027854</td>\n",
       "      <td>0.032257</td>\n",
       "      <td>0.061363</td>\n",
       "    </tr>\n",
       "    <tr>\n",
       "      <th>HDFCBANK.NS</th>\n",
       "      <td>0.011927</td>\n",
       "      <td>0.005492</td>\n",
       "      <td>0.026489</td>\n",
       "      <td>0.049069</td>\n",
       "      <td>0.021727</td>\n",
       "      <td>0.014836</td>\n",
       "      <td>0.017571</td>\n",
       "      <td>0.007601</td>\n",
       "      <td>0.011254</td>\n",
       "      <td>0.020784</td>\n",
       "    </tr>\n",
       "    <tr>\n",
       "      <th>ICICIBANK.NS</th>\n",
       "      <td>0.013221</td>\n",
       "      <td>0.004662</td>\n",
       "      <td>0.029186</td>\n",
       "      <td>0.021727</td>\n",
       "      <td>0.040727</td>\n",
       "      <td>0.014207</td>\n",
       "      <td>0.017783</td>\n",
       "      <td>0.010156</td>\n",
       "      <td>0.013861</td>\n",
       "      <td>0.022285</td>\n",
       "    </tr>\n",
       "    <tr>\n",
       "      <th>KPITTECH.NS</th>\n",
       "      <td>0.017866</td>\n",
       "      <td>0.012239</td>\n",
       "      <td>0.037990</td>\n",
       "      <td>0.014836</td>\n",
       "      <td>0.014207</td>\n",
       "      <td>0.169798</td>\n",
       "      <td>0.033606</td>\n",
       "      <td>0.025700</td>\n",
       "      <td>0.012041</td>\n",
       "      <td>0.036376</td>\n",
       "    </tr>\n",
       "    <tr>\n",
       "      <th>NMDC.NS</th>\n",
       "      <td>0.020078</td>\n",
       "      <td>0.009173</td>\n",
       "      <td>0.051300</td>\n",
       "      <td>0.017571</td>\n",
       "      <td>0.017783</td>\n",
       "      <td>0.033606</td>\n",
       "      <td>0.130243</td>\n",
       "      <td>0.050781</td>\n",
       "      <td>0.034548</td>\n",
       "      <td>0.059095</td>\n",
       "    </tr>\n",
       "    <tr>\n",
       "      <th>ONGC.NS</th>\n",
       "      <td>0.007694</td>\n",
       "      <td>0.002287</td>\n",
       "      <td>0.027854</td>\n",
       "      <td>0.007601</td>\n",
       "      <td>0.010156</td>\n",
       "      <td>0.025700</td>\n",
       "      <td>0.050781</td>\n",
       "      <td>0.112410</td>\n",
       "      <td>0.033173</td>\n",
       "      <td>0.039014</td>\n",
       "    </tr>\n",
       "    <tr>\n",
       "      <th>POWERGRID.NS</th>\n",
       "      <td>0.013229</td>\n",
       "      <td>0.006342</td>\n",
       "      <td>0.032257</td>\n",
       "      <td>0.011254</td>\n",
       "      <td>0.013861</td>\n",
       "      <td>0.012041</td>\n",
       "      <td>0.034548</td>\n",
       "      <td>0.033173</td>\n",
       "      <td>0.071165</td>\n",
       "      <td>0.040883</td>\n",
       "    </tr>\n",
       "    <tr>\n",
       "      <th>TATAPOWER.NS</th>\n",
       "      <td>0.021383</td>\n",
       "      <td>0.012317</td>\n",
       "      <td>0.061363</td>\n",
       "      <td>0.020784</td>\n",
       "      <td>0.022285</td>\n",
       "      <td>0.036376</td>\n",
       "      <td>0.059095</td>\n",
       "      <td>0.039014</td>\n",
       "      <td>0.040883</td>\n",
       "      <td>0.107316</td>\n",
       "    </tr>\n",
       "  </tbody>\n",
       "</table>\n",
       "</div>"
      ],
      "text/plain": [
       "               APOLLOHOSP.NS  COLPAL.NS    DLF.NS  HDFCBANK.NS  ICICIBANK.NS  \\\n",
       "APOLLOHOSP.NS       0.065840   0.010073  0.031685     0.011927      0.013221   \n",
       "COLPAL.NS           0.010073   0.044283  0.017778     0.005492      0.004662   \n",
       "DLF.NS              0.031685   0.017778  0.110473     0.026489      0.029186   \n",
       "HDFCBANK.NS         0.011927   0.005492  0.026489     0.049069      0.021727   \n",
       "ICICIBANK.NS        0.013221   0.004662  0.029186     0.021727      0.040727   \n",
       "KPITTECH.NS         0.017866   0.012239  0.037990     0.014836      0.014207   \n",
       "NMDC.NS             0.020078   0.009173  0.051300     0.017571      0.017783   \n",
       "ONGC.NS             0.007694   0.002287  0.027854     0.007601      0.010156   \n",
       "POWERGRID.NS        0.013229   0.006342  0.032257     0.011254      0.013861   \n",
       "TATAPOWER.NS        0.021383   0.012317  0.061363     0.020784      0.022285   \n",
       "\n",
       "               KPITTECH.NS   NMDC.NS   ONGC.NS  POWERGRID.NS  TATAPOWER.NS  \n",
       "APOLLOHOSP.NS     0.017866  0.020078  0.007694      0.013229      0.021383  \n",
       "COLPAL.NS         0.012239  0.009173  0.002287      0.006342      0.012317  \n",
       "DLF.NS            0.037990  0.051300  0.027854      0.032257      0.061363  \n",
       "HDFCBANK.NS       0.014836  0.017571  0.007601      0.011254      0.020784  \n",
       "ICICIBANK.NS      0.014207  0.017783  0.010156      0.013861      0.022285  \n",
       "KPITTECH.NS       0.169798  0.033606  0.025700      0.012041      0.036376  \n",
       "NMDC.NS           0.033606  0.130243  0.050781      0.034548      0.059095  \n",
       "ONGC.NS           0.025700  0.050781  0.112410      0.033173      0.039014  \n",
       "POWERGRID.NS      0.012041  0.034548  0.033173      0.071165      0.040883  \n",
       "TATAPOWER.NS      0.036376  0.059095  0.039014      0.040883      0.107316  "
      ]
     },
     "execution_count": 84,
     "metadata": {},
     "output_type": "execute_result"
    }
   ],
   "source": [
    "# Calculate the covariance matrix S\n",
    "Sigma = risk_models.sample_cov(stock_prices)\n",
    "Sigma"
   ]
  },
  {
   "cell_type": "markdown",
   "id": "2dac312c-4a09-44b0-93bc-26ab50073ab9",
   "metadata": {},
   "source": [
    "**Efficient Frontier | Creating for minimum risk portfolio | weights = ef.efficient_return(0.3) #for target return of 30%**"
   ]
  },
  {
   "cell_type": "code",
   "execution_count": 86,
   "id": "40f053ad-f06b-47fa-80fc-e2e1d7ec9342",
   "metadata": {},
   "outputs": [],
   "source": [
    "# Obtain the efficient frontier\n",
    "ef = EfficientFrontier (mu, Sigma)\n"
   ]
  },
  {
   "cell_type": "code",
   "execution_count": 87,
   "id": "28ab4b59-808d-433a-bf04-a6c52cb30274",
   "metadata": {},
   "outputs": [
    {
     "name": "stdout",
     "output_type": "stream",
     "text": [
      "OrderedDict([('APOLLOHOSP.NS', 0.0), ('COLPAL.NS', 0.4680576188203546), ('DLF.NS', 0.0), ('HDFCBANK.NS', 0.0), ('ICICIBANK.NS', 0.0594546103470794), ('KPITTECH.NS', 0.1209258691236403), ('NMDC.NS', 0.1185534190873394), ('ONGC.NS', 0.0016217529397108), ('POWERGRID.NS', 0.2313867296818755), ('TATAPOWER.NS', 0.0)])\n",
      "Expected annual return: 30.0%\n",
      "Annual volatility: 16.3%\n",
      "Sharpe Ratio: 1.72\n"
     ]
    },
    {
     "data": {
      "text/plain": [
       "(0.30000000000000004, 0.16258867233122623, 1.7221371943402244)"
      ]
     },
     "execution_count": 87,
     "metadata": {},
     "output_type": "execute_result"
    }
   ],
   "source": [
    "# Get the minimum risk portfolio for a target return \n",
    "weights = ef.efficient_return(0.3)    #The 0.3 refers to the target return \n",
    "print (weights)\n",
    "\n",
    "# Show portfolio performance \n",
    "ef.portfolio_performance(verbose=True)"
   ]
  },
  {
   "cell_type": "markdown",
   "id": "fbce2f16-602d-4b90-9aec-7dae6f27a90d",
   "metadata": {},
   "source": [
    "**Efficient Frontier | Creating for minimum volatility portfolio | weights = ef.min_volatility()**"
   ]
  },
  {
   "cell_type": "code",
   "execution_count": 89,
   "id": "431af04a-122f-494b-882c-7fd52bc5a518",
   "metadata": {},
   "outputs": [],
   "source": [
    "# Define the efficient frontier\n",
    "ef = EfficientFrontier(mu, Sigma)"
   ]
  },
  {
   "cell_type": "code",
   "execution_count": 90,
   "id": "262d36d7-f6c5-476f-afc1-28b3e2b8bf01",
   "metadata": {},
   "outputs": [
    {
     "data": {
      "text/plain": [
       "OrderedDict([('APOLLOHOSP.NS', 0.11643),\n",
       "             ('COLPAL.NS', 0.30962),\n",
       "             ('DLF.NS', 0.0),\n",
       "             ('HDFCBANK.NS', 0.16377),\n",
       "             ('ICICIBANK.NS', 0.21836),\n",
       "             ('KPITTECH.NS', 0.01878),\n",
       "             ('NMDC.NS', 0.0),\n",
       "             ('ONGC.NS', 0.0821),\n",
       "             ('POWERGRID.NS', 0.09094),\n",
       "             ('TATAPOWER.NS', 0.0)])"
      ]
     },
     "execution_count": 90,
     "metadata": {},
     "output_type": "execute_result"
    }
   ],
   "source": [
    "# Calculate weights for the minimum volatility portfolio\n",
    "raw_weights_minvol = ef.min_volatility()\n",
    "cleaned_weights_minvol = ef.clean_weights()\n",
    "cleaned_weights_minvol"
   ]
  },
  {
   "cell_type": "code",
   "execution_count": 91,
   "id": "7cea8ad9-d0b7-4bde-ba3f-887c0c9fd89c",
   "metadata": {},
   "outputs": [
    {
     "name": "stdout",
     "output_type": "stream",
     "text": [
      "Expected annual return: 21.4%\n",
      "Annual volatility: 13.3%\n",
      "Sharpe Ratio: 1.45\n"
     ]
    },
    {
     "data": {
      "text/plain": [
       "(0.21368234089871344, 0.1333991210559743, 1.4519011772007426)"
      ]
     },
     "execution_count": 91,
     "metadata": {},
     "output_type": "execute_result"
    }
   ],
   "source": [
    "# Show portfolio performance\n",
    "ef.portfolio_performance(verbose=True)"
   ]
  },
  {
   "cell_type": "markdown",
   "id": "df1d66ef-870f-4a22-8df9-ac788aeed3ce",
   "metadata": {},
   "source": [
    "**Efficient Frontier | Creating for maximum Sharpe ratio portfolio | weights = ef.max_sharpe()**"
   ]
  },
  {
   "cell_type": "code",
   "execution_count": 93,
   "id": "0768ed69-030e-4dd5-a598-687e731732cf",
   "metadata": {},
   "outputs": [],
   "source": [
    "# Define the efficient frontier\n",
    "ef = EfficientFrontier(mu, Sigma)"
   ]
  },
  {
   "cell_type": "code",
   "execution_count": 94,
   "id": "aa7df7bf-219b-4126-b975-5ed1f3dc9b3b",
   "metadata": {},
   "outputs": [
    {
     "name": "stdout",
     "output_type": "stream",
     "text": [
      "OrderedDict([('APOLLOHOSP.NS', 0.0), ('COLPAL.NS', 0.424430054160328), ('DLF.NS', 0.0), ('HDFCBANK.NS', 0.0), ('ICICIBANK.NS', 0.2105169672448814), ('KPITTECH.NS', 0.0798662024926581), ('NMDC.NS', 0.0591555720758487), ('ONGC.NS', 0.0456854708000137), ('POWERGRID.NS', 0.1803457332262701), ('TATAPOWER.NS', 0.0)]) OrderedDict([('APOLLOHOSP.NS', 0.0), ('COLPAL.NS', 0.42443), ('DLF.NS', 0.0), ('HDFCBANK.NS', 0.0), ('ICICIBANK.NS', 0.21052), ('KPITTECH.NS', 0.07987), ('NMDC.NS', 0.05916), ('ONGC.NS', 0.04569), ('POWERGRID.NS', 0.18035), ('TATAPOWER.NS', 0.0)])\n"
     ]
    }
   ],
   "source": [
    "# Calculate weights for the maximum Sharpe ratio portfolio\n",
    "raw_weights_maxsharpe = ef.max_sharpe()\n",
    "cleaned_weights_maxsharpe = ef.clean_weights()\n",
    "print (raw_weights_maxsharpe, cleaned_weights_maxsharpe)"
   ]
  },
  {
   "cell_type": "code",
   "execution_count": 95,
   "id": "a5268361-b3f9-4618-9ba9-c4789abf5181",
   "metadata": {},
   "outputs": [
    {
     "name": "stdout",
     "output_type": "stream",
     "text": [
      "OrderedDict([('APOLLOHOSP.NS', 0.0), ('COLPAL.NS', 0.42443), ('DLF.NS', 0.0), ('HDFCBANK.NS', 0.0), ('ICICIBANK.NS', 0.21052), ('KPITTECH.NS', 0.07987), ('NMDC.NS', 0.05916), ('ONGC.NS', 0.04569), ('POWERGRID.NS', 0.18035), ('TATAPOWER.NS', 0.0)])\n",
      "Expected annual return: 28.0%\n",
      "Annual volatility: 14.7%\n",
      "Sharpe Ratio: 1.77\n"
     ]
    },
    {
     "data": {
      "text/plain": [
       "(0.28044309134672085, 0.14707795244701885, 1.7707826836965175)"
      ]
     },
     "execution_count": 95,
     "metadata": {},
     "output_type": "execute_result"
    }
   ],
   "source": [
    "# Show portfolio performance \n",
    "print(cleaned_weights_maxsharpe)\n",
    "ef.portfolio_performance(verbose=True)"
   ]
  },
  {
   "cell_type": "code",
   "execution_count": null,
   "id": "bf555d8d-9125-4525-ada5-a8fe32d18e4c",
   "metadata": {},
   "outputs": [],
   "source": []
  }
 ],
 "metadata": {
  "kernelspec": {
   "display_name": "Python 3 (ipykernel)",
   "language": "python",
   "name": "python3"
  },
  "language_info": {
   "codemirror_mode": {
    "name": "ipython",
    "version": 3
   },
   "file_extension": ".py",
   "mimetype": "text/x-python",
   "name": "python",
   "nbconvert_exporter": "python",
   "pygments_lexer": "ipython3",
   "version": "3.11.7"
  },
  "widgets": {
   "application/vnd.jupyter.widget-state+json": {
    "state": {},
    "version_major": 2,
    "version_minor": 0
   }
  }
 },
 "nbformat": 4,
 "nbformat_minor": 5
}
