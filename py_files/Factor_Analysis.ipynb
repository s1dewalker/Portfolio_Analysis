{
 "cells": [
  {
   "cell_type": "code",
   "execution_count": 1,
   "id": "7834fa58-dd16-4231-a152-b893affa28e3",
   "metadata": {},
   "outputs": [],
   "source": [
    "import pandas as pd"
   ]
  },
  {
   "cell_type": "markdown",
   "id": "78a93b72-f8c9-426e-ad1f-a6ac363b2817",
   "metadata": {},
   "source": [
    "#### Extracting and Preparing Data"
   ]
  },
  {
   "cell_type": "code",
   "execution_count": 3,
   "id": "0843e918-0359-48a8-a8eb-75c4b61bdebf",
   "metadata": {},
   "outputs": [
    {
     "name": "stdout",
     "output_type": "stream",
     "text": [
      "Requirement already satisfied: yfinance in d:\\users\\sujay\\lib\\site-packages (0.2.48)\n",
      "Requirement already satisfied: pandas>=1.3.0 in d:\\users\\sujay\\lib\\site-packages (from yfinance) (2.1.4)\n",
      "Requirement already satisfied: numpy>=1.16.5 in d:\\users\\sujay\\lib\\site-packages (from yfinance) (1.26.4)\n",
      "Requirement already satisfied: requests>=2.31 in d:\\users\\sujay\\lib\\site-packages (from yfinance) (2.31.0)\n",
      "Requirement already satisfied: multitasking>=0.0.7 in d:\\users\\sujay\\lib\\site-packages (from yfinance) (0.0.11)\n",
      "Requirement already satisfied: lxml>=4.9.1 in d:\\users\\sujay\\lib\\site-packages (from yfinance) (4.9.3)\n",
      "Requirement already satisfied: platformdirs>=2.0.0 in d:\\users\\sujay\\lib\\site-packages (from yfinance) (3.10.0)\n",
      "Requirement already satisfied: pytz>=2022.5 in d:\\users\\sujay\\lib\\site-packages (from yfinance) (2023.3.post1)\n",
      "Requirement already satisfied: frozendict>=2.3.4 in d:\\users\\sujay\\lib\\site-packages (from yfinance) (2.4.2)\n",
      "Requirement already satisfied: peewee>=3.16.2 in d:\\users\\sujay\\lib\\site-packages (from yfinance) (3.17.7)\n",
      "Requirement already satisfied: beautifulsoup4>=4.11.1 in d:\\users\\sujay\\lib\\site-packages (from yfinance) (4.12.2)\n",
      "Requirement already satisfied: html5lib>=1.1 in d:\\users\\sujay\\lib\\site-packages (from yfinance) (1.1)\n",
      "Requirement already satisfied: soupsieve>1.2 in d:\\users\\sujay\\lib\\site-packages (from beautifulsoup4>=4.11.1->yfinance) (2.5)\n",
      "Requirement already satisfied: six>=1.9 in d:\\users\\sujay\\lib\\site-packages (from html5lib>=1.1->yfinance) (1.16.0)\n",
      "Requirement already satisfied: webencodings in d:\\users\\sujay\\lib\\site-packages (from html5lib>=1.1->yfinance) (0.5.1)\n",
      "Requirement already satisfied: python-dateutil>=2.8.2 in d:\\users\\sujay\\lib\\site-packages (from pandas>=1.3.0->yfinance) (2.8.2)\n",
      "Requirement already satisfied: tzdata>=2022.1 in d:\\users\\sujay\\lib\\site-packages (from pandas>=1.3.0->yfinance) (2023.3)\n",
      "Requirement already satisfied: charset-normalizer<4,>=2 in d:\\users\\sujay\\lib\\site-packages (from requests>=2.31->yfinance) (2.0.4)\n",
      "Requirement already satisfied: idna<4,>=2.5 in d:\\users\\sujay\\lib\\site-packages (from requests>=2.31->yfinance) (3.4)\n",
      "Requirement already satisfied: urllib3<3,>=1.21.1 in d:\\users\\sujay\\lib\\site-packages (from requests>=2.31->yfinance) (2.0.7)\n",
      "Requirement already satisfied: certifi>=2017.4.17 in d:\\users\\sujay\\lib\\site-packages (from requests>=2.31->yfinance) (2024.8.30)\n",
      "Note: you may need to restart the kernel to use updated packages.\n"
     ]
    }
   ],
   "source": [
    "pip install yfinance"
   ]
  },
  {
   "cell_type": "code",
   "execution_count": 4,
   "id": "24235b5b-e6ec-46e7-9dcf-91636c9ce9dc",
   "metadata": {},
   "outputs": [],
   "source": [
    "import yfinance as yf"
   ]
  },
  {
   "cell_type": "markdown",
   "id": "cc18c770-c213-4e89-b1c7-5d572b05a672",
   "metadata": {},
   "source": [
    "**Enter dates range:**"
   ]
  },
  {
   "cell_type": "code",
   "execution_count": 6,
   "id": "ef07d9b0-21a5-4430-9ba1-89726c1d5734",
   "metadata": {},
   "outputs": [
    {
     "name": "stdout",
     "output_type": "stream",
     "text": [
      "34\n"
     ]
    }
   ],
   "source": [
    "# Define the start and end dates (yyyy-mm-dd)\n",
    "start_date = pd.to_datetime(\"2022-01-01\")\n",
    "end_date = pd.to_datetime(\"2024-11-06\")\n",
    "\n",
    "# Calculate the difference in months\n",
    "months_diff = (end_date.year - start_date.year) * 12 + end_date.month - start_date.month\n",
    "\n",
    "print(months_diff)"
   ]
  },
  {
   "cell_type": "markdown",
   "id": "b85b00a7-7285-4220-bf2f-9513014f3334",
   "metadata": {},
   "source": [
    "**Enter tickers:**"
   ]
  },
  {
   "cell_type": "code",
   "execution_count": 8,
   "id": "9b201ffe-a3d3-4a3c-ab60-e970fa6e2f4e",
   "metadata": {},
   "outputs": [
    {
     "name": "stderr",
     "output_type": "stream",
     "text": [
      "[*********************100%***********************]  10 of 10 completed"
     ]
    },
    {
     "name": "stdout",
     "output_type": "stream",
     "text": [
      "Ticker                     APOLLOHOSP.NS    COLPAL.NS      DLF.NS  \\\n",
      "Date                                                                \n",
      "2022-01-03 00:00:00+00:00    4990.500000  1463.800049  394.750000   \n",
      "2022-01-04 00:00:00+00:00    4964.600098  1464.800049  394.450012   \n",
      "2022-01-05 00:00:00+00:00    4973.250000  1466.150024  402.049988   \n",
      "2022-01-06 00:00:00+00:00    4964.450195  1456.900024  398.950012   \n",
      "2022-01-07 00:00:00+00:00    5021.850098  1469.900024  400.600006   \n",
      "\n",
      "Ticker                     HDFCBANK.NS  ICICIBANK.NS  KPITTECH.NS     NMDC.NS  \\\n",
      "Date                                                                            \n",
      "2022-01-03 00:00:00+00:00  1519.650024    764.700012   608.150024  103.997322   \n",
      "2022-01-04 00:00:00+00:00  1528.550049    772.849976   608.150024  104.381645   \n",
      "2022-01-05 00:00:00+00:00  1564.849976    788.049988   594.200012  106.533844   \n",
      "2022-01-06 00:00:00+00:00  1539.750000    785.049988   630.450012  106.572273   \n",
      "2022-01-07 00:00:00+00:00  1550.550049    793.250000   711.250000  106.572273   \n",
      "\n",
      "Ticker                        ONGC.NS  POWERGRID.NS  TATAPOWER.NS  \n",
      "Date                                                               \n",
      "2022-01-03 00:00:00+00:00  143.050003    153.750000    223.399994  \n",
      "2022-01-04 00:00:00+00:00  147.800003    157.949997    226.300003  \n",
      "2022-01-05 00:00:00+00:00  150.350006    156.487503    223.500000  \n",
      "2022-01-06 00:00:00+00:00  150.800003    154.462494    228.449997  \n",
      "2022-01-07 00:00:00+00:00  157.050003    153.899994    229.800003  \n"
     ]
    },
    {
     "name": "stderr",
     "output_type": "stream",
     "text": [
      "\n"
     ]
    }
   ],
   "source": [
    "# List of tickers for NSE stocks (append '.NS' to each NSE ticker)\n",
    "tickers = [\"HDFCBANK.NS\", \"ONGC.NS\", \"ICICIBANK.NS\", \"APOLLOHOSP.NS\", \"COLPAL.NS\", \"POWERGRID.NS\", \"TATAPOWER.NS\", \"KPITTECH.NS\", \"DLF.NS\", \"NMDC.NS\"]  # Add more tickers as needed\n",
    "\n",
    "# Download historical data for 1 or 2 years\n",
    "data = yf.download(tickers, start=start_date, end=end_date)\n",
    "\n",
    "# Extract only the closing prices\n",
    "closing_prices = data['Close']\n",
    "\n",
    "# Display the combined DataFrame\n",
    "print(closing_prices.head())\n",
    "\n",
    "# Optionally, save to a CSV file if you want\n",
    "closing_prices.to_csv(\"nse_closing_prices.csv\")"
   ]
  },
  {
   "cell_type": "code",
   "execution_count": 9,
   "id": "b8aef829-d6c8-4333-b7ee-476dba28064f",
   "metadata": {},
   "outputs": [
    {
     "data": {
      "text/html": [
       "<div>\n",
       "<style scoped>\n",
       "    .dataframe tbody tr th:only-of-type {\n",
       "        vertical-align: middle;\n",
       "    }\n",
       "\n",
       "    .dataframe tbody tr th {\n",
       "        vertical-align: top;\n",
       "    }\n",
       "\n",
       "    .dataframe thead th {\n",
       "        text-align: right;\n",
       "    }\n",
       "</style>\n",
       "<table border=\"1\" class=\"dataframe\">\n",
       "  <thead>\n",
       "    <tr style=\"text-align: right;\">\n",
       "      <th></th>\n",
       "      <th>Date</th>\n",
       "      <th>APOLLOHOSP.NS</th>\n",
       "      <th>COLPAL.NS</th>\n",
       "      <th>DLF.NS</th>\n",
       "      <th>HDFCBANK.NS</th>\n",
       "      <th>ICICIBANK.NS</th>\n",
       "      <th>KPITTECH.NS</th>\n",
       "      <th>NMDC.NS</th>\n",
       "      <th>ONGC.NS</th>\n",
       "      <th>POWERGRID.NS</th>\n",
       "      <th>TATAPOWER.NS</th>\n",
       "    </tr>\n",
       "  </thead>\n",
       "  <tbody>\n",
       "    <tr>\n",
       "      <th>0</th>\n",
       "      <td>2022-01-03 00:00:00+00:00</td>\n",
       "      <td>4990.500000</td>\n",
       "      <td>1463.800049</td>\n",
       "      <td>394.750000</td>\n",
       "      <td>1519.650024</td>\n",
       "      <td>764.700012</td>\n",
       "      <td>608.150024</td>\n",
       "      <td>103.997322</td>\n",
       "      <td>143.050003</td>\n",
       "      <td>153.750000</td>\n",
       "      <td>223.399994</td>\n",
       "    </tr>\n",
       "    <tr>\n",
       "      <th>1</th>\n",
       "      <td>2022-01-04 00:00:00+00:00</td>\n",
       "      <td>4964.600098</td>\n",
       "      <td>1464.800049</td>\n",
       "      <td>394.450012</td>\n",
       "      <td>1528.550049</td>\n",
       "      <td>772.849976</td>\n",
       "      <td>608.150024</td>\n",
       "      <td>104.381645</td>\n",
       "      <td>147.800003</td>\n",
       "      <td>157.949997</td>\n",
       "      <td>226.300003</td>\n",
       "    </tr>\n",
       "    <tr>\n",
       "      <th>2</th>\n",
       "      <td>2022-01-05 00:00:00+00:00</td>\n",
       "      <td>4973.250000</td>\n",
       "      <td>1466.150024</td>\n",
       "      <td>402.049988</td>\n",
       "      <td>1564.849976</td>\n",
       "      <td>788.049988</td>\n",
       "      <td>594.200012</td>\n",
       "      <td>106.533844</td>\n",
       "      <td>150.350006</td>\n",
       "      <td>156.487503</td>\n",
       "      <td>223.500000</td>\n",
       "    </tr>\n",
       "    <tr>\n",
       "      <th>3</th>\n",
       "      <td>2022-01-06 00:00:00+00:00</td>\n",
       "      <td>4964.450195</td>\n",
       "      <td>1456.900024</td>\n",
       "      <td>398.950012</td>\n",
       "      <td>1539.750000</td>\n",
       "      <td>785.049988</td>\n",
       "      <td>630.450012</td>\n",
       "      <td>106.572273</td>\n",
       "      <td>150.800003</td>\n",
       "      <td>154.462494</td>\n",
       "      <td>228.449997</td>\n",
       "    </tr>\n",
       "    <tr>\n",
       "      <th>4</th>\n",
       "      <td>2022-01-07 00:00:00+00:00</td>\n",
       "      <td>5021.850098</td>\n",
       "      <td>1469.900024</td>\n",
       "      <td>400.600006</td>\n",
       "      <td>1550.550049</td>\n",
       "      <td>793.250000</td>\n",
       "      <td>711.250000</td>\n",
       "      <td>106.572273</td>\n",
       "      <td>157.050003</td>\n",
       "      <td>153.899994</td>\n",
       "      <td>229.800003</td>\n",
       "    </tr>\n",
       "  </tbody>\n",
       "</table>\n",
       "</div>"
      ],
      "text/plain": [
       "                        Date  APOLLOHOSP.NS    COLPAL.NS      DLF.NS  \\\n",
       "0  2022-01-03 00:00:00+00:00    4990.500000  1463.800049  394.750000   \n",
       "1  2022-01-04 00:00:00+00:00    4964.600098  1464.800049  394.450012   \n",
       "2  2022-01-05 00:00:00+00:00    4973.250000  1466.150024  402.049988   \n",
       "3  2022-01-06 00:00:00+00:00    4964.450195  1456.900024  398.950012   \n",
       "4  2022-01-07 00:00:00+00:00    5021.850098  1469.900024  400.600006   \n",
       "\n",
       "   HDFCBANK.NS  ICICIBANK.NS  KPITTECH.NS     NMDC.NS     ONGC.NS  \\\n",
       "0  1519.650024    764.700012   608.150024  103.997322  143.050003   \n",
       "1  1528.550049    772.849976   608.150024  104.381645  147.800003   \n",
       "2  1564.849976    788.049988   594.200012  106.533844  150.350006   \n",
       "3  1539.750000    785.049988   630.450012  106.572273  150.800003   \n",
       "4  1550.550049    793.250000   711.250000  106.572273  157.050003   \n",
       "\n",
       "   POWERGRID.NS  TATAPOWER.NS  \n",
       "0    153.750000    223.399994  \n",
       "1    157.949997    226.300003  \n",
       "2    156.487503    223.500000  \n",
       "3    154.462494    228.449997  \n",
       "4    153.899994    229.800003  "
      ]
     },
     "execution_count": 9,
     "metadata": {},
     "output_type": "execute_result"
    }
   ],
   "source": [
    "df = pd.read_csv(r\"nse_closing_prices.csv\")\n",
    "df.head()"
   ]
  },
  {
   "cell_type": "code",
   "execution_count": 10,
   "id": "d1a5f0d2-99e1-414d-8458-6c8f76e6a9d0",
   "metadata": {},
   "outputs": [],
   "source": [
    "df.set_index('Date', inplace =True)"
   ]
  },
  {
   "cell_type": "code",
   "execution_count": 11,
   "id": "0203e59d-f785-4818-8c95-2d5d19c43141",
   "metadata": {},
   "outputs": [
    {
     "data": {
      "text/plain": [
       "(702, 10)"
      ]
     },
     "execution_count": 11,
     "metadata": {},
     "output_type": "execute_result"
    }
   ],
   "source": [
    "df.shape"
   ]
  },
  {
   "cell_type": "markdown",
   "id": "94da3c63-3aed-4dea-9f1a-d76fb627faae",
   "metadata": {},
   "source": [
    "#### Calculating daily returns"
   ]
  },
  {
   "cell_type": "code",
   "execution_count": 13,
   "id": "3f55a84f-45cb-4c8c-a69c-e1c3809f05f5",
   "metadata": {},
   "outputs": [],
   "source": [
    "import numpy as np"
   ]
  },
  {
   "cell_type": "code",
   "execution_count": 14,
   "id": "2a5b94cd-52f6-4d71-8b30-55270b7e10c0",
   "metadata": {},
   "outputs": [],
   "source": [
    "returns = df.pct_change()"
   ]
  },
  {
   "cell_type": "code",
   "execution_count": 15,
   "id": "7aa503f4-e8c2-4f4f-8b59-5b056dd368b4",
   "metadata": {},
   "outputs": [],
   "source": [
    "returns.dropna(inplace = True)"
   ]
  },
  {
   "cell_type": "code",
   "execution_count": 16,
   "id": "77343d37-0d96-41e6-9dfc-272f1b4801ab",
   "metadata": {},
   "outputs": [
    {
     "data": {
      "text/html": [
       "<div>\n",
       "<style scoped>\n",
       "    .dataframe tbody tr th:only-of-type {\n",
       "        vertical-align: middle;\n",
       "    }\n",
       "\n",
       "    .dataframe tbody tr th {\n",
       "        vertical-align: top;\n",
       "    }\n",
       "\n",
       "    .dataframe thead th {\n",
       "        text-align: right;\n",
       "    }\n",
       "</style>\n",
       "<table border=\"1\" class=\"dataframe\">\n",
       "  <thead>\n",
       "    <tr style=\"text-align: right;\">\n",
       "      <th></th>\n",
       "      <th>APOLLOHOSP.NS</th>\n",
       "      <th>COLPAL.NS</th>\n",
       "      <th>DLF.NS</th>\n",
       "      <th>HDFCBANK.NS</th>\n",
       "      <th>ICICIBANK.NS</th>\n",
       "      <th>KPITTECH.NS</th>\n",
       "      <th>NMDC.NS</th>\n",
       "      <th>ONGC.NS</th>\n",
       "      <th>POWERGRID.NS</th>\n",
       "      <th>TATAPOWER.NS</th>\n",
       "    </tr>\n",
       "    <tr>\n",
       "      <th>Date</th>\n",
       "      <th></th>\n",
       "      <th></th>\n",
       "      <th></th>\n",
       "      <th></th>\n",
       "      <th></th>\n",
       "      <th></th>\n",
       "      <th></th>\n",
       "      <th></th>\n",
       "      <th></th>\n",
       "      <th></th>\n",
       "    </tr>\n",
       "  </thead>\n",
       "  <tbody>\n",
       "    <tr>\n",
       "      <th>2022-01-04 00:00:00+00:00</th>\n",
       "      <td>-0.005190</td>\n",
       "      <td>0.000683</td>\n",
       "      <td>-0.000760</td>\n",
       "      <td>0.005857</td>\n",
       "      <td>0.010658</td>\n",
       "      <td>0.000000</td>\n",
       "      <td>0.003696</td>\n",
       "      <td>0.033205</td>\n",
       "      <td>0.027317</td>\n",
       "      <td>0.012981</td>\n",
       "    </tr>\n",
       "    <tr>\n",
       "      <th>2022-01-05 00:00:00+00:00</th>\n",
       "      <td>0.001742</td>\n",
       "      <td>0.000922</td>\n",
       "      <td>0.019267</td>\n",
       "      <td>0.023748</td>\n",
       "      <td>0.019667</td>\n",
       "      <td>-0.022938</td>\n",
       "      <td>0.020619</td>\n",
       "      <td>0.017253</td>\n",
       "      <td>-0.009259</td>\n",
       "      <td>-0.012373</td>\n",
       "    </tr>\n",
       "    <tr>\n",
       "      <th>2022-01-06 00:00:00+00:00</th>\n",
       "      <td>-0.001769</td>\n",
       "      <td>-0.006309</td>\n",
       "      <td>-0.007710</td>\n",
       "      <td>-0.016040</td>\n",
       "      <td>-0.003807</td>\n",
       "      <td>0.061006</td>\n",
       "      <td>0.000361</td>\n",
       "      <td>0.002993</td>\n",
       "      <td>-0.012940</td>\n",
       "      <td>0.022148</td>\n",
       "    </tr>\n",
       "    <tr>\n",
       "      <th>2022-01-07 00:00:00+00:00</th>\n",
       "      <td>0.011562</td>\n",
       "      <td>0.008923</td>\n",
       "      <td>0.004136</td>\n",
       "      <td>0.007014</td>\n",
       "      <td>0.010445</td>\n",
       "      <td>0.128162</td>\n",
       "      <td>0.000000</td>\n",
       "      <td>0.041446</td>\n",
       "      <td>-0.003642</td>\n",
       "      <td>0.005909</td>\n",
       "    </tr>\n",
       "    <tr>\n",
       "      <th>2022-01-10 00:00:00+00:00</th>\n",
       "      <td>0.008642</td>\n",
       "      <td>-0.003198</td>\n",
       "      <td>0.018347</td>\n",
       "      <td>0.005546</td>\n",
       "      <td>0.022061</td>\n",
       "      <td>0.048225</td>\n",
       "      <td>0.009376</td>\n",
       "      <td>0.008278</td>\n",
       "      <td>-0.005848</td>\n",
       "      <td>0.008486</td>\n",
       "    </tr>\n",
       "  </tbody>\n",
       "</table>\n",
       "</div>"
      ],
      "text/plain": [
       "                           APOLLOHOSP.NS  COLPAL.NS    DLF.NS  HDFCBANK.NS  \\\n",
       "Date                                                                         \n",
       "2022-01-04 00:00:00+00:00      -0.005190   0.000683 -0.000760     0.005857   \n",
       "2022-01-05 00:00:00+00:00       0.001742   0.000922  0.019267     0.023748   \n",
       "2022-01-06 00:00:00+00:00      -0.001769  -0.006309 -0.007710    -0.016040   \n",
       "2022-01-07 00:00:00+00:00       0.011562   0.008923  0.004136     0.007014   \n",
       "2022-01-10 00:00:00+00:00       0.008642  -0.003198  0.018347     0.005546   \n",
       "\n",
       "                           ICICIBANK.NS  KPITTECH.NS   NMDC.NS   ONGC.NS  \\\n",
       "Date                                                                       \n",
       "2022-01-04 00:00:00+00:00      0.010658     0.000000  0.003696  0.033205   \n",
       "2022-01-05 00:00:00+00:00      0.019667    -0.022938  0.020619  0.017253   \n",
       "2022-01-06 00:00:00+00:00     -0.003807     0.061006  0.000361  0.002993   \n",
       "2022-01-07 00:00:00+00:00      0.010445     0.128162  0.000000  0.041446   \n",
       "2022-01-10 00:00:00+00:00      0.022061     0.048225  0.009376  0.008278   \n",
       "\n",
       "                           POWERGRID.NS  TATAPOWER.NS  \n",
       "Date                                                   \n",
       "2022-01-04 00:00:00+00:00      0.027317      0.012981  \n",
       "2022-01-05 00:00:00+00:00     -0.009259     -0.012373  \n",
       "2022-01-06 00:00:00+00:00     -0.012940      0.022148  \n",
       "2022-01-07 00:00:00+00:00     -0.003642      0.005909  \n",
       "2022-01-10 00:00:00+00:00     -0.005848      0.008486  "
      ]
     },
     "execution_count": 16,
     "metadata": {},
     "output_type": "execute_result"
    }
   ],
   "source": [
    "returns.head()"
   ]
  },
  {
   "cell_type": "markdown",
   "id": "7b03525b-e169-4778-83d0-7d55204da818",
   "metadata": {},
   "source": [
    "__Equal weighted portfolio__"
   ]
  },
  {
   "cell_type": "code",
   "execution_count": 18,
   "id": "c8bf1e23-02ee-4df6-96f5-50ce826d0599",
   "metadata": {},
   "outputs": [],
   "source": [
    "weights = [0.1,0.1,0.1,0.1,0.1,0.1,0.1,0.1,0.1,0.1]"
   ]
  },
  {
   "cell_type": "code",
   "execution_count": 19,
   "id": "32d923cf-7deb-4dc6-840b-dde0dda0174b",
   "metadata": {},
   "outputs": [],
   "source": [
    "# Create portfolio returns column\n",
    "returns['Portfolio']= returns.dot(weights)"
   ]
  },
  {
   "cell_type": "code",
   "execution_count": 20,
   "id": "efffbd71-55f9-46a9-8b46-4d08f126e036",
   "metadata": {},
   "outputs": [
    {
     "data": {
      "text/html": [
       "<div>\n",
       "<style scoped>\n",
       "    .dataframe tbody tr th:only-of-type {\n",
       "        vertical-align: middle;\n",
       "    }\n",
       "\n",
       "    .dataframe tbody tr th {\n",
       "        vertical-align: top;\n",
       "    }\n",
       "\n",
       "    .dataframe thead th {\n",
       "        text-align: right;\n",
       "    }\n",
       "</style>\n",
       "<table border=\"1\" class=\"dataframe\">\n",
       "  <thead>\n",
       "    <tr style=\"text-align: right;\">\n",
       "      <th></th>\n",
       "      <th>APOLLOHOSP.NS</th>\n",
       "      <th>COLPAL.NS</th>\n",
       "      <th>DLF.NS</th>\n",
       "      <th>HDFCBANK.NS</th>\n",
       "      <th>ICICIBANK.NS</th>\n",
       "      <th>KPITTECH.NS</th>\n",
       "      <th>NMDC.NS</th>\n",
       "      <th>ONGC.NS</th>\n",
       "      <th>POWERGRID.NS</th>\n",
       "      <th>TATAPOWER.NS</th>\n",
       "      <th>Portfolio</th>\n",
       "    </tr>\n",
       "    <tr>\n",
       "      <th>Date</th>\n",
       "      <th></th>\n",
       "      <th></th>\n",
       "      <th></th>\n",
       "      <th></th>\n",
       "      <th></th>\n",
       "      <th></th>\n",
       "      <th></th>\n",
       "      <th></th>\n",
       "      <th></th>\n",
       "      <th></th>\n",
       "      <th></th>\n",
       "    </tr>\n",
       "  </thead>\n",
       "  <tbody>\n",
       "    <tr>\n",
       "      <th>2022-01-04 00:00:00+00:00</th>\n",
       "      <td>-0.005190</td>\n",
       "      <td>0.000683</td>\n",
       "      <td>-0.000760</td>\n",
       "      <td>0.005857</td>\n",
       "      <td>0.010658</td>\n",
       "      <td>0.000000</td>\n",
       "      <td>0.003696</td>\n",
       "      <td>0.033205</td>\n",
       "      <td>0.027317</td>\n",
       "      <td>0.012981</td>\n",
       "      <td>0.008845</td>\n",
       "    </tr>\n",
       "    <tr>\n",
       "      <th>2022-01-05 00:00:00+00:00</th>\n",
       "      <td>0.001742</td>\n",
       "      <td>0.000922</td>\n",
       "      <td>0.019267</td>\n",
       "      <td>0.023748</td>\n",
       "      <td>0.019667</td>\n",
       "      <td>-0.022938</td>\n",
       "      <td>0.020619</td>\n",
       "      <td>0.017253</td>\n",
       "      <td>-0.009259</td>\n",
       "      <td>-0.012373</td>\n",
       "      <td>0.005865</td>\n",
       "    </tr>\n",
       "    <tr>\n",
       "      <th>2022-01-06 00:00:00+00:00</th>\n",
       "      <td>-0.001769</td>\n",
       "      <td>-0.006309</td>\n",
       "      <td>-0.007710</td>\n",
       "      <td>-0.016040</td>\n",
       "      <td>-0.003807</td>\n",
       "      <td>0.061006</td>\n",
       "      <td>0.000361</td>\n",
       "      <td>0.002993</td>\n",
       "      <td>-0.012940</td>\n",
       "      <td>0.022148</td>\n",
       "      <td>0.003793</td>\n",
       "    </tr>\n",
       "    <tr>\n",
       "      <th>2022-01-07 00:00:00+00:00</th>\n",
       "      <td>0.011562</td>\n",
       "      <td>0.008923</td>\n",
       "      <td>0.004136</td>\n",
       "      <td>0.007014</td>\n",
       "      <td>0.010445</td>\n",
       "      <td>0.128162</td>\n",
       "      <td>0.000000</td>\n",
       "      <td>0.041446</td>\n",
       "      <td>-0.003642</td>\n",
       "      <td>0.005909</td>\n",
       "      <td>0.021396</td>\n",
       "    </tr>\n",
       "    <tr>\n",
       "      <th>2022-01-10 00:00:00+00:00</th>\n",
       "      <td>0.008642</td>\n",
       "      <td>-0.003198</td>\n",
       "      <td>0.018347</td>\n",
       "      <td>0.005546</td>\n",
       "      <td>0.022061</td>\n",
       "      <td>0.048225</td>\n",
       "      <td>0.009376</td>\n",
       "      <td>0.008278</td>\n",
       "      <td>-0.005848</td>\n",
       "      <td>0.008486</td>\n",
       "      <td>0.011992</td>\n",
       "    </tr>\n",
       "  </tbody>\n",
       "</table>\n",
       "</div>"
      ],
      "text/plain": [
       "                           APOLLOHOSP.NS  COLPAL.NS    DLF.NS  HDFCBANK.NS  \\\n",
       "Date                                                                         \n",
       "2022-01-04 00:00:00+00:00      -0.005190   0.000683 -0.000760     0.005857   \n",
       "2022-01-05 00:00:00+00:00       0.001742   0.000922  0.019267     0.023748   \n",
       "2022-01-06 00:00:00+00:00      -0.001769  -0.006309 -0.007710    -0.016040   \n",
       "2022-01-07 00:00:00+00:00       0.011562   0.008923  0.004136     0.007014   \n",
       "2022-01-10 00:00:00+00:00       0.008642  -0.003198  0.018347     0.005546   \n",
       "\n",
       "                           ICICIBANK.NS  KPITTECH.NS   NMDC.NS   ONGC.NS  \\\n",
       "Date                                                                       \n",
       "2022-01-04 00:00:00+00:00      0.010658     0.000000  0.003696  0.033205   \n",
       "2022-01-05 00:00:00+00:00      0.019667    -0.022938  0.020619  0.017253   \n",
       "2022-01-06 00:00:00+00:00     -0.003807     0.061006  0.000361  0.002993   \n",
       "2022-01-07 00:00:00+00:00      0.010445     0.128162  0.000000  0.041446   \n",
       "2022-01-10 00:00:00+00:00      0.022061     0.048225  0.009376  0.008278   \n",
       "\n",
       "                           POWERGRID.NS  TATAPOWER.NS  Portfolio  \n",
       "Date                                                              \n",
       "2022-01-04 00:00:00+00:00      0.027317      0.012981   0.008845  \n",
       "2022-01-05 00:00:00+00:00     -0.009259     -0.012373   0.005865  \n",
       "2022-01-06 00:00:00+00:00     -0.012940      0.022148   0.003793  \n",
       "2022-01-07 00:00:00+00:00     -0.003642      0.005909   0.021396  \n",
       "2022-01-10 00:00:00+00:00     -0.005848      0.008486   0.011992  "
      ]
     },
     "execution_count": 20,
     "metadata": {},
     "output_type": "execute_result"
    }
   ],
   "source": [
    "returns.head()"
   ]
  },
  {
   "cell_type": "code",
   "execution_count": 21,
   "id": "2a68d4d8-d912-48df-82fe-8cc03213b711",
   "metadata": {},
   "outputs": [
    {
     "data": {
      "text/html": [
       "<div>\n",
       "<style scoped>\n",
       "    .dataframe tbody tr th:only-of-type {\n",
       "        vertical-align: middle;\n",
       "    }\n",
       "\n",
       "    .dataframe tbody tr th {\n",
       "        vertical-align: top;\n",
       "    }\n",
       "\n",
       "    .dataframe thead th {\n",
       "        text-align: right;\n",
       "    }\n",
       "</style>\n",
       "<table border=\"1\" class=\"dataframe\">\n",
       "  <thead>\n",
       "    <tr style=\"text-align: right;\">\n",
       "      <th></th>\n",
       "      <th>count</th>\n",
       "      <th>mean</th>\n",
       "      <th>std</th>\n",
       "      <th>min</th>\n",
       "      <th>25%</th>\n",
       "      <th>50%</th>\n",
       "      <th>75%</th>\n",
       "      <th>max</th>\n",
       "    </tr>\n",
       "  </thead>\n",
       "  <tbody>\n",
       "    <tr>\n",
       "      <th>Portfolio</th>\n",
       "      <td>701.0</td>\n",
       "      <td>0.001046</td>\n",
       "      <td>0.010808</td>\n",
       "      <td>-0.078438</td>\n",
       "      <td>-0.004073</td>\n",
       "      <td>0.001464</td>\n",
       "      <td>0.007576</td>\n",
       "      <td>0.04307</td>\n",
       "    </tr>\n",
       "  </tbody>\n",
       "</table>\n",
       "</div>"
      ],
      "text/plain": [
       "           count      mean       std       min       25%       50%       75%  \\\n",
       "Portfolio  701.0  0.001046  0.010808 -0.078438 -0.004073  0.001464  0.007576   \n",
       "\n",
       "               max  \n",
       "Portfolio  0.04307  "
      ]
     },
     "execution_count": 21,
     "metadata": {},
     "output_type": "execute_result"
    }
   ],
   "source": [
    "returns['Portfolio'].describe().to_frame().T"
   ]
  },
  {
   "cell_type": "code",
   "execution_count": null,
   "id": "278b74fc-312c-4f8a-9d2e-61abc3fec62b",
   "metadata": {},
   "outputs": [],
   "source": []
  },
  {
   "cell_type": "code",
   "execution_count": 22,
   "id": "c23af60d-8f01-451b-8314-1cab144dd034",
   "metadata": {},
   "outputs": [
    {
     "data": {
      "text/html": [
       "<div>\n",
       "<style scoped>\n",
       "    .dataframe tbody tr th:only-of-type {\n",
       "        vertical-align: middle;\n",
       "    }\n",
       "\n",
       "    .dataframe tbody tr th {\n",
       "        vertical-align: top;\n",
       "    }\n",
       "\n",
       "    .dataframe thead th {\n",
       "        text-align: right;\n",
       "    }\n",
       "</style>\n",
       "<table border=\"1\" class=\"dataframe\">\n",
       "  <thead>\n",
       "    <tr style=\"text-align: right;\">\n",
       "      <th></th>\n",
       "      <th>APOLLOHOSP.NS</th>\n",
       "      <th>COLPAL.NS</th>\n",
       "      <th>DLF.NS</th>\n",
       "      <th>HDFCBANK.NS</th>\n",
       "      <th>ICICIBANK.NS</th>\n",
       "      <th>KPITTECH.NS</th>\n",
       "      <th>NMDC.NS</th>\n",
       "      <th>ONGC.NS</th>\n",
       "      <th>POWERGRID.NS</th>\n",
       "      <th>TATAPOWER.NS</th>\n",
       "      <th>Portfolio</th>\n",
       "    </tr>\n",
       "    <tr>\n",
       "      <th>Date</th>\n",
       "      <th></th>\n",
       "      <th></th>\n",
       "      <th></th>\n",
       "      <th></th>\n",
       "      <th></th>\n",
       "      <th></th>\n",
       "      <th></th>\n",
       "      <th></th>\n",
       "      <th></th>\n",
       "      <th></th>\n",
       "      <th></th>\n",
       "    </tr>\n",
       "  </thead>\n",
       "  <tbody>\n",
       "    <tr>\n",
       "      <th>2024-10-30 00:00:00+00:00</th>\n",
       "      <td>1.399158</td>\n",
       "      <td>2.111730</td>\n",
       "      <td>2.093477</td>\n",
       "      <td>1.141447</td>\n",
       "      <td>1.715902</td>\n",
       "      <td>2.277892</td>\n",
       "      <td>2.156402</td>\n",
       "      <td>1.829081</td>\n",
       "      <td>2.071220</td>\n",
       "      <td>1.911370</td>\n",
       "      <td>1.994851</td>\n",
       "    </tr>\n",
       "    <tr>\n",
       "      <th>2024-10-31 00:00:00+00:00</th>\n",
       "      <td>1.407214</td>\n",
       "      <td>2.092157</td>\n",
       "      <td>2.076884</td>\n",
       "      <td>1.142171</td>\n",
       "      <td>1.689878</td>\n",
       "      <td>2.290964</td>\n",
       "      <td>2.133420</td>\n",
       "      <td>1.860538</td>\n",
       "      <td>2.086504</td>\n",
       "      <td>1.969785</td>\n",
       "      <td>1.999689</td>\n",
       "    </tr>\n",
       "    <tr>\n",
       "      <th>2024-11-01 00:00:00+00:00</th>\n",
       "      <td>1.409067</td>\n",
       "      <td>2.094548</td>\n",
       "      <td>2.086764</td>\n",
       "      <td>1.143224</td>\n",
       "      <td>1.689290</td>\n",
       "      <td>2.341939</td>\n",
       "      <td>2.142747</td>\n",
       "      <td>1.899685</td>\n",
       "      <td>2.094634</td>\n",
       "      <td>1.993957</td>\n",
       "      <td>2.014011</td>\n",
       "    </tr>\n",
       "    <tr>\n",
       "      <th>2024-11-04 00:00:00+00:00</th>\n",
       "      <td>1.394329</td>\n",
       "      <td>2.038940</td>\n",
       "      <td>2.001013</td>\n",
       "      <td>1.127957</td>\n",
       "      <td>1.670197</td>\n",
       "      <td>2.307983</td>\n",
       "      <td>2.177941</td>\n",
       "      <td>1.854596</td>\n",
       "      <td>2.051707</td>\n",
       "      <td>1.920546</td>\n",
       "      <td>1.977380</td>\n",
       "    </tr>\n",
       "    <tr>\n",
       "      <th>2024-11-05 00:00:00+00:00</th>\n",
       "      <td>1.395912</td>\n",
       "      <td>2.036924</td>\n",
       "      <td>2.024192</td>\n",
       "      <td>1.156747</td>\n",
       "      <td>1.695698</td>\n",
       "      <td>2.285620</td>\n",
       "      <td>2.257077</td>\n",
       "      <td>1.869276</td>\n",
       "      <td>2.059187</td>\n",
       "      <td>1.943151</td>\n",
       "      <td>1.997648</td>\n",
       "    </tr>\n",
       "  </tbody>\n",
       "</table>\n",
       "</div>"
      ],
      "text/plain": [
       "                           APOLLOHOSP.NS  COLPAL.NS    DLF.NS  HDFCBANK.NS  \\\n",
       "Date                                                                         \n",
       "2024-10-30 00:00:00+00:00       1.399158   2.111730  2.093477     1.141447   \n",
       "2024-10-31 00:00:00+00:00       1.407214   2.092157  2.076884     1.142171   \n",
       "2024-11-01 00:00:00+00:00       1.409067   2.094548  2.086764     1.143224   \n",
       "2024-11-04 00:00:00+00:00       1.394329   2.038940  2.001013     1.127957   \n",
       "2024-11-05 00:00:00+00:00       1.395912   2.036924  2.024192     1.156747   \n",
       "\n",
       "                           ICICIBANK.NS  KPITTECH.NS   NMDC.NS   ONGC.NS  \\\n",
       "Date                                                                       \n",
       "2024-10-30 00:00:00+00:00      1.715902     2.277892  2.156402  1.829081   \n",
       "2024-10-31 00:00:00+00:00      1.689878     2.290964  2.133420  1.860538   \n",
       "2024-11-01 00:00:00+00:00      1.689290     2.341939  2.142747  1.899685   \n",
       "2024-11-04 00:00:00+00:00      1.670197     2.307983  2.177941  1.854596   \n",
       "2024-11-05 00:00:00+00:00      1.695698     2.285620  2.257077  1.869276   \n",
       "\n",
       "                           POWERGRID.NS  TATAPOWER.NS  Portfolio  \n",
       "Date                                                              \n",
       "2024-10-30 00:00:00+00:00      2.071220      1.911370   1.994851  \n",
       "2024-10-31 00:00:00+00:00      2.086504      1.969785   1.999689  \n",
       "2024-11-01 00:00:00+00:00      2.094634      1.993957   2.014011  \n",
       "2024-11-04 00:00:00+00:00      2.051707      1.920546   1.977380  \n",
       "2024-11-05 00:00:00+00:00      2.059187      1.943151   1.997648  "
      ]
     },
     "execution_count": 22,
     "metadata": {},
     "output_type": "execute_result"
    }
   ],
   "source": [
    "# Calculate cumulative returns (growth factor)\n",
    "daily_cum_ret=(1+returns).cumprod()\n",
    "daily_cum_ret.tail()"
   ]
  },
  {
   "cell_type": "markdown",
   "id": "43ea4d81-2c1c-4b7e-a989-0106c5cef621",
   "metadata": {},
   "source": [
    "Assuming risk free rate to be 6% for the duration"
   ]
  },
  {
   "cell_type": "code",
   "execution_count": 24,
   "id": "4b6e5505-f982-4d5c-867a-e20b5384a110",
   "metadata": {},
   "outputs": [],
   "source": [
    "daily_cum_ret['RF'] = 0.06"
   ]
  },
  {
   "cell_type": "code",
   "execution_count": 25,
   "id": "e9881328-4234-4aa1-9c03-0bb874212ca0",
   "metadata": {},
   "outputs": [
    {
     "data": {
      "text/html": [
       "<div>\n",
       "<style scoped>\n",
       "    .dataframe tbody tr th:only-of-type {\n",
       "        vertical-align: middle;\n",
       "    }\n",
       "\n",
       "    .dataframe tbody tr th {\n",
       "        vertical-align: top;\n",
       "    }\n",
       "\n",
       "    .dataframe thead th {\n",
       "        text-align: right;\n",
       "    }\n",
       "</style>\n",
       "<table border=\"1\" class=\"dataframe\">\n",
       "  <thead>\n",
       "    <tr style=\"text-align: right;\">\n",
       "      <th></th>\n",
       "      <th>APOLLOHOSP.NS</th>\n",
       "      <th>COLPAL.NS</th>\n",
       "      <th>DLF.NS</th>\n",
       "      <th>HDFCBANK.NS</th>\n",
       "      <th>ICICIBANK.NS</th>\n",
       "      <th>KPITTECH.NS</th>\n",
       "      <th>NMDC.NS</th>\n",
       "      <th>ONGC.NS</th>\n",
       "      <th>POWERGRID.NS</th>\n",
       "      <th>TATAPOWER.NS</th>\n",
       "      <th>Portfolio</th>\n",
       "      <th>RF</th>\n",
       "    </tr>\n",
       "    <tr>\n",
       "      <th>Date</th>\n",
       "      <th></th>\n",
       "      <th></th>\n",
       "      <th></th>\n",
       "      <th></th>\n",
       "      <th></th>\n",
       "      <th></th>\n",
       "      <th></th>\n",
       "      <th></th>\n",
       "      <th></th>\n",
       "      <th></th>\n",
       "      <th></th>\n",
       "      <th></th>\n",
       "    </tr>\n",
       "  </thead>\n",
       "  <tbody>\n",
       "    <tr>\n",
       "      <th>2024-10-30 00:00:00+00:00</th>\n",
       "      <td>1.399158</td>\n",
       "      <td>2.111730</td>\n",
       "      <td>2.093477</td>\n",
       "      <td>1.141447</td>\n",
       "      <td>1.715902</td>\n",
       "      <td>2.277892</td>\n",
       "      <td>2.156402</td>\n",
       "      <td>1.829081</td>\n",
       "      <td>2.071220</td>\n",
       "      <td>1.911370</td>\n",
       "      <td>1.994851</td>\n",
       "      <td>0.06</td>\n",
       "    </tr>\n",
       "    <tr>\n",
       "      <th>2024-10-31 00:00:00+00:00</th>\n",
       "      <td>1.407214</td>\n",
       "      <td>2.092157</td>\n",
       "      <td>2.076884</td>\n",
       "      <td>1.142171</td>\n",
       "      <td>1.689878</td>\n",
       "      <td>2.290964</td>\n",
       "      <td>2.133420</td>\n",
       "      <td>1.860538</td>\n",
       "      <td>2.086504</td>\n",
       "      <td>1.969785</td>\n",
       "      <td>1.999689</td>\n",
       "      <td>0.06</td>\n",
       "    </tr>\n",
       "    <tr>\n",
       "      <th>2024-11-01 00:00:00+00:00</th>\n",
       "      <td>1.409067</td>\n",
       "      <td>2.094548</td>\n",
       "      <td>2.086764</td>\n",
       "      <td>1.143224</td>\n",
       "      <td>1.689290</td>\n",
       "      <td>2.341939</td>\n",
       "      <td>2.142747</td>\n",
       "      <td>1.899685</td>\n",
       "      <td>2.094634</td>\n",
       "      <td>1.993957</td>\n",
       "      <td>2.014011</td>\n",
       "      <td>0.06</td>\n",
       "    </tr>\n",
       "    <tr>\n",
       "      <th>2024-11-04 00:00:00+00:00</th>\n",
       "      <td>1.394329</td>\n",
       "      <td>2.038940</td>\n",
       "      <td>2.001013</td>\n",
       "      <td>1.127957</td>\n",
       "      <td>1.670197</td>\n",
       "      <td>2.307983</td>\n",
       "      <td>2.177941</td>\n",
       "      <td>1.854596</td>\n",
       "      <td>2.051707</td>\n",
       "      <td>1.920546</td>\n",
       "      <td>1.977380</td>\n",
       "      <td>0.06</td>\n",
       "    </tr>\n",
       "    <tr>\n",
       "      <th>2024-11-05 00:00:00+00:00</th>\n",
       "      <td>1.395912</td>\n",
       "      <td>2.036924</td>\n",
       "      <td>2.024192</td>\n",
       "      <td>1.156747</td>\n",
       "      <td>1.695698</td>\n",
       "      <td>2.285620</td>\n",
       "      <td>2.257077</td>\n",
       "      <td>1.869276</td>\n",
       "      <td>2.059187</td>\n",
       "      <td>1.943151</td>\n",
       "      <td>1.997648</td>\n",
       "      <td>0.06</td>\n",
       "    </tr>\n",
       "  </tbody>\n",
       "</table>\n",
       "</div>"
      ],
      "text/plain": [
       "                           APOLLOHOSP.NS  COLPAL.NS    DLF.NS  HDFCBANK.NS  \\\n",
       "Date                                                                         \n",
       "2024-10-30 00:00:00+00:00       1.399158   2.111730  2.093477     1.141447   \n",
       "2024-10-31 00:00:00+00:00       1.407214   2.092157  2.076884     1.142171   \n",
       "2024-11-01 00:00:00+00:00       1.409067   2.094548  2.086764     1.143224   \n",
       "2024-11-04 00:00:00+00:00       1.394329   2.038940  2.001013     1.127957   \n",
       "2024-11-05 00:00:00+00:00       1.395912   2.036924  2.024192     1.156747   \n",
       "\n",
       "                           ICICIBANK.NS  KPITTECH.NS   NMDC.NS   ONGC.NS  \\\n",
       "Date                                                                       \n",
       "2024-10-30 00:00:00+00:00      1.715902     2.277892  2.156402  1.829081   \n",
       "2024-10-31 00:00:00+00:00      1.689878     2.290964  2.133420  1.860538   \n",
       "2024-11-01 00:00:00+00:00      1.689290     2.341939  2.142747  1.899685   \n",
       "2024-11-04 00:00:00+00:00      1.670197     2.307983  2.177941  1.854596   \n",
       "2024-11-05 00:00:00+00:00      1.695698     2.285620  2.257077  1.869276   \n",
       "\n",
       "                           POWERGRID.NS  TATAPOWER.NS  Portfolio    RF  \n",
       "Date                                                                    \n",
       "2024-10-30 00:00:00+00:00      2.071220      1.911370   1.994851  0.06  \n",
       "2024-10-31 00:00:00+00:00      2.086504      1.969785   1.999689  0.06  \n",
       "2024-11-01 00:00:00+00:00      2.094634      1.993957   2.014011  0.06  \n",
       "2024-11-04 00:00:00+00:00      2.051707      1.920546   1.977380  0.06  \n",
       "2024-11-05 00:00:00+00:00      2.059187      1.943151   1.997648  0.06  "
      ]
     },
     "execution_count": 25,
     "metadata": {},
     "output_type": "execute_result"
    }
   ],
   "source": [
    "daily_cum_ret.tail()"
   ]
  },
  {
   "cell_type": "code",
   "execution_count": 26,
   "id": "c3f4c134-05b3-4e1e-a0ee-7f1c64ed6115",
   "metadata": {},
   "outputs": [],
   "source": [
    "# Calculate excess portfolio returns\n",
    "daily_cum_ret['Portfolio_Excess'] = daily_cum_ret['Portfolio'] - daily_cum_ret['RF']"
   ]
  },
  {
   "cell_type": "code",
   "execution_count": 27,
   "id": "3de303a5-b252-4fb7-8f8a-953c4c9b3fba",
   "metadata": {},
   "outputs": [
    {
     "data": {
      "text/html": [
       "<div>\n",
       "<style scoped>\n",
       "    .dataframe tbody tr th:only-of-type {\n",
       "        vertical-align: middle;\n",
       "    }\n",
       "\n",
       "    .dataframe tbody tr th {\n",
       "        vertical-align: top;\n",
       "    }\n",
       "\n",
       "    .dataframe thead th {\n",
       "        text-align: right;\n",
       "    }\n",
       "</style>\n",
       "<table border=\"1\" class=\"dataframe\">\n",
       "  <thead>\n",
       "    <tr style=\"text-align: right;\">\n",
       "      <th></th>\n",
       "      <th>APOLLOHOSP.NS</th>\n",
       "      <th>COLPAL.NS</th>\n",
       "      <th>DLF.NS</th>\n",
       "      <th>HDFCBANK.NS</th>\n",
       "      <th>ICICIBANK.NS</th>\n",
       "      <th>KPITTECH.NS</th>\n",
       "      <th>NMDC.NS</th>\n",
       "      <th>ONGC.NS</th>\n",
       "      <th>POWERGRID.NS</th>\n",
       "      <th>TATAPOWER.NS</th>\n",
       "      <th>Portfolio</th>\n",
       "      <th>RF</th>\n",
       "      <th>Portfolio_Excess</th>\n",
       "    </tr>\n",
       "    <tr>\n",
       "      <th>Date</th>\n",
       "      <th></th>\n",
       "      <th></th>\n",
       "      <th></th>\n",
       "      <th></th>\n",
       "      <th></th>\n",
       "      <th></th>\n",
       "      <th></th>\n",
       "      <th></th>\n",
       "      <th></th>\n",
       "      <th></th>\n",
       "      <th></th>\n",
       "      <th></th>\n",
       "      <th></th>\n",
       "    </tr>\n",
       "  </thead>\n",
       "  <tbody>\n",
       "    <tr>\n",
       "      <th>2024-10-30 00:00:00+00:00</th>\n",
       "      <td>1.399158</td>\n",
       "      <td>2.111730</td>\n",
       "      <td>2.093477</td>\n",
       "      <td>1.141447</td>\n",
       "      <td>1.715902</td>\n",
       "      <td>2.277892</td>\n",
       "      <td>2.156402</td>\n",
       "      <td>1.829081</td>\n",
       "      <td>2.071220</td>\n",
       "      <td>1.911370</td>\n",
       "      <td>1.994851</td>\n",
       "      <td>0.06</td>\n",
       "      <td>1.934851</td>\n",
       "    </tr>\n",
       "    <tr>\n",
       "      <th>2024-10-31 00:00:00+00:00</th>\n",
       "      <td>1.407214</td>\n",
       "      <td>2.092157</td>\n",
       "      <td>2.076884</td>\n",
       "      <td>1.142171</td>\n",
       "      <td>1.689878</td>\n",
       "      <td>2.290964</td>\n",
       "      <td>2.133420</td>\n",
       "      <td>1.860538</td>\n",
       "      <td>2.086504</td>\n",
       "      <td>1.969785</td>\n",
       "      <td>1.999689</td>\n",
       "      <td>0.06</td>\n",
       "      <td>1.939689</td>\n",
       "    </tr>\n",
       "    <tr>\n",
       "      <th>2024-11-01 00:00:00+00:00</th>\n",
       "      <td>1.409067</td>\n",
       "      <td>2.094548</td>\n",
       "      <td>2.086764</td>\n",
       "      <td>1.143224</td>\n",
       "      <td>1.689290</td>\n",
       "      <td>2.341939</td>\n",
       "      <td>2.142747</td>\n",
       "      <td>1.899685</td>\n",
       "      <td>2.094634</td>\n",
       "      <td>1.993957</td>\n",
       "      <td>2.014011</td>\n",
       "      <td>0.06</td>\n",
       "      <td>1.954011</td>\n",
       "    </tr>\n",
       "    <tr>\n",
       "      <th>2024-11-04 00:00:00+00:00</th>\n",
       "      <td>1.394329</td>\n",
       "      <td>2.038940</td>\n",
       "      <td>2.001013</td>\n",
       "      <td>1.127957</td>\n",
       "      <td>1.670197</td>\n",
       "      <td>2.307983</td>\n",
       "      <td>2.177941</td>\n",
       "      <td>1.854596</td>\n",
       "      <td>2.051707</td>\n",
       "      <td>1.920546</td>\n",
       "      <td>1.977380</td>\n",
       "      <td>0.06</td>\n",
       "      <td>1.917380</td>\n",
       "    </tr>\n",
       "    <tr>\n",
       "      <th>2024-11-05 00:00:00+00:00</th>\n",
       "      <td>1.395912</td>\n",
       "      <td>2.036924</td>\n",
       "      <td>2.024192</td>\n",
       "      <td>1.156747</td>\n",
       "      <td>1.695698</td>\n",
       "      <td>2.285620</td>\n",
       "      <td>2.257077</td>\n",
       "      <td>1.869276</td>\n",
       "      <td>2.059187</td>\n",
       "      <td>1.943151</td>\n",
       "      <td>1.997648</td>\n",
       "      <td>0.06</td>\n",
       "      <td>1.937648</td>\n",
       "    </tr>\n",
       "  </tbody>\n",
       "</table>\n",
       "</div>"
      ],
      "text/plain": [
       "                           APOLLOHOSP.NS  COLPAL.NS    DLF.NS  HDFCBANK.NS  \\\n",
       "Date                                                                         \n",
       "2024-10-30 00:00:00+00:00       1.399158   2.111730  2.093477     1.141447   \n",
       "2024-10-31 00:00:00+00:00       1.407214   2.092157  2.076884     1.142171   \n",
       "2024-11-01 00:00:00+00:00       1.409067   2.094548  2.086764     1.143224   \n",
       "2024-11-04 00:00:00+00:00       1.394329   2.038940  2.001013     1.127957   \n",
       "2024-11-05 00:00:00+00:00       1.395912   2.036924  2.024192     1.156747   \n",
       "\n",
       "                           ICICIBANK.NS  KPITTECH.NS   NMDC.NS   ONGC.NS  \\\n",
       "Date                                                                       \n",
       "2024-10-30 00:00:00+00:00      1.715902     2.277892  2.156402  1.829081   \n",
       "2024-10-31 00:00:00+00:00      1.689878     2.290964  2.133420  1.860538   \n",
       "2024-11-01 00:00:00+00:00      1.689290     2.341939  2.142747  1.899685   \n",
       "2024-11-04 00:00:00+00:00      1.670197     2.307983  2.177941  1.854596   \n",
       "2024-11-05 00:00:00+00:00      1.695698     2.285620  2.257077  1.869276   \n",
       "\n",
       "                           POWERGRID.NS  TATAPOWER.NS  Portfolio    RF  \\\n",
       "Date                                                                     \n",
       "2024-10-30 00:00:00+00:00      2.071220      1.911370   1.994851  0.06   \n",
       "2024-10-31 00:00:00+00:00      2.086504      1.969785   1.999689  0.06   \n",
       "2024-11-01 00:00:00+00:00      2.094634      1.993957   2.014011  0.06   \n",
       "2024-11-04 00:00:00+00:00      2.051707      1.920546   1.977380  0.06   \n",
       "2024-11-05 00:00:00+00:00      2.059187      1.943151   1.997648  0.06   \n",
       "\n",
       "                           Portfolio_Excess  \n",
       "Date                                         \n",
       "2024-10-30 00:00:00+00:00          1.934851  \n",
       "2024-10-31 00:00:00+00:00          1.939689  \n",
       "2024-11-01 00:00:00+00:00          1.954011  \n",
       "2024-11-04 00:00:00+00:00          1.917380  \n",
       "2024-11-05 00:00:00+00:00          1.937648  "
      ]
     },
     "execution_count": 27,
     "metadata": {},
     "output_type": "execute_result"
    }
   ],
   "source": [
    "daily_cum_ret.tail()"
   ]
  },
  {
   "cell_type": "code",
   "execution_count": 28,
   "id": "90e663b8-a492-4eee-97fb-14cefb032df4",
   "metadata": {},
   "outputs": [],
   "source": [
    "import matplotlib.pyplot as plt"
   ]
  },
  {
   "cell_type": "code",
   "execution_count": 29,
   "id": "281c23b1-0f3b-4cb8-aff3-f9b25deb8b94",
   "metadata": {},
   "outputs": [
    {
     "data": {
      "image/png": "[encoded data removed]",
      "text/plain": [
       "<Figure size 1000x600 with 1 Axes>"
      ]
     },
     "metadata": {},
     "output_type": "display_data"
    }
   ],
   "source": [
    "# Plot portfolio and portfolio excess returns\n",
    "plt.figure(figsize=(10, 6))\n",
    "plt.plot(daily_cum_ret.index, daily_cum_ret[\"Portfolio\"], label=\"Portfolio Returns\")\n",
    "plt.plot(daily_cum_ret.index, daily_cum_ret[\"Portfolio_Excess\"], label=\"Portfolio Excess Returns\")\n",
    "\n",
    "# Add titles and labels\n",
    "plt.title(\"Portfolio and Portfolio Excess Returns\", fontsize=14)\n",
    "plt.xlabel(\"Time Period\", fontsize=12)\n",
    "plt.ylabel(\"Returns\", fontsize=12)\n",
    "plt.legend(fontsize=12)\n",
    "plt.grid(True)"
   ]
  },
  {
   "cell_type": "markdown",
   "id": "1160ee95-fe2a-4764-8474-474d6e2420d2",
   "metadata": {},
   "source": [
    "#### Benchmark data"
   ]
  },
  {
   "cell_type": "markdown",
   "id": "090599c3-1e90-4083-9ea2-fad63d2c8c16",
   "metadata": {},
   "source": [
    "get NIFTY 50 data for benchmark"
   ]
  },
  {
   "cell_type": "code",
   "execution_count": 32,
   "id": "b4d08e48-7076-4e74-8f49-46b9098f8e34",
   "metadata": {},
   "outputs": [],
   "source": [
    "nifty50_ticker = \"^NSEI\""
   ]
  },
  {
   "cell_type": "code",
   "execution_count": 33,
   "id": "a6d5bf27-e74e-42aa-9f0b-212a92ce3c75",
   "metadata": {},
   "outputs": [
    {
     "name": "stderr",
     "output_type": "stream",
     "text": [
      "[*********************100%***********************]  1 of 1 completed\n"
     ]
    }
   ],
   "source": [
    "nifty50_data = yf.download(nifty50_ticker, start=start_date, end=end_date)"
   ]
  },
  {
   "cell_type": "code",
   "execution_count": 34,
   "id": "3979edeb-151f-43f7-acad-dd4edfa53325",
   "metadata": {},
   "outputs": [],
   "source": [
    "nifty50_closing_prices = nifty50_data['Close']"
   ]
  },
  {
   "cell_type": "code",
   "execution_count": 35,
   "id": "67d447bc-6a8f-454c-81ff-fb429a625233",
   "metadata": {},
   "outputs": [
    {
     "name": "stdout",
     "output_type": "stream",
     "text": [
      "Ticker                            ^NSEI\n",
      "Date                                   \n",
      "2024-10-30 00:00:00+00:00  24340.849609\n",
      "2024-10-31 00:00:00+00:00  24205.349609\n",
      "2024-11-01 00:00:00+00:00  24304.349609\n",
      "2024-11-04 00:00:00+00:00  23995.349609\n",
      "2024-11-05 00:00:00+00:00  24213.300781\n"
     ]
    }
   ],
   "source": [
    "# Display the closing prices for Nifty 50\n",
    "print(nifty50_closing_prices.tail())"
   ]
  },
  {
   "cell_type": "code",
   "execution_count": 36,
   "id": "82993ca2-6dc6-4018-ba5e-41e0fa007782",
   "metadata": {},
   "outputs": [],
   "source": [
    "# Calculate daily returns\n",
    "nifty50_returns = nifty50_closing_prices.pct_change().dropna()"
   ]
  },
  {
   "cell_type": "code",
   "execution_count": 37,
   "id": "fbf67ab0-2534-4875-9ed6-9cc0a5126a46",
   "metadata": {},
   "outputs": [
    {
     "name": "stdout",
     "output_type": "stream",
     "text": [
      "Ticker                        ^NSEI\n",
      "Date                               \n",
      "2024-10-30 00:00:00+00:00 -0.005150\n",
      "2024-10-31 00:00:00+00:00 -0.005567\n",
      "2024-11-01 00:00:00+00:00  0.004090\n",
      "2024-11-04 00:00:00+00:00 -0.012714\n",
      "2024-11-05 00:00:00+00:00  0.009083\n"
     ]
    }
   ],
   "source": [
    "# Display Nifty 50 returns\n",
    "print(nifty50_returns.tail())"
   ]
  },
  {
   "cell_type": "code",
   "execution_count": 38,
   "id": "356cc268-5845-49f0-b1b5-ea2b995a5def",
   "metadata": {},
   "outputs": [
    {
     "data": {
      "text/html": [
       "<div>\n",
       "<style scoped>\n",
       "    .dataframe tbody tr th:only-of-type {\n",
       "        vertical-align: middle;\n",
       "    }\n",
       "\n",
       "    .dataframe tbody tr th {\n",
       "        vertical-align: top;\n",
       "    }\n",
       "\n",
       "    .dataframe thead th {\n",
       "        text-align: right;\n",
       "    }\n",
       "</style>\n",
       "<table border=\"1\" class=\"dataframe\">\n",
       "  <thead>\n",
       "    <tr style=\"text-align: right;\">\n",
       "      <th>Ticker</th>\n",
       "      <th>^NSEI</th>\n",
       "    </tr>\n",
       "    <tr>\n",
       "      <th>Date</th>\n",
       "      <th></th>\n",
       "    </tr>\n",
       "  </thead>\n",
       "  <tbody>\n",
       "    <tr>\n",
       "      <th>2024-10-30 00:00:00+00:00</th>\n",
       "      <td>1.380986</td>\n",
       "    </tr>\n",
       "    <tr>\n",
       "      <th>2024-10-31 00:00:00+00:00</th>\n",
       "      <td>1.373299</td>\n",
       "    </tr>\n",
       "    <tr>\n",
       "      <th>2024-11-01 00:00:00+00:00</th>\n",
       "      <td>1.378915</td>\n",
       "    </tr>\n",
       "    <tr>\n",
       "      <th>2024-11-04 00:00:00+00:00</th>\n",
       "      <td>1.361384</td>\n",
       "    </tr>\n",
       "    <tr>\n",
       "      <th>2024-11-05 00:00:00+00:00</th>\n",
       "      <td>1.373750</td>\n",
       "    </tr>\n",
       "  </tbody>\n",
       "</table>\n",
       "</div>"
      ],
      "text/plain": [
       "Ticker                        ^NSEI\n",
       "Date                               \n",
       "2024-10-30 00:00:00+00:00  1.380986\n",
       "2024-10-31 00:00:00+00:00  1.373299\n",
       "2024-11-01 00:00:00+00:00  1.378915\n",
       "2024-11-04 00:00:00+00:00  1.361384\n",
       "2024-11-05 00:00:00+00:00  1.373750"
      ]
     },
     "execution_count": 38,
     "metadata": {},
     "output_type": "execute_result"
    }
   ],
   "source": [
    "# Calculate cumulative returns (growth factor)\n",
    "n50_cum_ret=(1+nifty50_returns).cumprod()\n",
    "n50_cum_ret.tail()"
   ]
  },
  {
   "cell_type": "code",
   "execution_count": 39,
   "id": "94ce93b0-6196-4ace-8934-95f71309d2eb",
   "metadata": {},
   "outputs": [],
   "source": [
    "n50_cum_ret['RF'] = 0.06"
   ]
  },
  {
   "cell_type": "code",
   "execution_count": 40,
   "id": "99eaf159-1bb0-4642-82b8-12702b52b1ad",
   "metadata": {},
   "outputs": [],
   "source": [
    "n50_cum_ret['Market_Excess'] = n50_cum_ret['^NSEI'] - n50_cum_ret['RF']"
   ]
  },
  {
   "cell_type": "code",
   "execution_count": 41,
   "id": "b820a3e6-9eef-4034-a29f-7b2d2782d796",
   "metadata": {},
   "outputs": [
    {
     "data": {
      "text/html": [
       "<div>\n",
       "<style scoped>\n",
       "    .dataframe tbody tr th:only-of-type {\n",
       "        vertical-align: middle;\n",
       "    }\n",
       "\n",
       "    .dataframe tbody tr th {\n",
       "        vertical-align: top;\n",
       "    }\n",
       "\n",
       "    .dataframe thead th {\n",
       "        text-align: right;\n",
       "    }\n",
       "</style>\n",
       "<table border=\"1\" class=\"dataframe\">\n",
       "  <thead>\n",
       "    <tr style=\"text-align: right;\">\n",
       "      <th>Ticker</th>\n",
       "      <th>^NSEI</th>\n",
       "      <th>RF</th>\n",
       "      <th>Market_Excess</th>\n",
       "    </tr>\n",
       "    <tr>\n",
       "      <th>Date</th>\n",
       "      <th></th>\n",
       "      <th></th>\n",
       "      <th></th>\n",
       "    </tr>\n",
       "  </thead>\n",
       "  <tbody>\n",
       "    <tr>\n",
       "      <th>2024-10-30 00:00:00+00:00</th>\n",
       "      <td>1.380986</td>\n",
       "      <td>0.06</td>\n",
       "      <td>1.320986</td>\n",
       "    </tr>\n",
       "    <tr>\n",
       "      <th>2024-10-31 00:00:00+00:00</th>\n",
       "      <td>1.373299</td>\n",
       "      <td>0.06</td>\n",
       "      <td>1.313299</td>\n",
       "    </tr>\n",
       "    <tr>\n",
       "      <th>2024-11-01 00:00:00+00:00</th>\n",
       "      <td>1.378915</td>\n",
       "      <td>0.06</td>\n",
       "      <td>1.318915</td>\n",
       "    </tr>\n",
       "    <tr>\n",
       "      <th>2024-11-04 00:00:00+00:00</th>\n",
       "      <td>1.361384</td>\n",
       "      <td>0.06</td>\n",
       "      <td>1.301384</td>\n",
       "    </tr>\n",
       "    <tr>\n",
       "      <th>2024-11-05 00:00:00+00:00</th>\n",
       "      <td>1.373750</td>\n",
       "      <td>0.06</td>\n",
       "      <td>1.313750</td>\n",
       "    </tr>\n",
       "  </tbody>\n",
       "</table>\n",
       "</div>"
      ],
      "text/plain": [
       "Ticker                        ^NSEI    RF  Market_Excess\n",
       "Date                                                    \n",
       "2024-10-30 00:00:00+00:00  1.380986  0.06       1.320986\n",
       "2024-10-31 00:00:00+00:00  1.373299  0.06       1.313299\n",
       "2024-11-01 00:00:00+00:00  1.378915  0.06       1.318915\n",
       "2024-11-04 00:00:00+00:00  1.361384  0.06       1.301384\n",
       "2024-11-05 00:00:00+00:00  1.373750  0.06       1.313750"
      ]
     },
     "execution_count": 41,
     "metadata": {},
     "output_type": "execute_result"
    }
   ],
   "source": [
    "n50_cum_ret.tail()"
   ]
  },
  {
   "cell_type": "markdown",
   "id": "f8aa6727-de58-489c-9ede-23ca7900700b",
   "metadata": {},
   "source": [
    "**Combining the required dataframes:**"
   ]
  },
  {
   "cell_type": "code",
   "execution_count": 43,
   "id": "9a9ee1db-ee56-40da-b0d7-40e9fd7f117b",
   "metadata": {},
   "outputs": [],
   "source": [
    "FamaFrenchData = pd.DataFrame()"
   ]
  },
  {
   "cell_type": "code",
   "execution_count": 44,
   "id": "f017cf3f-e045-4eec-bb75-eee41f37265c",
   "metadata": {},
   "outputs": [
    {
     "data": {
      "text/plain": [
       "(701, 3)"
      ]
     },
     "execution_count": 44,
     "metadata": {},
     "output_type": "execute_result"
    }
   ],
   "source": [
    "n50_cum_ret.shape"
   ]
  },
  {
   "cell_type": "code",
   "execution_count": 45,
   "id": "bf74d82e-bb95-42a7-9347-a1efd499b3d8",
   "metadata": {},
   "outputs": [
    {
     "data": {
      "text/plain": [
       "(701, 13)"
      ]
     },
     "execution_count": 45,
     "metadata": {},
     "output_type": "execute_result"
    }
   ],
   "source": [
    "daily_cum_ret.shape"
   ]
  },
  {
   "cell_type": "code",
   "execution_count": 46,
   "id": "8073b1ee-f465-4eb6-8cf1-57a3612ee676",
   "metadata": {},
   "outputs": [],
   "source": [
    "Market_Excess = n50_cum_ret['Market_Excess'].reset_index()"
   ]
  },
  {
   "cell_type": "code",
   "execution_count": 47,
   "id": "21d269fe-2208-40fb-91a1-fe180e0f6e2f",
   "metadata": {},
   "outputs": [
    {
     "data": {
      "text/html": [
       "<div>\n",
       "<style scoped>\n",
       "    .dataframe tbody tr th:only-of-type {\n",
       "        vertical-align: middle;\n",
       "    }\n",
       "\n",
       "    .dataframe tbody tr th {\n",
       "        vertical-align: top;\n",
       "    }\n",
       "\n",
       "    .dataframe thead th {\n",
       "        text-align: right;\n",
       "    }\n",
       "</style>\n",
       "<table border=\"1\" class=\"dataframe\">\n",
       "  <thead>\n",
       "    <tr style=\"text-align: right;\">\n",
       "      <th></th>\n",
       "      <th>Date</th>\n",
       "      <th>Market_Excess</th>\n",
       "    </tr>\n",
       "  </thead>\n",
       "  <tbody>\n",
       "    <tr>\n",
       "      <th>0</th>\n",
       "      <td>2022-01-04 00:00:00+00:00</td>\n",
       "      <td>0.950187</td>\n",
       "    </tr>\n",
       "    <tr>\n",
       "      <th>1</th>\n",
       "      <td>2022-01-05 00:00:00+00:00</td>\n",
       "      <td>0.956995</td>\n",
       "    </tr>\n",
       "    <tr>\n",
       "      <th>2</th>\n",
       "      <td>2022-01-06 00:00:00+00:00</td>\n",
       "      <td>0.946820</td>\n",
       "    </tr>\n",
       "    <tr>\n",
       "      <th>3</th>\n",
       "      <td>2022-01-07 00:00:00+00:00</td>\n",
       "      <td>0.950610</td>\n",
       "    </tr>\n",
       "    <tr>\n",
       "      <th>4</th>\n",
       "      <td>2022-01-10 00:00:00+00:00</td>\n",
       "      <td>0.961423</td>\n",
       "    </tr>\n",
       "  </tbody>\n",
       "</table>\n",
       "</div>"
      ],
      "text/plain": [
       "                       Date  Market_Excess\n",
       "0 2022-01-04 00:00:00+00:00       0.950187\n",
       "1 2022-01-05 00:00:00+00:00       0.956995\n",
       "2 2022-01-06 00:00:00+00:00       0.946820\n",
       "3 2022-01-07 00:00:00+00:00       0.950610\n",
       "4 2022-01-10 00:00:00+00:00       0.961423"
      ]
     },
     "execution_count": 47,
     "metadata": {},
     "output_type": "execute_result"
    }
   ],
   "source": [
    "Market_Excess.head()"
   ]
  },
  {
   "cell_type": "code",
   "execution_count": 48,
   "id": "8eea1bb1-6ff0-450a-9db3-fb3469344dca",
   "metadata": {},
   "outputs": [],
   "source": [
    "Portfolio_Excess = daily_cum_ret[\"Portfolio_Excess\"].reset_index()"
   ]
  },
  {
   "cell_type": "code",
   "execution_count": 49,
   "id": "fc59921c-fb62-44a1-b143-c34901a8d789",
   "metadata": {},
   "outputs": [
    {
     "data": {
      "text/html": [
       "<div>\n",
       "<style scoped>\n",
       "    .dataframe tbody tr th:only-of-type {\n",
       "        vertical-align: middle;\n",
       "    }\n",
       "\n",
       "    .dataframe tbody tr th {\n",
       "        vertical-align: top;\n",
       "    }\n",
       "\n",
       "    .dataframe thead th {\n",
       "        text-align: right;\n",
       "    }\n",
       "</style>\n",
       "<table border=\"1\" class=\"dataframe\">\n",
       "  <thead>\n",
       "    <tr style=\"text-align: right;\">\n",
       "      <th></th>\n",
       "      <th>Date</th>\n",
       "      <th>Portfolio_Excess</th>\n",
       "    </tr>\n",
       "  </thead>\n",
       "  <tbody>\n",
       "    <tr>\n",
       "      <th>0</th>\n",
       "      <td>2022-01-04 00:00:00+00:00</td>\n",
       "      <td>0.948845</td>\n",
       "    </tr>\n",
       "    <tr>\n",
       "      <th>1</th>\n",
       "      <td>2022-01-05 00:00:00+00:00</td>\n",
       "      <td>0.954761</td>\n",
       "    </tr>\n",
       "    <tr>\n",
       "      <th>2</th>\n",
       "      <td>2022-01-06 00:00:00+00:00</td>\n",
       "      <td>0.958610</td>\n",
       "    </tr>\n",
       "    <tr>\n",
       "      <th>3</th>\n",
       "      <td>2022-01-07 00:00:00+00:00</td>\n",
       "      <td>0.980404</td>\n",
       "    </tr>\n",
       "    <tr>\n",
       "      <th>4</th>\n",
       "      <td>2022-01-10 00:00:00+00:00</td>\n",
       "      <td>0.992880</td>\n",
       "    </tr>\n",
       "  </tbody>\n",
       "</table>\n",
       "</div>"
      ],
      "text/plain": [
       "                        Date  Portfolio_Excess\n",
       "0  2022-01-04 00:00:00+00:00          0.948845\n",
       "1  2022-01-05 00:00:00+00:00          0.954761\n",
       "2  2022-01-06 00:00:00+00:00          0.958610\n",
       "3  2022-01-07 00:00:00+00:00          0.980404\n",
       "4  2022-01-10 00:00:00+00:00          0.992880"
      ]
     },
     "execution_count": 49,
     "metadata": {},
     "output_type": "execute_result"
    }
   ],
   "source": [
    "Portfolio_Excess.head()"
   ]
  },
  {
   "cell_type": "code",
   "execution_count": 50,
   "id": "7c79bf20-ca3f-45e3-8375-8d54b391107d",
   "metadata": {},
   "outputs": [],
   "source": [
    "# Convert 'Date' column in both dataframes to datetime64 (make sure they're both in the same format)\n",
    "Portfolio_Excess['Date'] = pd.to_datetime(Portfolio_Excess['Date'], errors='coerce')  # Coerce invalid formats to NaT\n",
    "Market_Excess['Date'] = pd.to_datetime(Market_Excess['Date'], errors='coerce')  # Same here\n",
    "\n",
    "# Now merge on 'Date' (after converting to datetime)\n",
    "FamaFrenchData = pd.merge(Portfolio_Excess, Market_Excess, on='Date', how='inner')"
   ]
  },
  {
   "cell_type": "code",
   "execution_count": 51,
   "id": "9e3ab338-2c02-4b8a-8ebf-914649353bcd",
   "metadata": {},
   "outputs": [],
   "source": [
    "nat_count = FamaFrenchData['Date'].isna().sum()"
   ]
  },
  {
   "cell_type": "code",
   "execution_count": 52,
   "id": "477615ff-c54b-46bf-8641-bcde1c873f6c",
   "metadata": {},
   "outputs": [
    {
     "data": {
      "text/plain": [
       "0"
      ]
     },
     "execution_count": 52,
     "metadata": {},
     "output_type": "execute_result"
    }
   ],
   "source": [
    "nat_count"
   ]
  },
  {
   "cell_type": "code",
   "execution_count": 53,
   "id": "65ef1a0b-61ed-4c8f-96be-cfcb79ec5a28",
   "metadata": {},
   "outputs": [],
   "source": [
    "FamaFrenchData.set_index('Date', inplace = True)"
   ]
  },
  {
   "cell_type": "code",
   "execution_count": 54,
   "id": "b046a6a1-2aea-479b-a984-7fccd08b932f",
   "metadata": {},
   "outputs": [
    {
     "data": {
      "text/html": [
       "<div>\n",
       "<style scoped>\n",
       "    .dataframe tbody tr th:only-of-type {\n",
       "        vertical-align: middle;\n",
       "    }\n",
       "\n",
       "    .dataframe tbody tr th {\n",
       "        vertical-align: top;\n",
       "    }\n",
       "\n",
       "    .dataframe thead th {\n",
       "        text-align: right;\n",
       "    }\n",
       "</style>\n",
       "<table border=\"1\" class=\"dataframe\">\n",
       "  <thead>\n",
       "    <tr style=\"text-align: right;\">\n",
       "      <th></th>\n",
       "      <th>Portfolio_Excess</th>\n",
       "      <th>Market_Excess</th>\n",
       "    </tr>\n",
       "    <tr>\n",
       "      <th>Date</th>\n",
       "      <th></th>\n",
       "      <th></th>\n",
       "    </tr>\n",
       "  </thead>\n",
       "  <tbody>\n",
       "    <tr>\n",
       "      <th>2024-10-30 00:00:00+00:00</th>\n",
       "      <td>1.934851</td>\n",
       "      <td>1.320986</td>\n",
       "    </tr>\n",
       "    <tr>\n",
       "      <th>2024-10-31 00:00:00+00:00</th>\n",
       "      <td>1.939689</td>\n",
       "      <td>1.313299</td>\n",
       "    </tr>\n",
       "    <tr>\n",
       "      <th>2024-11-01 00:00:00+00:00</th>\n",
       "      <td>1.954011</td>\n",
       "      <td>1.318915</td>\n",
       "    </tr>\n",
       "    <tr>\n",
       "      <th>2024-11-04 00:00:00+00:00</th>\n",
       "      <td>1.917380</td>\n",
       "      <td>1.301384</td>\n",
       "    </tr>\n",
       "    <tr>\n",
       "      <th>2024-11-05 00:00:00+00:00</th>\n",
       "      <td>1.937648</td>\n",
       "      <td>1.313750</td>\n",
       "    </tr>\n",
       "  </tbody>\n",
       "</table>\n",
       "</div>"
      ],
      "text/plain": [
       "                           Portfolio_Excess  Market_Excess\n",
       "Date                                                      \n",
       "2024-10-30 00:00:00+00:00          1.934851       1.320986\n",
       "2024-10-31 00:00:00+00:00          1.939689       1.313299\n",
       "2024-11-01 00:00:00+00:00          1.954011       1.318915\n",
       "2024-11-04 00:00:00+00:00          1.917380       1.301384\n",
       "2024-11-05 00:00:00+00:00          1.937648       1.313750"
      ]
     },
     "execution_count": 54,
     "metadata": {},
     "output_type": "execute_result"
    }
   ],
   "source": [
    "FamaFrenchData.tail()"
   ]
  },
  {
   "cell_type": "markdown",
   "id": "153944cc-362f-4ed5-97ad-1ee97e12ad1f",
   "metadata": {},
   "source": [
    "#### Calculating Beta"
   ]
  },
  {
   "cell_type": "markdown",
   "id": "9a0cce2d-a59b-45f5-a1a5-61778e63bcd5",
   "metadata": {},
   "source": [
    "**with Covariance and variance of benchmark**"
   ]
  },
  {
   "cell_type": "code",
   "execution_count": 57,
   "id": "628bb961-810a-4d42-ba53-a7e2bc6f5c61",
   "metadata": {},
   "outputs": [],
   "source": [
    "# Calculate the co-variance matrix between Portfolio_Excess and Market_Excess\n",
    "covariance_matrix = FamaFrenchData[['Portfolio_Excess', 'Market_Excess']].cov()"
   ]
  },
  {
   "cell_type": "code",
   "execution_count": 58,
   "id": "4079e057-cf87-4a04-b482-d42a9c29216d",
   "metadata": {},
   "outputs": [
    {
     "data": {
      "text/html": [
       "<div>\n",
       "<style scoped>\n",
       "    .dataframe tbody tr th:only-of-type {\n",
       "        vertical-align: middle;\n",
       "    }\n",
       "\n",
       "    .dataframe tbody tr th {\n",
       "        vertical-align: top;\n",
       "    }\n",
       "\n",
       "    .dataframe thead th {\n",
       "        text-align: right;\n",
       "    }\n",
       "</style>\n",
       "<table border=\"1\" class=\"dataframe\">\n",
       "  <thead>\n",
       "    <tr style=\"text-align: right;\">\n",
       "      <th></th>\n",
       "      <th>Portfolio_Excess</th>\n",
       "      <th>Market_Excess</th>\n",
       "    </tr>\n",
       "  </thead>\n",
       "  <tbody>\n",
       "    <tr>\n",
       "      <th>Portfolio_Excess</th>\n",
       "      <td>0.161876</td>\n",
       "      <td>0.062086</td>\n",
       "    </tr>\n",
       "    <tr>\n",
       "      <th>Market_Excess</th>\n",
       "      <td>0.062086</td>\n",
       "      <td>0.024561</td>\n",
       "    </tr>\n",
       "  </tbody>\n",
       "</table>\n",
       "</div>"
      ],
      "text/plain": [
       "                  Portfolio_Excess  Market_Excess\n",
       "Portfolio_Excess          0.161876       0.062086\n",
       "Market_Excess             0.062086       0.024561"
      ]
     },
     "execution_count": 58,
     "metadata": {},
     "output_type": "execute_result"
    }
   ],
   "source": [
    "covariance_matrix"
   ]
  },
  {
   "cell_type": "code",
   "execution_count": 59,
   "id": "fc67e0a4-cad8-407c-b120-56ae514a72c7",
   "metadata": {},
   "outputs": [
    {
     "name": "stdout",
     "output_type": "stream",
     "text": [
      "0.06208580397155888\n"
     ]
    }
   ],
   "source": [
    "# Extract the co-variance co-efficient\n",
    "covariance_coefficient = covariance_matrix.iloc[0, 1]\n",
    "print(covariance_coefficient)"
   ]
  },
  {
   "cell_type": "code",
   "execution_count": 60,
   "id": "a59f9402-e6bb-44f9-8add-858bb3ef2657",
   "metadata": {},
   "outputs": [
    {
     "name": "stdout",
     "output_type": "stream",
     "text": [
      "0.02456062799704285\n"
     ]
    }
   ],
   "source": [
    "# Calculate the benchmark variance\n",
    "benchmark_variance = FamaFrenchData['Market_Excess'].var()\n",
    "print(benchmark_variance)"
   ]
  },
  {
   "cell_type": "code",
   "execution_count": 61,
   "id": "576599b8-2535-4166-b60a-4310c462fdea",
   "metadata": {},
   "outputs": [
    {
     "name": "stdout",
     "output_type": "stream",
     "text": [
      "2.527858977345129\n"
     ]
    }
   ],
   "source": [
    "# Calculating the portfolio market beta\n",
    "portfolio_beta = covariance_coefficient/benchmark_variance\n",
    "print(portfolio_beta)"
   ]
  },
  {
   "cell_type": "markdown",
   "id": "0ed5eae7-7778-4d39-a8d4-0f3c3613ab15",
   "metadata": {},
   "source": [
    "**Calculating beta with CAPM**"
   ]
  },
  {
   "cell_type": "markdown",
   "id": "a865caaa-f365-4cd2-806d-c9d5d2d94427",
   "metadata": {},
   "source": [
    "<img src=\"screenshots/capm.JPG\" alt=\"Image Description\" width=\"50%\">"
   ]
  },
  {
   "cell_type": "code",
   "execution_count": 64,
   "id": "dc2ba46e-d3bd-418f-99e7-6133a12c6143",
   "metadata": {},
   "outputs": [
    {
     "name": "stdout",
     "output_type": "stream",
     "text": [
      "0.9694894195619993\n",
      "2.5278589773451303\n"
     ]
    }
   ],
   "source": [
    "# Import statsmodels.formula.api\n",
    "import statsmodels.formula.api as smf \n",
    "\n",
    "# Define the regression formula\n",
    "CAPM_model = smf.ols(formula='Portfolio_Excess ~ Market_Excess', data=FamaFrenchData)\n",
    "\n",
    "# Print adjusted r-squared of the fitted regression\n",
    "CAPM_fit = CAPM_model.fit()\n",
    "print(CAPM_fit.rsquared_adj)\n",
    "\n",
    "# Extract the beta\n",
    "regression_beta = CAPM_fit.params['Market_Excess']\n",
    "print(regression_beta)"
   ]
  },
  {
   "cell_type": "code",
   "execution_count": null,
   "id": "72bc8ae9-9e9e-48b1-81fe-7339083582b7",
   "metadata": {},
   "outputs": [],
   "source": []
  }
 ],
 "metadata": {
  "kernelspec": {
   "display_name": "Python 3 (ipykernel)",
   "language": "python",
   "name": "python3"
  },
  "language_info": {
   "codemirror_mode": {
    "name": "ipython",
    "version": 3
   },
   "file_extension": ".py",
   "mimetype": "text/x-python",
   "name": "python",
   "nbconvert_exporter": "python",
   "pygments_lexer": "ipython3",
   "version": "3.11.7"
  },
  "widgets": {
   "application/vnd.jupyter.widget-state+json": {
    "state": {},
    "version_major": 2,
    "version_minor": 0
   }
  }
 },
 "nbformat": 4,
 "nbformat_minor": 5
}
