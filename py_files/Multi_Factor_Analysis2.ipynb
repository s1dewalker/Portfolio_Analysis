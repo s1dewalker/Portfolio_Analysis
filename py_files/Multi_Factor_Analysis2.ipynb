{
 "cells": [
  {
   "cell_type": "markdown",
   "id": "dbf91ead-9da7-4860-bb32-d4ac4c7ac742",
   "metadata": {},
   "source": [
    "# Fama French 3-Factor Modeling of NYSE stocks"
   ]
  },
  {
   "cell_type": "code",
   "execution_count": 2,
   "id": "7834fa58-dd16-4231-a152-b893affa28e3",
   "metadata": {},
   "outputs": [],
   "source": [
    "import pandas as pd"
   ]
  },
  {
   "cell_type": "markdown",
   "id": "78a93b72-f8c9-426e-ad1f-a6ac363b2817",
   "metadata": {},
   "source": [
    "#### Extracting and Preparing Data"
   ]
  },
  {
   "cell_type": "code",
   "execution_count": 4,
   "id": "0843e918-0359-48a8-a8eb-75c4b61bdebf",
   "metadata": {},
   "outputs": [
    {
     "name": "stdout",
     "output_type": "stream",
     "text": [
      "Requirement already satisfied: yfinance in d:\\users\\sujay\\lib\\site-packages (0.2.48)\n",
      "Requirement already satisfied: pandas>=1.3.0 in d:\\users\\sujay\\lib\\site-packages (from yfinance) (2.1.4)\n",
      "Requirement already satisfied: numpy>=1.16.5 in d:\\users\\sujay\\lib\\site-packages (from yfinance) (1.26.4)\n",
      "Requirement already satisfied: requests>=2.31 in d:\\users\\sujay\\lib\\site-packages (from yfinance) (2.31.0)\n",
      "Requirement already satisfied: multitasking>=0.0.7 in d:\\users\\sujay\\lib\\site-packages (from yfinance) (0.0.11)\n",
      "Requirement already satisfied: lxml>=4.9.1 in d:\\users\\sujay\\lib\\site-packages (from yfinance) (4.9.3)\n",
      "Requirement already satisfied: platformdirs>=2.0.0 in d:\\users\\sujay\\lib\\site-packages (from yfinance) (3.10.0)\n",
      "Requirement already satisfied: pytz>=2022.5 in d:\\users\\sujay\\lib\\site-packages (from yfinance) (2023.3.post1)\n",
      "Requirement already satisfied: frozendict>=2.3.4 in d:\\users\\sujay\\lib\\site-packages (from yfinance) (2.4.2)\n",
      "Requirement already satisfied: peewee>=3.16.2 in d:\\users\\sujay\\lib\\site-packages (from yfinance) (3.17.7)\n",
      "Requirement already satisfied: beautifulsoup4>=4.11.1 in d:\\users\\sujay\\lib\\site-packages (from yfinance) (4.12.2)\n",
      "Requirement already satisfied: html5lib>=1.1 in d:\\users\\sujay\\lib\\site-packages (from yfinance) (1.1)\n",
      "Requirement already satisfied: soupsieve>1.2 in d:\\users\\sujay\\lib\\site-packages (from beautifulsoup4>=4.11.1->yfinance) (2.5)\n",
      "Requirement already satisfied: six>=1.9 in d:\\users\\sujay\\lib\\site-packages (from html5lib>=1.1->yfinance) (1.16.0)\n",
      "Requirement already satisfied: webencodings in d:\\users\\sujay\\lib\\site-packages (from html5lib>=1.1->yfinance) (0.5.1)\n",
      "Requirement already satisfied: python-dateutil>=2.8.2 in d:\\users\\sujay\\lib\\site-packages (from pandas>=1.3.0->yfinance) (2.8.2)\n",
      "Requirement already satisfied: tzdata>=2022.1 in d:\\users\\sujay\\lib\\site-packages (from pandas>=1.3.0->yfinance) (2023.3)\n",
      "Requirement already satisfied: charset-normalizer<4,>=2 in d:\\users\\sujay\\lib\\site-packages (from requests>=2.31->yfinance) (2.0.4)\n",
      "Requirement already satisfied: idna<4,>=2.5 in d:\\users\\sujay\\lib\\site-packages (from requests>=2.31->yfinance) (3.4)\n",
      "Requirement already satisfied: urllib3<3,>=1.21.1 in d:\\users\\sujay\\lib\\site-packages (from requests>=2.31->yfinance) (2.0.7)\n",
      "Requirement already satisfied: certifi>=2017.4.17 in d:\\users\\sujay\\lib\\site-packages (from requests>=2.31->yfinance) (2024.8.30)\n",
      "Note: you may need to restart the kernel to use updated packages.\n"
     ]
    }
   ],
   "source": [
    "pip install yfinance"
   ]
  },
  {
   "cell_type": "code",
   "execution_count": 5,
   "id": "24235b5b-e6ec-46e7-9dcf-91636c9ce9dc",
   "metadata": {},
   "outputs": [],
   "source": [
    "import yfinance as yf"
   ]
  },
  {
   "cell_type": "markdown",
   "id": "cc18c770-c213-4e89-b1c7-5d572b05a672",
   "metadata": {},
   "source": [
    "**Enter dates range:**"
   ]
  },
  {
   "cell_type": "code",
   "execution_count": 7,
   "id": "ef07d9b0-21a5-4430-9ba1-89726c1d5734",
   "metadata": {},
   "outputs": [
    {
     "name": "stdout",
     "output_type": "stream",
     "text": [
      "34\n"
     ]
    }
   ],
   "source": [
    "# Define the start and end dates (yyyy-mm-dd)\n",
    "start_date = pd.to_datetime(\"2022-01-01\")\n",
    "end_date = pd.to_datetime(\"2024-11-06\")\n",
    "\n",
    "# Calculate the difference in months\n",
    "months_diff = (end_date.year - start_date.year) * 12 + end_date.month - start_date.month\n",
    "\n",
    "print(months_diff)"
   ]
  },
  {
   "cell_type": "markdown",
   "id": "b85b00a7-7285-4220-bf2f-9513014f3334",
   "metadata": {},
   "source": [
    "**Enter stock tickers:**"
   ]
  },
  {
   "cell_type": "code",
   "execution_count": 9,
   "id": "9b201ffe-a3d3-4a3c-ab60-e970fa6e2f4e",
   "metadata": {},
   "outputs": [
    {
     "name": "stderr",
     "output_type": "stream",
     "text": [
      "[*********************100%***********************]  10 of 10 completed"
     ]
    },
    {
     "name": "stdout",
     "output_type": "stream",
     "text": [
      "Ticker                            AMD        AMZN          C         CVX  \\\n",
      "Date                                                                       \n",
      "2022-01-03 00:00:00+00:00  150.240005  170.404495  63.099998  119.260002   \n",
      "2022-01-04 00:00:00+00:00  144.419998  167.522003  63.590000  121.430000   \n",
      "2022-01-05 00:00:00+00:00  136.149994  164.356995  62.849998  122.220001   \n",
      "2022-01-06 00:00:00+00:00  136.229996  163.253998  64.910004  123.260002   \n",
      "2022-01-07 00:00:00+00:00  132.000000  162.554001  65.779999  125.029999   \n",
      "\n",
      "Ticker                            DIS        GOOG         JPM        MSFT  \\\n",
      "Date                                                                        \n",
      "2022-01-03 00:00:00+00:00  156.759995  145.074493  161.699997  334.750000   \n",
      "2022-01-04 00:00:00+00:00  155.729996  144.416504  167.830002  329.010010   \n",
      "2022-01-05 00:00:00+00:00  155.190002  137.653503  163.779999  316.380005   \n",
      "2022-01-06 00:00:00+00:00  156.899994  137.550995  165.520004  313.880005   \n",
      "2022-01-07 00:00:00+00:00  157.830002  137.004501  167.160004  314.040009   \n",
      "\n",
      "Ticker                           TSLA       UBER  \n",
      "Date                                              \n",
      "2022-01-03 00:00:00+00:00  399.926666  43.950001  \n",
      "2022-01-04 00:00:00+00:00  383.196655  44.419998  \n",
      "2022-01-05 00:00:00+00:00  362.706665  43.240002  \n",
      "2022-01-06 00:00:00+00:00  354.899994  42.029999  \n",
      "2022-01-07 00:00:00+00:00  342.320007  41.509998  \n"
     ]
    },
    {
     "name": "stderr",
     "output_type": "stream",
     "text": [
      "\n"
     ]
    }
   ],
   "source": [
    "# List of tickers for NSE stocks (append '.NS' to each NSE ticker)\n",
    "tickers = [\"JPM\", \"CVX\", \"C\", \"AMD\", \"TSLA\", \"AMZN\", \"UBER\", \"GOOG\", \"MSFT\", \"DIS\"]  # Add more tickers as needed\n",
    "\n",
    "# Download historical data for 1 or 2 years\n",
    "data = yf.download(tickers, start=start_date, end=end_date)\n",
    "\n",
    "# Extract only the closing prices\n",
    "closing_prices = data['Close']\n",
    "\n",
    "# Display the combined DataFrame\n",
    "print(closing_prices.head())\n",
    "\n",
    "# Optionally, save to a CSV file if you want\n",
    "closing_prices.to_csv(\"nse_closing_prices.csv\")"
   ]
  },
  {
   "cell_type": "code",
   "execution_count": 10,
   "id": "b8aef829-d6c8-4333-b7ee-476dba28064f",
   "metadata": {},
   "outputs": [
    {
     "data": {
      "text/html": [
       "<div>\n",
       "<style scoped>\n",
       "    .dataframe tbody tr th:only-of-type {\n",
       "        vertical-align: middle;\n",
       "    }\n",
       "\n",
       "    .dataframe tbody tr th {\n",
       "        vertical-align: top;\n",
       "    }\n",
       "\n",
       "    .dataframe thead th {\n",
       "        text-align: right;\n",
       "    }\n",
       "</style>\n",
       "<table border=\"1\" class=\"dataframe\">\n",
       "  <thead>\n",
       "    <tr style=\"text-align: right;\">\n",
       "      <th></th>\n",
       "      <th>Date</th>\n",
       "      <th>AMD</th>\n",
       "      <th>AMZN</th>\n",
       "      <th>C</th>\n",
       "      <th>CVX</th>\n",
       "      <th>DIS</th>\n",
       "      <th>GOOG</th>\n",
       "      <th>JPM</th>\n",
       "      <th>MSFT</th>\n",
       "      <th>TSLA</th>\n",
       "      <th>UBER</th>\n",
       "    </tr>\n",
       "  </thead>\n",
       "  <tbody>\n",
       "    <tr>\n",
       "      <th>0</th>\n",
       "      <td>2022-01-03 00:00:00+00:00</td>\n",
       "      <td>150.240005</td>\n",
       "      <td>170.404495</td>\n",
       "      <td>63.099998</td>\n",
       "      <td>119.260002</td>\n",
       "      <td>156.759995</td>\n",
       "      <td>145.074493</td>\n",
       "      <td>161.699997</td>\n",
       "      <td>334.750000</td>\n",
       "      <td>399.926666</td>\n",
       "      <td>43.950001</td>\n",
       "    </tr>\n",
       "    <tr>\n",
       "      <th>1</th>\n",
       "      <td>2022-01-04 00:00:00+00:00</td>\n",
       "      <td>144.419998</td>\n",
       "      <td>167.522003</td>\n",
       "      <td>63.590000</td>\n",
       "      <td>121.430000</td>\n",
       "      <td>155.729996</td>\n",
       "      <td>144.416504</td>\n",
       "      <td>167.830002</td>\n",
       "      <td>329.010010</td>\n",
       "      <td>383.196655</td>\n",
       "      <td>44.419998</td>\n",
       "    </tr>\n",
       "    <tr>\n",
       "      <th>2</th>\n",
       "      <td>2022-01-05 00:00:00+00:00</td>\n",
       "      <td>136.149994</td>\n",
       "      <td>164.356995</td>\n",
       "      <td>62.849998</td>\n",
       "      <td>122.220001</td>\n",
       "      <td>155.190002</td>\n",
       "      <td>137.653503</td>\n",
       "      <td>163.779999</td>\n",
       "      <td>316.380005</td>\n",
       "      <td>362.706665</td>\n",
       "      <td>43.240002</td>\n",
       "    </tr>\n",
       "    <tr>\n",
       "      <th>3</th>\n",
       "      <td>2022-01-06 00:00:00+00:00</td>\n",
       "      <td>136.229996</td>\n",
       "      <td>163.253998</td>\n",
       "      <td>64.910004</td>\n",
       "      <td>123.260002</td>\n",
       "      <td>156.899994</td>\n",
       "      <td>137.550995</td>\n",
       "      <td>165.520004</td>\n",
       "      <td>313.880005</td>\n",
       "      <td>354.899994</td>\n",
       "      <td>42.029999</td>\n",
       "    </tr>\n",
       "    <tr>\n",
       "      <th>4</th>\n",
       "      <td>2022-01-07 00:00:00+00:00</td>\n",
       "      <td>132.000000</td>\n",
       "      <td>162.554001</td>\n",
       "      <td>65.779999</td>\n",
       "      <td>125.029999</td>\n",
       "      <td>157.830002</td>\n",
       "      <td>137.004501</td>\n",
       "      <td>167.160004</td>\n",
       "      <td>314.040009</td>\n",
       "      <td>342.320007</td>\n",
       "      <td>41.509998</td>\n",
       "    </tr>\n",
       "  </tbody>\n",
       "</table>\n",
       "</div>"
      ],
      "text/plain": [
       "                        Date         AMD        AMZN          C         CVX  \\\n",
       "0  2022-01-03 00:00:00+00:00  150.240005  170.404495  63.099998  119.260002   \n",
       "1  2022-01-04 00:00:00+00:00  144.419998  167.522003  63.590000  121.430000   \n",
       "2  2022-01-05 00:00:00+00:00  136.149994  164.356995  62.849998  122.220001   \n",
       "3  2022-01-06 00:00:00+00:00  136.229996  163.253998  64.910004  123.260002   \n",
       "4  2022-01-07 00:00:00+00:00  132.000000  162.554001  65.779999  125.029999   \n",
       "\n",
       "          DIS        GOOG         JPM        MSFT        TSLA       UBER  \n",
       "0  156.759995  145.074493  161.699997  334.750000  399.926666  43.950001  \n",
       "1  155.729996  144.416504  167.830002  329.010010  383.196655  44.419998  \n",
       "2  155.190002  137.653503  163.779999  316.380005  362.706665  43.240002  \n",
       "3  156.899994  137.550995  165.520004  313.880005  354.899994  42.029999  \n",
       "4  157.830002  137.004501  167.160004  314.040009  342.320007  41.509998  "
      ]
     },
     "execution_count": 10,
     "metadata": {},
     "output_type": "execute_result"
    }
   ],
   "source": [
    "df = pd.read_csv(r\"nse_closing_prices.csv\")\n",
    "df.head()"
   ]
  },
  {
   "cell_type": "code",
   "execution_count": 11,
   "id": "d1a5f0d2-99e1-414d-8458-6c8f76e6a9d0",
   "metadata": {},
   "outputs": [],
   "source": [
    "df.set_index('Date', inplace =True)"
   ]
  },
  {
   "cell_type": "code",
   "execution_count": 12,
   "id": "0203e59d-f785-4818-8c95-2d5d19c43141",
   "metadata": {},
   "outputs": [
    {
     "data": {
      "text/plain": [
       "(715, 10)"
      ]
     },
     "execution_count": 12,
     "metadata": {},
     "output_type": "execute_result"
    }
   ],
   "source": [
    "df.shape"
   ]
  },
  {
   "cell_type": "markdown",
   "id": "94da3c63-3aed-4dea-9f1a-d76fb627faae",
   "metadata": {},
   "source": [
    "#### Calculating daily returns"
   ]
  },
  {
   "cell_type": "code",
   "execution_count": 14,
   "id": "3f55a84f-45cb-4c8c-a69c-e1c3809f05f5",
   "metadata": {},
   "outputs": [],
   "source": [
    "import numpy as np"
   ]
  },
  {
   "cell_type": "code",
   "execution_count": 15,
   "id": "2a5b94cd-52f6-4d71-8b30-55270b7e10c0",
   "metadata": {},
   "outputs": [],
   "source": [
    "returns = df.pct_change()"
   ]
  },
  {
   "cell_type": "code",
   "execution_count": 16,
   "id": "7aa503f4-e8c2-4f4f-8b59-5b056dd368b4",
   "metadata": {},
   "outputs": [],
   "source": [
    "returns.dropna(inplace = True)"
   ]
  },
  {
   "cell_type": "code",
   "execution_count": 17,
   "id": "77343d37-0d96-41e6-9dfc-272f1b4801ab",
   "metadata": {},
   "outputs": [
    {
     "data": {
      "text/html": [
       "<div>\n",
       "<style scoped>\n",
       "    .dataframe tbody tr th:only-of-type {\n",
       "        vertical-align: middle;\n",
       "    }\n",
       "\n",
       "    .dataframe tbody tr th {\n",
       "        vertical-align: top;\n",
       "    }\n",
       "\n",
       "    .dataframe thead th {\n",
       "        text-align: right;\n",
       "    }\n",
       "</style>\n",
       "<table border=\"1\" class=\"dataframe\">\n",
       "  <thead>\n",
       "    <tr style=\"text-align: right;\">\n",
       "      <th></th>\n",
       "      <th>AMD</th>\n",
       "      <th>AMZN</th>\n",
       "      <th>C</th>\n",
       "      <th>CVX</th>\n",
       "      <th>DIS</th>\n",
       "      <th>GOOG</th>\n",
       "      <th>JPM</th>\n",
       "      <th>MSFT</th>\n",
       "      <th>TSLA</th>\n",
       "      <th>UBER</th>\n",
       "    </tr>\n",
       "    <tr>\n",
       "      <th>Date</th>\n",
       "      <th></th>\n",
       "      <th></th>\n",
       "      <th></th>\n",
       "      <th></th>\n",
       "      <th></th>\n",
       "      <th></th>\n",
       "      <th></th>\n",
       "      <th></th>\n",
       "      <th></th>\n",
       "      <th></th>\n",
       "    </tr>\n",
       "  </thead>\n",
       "  <tbody>\n",
       "    <tr>\n",
       "      <th>2022-01-04 00:00:00+00:00</th>\n",
       "      <td>-0.038738</td>\n",
       "      <td>-0.016916</td>\n",
       "      <td>0.007765</td>\n",
       "      <td>0.018196</td>\n",
       "      <td>-0.006571</td>\n",
       "      <td>-0.004536</td>\n",
       "      <td>0.037910</td>\n",
       "      <td>-0.017147</td>\n",
       "      <td>-0.041833</td>\n",
       "      <td>0.010694</td>\n",
       "    </tr>\n",
       "    <tr>\n",
       "      <th>2022-01-05 00:00:00+00:00</th>\n",
       "      <td>-0.057264</td>\n",
       "      <td>-0.018893</td>\n",
       "      <td>-0.011637</td>\n",
       "      <td>0.006506</td>\n",
       "      <td>-0.003467</td>\n",
       "      <td>-0.046830</td>\n",
       "      <td>-0.024132</td>\n",
       "      <td>-0.038388</td>\n",
       "      <td>-0.053471</td>\n",
       "      <td>-0.026565</td>\n",
       "    </tr>\n",
       "    <tr>\n",
       "      <th>2022-01-06 00:00:00+00:00</th>\n",
       "      <td>0.000588</td>\n",
       "      <td>-0.006711</td>\n",
       "      <td>0.032777</td>\n",
       "      <td>0.008509</td>\n",
       "      <td>0.011019</td>\n",
       "      <td>-0.000745</td>\n",
       "      <td>0.010624</td>\n",
       "      <td>-0.007902</td>\n",
       "      <td>-0.021523</td>\n",
       "      <td>-0.027983</td>\n",
       "    </tr>\n",
       "    <tr>\n",
       "      <th>2022-01-07 00:00:00+00:00</th>\n",
       "      <td>-0.031050</td>\n",
       "      <td>-0.004288</td>\n",
       "      <td>0.013403</td>\n",
       "      <td>0.014360</td>\n",
       "      <td>0.005927</td>\n",
       "      <td>-0.003973</td>\n",
       "      <td>0.009908</td>\n",
       "      <td>0.000510</td>\n",
       "      <td>-0.035447</td>\n",
       "      <td>-0.012372</td>\n",
       "    </tr>\n",
       "    <tr>\n",
       "      <th>2022-01-10 00:00:00+00:00</th>\n",
       "      <td>0.000000</td>\n",
       "      <td>-0.006570</td>\n",
       "      <td>0.003801</td>\n",
       "      <td>0.000640</td>\n",
       "      <td>-0.007793</td>\n",
       "      <td>0.011456</td>\n",
       "      <td>0.000957</td>\n",
       "      <td>0.000732</td>\n",
       "      <td>0.030342</td>\n",
       "      <td>0.026259</td>\n",
       "    </tr>\n",
       "  </tbody>\n",
       "</table>\n",
       "</div>"
      ],
      "text/plain": [
       "                                AMD      AMZN         C       CVX       DIS  \\\n",
       "Date                                                                          \n",
       "2022-01-04 00:00:00+00:00 -0.038738 -0.016916  0.007765  0.018196 -0.006571   \n",
       "2022-01-05 00:00:00+00:00 -0.057264 -0.018893 -0.011637  0.006506 -0.003467   \n",
       "2022-01-06 00:00:00+00:00  0.000588 -0.006711  0.032777  0.008509  0.011019   \n",
       "2022-01-07 00:00:00+00:00 -0.031050 -0.004288  0.013403  0.014360  0.005927   \n",
       "2022-01-10 00:00:00+00:00  0.000000 -0.006570  0.003801  0.000640 -0.007793   \n",
       "\n",
       "                               GOOG       JPM      MSFT      TSLA      UBER  \n",
       "Date                                                                         \n",
       "2022-01-04 00:00:00+00:00 -0.004536  0.037910 -0.017147 -0.041833  0.010694  \n",
       "2022-01-05 00:00:00+00:00 -0.046830 -0.024132 -0.038388 -0.053471 -0.026565  \n",
       "2022-01-06 00:00:00+00:00 -0.000745  0.010624 -0.007902 -0.021523 -0.027983  \n",
       "2022-01-07 00:00:00+00:00 -0.003973  0.009908  0.000510 -0.035447 -0.012372  \n",
       "2022-01-10 00:00:00+00:00  0.011456  0.000957  0.000732  0.030342  0.026259  "
      ]
     },
     "execution_count": 17,
     "metadata": {},
     "output_type": "execute_result"
    }
   ],
   "source": [
    "returns.head()"
   ]
  },
  {
   "cell_type": "markdown",
   "id": "b36fb94e-cdd9-48ac-9536-d8ceff198b7c",
   "metadata": {},
   "source": [
    "### Constructing portfolio"
   ]
  },
  {
   "cell_type": "markdown",
   "id": "7b03525b-e169-4778-83d0-7d55204da818",
   "metadata": {},
   "source": [
    "__Equal weighted portfolio__"
   ]
  },
  {
   "cell_type": "code",
   "execution_count": 20,
   "id": "c8bf1e23-02ee-4df6-96f5-50ce826d0599",
   "metadata": {},
   "outputs": [
    {
     "data": {
      "text/plain": [
       "array([0.1, 0.1, 0.1, 0.1, 0.1, 0.1, 0.1, 0.1, 0.1, 0.1])"
      ]
     },
     "execution_count": 20,
     "metadata": {},
     "output_type": "execute_result"
    }
   ],
   "source": [
    "#weights = [0.1,0.1,0.1,0.1,0.1,0.1,0.1,0.1,0.1,0.1]\n",
    "# Count the total number of stocks\n",
    "num_stocks = len(df.columns)\n",
    "num_stocks\n",
    "\n",
    "\n",
    "# Create an array of equal weights\n",
    "equal_weights = np.repeat(1/num_stocks, num_stocks)\n",
    "equal_weights\n",
    "\n",
    "weights = equal_weights\n",
    "weights"
   ]
  },
  {
   "cell_type": "code",
   "execution_count": 21,
   "id": "32d923cf-7deb-4dc6-840b-dde0dda0174b",
   "metadata": {},
   "outputs": [],
   "source": [
    "# Create portfolio returns column\n",
    "returns['Portfolio']= returns.dot(weights)"
   ]
  },
  {
   "cell_type": "code",
   "execution_count": 22,
   "id": "efffbd71-55f9-46a9-8b46-4d08f126e036",
   "metadata": {},
   "outputs": [
    {
     "data": {
      "text/html": [
       "<div>\n",
       "<style scoped>\n",
       "    .dataframe tbody tr th:only-of-type {\n",
       "        vertical-align: middle;\n",
       "    }\n",
       "\n",
       "    .dataframe tbody tr th {\n",
       "        vertical-align: top;\n",
       "    }\n",
       "\n",
       "    .dataframe thead th {\n",
       "        text-align: right;\n",
       "    }\n",
       "</style>\n",
       "<table border=\"1\" class=\"dataframe\">\n",
       "  <thead>\n",
       "    <tr style=\"text-align: right;\">\n",
       "      <th></th>\n",
       "      <th>AMD</th>\n",
       "      <th>AMZN</th>\n",
       "      <th>C</th>\n",
       "      <th>CVX</th>\n",
       "      <th>DIS</th>\n",
       "      <th>GOOG</th>\n",
       "      <th>JPM</th>\n",
       "      <th>MSFT</th>\n",
       "      <th>TSLA</th>\n",
       "      <th>UBER</th>\n",
       "      <th>Portfolio</th>\n",
       "    </tr>\n",
       "    <tr>\n",
       "      <th>Date</th>\n",
       "      <th></th>\n",
       "      <th></th>\n",
       "      <th></th>\n",
       "      <th></th>\n",
       "      <th></th>\n",
       "      <th></th>\n",
       "      <th></th>\n",
       "      <th></th>\n",
       "      <th></th>\n",
       "      <th></th>\n",
       "      <th></th>\n",
       "    </tr>\n",
       "  </thead>\n",
       "  <tbody>\n",
       "    <tr>\n",
       "      <th>2022-01-04 00:00:00+00:00</th>\n",
       "      <td>-0.038738</td>\n",
       "      <td>-0.016916</td>\n",
       "      <td>0.007765</td>\n",
       "      <td>0.018196</td>\n",
       "      <td>-0.006571</td>\n",
       "      <td>-0.004536</td>\n",
       "      <td>0.037910</td>\n",
       "      <td>-0.017147</td>\n",
       "      <td>-0.041833</td>\n",
       "      <td>0.010694</td>\n",
       "      <td>-0.005117</td>\n",
       "    </tr>\n",
       "    <tr>\n",
       "      <th>2022-01-05 00:00:00+00:00</th>\n",
       "      <td>-0.057264</td>\n",
       "      <td>-0.018893</td>\n",
       "      <td>-0.011637</td>\n",
       "      <td>0.006506</td>\n",
       "      <td>-0.003467</td>\n",
       "      <td>-0.046830</td>\n",
       "      <td>-0.024132</td>\n",
       "      <td>-0.038388</td>\n",
       "      <td>-0.053471</td>\n",
       "      <td>-0.026565</td>\n",
       "      <td>-0.027414</td>\n",
       "    </tr>\n",
       "    <tr>\n",
       "      <th>2022-01-06 00:00:00+00:00</th>\n",
       "      <td>0.000588</td>\n",
       "      <td>-0.006711</td>\n",
       "      <td>0.032777</td>\n",
       "      <td>0.008509</td>\n",
       "      <td>0.011019</td>\n",
       "      <td>-0.000745</td>\n",
       "      <td>0.010624</td>\n",
       "      <td>-0.007902</td>\n",
       "      <td>-0.021523</td>\n",
       "      <td>-0.027983</td>\n",
       "      <td>-0.000135</td>\n",
       "    </tr>\n",
       "    <tr>\n",
       "      <th>2022-01-07 00:00:00+00:00</th>\n",
       "      <td>-0.031050</td>\n",
       "      <td>-0.004288</td>\n",
       "      <td>0.013403</td>\n",
       "      <td>0.014360</td>\n",
       "      <td>0.005927</td>\n",
       "      <td>-0.003973</td>\n",
       "      <td>0.009908</td>\n",
       "      <td>0.000510</td>\n",
       "      <td>-0.035447</td>\n",
       "      <td>-0.012372</td>\n",
       "      <td>-0.004302</td>\n",
       "    </tr>\n",
       "    <tr>\n",
       "      <th>2022-01-10 00:00:00+00:00</th>\n",
       "      <td>0.000000</td>\n",
       "      <td>-0.006570</td>\n",
       "      <td>0.003801</td>\n",
       "      <td>0.000640</td>\n",
       "      <td>-0.007793</td>\n",
       "      <td>0.011456</td>\n",
       "      <td>0.000957</td>\n",
       "      <td>0.000732</td>\n",
       "      <td>0.030342</td>\n",
       "      <td>0.026259</td>\n",
       "      <td>0.005982</td>\n",
       "    </tr>\n",
       "  </tbody>\n",
       "</table>\n",
       "</div>"
      ],
      "text/plain": [
       "                                AMD      AMZN         C       CVX       DIS  \\\n",
       "Date                                                                          \n",
       "2022-01-04 00:00:00+00:00 -0.038738 -0.016916  0.007765  0.018196 -0.006571   \n",
       "2022-01-05 00:00:00+00:00 -0.057264 -0.018893 -0.011637  0.006506 -0.003467   \n",
       "2022-01-06 00:00:00+00:00  0.000588 -0.006711  0.032777  0.008509  0.011019   \n",
       "2022-01-07 00:00:00+00:00 -0.031050 -0.004288  0.013403  0.014360  0.005927   \n",
       "2022-01-10 00:00:00+00:00  0.000000 -0.006570  0.003801  0.000640 -0.007793   \n",
       "\n",
       "                               GOOG       JPM      MSFT      TSLA      UBER  \\\n",
       "Date                                                                          \n",
       "2022-01-04 00:00:00+00:00 -0.004536  0.037910 -0.017147 -0.041833  0.010694   \n",
       "2022-01-05 00:00:00+00:00 -0.046830 -0.024132 -0.038388 -0.053471 -0.026565   \n",
       "2022-01-06 00:00:00+00:00 -0.000745  0.010624 -0.007902 -0.021523 -0.027983   \n",
       "2022-01-07 00:00:00+00:00 -0.003973  0.009908  0.000510 -0.035447 -0.012372   \n",
       "2022-01-10 00:00:00+00:00  0.011456  0.000957  0.000732  0.030342  0.026259   \n",
       "\n",
       "                           Portfolio  \n",
       "Date                                  \n",
       "2022-01-04 00:00:00+00:00  -0.005117  \n",
       "2022-01-05 00:00:00+00:00  -0.027414  \n",
       "2022-01-06 00:00:00+00:00  -0.000135  \n",
       "2022-01-07 00:00:00+00:00  -0.004302  \n",
       "2022-01-10 00:00:00+00:00   0.005982  "
      ]
     },
     "execution_count": 22,
     "metadata": {},
     "output_type": "execute_result"
    }
   ],
   "source": [
    "returns.head()"
   ]
  },
  {
   "cell_type": "code",
   "execution_count": 23,
   "id": "2a68d4d8-d912-48df-82fe-8cc03213b711",
   "metadata": {},
   "outputs": [
    {
     "data": {
      "text/html": [
       "<div>\n",
       "<style scoped>\n",
       "    .dataframe tbody tr th:only-of-type {\n",
       "        vertical-align: middle;\n",
       "    }\n",
       "\n",
       "    .dataframe tbody tr th {\n",
       "        vertical-align: top;\n",
       "    }\n",
       "\n",
       "    .dataframe thead th {\n",
       "        text-align: right;\n",
       "    }\n",
       "</style>\n",
       "<table border=\"1\" class=\"dataframe\">\n",
       "  <thead>\n",
       "    <tr style=\"text-align: right;\">\n",
       "      <th></th>\n",
       "      <th>count</th>\n",
       "      <th>mean</th>\n",
       "      <th>std</th>\n",
       "      <th>min</th>\n",
       "      <th>25%</th>\n",
       "      <th>50%</th>\n",
       "      <th>75%</th>\n",
       "      <th>max</th>\n",
       "    </tr>\n",
       "  </thead>\n",
       "  <tbody>\n",
       "    <tr>\n",
       "      <th>Portfolio</th>\n",
       "      <td>714.0</td>\n",
       "      <td>0.000389</td>\n",
       "      <td>0.016023</td>\n",
       "      <td>-0.055769</td>\n",
       "      <td>-0.008217</td>\n",
       "      <td>0.000641</td>\n",
       "      <td>0.010035</td>\n",
       "      <td>0.075509</td>\n",
       "    </tr>\n",
       "  </tbody>\n",
       "</table>\n",
       "</div>"
      ],
      "text/plain": [
       "           count      mean       std       min       25%       50%       75%  \\\n",
       "Portfolio  714.0  0.000389  0.016023 -0.055769 -0.008217  0.000641  0.010035   \n",
       "\n",
       "                max  \n",
       "Portfolio  0.075509  "
      ]
     },
     "execution_count": 23,
     "metadata": {},
     "output_type": "execute_result"
    }
   ],
   "source": [
    "returns['Portfolio'].describe().to_frame().T"
   ]
  },
  {
   "cell_type": "code",
   "execution_count": 24,
   "id": "c23af60d-8f01-451b-8314-1cab144dd034",
   "metadata": {},
   "outputs": [
    {
     "data": {
      "text/html": [
       "<div>\n",
       "<style scoped>\n",
       "    .dataframe tbody tr th:only-of-type {\n",
       "        vertical-align: middle;\n",
       "    }\n",
       "\n",
       "    .dataframe tbody tr th {\n",
       "        vertical-align: top;\n",
       "    }\n",
       "\n",
       "    .dataframe thead th {\n",
       "        text-align: right;\n",
       "    }\n",
       "</style>\n",
       "<table border=\"1\" class=\"dataframe\">\n",
       "  <thead>\n",
       "    <tr style=\"text-align: right;\">\n",
       "      <th></th>\n",
       "      <th>AMD</th>\n",
       "      <th>AMZN</th>\n",
       "      <th>C</th>\n",
       "      <th>CVX</th>\n",
       "      <th>DIS</th>\n",
       "      <th>GOOG</th>\n",
       "      <th>JPM</th>\n",
       "      <th>MSFT</th>\n",
       "      <th>TSLA</th>\n",
       "      <th>UBER</th>\n",
       "      <th>Portfolio</th>\n",
       "    </tr>\n",
       "    <tr>\n",
       "      <th>Date</th>\n",
       "      <th></th>\n",
       "      <th></th>\n",
       "      <th></th>\n",
       "      <th></th>\n",
       "      <th></th>\n",
       "      <th></th>\n",
       "      <th></th>\n",
       "      <th></th>\n",
       "      <th></th>\n",
       "      <th></th>\n",
       "      <th></th>\n",
       "    </tr>\n",
       "  </thead>\n",
       "  <tbody>\n",
       "    <tr>\n",
       "      <th>2024-10-30 00:00:00+00:00</th>\n",
       "      <td>0.989084</td>\n",
       "      <td>1.131015</td>\n",
       "      <td>1.022187</td>\n",
       "      <td>1.241405</td>\n",
       "      <td>0.606532</td>\n",
       "      <td>1.214135</td>\n",
       "      <td>1.387817</td>\n",
       "      <td>1.292099</td>\n",
       "      <td>0.643993</td>\n",
       "      <td>1.807281</td>\n",
       "      <td>1.222427</td>\n",
       "    </tr>\n",
       "    <tr>\n",
       "      <th>2024-10-31 00:00:00+00:00</th>\n",
       "      <td>0.958932</td>\n",
       "      <td>1.093868</td>\n",
       "      <td>1.016957</td>\n",
       "      <td>1.247862</td>\n",
       "      <td>0.613677</td>\n",
       "      <td>1.190354</td>\n",
       "      <td>1.372418</td>\n",
       "      <td>1.213891</td>\n",
       "      <td>0.624740</td>\n",
       "      <td>1.639363</td>\n",
       "      <td>1.189974</td>\n",
       "    </tr>\n",
       "    <tr>\n",
       "      <th>2024-11-01 00:00:00+00:00</th>\n",
       "      <td>0.944223</td>\n",
       "      <td>1.161530</td>\n",
       "      <td>1.009667</td>\n",
       "      <td>1.283498</td>\n",
       "      <td>0.611189</td>\n",
       "      <td>1.190078</td>\n",
       "      <td>1.378726</td>\n",
       "      <td>1.225900</td>\n",
       "      <td>0.622564</td>\n",
       "      <td>1.666667</td>\n",
       "      <td>1.200836</td>\n",
       "    </tr>\n",
       "    <tr>\n",
       "      <th>2024-11-04 00:00:00+00:00</th>\n",
       "      <td>0.936568</td>\n",
       "      <td>1.148913</td>\n",
       "      <td>0.988114</td>\n",
       "      <td>1.291045</td>\n",
       "      <td>0.611062</td>\n",
       "      <td>1.176499</td>\n",
       "      <td>1.359184</td>\n",
       "      <td>1.220194</td>\n",
       "      <td>0.607211</td>\n",
       "      <td>1.666667</td>\n",
       "      <td>1.190084</td>\n",
       "    </tr>\n",
       "    <tr>\n",
       "      <th>2024-11-05 00:00:00+00:00</th>\n",
       "      <td>0.942891</td>\n",
       "      <td>1.170744</td>\n",
       "      <td>1.009033</td>\n",
       "      <td>1.286349</td>\n",
       "      <td>0.616420</td>\n",
       "      <td>1.181531</td>\n",
       "      <td>1.369759</td>\n",
       "      <td>1.229156</td>\n",
       "      <td>0.628715</td>\n",
       "      <td>1.687144</td>\n",
       "      <td>1.204264</td>\n",
       "    </tr>\n",
       "  </tbody>\n",
       "</table>\n",
       "</div>"
      ],
      "text/plain": [
       "                                AMD      AMZN         C       CVX       DIS  \\\n",
       "Date                                                                          \n",
       "2024-10-30 00:00:00+00:00  0.989084  1.131015  1.022187  1.241405  0.606532   \n",
       "2024-10-31 00:00:00+00:00  0.958932  1.093868  1.016957  1.247862  0.613677   \n",
       "2024-11-01 00:00:00+00:00  0.944223  1.161530  1.009667  1.283498  0.611189   \n",
       "2024-11-04 00:00:00+00:00  0.936568  1.148913  0.988114  1.291045  0.611062   \n",
       "2024-11-05 00:00:00+00:00  0.942891  1.170744  1.009033  1.286349  0.616420   \n",
       "\n",
       "                               GOOG       JPM      MSFT      TSLA      UBER  \\\n",
       "Date                                                                          \n",
       "2024-10-30 00:00:00+00:00  1.214135  1.387817  1.292099  0.643993  1.807281   \n",
       "2024-10-31 00:00:00+00:00  1.190354  1.372418  1.213891  0.624740  1.639363   \n",
       "2024-11-01 00:00:00+00:00  1.190078  1.378726  1.225900  0.622564  1.666667   \n",
       "2024-11-04 00:00:00+00:00  1.176499  1.359184  1.220194  0.607211  1.666667   \n",
       "2024-11-05 00:00:00+00:00  1.181531  1.369759  1.229156  0.628715  1.687144   \n",
       "\n",
       "                           Portfolio  \n",
       "Date                                  \n",
       "2024-10-30 00:00:00+00:00   1.222427  \n",
       "2024-10-31 00:00:00+00:00   1.189974  \n",
       "2024-11-01 00:00:00+00:00   1.200836  \n",
       "2024-11-04 00:00:00+00:00   1.190084  \n",
       "2024-11-05 00:00:00+00:00   1.204264  "
      ]
     },
     "execution_count": 24,
     "metadata": {},
     "output_type": "execute_result"
    }
   ],
   "source": [
    "# Calculate cumulative returns (growth factor)\n",
    "daily_cum_ret=(1+returns).cumprod()\n",
    "daily_cum_ret.tail()"
   ]
  },
  {
   "cell_type": "markdown",
   "id": "43ea4d81-2c1c-4b7e-a989-0106c5cef621",
   "metadata": {},
   "source": [
    "Assuming risk free rate to be 5% for the duration"
   ]
  },
  {
   "cell_type": "code",
   "execution_count": 26,
   "id": "4b6e5505-f982-4d5c-867a-e20b5384a110",
   "metadata": {},
   "outputs": [],
   "source": [
    "returns['RF'] = 0.05"
   ]
  },
  {
   "cell_type": "code",
   "execution_count": 27,
   "id": "c3f4c134-05b3-4e1e-a0ee-7f1c64ed6115",
   "metadata": {},
   "outputs": [],
   "source": [
    "# Calculate excess portfolio returns\n",
    "returns['Portfolio_Excess'] = returns['Portfolio'] - returns['RF']"
   ]
  },
  {
   "cell_type": "code",
   "execution_count": 28,
   "id": "3de303a5-b252-4fb7-8f8a-953c4c9b3fba",
   "metadata": {},
   "outputs": [
    {
     "data": {
      "text/html": [
       "<div>\n",
       "<style scoped>\n",
       "    .dataframe tbody tr th:only-of-type {\n",
       "        vertical-align: middle;\n",
       "    }\n",
       "\n",
       "    .dataframe tbody tr th {\n",
       "        vertical-align: top;\n",
       "    }\n",
       "\n",
       "    .dataframe thead th {\n",
       "        text-align: right;\n",
       "    }\n",
       "</style>\n",
       "<table border=\"1\" class=\"dataframe\">\n",
       "  <thead>\n",
       "    <tr style=\"text-align: right;\">\n",
       "      <th></th>\n",
       "      <th>AMD</th>\n",
       "      <th>AMZN</th>\n",
       "      <th>C</th>\n",
       "      <th>CVX</th>\n",
       "      <th>DIS</th>\n",
       "      <th>GOOG</th>\n",
       "      <th>JPM</th>\n",
       "      <th>MSFT</th>\n",
       "      <th>TSLA</th>\n",
       "      <th>UBER</th>\n",
       "      <th>Portfolio</th>\n",
       "      <th>RF</th>\n",
       "      <th>Portfolio_Excess</th>\n",
       "    </tr>\n",
       "    <tr>\n",
       "      <th>Date</th>\n",
       "      <th></th>\n",
       "      <th></th>\n",
       "      <th></th>\n",
       "      <th></th>\n",
       "      <th></th>\n",
       "      <th></th>\n",
       "      <th></th>\n",
       "      <th></th>\n",
       "      <th></th>\n",
       "      <th></th>\n",
       "      <th></th>\n",
       "      <th></th>\n",
       "      <th></th>\n",
       "    </tr>\n",
       "  </thead>\n",
       "  <tbody>\n",
       "    <tr>\n",
       "      <th>2024-10-30 00:00:00+00:00</th>\n",
       "      <td>-0.106165</td>\n",
       "      <td>0.009956</td>\n",
       "      <td>-0.002937</td>\n",
       "      <td>-0.003165</td>\n",
       "      <td>-0.010923</td>\n",
       "      <td>0.029216</td>\n",
       "      <td>0.006774</td>\n",
       "      <td>0.001343</td>\n",
       "      <td>-0.007591</td>\n",
       "      <td>0.002777</td>\n",
       "      <td>-0.008071</td>\n",
       "      <td>0.05</td>\n",
       "      <td>-0.058071</td>\n",
       "    </tr>\n",
       "    <tr>\n",
       "      <th>2024-10-31 00:00:00+00:00</th>\n",
       "      <td>-0.030485</td>\n",
       "      <td>-0.032844</td>\n",
       "      <td>-0.005116</td>\n",
       "      <td>0.005201</td>\n",
       "      <td>0.011780</td>\n",
       "      <td>-0.019587</td>\n",
       "      <td>-0.011096</td>\n",
       "      <td>-0.060528</td>\n",
       "      <td>-0.029897</td>\n",
       "      <td>-0.092912</td>\n",
       "      <td>-0.026548</td>\n",
       "      <td>0.05</td>\n",
       "      <td>-0.076548</td>\n",
       "    </tr>\n",
       "    <tr>\n",
       "      <th>2024-11-01 00:00:00+00:00</th>\n",
       "      <td>-0.015340</td>\n",
       "      <td>0.061856</td>\n",
       "      <td>-0.007168</td>\n",
       "      <td>0.028558</td>\n",
       "      <td>-0.004054</td>\n",
       "      <td>-0.000232</td>\n",
       "      <td>0.004596</td>\n",
       "      <td>0.009893</td>\n",
       "      <td>-0.003482</td>\n",
       "      <td>0.016655</td>\n",
       "      <td>0.009128</td>\n",
       "      <td>0.05</td>\n",
       "      <td>-0.040872</td>\n",
       "    </tr>\n",
       "    <tr>\n",
       "      <th>2024-11-04 00:00:00+00:00</th>\n",
       "      <td>-0.008107</td>\n",
       "      <td>-0.010862</td>\n",
       "      <td>-0.021347</td>\n",
       "      <td>0.005880</td>\n",
       "      <td>-0.000209</td>\n",
       "      <td>-0.011410</td>\n",
       "      <td>-0.014174</td>\n",
       "      <td>-0.004654</td>\n",
       "      <td>-0.024661</td>\n",
       "      <td>0.000000</td>\n",
       "      <td>-0.008954</td>\n",
       "      <td>0.05</td>\n",
       "      <td>-0.058954</td>\n",
       "    </tr>\n",
       "    <tr>\n",
       "      <th>2024-11-05 00:00:00+00:00</th>\n",
       "      <td>0.006751</td>\n",
       "      <td>0.019001</td>\n",
       "      <td>0.021171</td>\n",
       "      <td>-0.003637</td>\n",
       "      <td>0.008769</td>\n",
       "      <td>0.004277</td>\n",
       "      <td>0.007781</td>\n",
       "      <td>0.007345</td>\n",
       "      <td>0.035414</td>\n",
       "      <td>0.012287</td>\n",
       "      <td>0.011916</td>\n",
       "      <td>0.05</td>\n",
       "      <td>-0.038084</td>\n",
       "    </tr>\n",
       "  </tbody>\n",
       "</table>\n",
       "</div>"
      ],
      "text/plain": [
       "                                AMD      AMZN         C       CVX       DIS  \\\n",
       "Date                                                                          \n",
       "2024-10-30 00:00:00+00:00 -0.106165  0.009956 -0.002937 -0.003165 -0.010923   \n",
       "2024-10-31 00:00:00+00:00 -0.030485 -0.032844 -0.005116  0.005201  0.011780   \n",
       "2024-11-01 00:00:00+00:00 -0.015340  0.061856 -0.007168  0.028558 -0.004054   \n",
       "2024-11-04 00:00:00+00:00 -0.008107 -0.010862 -0.021347  0.005880 -0.000209   \n",
       "2024-11-05 00:00:00+00:00  0.006751  0.019001  0.021171 -0.003637  0.008769   \n",
       "\n",
       "                               GOOG       JPM      MSFT      TSLA      UBER  \\\n",
       "Date                                                                          \n",
       "2024-10-30 00:00:00+00:00  0.029216  0.006774  0.001343 -0.007591  0.002777   \n",
       "2024-10-31 00:00:00+00:00 -0.019587 -0.011096 -0.060528 -0.029897 -0.092912   \n",
       "2024-11-01 00:00:00+00:00 -0.000232  0.004596  0.009893 -0.003482  0.016655   \n",
       "2024-11-04 00:00:00+00:00 -0.011410 -0.014174 -0.004654 -0.024661  0.000000   \n",
       "2024-11-05 00:00:00+00:00  0.004277  0.007781  0.007345  0.035414  0.012287   \n",
       "\n",
       "                           Portfolio    RF  Portfolio_Excess  \n",
       "Date                                                          \n",
       "2024-10-30 00:00:00+00:00  -0.008071  0.05         -0.058071  \n",
       "2024-10-31 00:00:00+00:00  -0.026548  0.05         -0.076548  \n",
       "2024-11-01 00:00:00+00:00   0.009128  0.05         -0.040872  \n",
       "2024-11-04 00:00:00+00:00  -0.008954  0.05         -0.058954  \n",
       "2024-11-05 00:00:00+00:00   0.011916  0.05         -0.038084  "
      ]
     },
     "execution_count": 28,
     "metadata": {},
     "output_type": "execute_result"
    }
   ],
   "source": [
    "returns.tail()"
   ]
  },
  {
   "cell_type": "code",
   "execution_count": 29,
   "id": "90e663b8-a492-4eee-97fb-14cefb032df4",
   "metadata": {},
   "outputs": [],
   "source": [
    "import matplotlib.pyplot as plt"
   ]
  },
  {
   "cell_type": "markdown",
   "id": "1160ee95-fe2a-4764-8474-474d6e2420d2",
   "metadata": {},
   "source": [
    "### Benchmark data"
   ]
  },
  {
   "cell_type": "markdown",
   "id": "090599c3-1e90-4083-9ea2-fad63d2c8c16",
   "metadata": {},
   "source": [
    "get S&P500 data for benchmark"
   ]
  },
  {
   "cell_type": "code",
   "execution_count": 32,
   "id": "b4d08e48-7076-4e74-8f49-46b9098f8e34",
   "metadata": {},
   "outputs": [],
   "source": [
    "sp500_ticker = \"^GSPC\""
   ]
  },
  {
   "cell_type": "code",
   "execution_count": 33,
   "id": "a6d5bf27-e74e-42aa-9f0b-212a92ce3c75",
   "metadata": {},
   "outputs": [
    {
     "name": "stderr",
     "output_type": "stream",
     "text": [
      "[*********************100%***********************]  1 of 1 completed\n"
     ]
    }
   ],
   "source": [
    "sp500_data = yf.download(sp500_ticker, start=start_date, end=end_date)"
   ]
  },
  {
   "cell_type": "code",
   "execution_count": 34,
   "id": "3979edeb-151f-43f7-acad-dd4edfa53325",
   "metadata": {},
   "outputs": [],
   "source": [
    "sp500_closing_prices = sp500_data['Close']"
   ]
  },
  {
   "cell_type": "code",
   "execution_count": 35,
   "id": "67d447bc-6a8f-454c-81ff-fb429a625233",
   "metadata": {},
   "outputs": [
    {
     "name": "stdout",
     "output_type": "stream",
     "text": [
      "Ticker                           ^GSPC\n",
      "Date                                  \n",
      "2024-10-30 00:00:00+00:00  5813.669922\n",
      "2024-10-31 00:00:00+00:00  5705.450195\n",
      "2024-11-01 00:00:00+00:00  5728.799805\n",
      "2024-11-04 00:00:00+00:00  5712.689941\n",
      "2024-11-05 00:00:00+00:00  5782.759766\n"
     ]
    }
   ],
   "source": [
    "# Display the closing prices for S&P500\n",
    "print(sp500_closing_prices.tail())"
   ]
  },
  {
   "cell_type": "code",
   "execution_count": 36,
   "id": "82993ca2-6dc6-4018-ba5e-41e0fa007782",
   "metadata": {},
   "outputs": [],
   "source": [
    "# Calculate daily returns\n",
    "sp500_returns = sp500_closing_prices.pct_change().dropna()"
   ]
  },
  {
   "cell_type": "code",
   "execution_count": 37,
   "id": "fbf67ab0-2534-4875-9ed6-9cc0a5126a46",
   "metadata": {},
   "outputs": [
    {
     "name": "stdout",
     "output_type": "stream",
     "text": [
      "Ticker                        ^GSPC\n",
      "Date                               \n",
      "2024-10-30 00:00:00+00:00 -0.003300\n",
      "2024-10-31 00:00:00+00:00 -0.018615\n",
      "2024-11-01 00:00:00+00:00  0.004093\n",
      "2024-11-04 00:00:00+00:00 -0.002812\n",
      "2024-11-05 00:00:00+00:00  0.012266\n"
     ]
    }
   ],
   "source": [
    "# Display Nifty 50 returns\n",
    "print(sp500_returns.tail())"
   ]
  },
  {
   "cell_type": "code",
   "execution_count": 38,
   "id": "356cc268-5845-49f0-b1b5-ea2b995a5def",
   "metadata": {},
   "outputs": [
    {
     "data": {
      "text/html": [
       "<div>\n",
       "<style scoped>\n",
       "    .dataframe tbody tr th:only-of-type {\n",
       "        vertical-align: middle;\n",
       "    }\n",
       "\n",
       "    .dataframe tbody tr th {\n",
       "        vertical-align: top;\n",
       "    }\n",
       "\n",
       "    .dataframe thead th {\n",
       "        text-align: right;\n",
       "    }\n",
       "</style>\n",
       "<table border=\"1\" class=\"dataframe\">\n",
       "  <thead>\n",
       "    <tr style=\"text-align: right;\">\n",
       "      <th>Ticker</th>\n",
       "      <th>^GSPC</th>\n",
       "    </tr>\n",
       "    <tr>\n",
       "      <th>Date</th>\n",
       "      <th></th>\n",
       "    </tr>\n",
       "  </thead>\n",
       "  <tbody>\n",
       "    <tr>\n",
       "      <th>2024-10-30 00:00:00+00:00</th>\n",
       "      <td>1.212050</td>\n",
       "    </tr>\n",
       "    <tr>\n",
       "      <th>2024-10-31 00:00:00+00:00</th>\n",
       "      <td>1.189488</td>\n",
       "    </tr>\n",
       "    <tr>\n",
       "      <th>2024-11-01 00:00:00+00:00</th>\n",
       "      <td>1.194356</td>\n",
       "    </tr>\n",
       "    <tr>\n",
       "      <th>2024-11-04 00:00:00+00:00</th>\n",
       "      <td>1.190997</td>\n",
       "    </tr>\n",
       "    <tr>\n",
       "      <th>2024-11-05 00:00:00+00:00</th>\n",
       "      <td>1.205606</td>\n",
       "    </tr>\n",
       "  </tbody>\n",
       "</table>\n",
       "</div>"
      ],
      "text/plain": [
       "Ticker                        ^GSPC\n",
       "Date                               \n",
       "2024-10-30 00:00:00+00:00  1.212050\n",
       "2024-10-31 00:00:00+00:00  1.189488\n",
       "2024-11-01 00:00:00+00:00  1.194356\n",
       "2024-11-04 00:00:00+00:00  1.190997\n",
       "2024-11-05 00:00:00+00:00  1.205606"
      ]
     },
     "execution_count": 38,
     "metadata": {},
     "output_type": "execute_result"
    }
   ],
   "source": [
    "# Calculate cumulative returns (growth factor)\n",
    "sp500_cum_ret=(1+sp500_returns).cumprod()\n",
    "sp500_cum_ret.tail()"
   ]
  },
  {
   "cell_type": "code",
   "execution_count": 39,
   "id": "94ce93b0-6196-4ace-8934-95f71309d2eb",
   "metadata": {},
   "outputs": [],
   "source": [
    "sp500_returns['RF'] = 0.05"
   ]
  },
  {
   "cell_type": "code",
   "execution_count": 40,
   "id": "99eaf159-1bb0-4642-82b8-12702b52b1ad",
   "metadata": {},
   "outputs": [],
   "source": [
    "sp500_returns['Market_Excess'] = sp500_returns['^GSPC'] - sp500_returns['RF']"
   ]
  },
  {
   "cell_type": "code",
   "execution_count": 41,
   "id": "b820a3e6-9eef-4034-a29f-7b2d2782d796",
   "metadata": {},
   "outputs": [
    {
     "data": {
      "text/html": [
       "<div>\n",
       "<style scoped>\n",
       "    .dataframe tbody tr th:only-of-type {\n",
       "        vertical-align: middle;\n",
       "    }\n",
       "\n",
       "    .dataframe tbody tr th {\n",
       "        vertical-align: top;\n",
       "    }\n",
       "\n",
       "    .dataframe thead th {\n",
       "        text-align: right;\n",
       "    }\n",
       "</style>\n",
       "<table border=\"1\" class=\"dataframe\">\n",
       "  <thead>\n",
       "    <tr style=\"text-align: right;\">\n",
       "      <th>Ticker</th>\n",
       "      <th>^GSPC</th>\n",
       "      <th>RF</th>\n",
       "      <th>Market_Excess</th>\n",
       "    </tr>\n",
       "    <tr>\n",
       "      <th>Date</th>\n",
       "      <th></th>\n",
       "      <th></th>\n",
       "      <th></th>\n",
       "    </tr>\n",
       "  </thead>\n",
       "  <tbody>\n",
       "    <tr>\n",
       "      <th>2024-10-30 00:00:00+00:00</th>\n",
       "      <td>-0.003300</td>\n",
       "      <td>0.05</td>\n",
       "      <td>-0.053300</td>\n",
       "    </tr>\n",
       "    <tr>\n",
       "      <th>2024-10-31 00:00:00+00:00</th>\n",
       "      <td>-0.018615</td>\n",
       "      <td>0.05</td>\n",
       "      <td>-0.068615</td>\n",
       "    </tr>\n",
       "    <tr>\n",
       "      <th>2024-11-01 00:00:00+00:00</th>\n",
       "      <td>0.004093</td>\n",
       "      <td>0.05</td>\n",
       "      <td>-0.045907</td>\n",
       "    </tr>\n",
       "    <tr>\n",
       "      <th>2024-11-04 00:00:00+00:00</th>\n",
       "      <td>-0.002812</td>\n",
       "      <td>0.05</td>\n",
       "      <td>-0.052812</td>\n",
       "    </tr>\n",
       "    <tr>\n",
       "      <th>2024-11-05 00:00:00+00:00</th>\n",
       "      <td>0.012266</td>\n",
       "      <td>0.05</td>\n",
       "      <td>-0.037734</td>\n",
       "    </tr>\n",
       "  </tbody>\n",
       "</table>\n",
       "</div>"
      ],
      "text/plain": [
       "Ticker                        ^GSPC    RF  Market_Excess\n",
       "Date                                                    \n",
       "2024-10-30 00:00:00+00:00 -0.003300  0.05      -0.053300\n",
       "2024-10-31 00:00:00+00:00 -0.018615  0.05      -0.068615\n",
       "2024-11-01 00:00:00+00:00  0.004093  0.05      -0.045907\n",
       "2024-11-04 00:00:00+00:00 -0.002812  0.05      -0.052812\n",
       "2024-11-05 00:00:00+00:00  0.012266  0.05      -0.037734"
      ]
     },
     "execution_count": 41,
     "metadata": {},
     "output_type": "execute_result"
    }
   ],
   "source": [
    "sp500_returns.tail()"
   ]
  },
  {
   "cell_type": "markdown",
   "id": "f8aa6727-de58-489c-9ede-23ca7900700b",
   "metadata": {},
   "source": [
    "### **Combining the required dataframes:**"
   ]
  },
  {
   "cell_type": "code",
   "execution_count": 43,
   "id": "9a9ee1db-ee56-40da-b0d7-40e9fd7f117b",
   "metadata": {},
   "outputs": [],
   "source": [
    "FamaFrenchData = pd.DataFrame()"
   ]
  },
  {
   "cell_type": "code",
   "execution_count": 44,
   "id": "f017cf3f-e045-4eec-bb75-eee41f37265c",
   "metadata": {},
   "outputs": [
    {
     "data": {
      "text/plain": [
       "(714, 13)"
      ]
     },
     "execution_count": 44,
     "metadata": {},
     "output_type": "execute_result"
    }
   ],
   "source": [
    "returns.shape"
   ]
  },
  {
   "cell_type": "code",
   "execution_count": 45,
   "id": "bf74d82e-bb95-42a7-9347-a1efd499b3d8",
   "metadata": {},
   "outputs": [
    {
     "data": {
      "text/plain": [
       "(714, 3)"
      ]
     },
     "execution_count": 45,
     "metadata": {},
     "output_type": "execute_result"
    }
   ],
   "source": [
    "sp500_returns.shape"
   ]
  },
  {
   "cell_type": "code",
   "execution_count": 46,
   "id": "8073b1ee-f465-4eb6-8cf1-57a3612ee676",
   "metadata": {},
   "outputs": [],
   "source": [
    "Market_Excess = sp500_returns['Market_Excess'].reset_index()"
   ]
  },
  {
   "cell_type": "code",
   "execution_count": 47,
   "id": "21d269fe-2208-40fb-91a1-fe180e0f6e2f",
   "metadata": {},
   "outputs": [
    {
     "data": {
      "text/html": [
       "<div>\n",
       "<style scoped>\n",
       "    .dataframe tbody tr th:only-of-type {\n",
       "        vertical-align: middle;\n",
       "    }\n",
       "\n",
       "    .dataframe tbody tr th {\n",
       "        vertical-align: top;\n",
       "    }\n",
       "\n",
       "    .dataframe thead th {\n",
       "        text-align: right;\n",
       "    }\n",
       "</style>\n",
       "<table border=\"1\" class=\"dataframe\">\n",
       "  <thead>\n",
       "    <tr style=\"text-align: right;\">\n",
       "      <th></th>\n",
       "      <th>Date</th>\n",
       "      <th>Market_Excess</th>\n",
       "    </tr>\n",
       "  </thead>\n",
       "  <tbody>\n",
       "    <tr>\n",
       "      <th>0</th>\n",
       "      <td>2022-01-04 00:00:00+00:00</td>\n",
       "      <td>-0.050630</td>\n",
       "    </tr>\n",
       "    <tr>\n",
       "      <th>1</th>\n",
       "      <td>2022-01-05 00:00:00+00:00</td>\n",
       "      <td>-0.069393</td>\n",
       "    </tr>\n",
       "    <tr>\n",
       "      <th>2</th>\n",
       "      <td>2022-01-06 00:00:00+00:00</td>\n",
       "      <td>-0.050964</td>\n",
       "    </tr>\n",
       "    <tr>\n",
       "      <th>3</th>\n",
       "      <td>2022-01-07 00:00:00+00:00</td>\n",
       "      <td>-0.054050</td>\n",
       "    </tr>\n",
       "    <tr>\n",
       "      <th>4</th>\n",
       "      <td>2022-01-10 00:00:00+00:00</td>\n",
       "      <td>-0.051441</td>\n",
       "    </tr>\n",
       "  </tbody>\n",
       "</table>\n",
       "</div>"
      ],
      "text/plain": [
       "                       Date  Market_Excess\n",
       "0 2022-01-04 00:00:00+00:00      -0.050630\n",
       "1 2022-01-05 00:00:00+00:00      -0.069393\n",
       "2 2022-01-06 00:00:00+00:00      -0.050964\n",
       "3 2022-01-07 00:00:00+00:00      -0.054050\n",
       "4 2022-01-10 00:00:00+00:00      -0.051441"
      ]
     },
     "execution_count": 47,
     "metadata": {},
     "output_type": "execute_result"
    }
   ],
   "source": [
    "Market_Excess.head()"
   ]
  },
  {
   "cell_type": "code",
   "execution_count": 48,
   "id": "8eea1bb1-6ff0-450a-9db3-fb3469344dca",
   "metadata": {},
   "outputs": [],
   "source": [
    "Portfolio_Excess = returns[\"Portfolio_Excess\"].reset_index()"
   ]
  },
  {
   "cell_type": "code",
   "execution_count": 49,
   "id": "fc59921c-fb62-44a1-b143-c34901a8d789",
   "metadata": {},
   "outputs": [
    {
     "data": {
      "text/html": [
       "<div>\n",
       "<style scoped>\n",
       "    .dataframe tbody tr th:only-of-type {\n",
       "        vertical-align: middle;\n",
       "    }\n",
       "\n",
       "    .dataframe tbody tr th {\n",
       "        vertical-align: top;\n",
       "    }\n",
       "\n",
       "    .dataframe thead th {\n",
       "        text-align: right;\n",
       "    }\n",
       "</style>\n",
       "<table border=\"1\" class=\"dataframe\">\n",
       "  <thead>\n",
       "    <tr style=\"text-align: right;\">\n",
       "      <th></th>\n",
       "      <th>Date</th>\n",
       "      <th>Portfolio_Excess</th>\n",
       "    </tr>\n",
       "  </thead>\n",
       "  <tbody>\n",
       "    <tr>\n",
       "      <th>0</th>\n",
       "      <td>2022-01-04 00:00:00+00:00</td>\n",
       "      <td>-0.055117</td>\n",
       "    </tr>\n",
       "    <tr>\n",
       "      <th>1</th>\n",
       "      <td>2022-01-05 00:00:00+00:00</td>\n",
       "      <td>-0.077414</td>\n",
       "    </tr>\n",
       "    <tr>\n",
       "      <th>2</th>\n",
       "      <td>2022-01-06 00:00:00+00:00</td>\n",
       "      <td>-0.050135</td>\n",
       "    </tr>\n",
       "    <tr>\n",
       "      <th>3</th>\n",
       "      <td>2022-01-07 00:00:00+00:00</td>\n",
       "      <td>-0.054302</td>\n",
       "    </tr>\n",
       "    <tr>\n",
       "      <th>4</th>\n",
       "      <td>2022-01-10 00:00:00+00:00</td>\n",
       "      <td>-0.044018</td>\n",
       "    </tr>\n",
       "  </tbody>\n",
       "</table>\n",
       "</div>"
      ],
      "text/plain": [
       "                        Date  Portfolio_Excess\n",
       "0  2022-01-04 00:00:00+00:00         -0.055117\n",
       "1  2022-01-05 00:00:00+00:00         -0.077414\n",
       "2  2022-01-06 00:00:00+00:00         -0.050135\n",
       "3  2022-01-07 00:00:00+00:00         -0.054302\n",
       "4  2022-01-10 00:00:00+00:00         -0.044018"
      ]
     },
     "execution_count": 49,
     "metadata": {},
     "output_type": "execute_result"
    }
   ],
   "source": [
    "Portfolio_Excess.head()"
   ]
  },
  {
   "cell_type": "code",
   "execution_count": 50,
   "id": "7c79bf20-ca3f-45e3-8375-8d54b391107d",
   "metadata": {},
   "outputs": [],
   "source": [
    "# Convert 'Date' column in both dataframes to datetime64 (make sure they're both in the same format)\n",
    "Portfolio_Excess['Date'] = pd.to_datetime(Portfolio_Excess['Date'], errors='coerce')  # Coerce invalid formats to NaT\n",
    "Market_Excess['Date'] = pd.to_datetime(Market_Excess['Date'], errors='coerce')  # Same here\n",
    "\n",
    "# Now merge on 'Date' (after converting to datetime)\n",
    "FamaFrenchData = pd.merge(Portfolio_Excess, Market_Excess, on='Date', how='inner')"
   ]
  },
  {
   "cell_type": "code",
   "execution_count": 51,
   "id": "9e3ab338-2c02-4b8a-8ebf-914649353bcd",
   "metadata": {},
   "outputs": [],
   "source": [
    "nat_count = FamaFrenchData['Date'].isna().sum()"
   ]
  },
  {
   "cell_type": "code",
   "execution_count": 52,
   "id": "477615ff-c54b-46bf-8641-bcde1c873f6c",
   "metadata": {},
   "outputs": [
    {
     "data": {
      "text/plain": [
       "0"
      ]
     },
     "execution_count": 52,
     "metadata": {},
     "output_type": "execute_result"
    }
   ],
   "source": [
    "nat_count"
   ]
  },
  {
   "cell_type": "code",
   "execution_count": 53,
   "id": "65ef1a0b-61ed-4c8f-96be-cfcb79ec5a28",
   "metadata": {},
   "outputs": [],
   "source": [
    "FamaFrenchData.set_index('Date', inplace = True)"
   ]
  },
  {
   "cell_type": "markdown",
   "id": "303eb791-dc4b-4159-9216-7324904e7ca9",
   "metadata": {},
   "source": [
    "**Fama French Data:**"
   ]
  },
  {
   "cell_type": "code",
   "execution_count": 55,
   "id": "b046a6a1-2aea-479b-a984-7fccd08b932f",
   "metadata": {},
   "outputs": [
    {
     "data": {
      "text/html": [
       "<div>\n",
       "<style scoped>\n",
       "    .dataframe tbody tr th:only-of-type {\n",
       "        vertical-align: middle;\n",
       "    }\n",
       "\n",
       "    .dataframe tbody tr th {\n",
       "        vertical-align: top;\n",
       "    }\n",
       "\n",
       "    .dataframe thead th {\n",
       "        text-align: right;\n",
       "    }\n",
       "</style>\n",
       "<table border=\"1\" class=\"dataframe\">\n",
       "  <thead>\n",
       "    <tr style=\"text-align: right;\">\n",
       "      <th></th>\n",
       "      <th>Portfolio_Excess</th>\n",
       "      <th>Market_Excess</th>\n",
       "    </tr>\n",
       "    <tr>\n",
       "      <th>Date</th>\n",
       "      <th></th>\n",
       "      <th></th>\n",
       "    </tr>\n",
       "  </thead>\n",
       "  <tbody>\n",
       "    <tr>\n",
       "      <th>2024-10-30 00:00:00+00:00</th>\n",
       "      <td>-0.058071</td>\n",
       "      <td>-0.053300</td>\n",
       "    </tr>\n",
       "    <tr>\n",
       "      <th>2024-10-31 00:00:00+00:00</th>\n",
       "      <td>-0.076548</td>\n",
       "      <td>-0.068615</td>\n",
       "    </tr>\n",
       "    <tr>\n",
       "      <th>2024-11-01 00:00:00+00:00</th>\n",
       "      <td>-0.040872</td>\n",
       "      <td>-0.045907</td>\n",
       "    </tr>\n",
       "    <tr>\n",
       "      <th>2024-11-04 00:00:00+00:00</th>\n",
       "      <td>-0.058954</td>\n",
       "      <td>-0.052812</td>\n",
       "    </tr>\n",
       "    <tr>\n",
       "      <th>2024-11-05 00:00:00+00:00</th>\n",
       "      <td>-0.038084</td>\n",
       "      <td>-0.037734</td>\n",
       "    </tr>\n",
       "  </tbody>\n",
       "</table>\n",
       "</div>"
      ],
      "text/plain": [
       "                           Portfolio_Excess  Market_Excess\n",
       "Date                                                      \n",
       "2024-10-30 00:00:00+00:00         -0.058071      -0.053300\n",
       "2024-10-31 00:00:00+00:00         -0.076548      -0.068615\n",
       "2024-11-01 00:00:00+00:00         -0.040872      -0.045907\n",
       "2024-11-04 00:00:00+00:00         -0.058954      -0.052812\n",
       "2024-11-05 00:00:00+00:00         -0.038084      -0.037734"
      ]
     },
     "execution_count": 55,
     "metadata": {},
     "output_type": "execute_result"
    }
   ],
   "source": [
    "FamaFrenchData.tail()"
   ]
  },
  {
   "cell_type": "markdown",
   "id": "153944cc-362f-4ed5-97ad-1ee97e12ad1f",
   "metadata": {},
   "source": [
    "### Calculating Beta"
   ]
  },
  {
   "cell_type": "markdown",
   "id": "9a0cce2d-a59b-45f5-a1a5-61778e63bcd5",
   "metadata": {},
   "source": [
    "**with Covariance and variance of benchmark**"
   ]
  },
  {
   "cell_type": "code",
   "execution_count": 58,
   "id": "628bb961-810a-4d42-ba53-a7e2bc6f5c61",
   "metadata": {},
   "outputs": [],
   "source": [
    "# Calculate the co-variance matrix between Portfolio_Excess and Market_Excess\n",
    "covariance_matrix = FamaFrenchData[['Portfolio_Excess', 'Market_Excess']].cov()"
   ]
  },
  {
   "cell_type": "code",
   "execution_count": 59,
   "id": "4079e057-cf87-4a04-b482-d42a9c29216d",
   "metadata": {},
   "outputs": [
    {
     "data": {
      "text/html": [
       "<div>\n",
       "<style scoped>\n",
       "    .dataframe tbody tr th:only-of-type {\n",
       "        vertical-align: middle;\n",
       "    }\n",
       "\n",
       "    .dataframe tbody tr th {\n",
       "        vertical-align: top;\n",
       "    }\n",
       "\n",
       "    .dataframe thead th {\n",
       "        text-align: right;\n",
       "    }\n",
       "</style>\n",
       "<table border=\"1\" class=\"dataframe\">\n",
       "  <thead>\n",
       "    <tr style=\"text-align: right;\">\n",
       "      <th></th>\n",
       "      <th>Portfolio_Excess</th>\n",
       "      <th>Market_Excess</th>\n",
       "    </tr>\n",
       "  </thead>\n",
       "  <tbody>\n",
       "    <tr>\n",
       "      <th>Portfolio_Excess</th>\n",
       "      <td>0.000257</td>\n",
       "      <td>0.000164</td>\n",
       "    </tr>\n",
       "    <tr>\n",
       "      <th>Market_Excess</th>\n",
       "      <td>0.000164</td>\n",
       "      <td>0.000124</td>\n",
       "    </tr>\n",
       "  </tbody>\n",
       "</table>\n",
       "</div>"
      ],
      "text/plain": [
       "                  Portfolio_Excess  Market_Excess\n",
       "Portfolio_Excess          0.000257       0.000164\n",
       "Market_Excess             0.000164       0.000124"
      ]
     },
     "execution_count": 59,
     "metadata": {},
     "output_type": "execute_result"
    }
   ],
   "source": [
    "covariance_matrix"
   ]
  },
  {
   "cell_type": "code",
   "execution_count": 60,
   "id": "fc67e0a4-cad8-407c-b120-56ae514a72c7",
   "metadata": {},
   "outputs": [
    {
     "name": "stdout",
     "output_type": "stream",
     "text": [
      "0.000163598355467535\n"
     ]
    }
   ],
   "source": [
    "# Extract the co-variance co-efficient\n",
    "covariance_coefficient = covariance_matrix.iloc[0, 1]\n",
    "print(covariance_coefficient)"
   ]
  },
  {
   "cell_type": "code",
   "execution_count": 61,
   "id": "a59f9402-e6bb-44f9-8add-858bb3ef2657",
   "metadata": {},
   "outputs": [
    {
     "name": "stdout",
     "output_type": "stream",
     "text": [
      "0.00012416761304298387\n"
     ]
    }
   ],
   "source": [
    "# Calculate the benchmark variance\n",
    "benchmark_variance = FamaFrenchData['Market_Excess'].var()\n",
    "print(benchmark_variance)"
   ]
  },
  {
   "cell_type": "code",
   "execution_count": 62,
   "id": "576599b8-2535-4166-b60a-4310c462fdea",
   "metadata": {},
   "outputs": [
    {
     "name": "stdout",
     "output_type": "stream",
     "text": [
      "1.317560605847365\n"
     ]
    }
   ],
   "source": [
    "# Calculating the portfolio market beta\n",
    "portfolio_beta = covariance_coefficient/benchmark_variance\n",
    "print(portfolio_beta)"
   ]
  },
  {
   "cell_type": "markdown",
   "id": "0ed5eae7-7778-4d39-a8d4-0f3c3613ab15",
   "metadata": {},
   "source": [
    "#### Calculating beta with CAPM"
   ]
  },
  {
   "cell_type": "markdown",
   "id": "a865caaa-f365-4cd2-806d-c9d5d2d94427",
   "metadata": {},
   "source": [
    "<img src=\"screenshots/capm.JPG\" alt=\"Image Description\" width=\"50%\">"
   ]
  },
  {
   "cell_type": "code",
   "execution_count": 65,
   "id": "dc2ba46e-d3bd-418f-99e7-6133a12c6143",
   "metadata": {},
   "outputs": [
    {
     "name": "stdout",
     "output_type": "stream",
     "text": [
      "0.8393141734798074\n",
      "1.3175606058473628\n"
     ]
    }
   ],
   "source": [
    "# Import statsmodels.formula.api\n",
    "import statsmodels.formula.api as smf \n",
    "\n",
    "# Define the regression formula\n",
    "CAPM_model = smf.ols(formula='Portfolio_Excess ~ Market_Excess', data=FamaFrenchData)\n",
    "\n",
    "# Print adjusted r-squared of the fitted regression\n",
    "CAPM_fit = CAPM_model.fit()\n",
    "print(CAPM_fit.rsquared_adj)\n",
    "\n",
    "# Extract the beta\n",
    "regression_beta = CAPM_fit.params['Market_Excess']\n",
    "print(regression_beta)"
   ]
  },
  {
   "cell_type": "markdown",
   "id": "efc96761-e356-4fc9-8d6d-61d350fa9394",
   "metadata": {},
   "source": [
    "### Alpha and multi-factor models"
   ]
  },
  {
   "cell_type": "markdown",
   "id": "ff327b0c-2a3d-499b-a5fe-9c9fa7872fbf",
   "metadata": {},
   "source": [
    "##### The Fama French 3-factor model"
   ]
  },
  {
   "cell_type": "markdown",
   "id": "ad81de68-5891-442f-8c8d-6868b9d87cb7",
   "metadata": {},
   "source": [
    "### Data Preparation"
   ]
  },
  {
   "cell_type": "code",
   "execution_count": 69,
   "id": "2991bb3a-84a9-4d0d-b955-ba34695aa36b",
   "metadata": {},
   "outputs": [],
   "source": [
    "# Require SMB and HML\n",
    "small = \"VB\"\n",
    "big = \"^DJI\"\n",
    "value = \"IWD\"\n",
    "growth = \"IWF\""
   ]
  },
  {
   "cell_type": "code",
   "execution_count": 70,
   "id": "bb26a1c5-2f1c-4344-a300-0f4a39ae4204",
   "metadata": {},
   "outputs": [
    {
     "name": "stderr",
     "output_type": "stream",
     "text": [
      "[*********************100%***********************]  1 of 1 completed\n",
      "[*********************100%***********************]  1 of 1 completed\n",
      "[*********************100%***********************]  1 of 1 completed\n",
      "[*********************100%***********************]  1 of 1 completed\n"
     ]
    }
   ],
   "source": [
    "# Download data\n",
    "def download_data(symbol, start_date, end_date):\n",
    "    data2 = yf.download(symbol, start=start_date, end=end_date)\n",
    "    # Convert index to datetime\n",
    "    data2.index = pd.to_datetime(data2.index)\n",
    "    return data2['Adj Close']\n",
    "    \n",
    "\n",
    "# Fetch adjusted close prices for each\n",
    "small_data = download_data(small, start_date, end_date)\n",
    "big_data = download_data(big, start_date, end_date)\n",
    "value_data = download_data(value, start_date, end_date)\n",
    "growth_data = download_data(growth, start_date, end_date)"
   ]
  },
  {
   "cell_type": "code",
   "execution_count": 71,
   "id": "9ded7a45-f147-4904-aed7-b69aed488e95",
   "metadata": {},
   "outputs": [],
   "source": [
    "# changing column names for convenience\n",
    "small_data.columns = ['small']\n",
    "big_data.columns = ['big']\n",
    "value_data.columns = ['value']\n",
    "growth_data.columns = ['growth']"
   ]
  },
  {
   "cell_type": "code",
   "execution_count": 72,
   "id": "1d42d78b-a463-42d2-9579-2f8a6bcefaa5",
   "metadata": {},
   "outputs": [
    {
     "data": {
      "text/plain": [
       "datetime64[ns, UTC]"
      ]
     },
     "execution_count": 72,
     "metadata": {},
     "output_type": "execute_result"
    }
   ],
   "source": [
    "small_data.index.dtype"
   ]
  },
  {
   "cell_type": "code",
   "execution_count": 73,
   "id": "a7204a70-f1b2-4d7d-a51e-12f36ee57398",
   "metadata": {},
   "outputs": [
    {
     "data": {
      "text/html": [
       "<div>\n",
       "<style scoped>\n",
       "    .dataframe tbody tr th:only-of-type {\n",
       "        vertical-align: middle;\n",
       "    }\n",
       "\n",
       "    .dataframe tbody tr th {\n",
       "        vertical-align: top;\n",
       "    }\n",
       "\n",
       "    .dataframe thead th {\n",
       "        text-align: right;\n",
       "    }\n",
       "</style>\n",
       "<table border=\"1\" class=\"dataframe\">\n",
       "  <thead>\n",
       "    <tr style=\"text-align: right;\">\n",
       "      <th></th>\n",
       "      <th>big</th>\n",
       "    </tr>\n",
       "    <tr>\n",
       "      <th>Date</th>\n",
       "      <th></th>\n",
       "    </tr>\n",
       "  </thead>\n",
       "  <tbody>\n",
       "    <tr>\n",
       "      <th>2022-01-03 00:00:00+00:00</th>\n",
       "      <td>36585.058594</td>\n",
       "    </tr>\n",
       "    <tr>\n",
       "      <th>2022-01-04 00:00:00+00:00</th>\n",
       "      <td>36799.648438</td>\n",
       "    </tr>\n",
       "    <tr>\n",
       "      <th>2022-01-05 00:00:00+00:00</th>\n",
       "      <td>36407.109375</td>\n",
       "    </tr>\n",
       "    <tr>\n",
       "      <th>2022-01-06 00:00:00+00:00</th>\n",
       "      <td>36236.468750</td>\n",
       "    </tr>\n",
       "    <tr>\n",
       "      <th>2022-01-07 00:00:00+00:00</th>\n",
       "      <td>36231.660156</td>\n",
       "    </tr>\n",
       "  </tbody>\n",
       "</table>\n",
       "</div>"
      ],
      "text/plain": [
       "                                    big\n",
       "Date                                   \n",
       "2022-01-03 00:00:00+00:00  36585.058594\n",
       "2022-01-04 00:00:00+00:00  36799.648438\n",
       "2022-01-05 00:00:00+00:00  36407.109375\n",
       "2022-01-06 00:00:00+00:00  36236.468750\n",
       "2022-01-07 00:00:00+00:00  36231.660156"
      ]
     },
     "execution_count": 73,
     "metadata": {},
     "output_type": "execute_result"
    }
   ],
   "source": [
    "big_data.head()"
   ]
  },
  {
   "cell_type": "code",
   "execution_count": 74,
   "id": "999b65e5-ca87-49e6-b23f-e81452c9bf56",
   "metadata": {},
   "outputs": [],
   "source": [
    "# Calculate daily returns\n",
    "small_returns = small_data.pct_change().dropna()\n",
    "big_returns = big_data.pct_change().dropna()\n",
    "value_returns = value_data.pct_change().dropna()\n",
    "growth_returns = growth_data.pct_change().dropna()"
   ]
  },
  {
   "cell_type": "code",
   "execution_count": 75,
   "id": "78df9130-34a5-4dfe-b73d-f37268fe3a3a",
   "metadata": {},
   "outputs": [
    {
     "data": {
      "text/html": [
       "<div>\n",
       "<style scoped>\n",
       "    .dataframe tbody tr th:only-of-type {\n",
       "        vertical-align: middle;\n",
       "    }\n",
       "\n",
       "    .dataframe tbody tr th {\n",
       "        vertical-align: top;\n",
       "    }\n",
       "\n",
       "    .dataframe thead th {\n",
       "        text-align: right;\n",
       "    }\n",
       "</style>\n",
       "<table border=\"1\" class=\"dataframe\">\n",
       "  <thead>\n",
       "    <tr style=\"text-align: right;\">\n",
       "      <th></th>\n",
       "      <th>small</th>\n",
       "      <th>big</th>\n",
       "      <th>value</th>\n",
       "      <th>growth</th>\n",
       "    </tr>\n",
       "    <tr>\n",
       "      <th>Date</th>\n",
       "      <th></th>\n",
       "      <th></th>\n",
       "      <th></th>\n",
       "      <th></th>\n",
       "    </tr>\n",
       "  </thead>\n",
       "  <tbody>\n",
       "    <tr>\n",
       "      <th>2022-01-04 00:00:00+00:00</th>\n",
       "      <td>0.002242</td>\n",
       "      <td>0.005866</td>\n",
       "      <td>0.008782</td>\n",
       "      <td>-0.010364</td>\n",
       "    </tr>\n",
       "    <tr>\n",
       "      <th>2022-01-05 00:00:00+00:00</th>\n",
       "      <td>-0.028074</td>\n",
       "      <td>-0.010667</td>\n",
       "      <td>-0.008765</td>\n",
       "      <td>-0.031912</td>\n",
       "    </tr>\n",
       "    <tr>\n",
       "      <th>2022-01-06 00:00:00+00:00</th>\n",
       "      <td>0.004829</td>\n",
       "      <td>-0.004687</td>\n",
       "      <td>0.001959</td>\n",
       "      <td>-0.002781</td>\n",
       "    </tr>\n",
       "    <tr>\n",
       "      <th>2022-01-07 00:00:00+00:00</th>\n",
       "      <td>-0.007681</td>\n",
       "      <td>-0.000133</td>\n",
       "      <td>0.002487</td>\n",
       "      <td>-0.011019</td>\n",
       "    </tr>\n",
       "    <tr>\n",
       "      <th>2022-01-10 00:00:00+00:00</th>\n",
       "      <td>-0.003802</td>\n",
       "      <td>-0.004493</td>\n",
       "      <td>-0.001536</td>\n",
       "      <td>-0.000585</td>\n",
       "    </tr>\n",
       "  </tbody>\n",
       "</table>\n",
       "</div>"
      ],
      "text/plain": [
       "                              small       big     value    growth\n",
       "Date                                                             \n",
       "2022-01-04 00:00:00+00:00  0.002242  0.005866  0.008782 -0.010364\n",
       "2022-01-05 00:00:00+00:00 -0.028074 -0.010667 -0.008765 -0.031912\n",
       "2022-01-06 00:00:00+00:00  0.004829 -0.004687  0.001959 -0.002781\n",
       "2022-01-07 00:00:00+00:00 -0.007681 -0.000133  0.002487 -0.011019\n",
       "2022-01-10 00:00:00+00:00 -0.003802 -0.004493 -0.001536 -0.000585"
      ]
     },
     "execution_count": 75,
     "metadata": {},
     "output_type": "execute_result"
    }
   ],
   "source": [
    "combined_returns = pd.concat([small_returns, big_returns, value_returns, growth_returns], axis = 1) # axis = 1 to join along columns \n",
    "combined_returns.head()"
   ]
  },
  {
   "cell_type": "code",
   "execution_count": 76,
   "id": "f3b05759-59c6-4b6a-8e6a-760d7bcd8e8a",
   "metadata": {},
   "outputs": [],
   "source": [
    "combined_returns['SMB'] = combined_returns['small'] - combined_returns['big'] \n",
    "combined_returns['HML'] = combined_returns['value'] - combined_returns['growth'] "
   ]
  },
  {
   "cell_type": "code",
   "execution_count": 77,
   "id": "b3e09320-bcca-43a9-994c-9b1686b827ad",
   "metadata": {},
   "outputs": [
    {
     "data": {
      "text/html": [
       "<div>\n",
       "<style scoped>\n",
       "    .dataframe tbody tr th:only-of-type {\n",
       "        vertical-align: middle;\n",
       "    }\n",
       "\n",
       "    .dataframe tbody tr th {\n",
       "        vertical-align: top;\n",
       "    }\n",
       "\n",
       "    .dataframe thead th {\n",
       "        text-align: right;\n",
       "    }\n",
       "</style>\n",
       "<table border=\"1\" class=\"dataframe\">\n",
       "  <thead>\n",
       "    <tr style=\"text-align: right;\">\n",
       "      <th></th>\n",
       "      <th>small</th>\n",
       "      <th>big</th>\n",
       "      <th>value</th>\n",
       "      <th>growth</th>\n",
       "      <th>SMB</th>\n",
       "      <th>HML</th>\n",
       "    </tr>\n",
       "    <tr>\n",
       "      <th>Date</th>\n",
       "      <th></th>\n",
       "      <th></th>\n",
       "      <th></th>\n",
       "      <th></th>\n",
       "      <th></th>\n",
       "      <th></th>\n",
       "    </tr>\n",
       "  </thead>\n",
       "  <tbody>\n",
       "    <tr>\n",
       "      <th>2022-01-04 00:00:00+00:00</th>\n",
       "      <td>0.002242</td>\n",
       "      <td>0.005866</td>\n",
       "      <td>0.008782</td>\n",
       "      <td>-0.010364</td>\n",
       "      <td>-0.003623</td>\n",
       "      <td>0.019147</td>\n",
       "    </tr>\n",
       "    <tr>\n",
       "      <th>2022-01-05 00:00:00+00:00</th>\n",
       "      <td>-0.028074</td>\n",
       "      <td>-0.010667</td>\n",
       "      <td>-0.008765</td>\n",
       "      <td>-0.031912</td>\n",
       "      <td>-0.017407</td>\n",
       "      <td>0.023147</td>\n",
       "    </tr>\n",
       "    <tr>\n",
       "      <th>2022-01-06 00:00:00+00:00</th>\n",
       "      <td>0.004829</td>\n",
       "      <td>-0.004687</td>\n",
       "      <td>0.001959</td>\n",
       "      <td>-0.002781</td>\n",
       "      <td>0.009516</td>\n",
       "      <td>0.004739</td>\n",
       "    </tr>\n",
       "    <tr>\n",
       "      <th>2022-01-07 00:00:00+00:00</th>\n",
       "      <td>-0.007681</td>\n",
       "      <td>-0.000133</td>\n",
       "      <td>0.002487</td>\n",
       "      <td>-0.011019</td>\n",
       "      <td>-0.007548</td>\n",
       "      <td>0.013506</td>\n",
       "    </tr>\n",
       "    <tr>\n",
       "      <th>2022-01-10 00:00:00+00:00</th>\n",
       "      <td>-0.003802</td>\n",
       "      <td>-0.004493</td>\n",
       "      <td>-0.001536</td>\n",
       "      <td>-0.000585</td>\n",
       "      <td>0.000691</td>\n",
       "      <td>-0.000952</td>\n",
       "    </tr>\n",
       "  </tbody>\n",
       "</table>\n",
       "</div>"
      ],
      "text/plain": [
       "                              small       big     value    growth       SMB  \\\n",
       "Date                                                                          \n",
       "2022-01-04 00:00:00+00:00  0.002242  0.005866  0.008782 -0.010364 -0.003623   \n",
       "2022-01-05 00:00:00+00:00 -0.028074 -0.010667 -0.008765 -0.031912 -0.017407   \n",
       "2022-01-06 00:00:00+00:00  0.004829 -0.004687  0.001959 -0.002781  0.009516   \n",
       "2022-01-07 00:00:00+00:00 -0.007681 -0.000133  0.002487 -0.011019 -0.007548   \n",
       "2022-01-10 00:00:00+00:00 -0.003802 -0.004493 -0.001536 -0.000585  0.000691   \n",
       "\n",
       "                                HML  \n",
       "Date                                 \n",
       "2022-01-04 00:00:00+00:00  0.019147  \n",
       "2022-01-05 00:00:00+00:00  0.023147  \n",
       "2022-01-06 00:00:00+00:00  0.004739  \n",
       "2022-01-07 00:00:00+00:00  0.013506  \n",
       "2022-01-10 00:00:00+00:00 -0.000952  "
      ]
     },
     "execution_count": 77,
     "metadata": {},
     "output_type": "execute_result"
    }
   ],
   "source": [
    "combined_returns.head()"
   ]
  },
  {
   "cell_type": "code",
   "execution_count": 78,
   "id": "9f41fde8-f579-4c30-ac4c-655f28ed41ef",
   "metadata": {},
   "outputs": [],
   "source": [
    "ff = combined_returns[['SMB', 'HML']]\n",
    "ff.to_csv(\"fama_factors.csv\")"
   ]
  },
  {
   "cell_type": "code",
   "execution_count": 79,
   "id": "19214040-4862-4d9e-af4d-332df37a28ad",
   "metadata": {},
   "outputs": [
    {
     "data": {
      "text/html": [
       "<div>\n",
       "<style scoped>\n",
       "    .dataframe tbody tr th:only-of-type {\n",
       "        vertical-align: middle;\n",
       "    }\n",
       "\n",
       "    .dataframe tbody tr th {\n",
       "        vertical-align: top;\n",
       "    }\n",
       "\n",
       "    .dataframe thead th {\n",
       "        text-align: right;\n",
       "    }\n",
       "</style>\n",
       "<table border=\"1\" class=\"dataframe\">\n",
       "  <thead>\n",
       "    <tr style=\"text-align: right;\">\n",
       "      <th></th>\n",
       "      <th>SMB</th>\n",
       "      <th>HML</th>\n",
       "    </tr>\n",
       "    <tr>\n",
       "      <th>Date</th>\n",
       "      <th></th>\n",
       "      <th></th>\n",
       "    </tr>\n",
       "  </thead>\n",
       "  <tbody>\n",
       "    <tr>\n",
       "      <th>2022-01-04 00:00:00+00:00</th>\n",
       "      <td>-0.003623</td>\n",
       "      <td>0.019147</td>\n",
       "    </tr>\n",
       "    <tr>\n",
       "      <th>2022-01-05 00:00:00+00:00</th>\n",
       "      <td>-0.017407</td>\n",
       "      <td>0.023147</td>\n",
       "    </tr>\n",
       "    <tr>\n",
       "      <th>2022-01-06 00:00:00+00:00</th>\n",
       "      <td>0.009516</td>\n",
       "      <td>0.004739</td>\n",
       "    </tr>\n",
       "    <tr>\n",
       "      <th>2022-01-07 00:00:00+00:00</th>\n",
       "      <td>-0.007548</td>\n",
       "      <td>0.013506</td>\n",
       "    </tr>\n",
       "    <tr>\n",
       "      <th>2022-01-10 00:00:00+00:00</th>\n",
       "      <td>0.000691</td>\n",
       "      <td>-0.000952</td>\n",
       "    </tr>\n",
       "  </tbody>\n",
       "</table>\n",
       "</div>"
      ],
      "text/plain": [
       "                                SMB       HML\n",
       "Date                                         \n",
       "2022-01-04 00:00:00+00:00 -0.003623  0.019147\n",
       "2022-01-05 00:00:00+00:00 -0.017407  0.023147\n",
       "2022-01-06 00:00:00+00:00  0.009516  0.004739\n",
       "2022-01-07 00:00:00+00:00 -0.007548  0.013506\n",
       "2022-01-10 00:00:00+00:00  0.000691 -0.000952"
      ]
     },
     "execution_count": 79,
     "metadata": {},
     "output_type": "execute_result"
    }
   ],
   "source": [
    "ff.head()"
   ]
  },
  {
   "cell_type": "markdown",
   "id": "1fa33175-3db2-4149-bb4f-66b149767f97",
   "metadata": {},
   "source": [
    "##### Fama French Data Final:"
   ]
  },
  {
   "cell_type": "code",
   "execution_count": 81,
   "id": "997d37e5-9695-4905-98be-db7c74381305",
   "metadata": {},
   "outputs": [],
   "source": [
    "FamaFrenchData_final = pd.merge(FamaFrenchData, ff, on='Date', how='inner')"
   ]
  },
  {
   "cell_type": "code",
   "execution_count": 82,
   "id": "3845767b-3829-4b80-a682-4c0cfadb385a",
   "metadata": {},
   "outputs": [
    {
     "data": {
      "text/html": [
       "<div>\n",
       "<style scoped>\n",
       "    .dataframe tbody tr th:only-of-type {\n",
       "        vertical-align: middle;\n",
       "    }\n",
       "\n",
       "    .dataframe tbody tr th {\n",
       "        vertical-align: top;\n",
       "    }\n",
       "\n",
       "    .dataframe thead th {\n",
       "        text-align: right;\n",
       "    }\n",
       "</style>\n",
       "<table border=\"1\" class=\"dataframe\">\n",
       "  <thead>\n",
       "    <tr style=\"text-align: right;\">\n",
       "      <th></th>\n",
       "      <th>Portfolio_Excess</th>\n",
       "      <th>Market_Excess</th>\n",
       "      <th>SMB</th>\n",
       "      <th>HML</th>\n",
       "    </tr>\n",
       "    <tr>\n",
       "      <th>Date</th>\n",
       "      <th></th>\n",
       "      <th></th>\n",
       "      <th></th>\n",
       "      <th></th>\n",
       "    </tr>\n",
       "  </thead>\n",
       "  <tbody>\n",
       "    <tr>\n",
       "      <th>2024-10-30 00:00:00+00:00</th>\n",
       "      <td>-0.058071</td>\n",
       "      <td>-0.053300</td>\n",
       "      <td>0.002543</td>\n",
       "      <td>0.003310</td>\n",
       "    </tr>\n",
       "    <tr>\n",
       "      <th>2024-10-31 00:00:00+00:00</th>\n",
       "      <td>-0.076548</td>\n",
       "      <td>-0.068615</td>\n",
       "      <td>-0.005334</td>\n",
       "      <td>0.021311</td>\n",
       "    </tr>\n",
       "    <tr>\n",
       "      <th>2024-11-01 00:00:00+00:00</th>\n",
       "      <td>-0.040872</td>\n",
       "      <td>-0.045907</td>\n",
       "      <td>-0.004367</td>\n",
       "      <td>-0.007248</td>\n",
       "    </tr>\n",
       "    <tr>\n",
       "      <th>2024-11-04 00:00:00+00:00</th>\n",
       "      <td>-0.058954</td>\n",
       "      <td>-0.052812</td>\n",
       "      <td>0.008792</td>\n",
       "      <td>0.002226</td>\n",
       "    </tr>\n",
       "    <tr>\n",
       "      <th>2024-11-05 00:00:00+00:00</th>\n",
       "      <td>-0.038084</td>\n",
       "      <td>-0.037734</td>\n",
       "      <td>0.006537</td>\n",
       "      <td>-0.003208</td>\n",
       "    </tr>\n",
       "  </tbody>\n",
       "</table>\n",
       "</div>"
      ],
      "text/plain": [
       "                           Portfolio_Excess  Market_Excess       SMB       HML\n",
       "Date                                                                          \n",
       "2024-10-30 00:00:00+00:00         -0.058071      -0.053300  0.002543  0.003310\n",
       "2024-10-31 00:00:00+00:00         -0.076548      -0.068615 -0.005334  0.021311\n",
       "2024-11-01 00:00:00+00:00         -0.040872      -0.045907 -0.004367 -0.007248\n",
       "2024-11-04 00:00:00+00:00         -0.058954      -0.052812  0.008792  0.002226\n",
       "2024-11-05 00:00:00+00:00         -0.038084      -0.037734  0.006537 -0.003208"
      ]
     },
     "execution_count": 82,
     "metadata": {},
     "output_type": "execute_result"
    }
   ],
   "source": [
    "FamaFrenchData_final.tail()"
   ]
  },
  {
   "cell_type": "markdown",
   "id": "9257ff69-6074-4b56-ba13-e96e39c15993",
   "metadata": {},
   "source": [
    "### Correlation"
   ]
  },
  {
   "cell_type": "code",
   "execution_count": 84,
   "id": "4769649e-4b18-402c-9651-f20ef8dd5e30",
   "metadata": {},
   "outputs": [
    {
     "data": {
      "text/html": [
       "<div>\n",
       "<style scoped>\n",
       "    .dataframe tbody tr th:only-of-type {\n",
       "        vertical-align: middle;\n",
       "    }\n",
       "\n",
       "    .dataframe tbody tr th {\n",
       "        vertical-align: top;\n",
       "    }\n",
       "\n",
       "    .dataframe thead th {\n",
       "        text-align: right;\n",
       "    }\n",
       "</style>\n",
       "<table border=\"1\" class=\"dataframe\">\n",
       "  <thead>\n",
       "    <tr style=\"text-align: right;\">\n",
       "      <th></th>\n",
       "      <th>Portfolio_Excess</th>\n",
       "      <th>Market_Excess</th>\n",
       "      <th>SMB</th>\n",
       "      <th>HML</th>\n",
       "    </tr>\n",
       "  </thead>\n",
       "  <tbody>\n",
       "    <tr>\n",
       "      <th>Portfolio_Excess</th>\n",
       "      <td>1.000000</td>\n",
       "      <td>0.916264</td>\n",
       "      <td>0.541544</td>\n",
       "      <td>-0.604430</td>\n",
       "    </tr>\n",
       "    <tr>\n",
       "      <th>Market_Excess</th>\n",
       "      <td>0.916264</td>\n",
       "      <td>1.000000</td>\n",
       "      <td>0.474747</td>\n",
       "      <td>-0.555808</td>\n",
       "    </tr>\n",
       "    <tr>\n",
       "      <th>SMB</th>\n",
       "      <td>0.541544</td>\n",
       "      <td>0.474747</td>\n",
       "      <td>1.000000</td>\n",
       "      <td>-0.190214</td>\n",
       "    </tr>\n",
       "    <tr>\n",
       "      <th>HML</th>\n",
       "      <td>-0.604430</td>\n",
       "      <td>-0.555808</td>\n",
       "      <td>-0.190214</td>\n",
       "      <td>1.000000</td>\n",
       "    </tr>\n",
       "  </tbody>\n",
       "</table>\n",
       "</div>"
      ],
      "text/plain": [
       "                  Portfolio_Excess  Market_Excess       SMB       HML\n",
       "Portfolio_Excess          1.000000       0.916264  0.541544 -0.604430\n",
       "Market_Excess             0.916264       1.000000  0.474747 -0.555808\n",
       "SMB                       0.541544       0.474747  1.000000 -0.190214\n",
       "HML                      -0.604430      -0.555808 -0.190214  1.000000"
      ]
     },
     "execution_count": 84,
     "metadata": {},
     "output_type": "execute_result"
    }
   ],
   "source": [
    "FamaFrenchData_final.corr()"
   ]
  },
  {
   "cell_type": "markdown",
   "id": "ece9f633-e42e-4383-8d2a-a6c1576688d4",
   "metadata": {},
   "source": [
    "### Scatter plots"
   ]
  },
  {
   "cell_type": "code",
   "execution_count": 86,
   "id": "1244011e-2ea0-4526-a463-e941aaa06752",
   "metadata": {},
   "outputs": [
    {
     "data": {
      "text/plain": [
       "Text(0.5, 1.0, 'SMB vs Portfolio_Excess')"
      ]
     },
     "execution_count": 86,
     "metadata": {},
     "output_type": "execute_result"
    },
    {
     "data": {
      "image/png": "[encoded data removed]",
      "text/plain": [
       "<Figure size 1500x500 with 1 Axes>"
      ]
     },
     "metadata": {},
     "output_type": "display_data"
    }
   ],
   "source": [
    "import matplotlib.pyplot as plt\n",
    "plt.figure(figsize=(15, 5))\n",
    "\n",
    "# Portfolio vs Treasury\n",
    "plt.subplot(1, 3, 3)\n",
    "plt.scatter(FamaFrenchData_final['Portfolio_Excess'], FamaFrenchData_final['SMB'])\n",
    "plt.xlabel(\"Portfolio_Excess Returns\")\n",
    "plt.ylabel(\"SMB Returns\")\n",
    "plt.title(\"SMB vs Portfolio_Excess\")"
   ]
  },
  {
   "cell_type": "code",
   "execution_count": 87,
   "id": "d877075e-9d4a-45bc-bd13-5221e4db5919",
   "metadata": {},
   "outputs": [
    {
     "data": {
      "text/plain": [
       "Text(0.5, 1.0, 'HML vs Portfolio_Excess')"
      ]
     },
     "execution_count": 87,
     "metadata": {},
     "output_type": "execute_result"
    },
    {
     "data": {
      "image/png": "[encoded data removed]",
      "text/plain": [
       "<Figure size 1500x500 with 1 Axes>"
      ]
     },
     "metadata": {},
     "output_type": "display_data"
    }
   ],
   "source": [
    "import matplotlib.pyplot as plt\n",
    "plt.figure(figsize=(15, 5))\n",
    "\n",
    "# Portfolio vs Treasury\n",
    "plt.subplot(1, 3, 3)\n",
    "plt.scatter(FamaFrenchData_final['Portfolio_Excess'], FamaFrenchData_final['HML'])\n",
    "plt.xlabel(\"Portfolio_Excess Returns\")\n",
    "plt.ylabel(\"HML Returns\")\n",
    "plt.title(\"HML vs Portfolio_Excess\")"
   ]
  },
  {
   "cell_type": "code",
   "execution_count": 88,
   "id": "7821e265-02c6-430e-8139-0ae2b76d3962",
   "metadata": {},
   "outputs": [
    {
     "data": {
      "text/plain": [
       "Text(0.5, 1.0, 'Market_Excess vs Portfolio_Excess')"
      ]
     },
     "execution_count": 88,
     "metadata": {},
     "output_type": "execute_result"
    },
    {
     "data": {
      "image/png": "[encoded data removed]",
      "text/plain": [
       "<Figure size 1500x500 with 1 Axes>"
      ]
     },
     "metadata": {},
     "output_type": "display_data"
    }
   ],
   "source": [
    "import matplotlib.pyplot as plt\n",
    "plt.figure(figsize=(15, 5))\n",
    "\n",
    "# Portfolio vs Treasury\n",
    "plt.subplot(1, 3, 3)\n",
    "plt.scatter(FamaFrenchData_final['Portfolio_Excess'], FamaFrenchData_final['Market_Excess'])\n",
    "plt.xlabel(\"Portfolio_Excess Returns\")\n",
    "plt.ylabel(\"Market_Excess Returns\")\n",
    "plt.title(\"Market_Excess vs Portfolio_Excess\")"
   ]
  },
  {
   "cell_type": "markdown",
   "id": "a6be9f4f-a749-47cb-a4a4-94cc12b608e8",
   "metadata": {},
   "source": [
    "## The Fama French 3-factor model"
   ]
  },
  {
   "cell_type": "code",
   "execution_count": 90,
   "id": "b9cf4784-2102-41a7-a3f7-62be094aceb1",
   "metadata": {},
   "outputs": [
    {
     "name": "stdout",
     "output_type": "stream",
     "text": [
      "0.8698556164811231\n"
     ]
    }
   ],
   "source": [
    "# Import statsmodels.formula.api\n",
    "import statsmodels.formula.api as smf \n",
    "\n",
    "# Define the regression formula\n",
    "FamaFrench_model = smf.ols(formula='Portfolio_Excess ~ Market_Excess + SMB + HML', data=FamaFrenchData_final)\n",
    "\n",
    "# Fit the regression\n",
    "FamaFrench_fit = FamaFrench_model.fit()\n",
    "\n",
    "# Extract the adjusted r-squared\n",
    "regression_adj_rsq = FamaFrench_fit.rsquared_adj\n",
    "print(regression_adj_rsq)"
   ]
  },
  {
   "cell_type": "code",
   "execution_count": 91,
   "id": "5757cd73-948f-4715-a78c-d2a242c9b7d7",
   "metadata": {},
   "outputs": [
    {
     "name": "stdout",
     "output_type": "stream",
     "text": [
      "The SMB coefficient is  0.337120475700384  and is  significant\n"
     ]
    }
   ],
   "source": [
    "# Extract the p-value of the SMB factor\n",
    "smb_pval = FamaFrench_fit.pvalues['SMB']\n",
    "\n",
    "# If the p-value is significant, print significant\n",
    "if smb_pval < 0.05:\n",
    "    significant_msg = 'significant'\n",
    "else:\n",
    "    significant_msg = 'not significant'\n",
    "\n",
    "# Print the SMB coefficient\n",
    "smb_coeff = FamaFrench_fit.params['SMB']\n",
    "print(\"The SMB coefficient is \", smb_coeff, \" and is \", significant_msg)"
   ]
  },
  {
   "cell_type": "markdown",
   "id": "ce1588a5-cfaa-40ad-abf6-bbdda958e066",
   "metadata": {},
   "source": [
    "Historically, since 1982, value stocks have outperformed growth stocks in the majority of cases, and the tide often shifts during times of crisis and during bubbles such as the dot-com bubble during the late 1990's and early 2000's."
   ]
  },
  {
   "cell_type": "code",
   "execution_count": 93,
   "id": "1027e809-79c0-456a-a9ee-52942200a2f2",
   "metadata": {},
   "outputs": [
    {
     "name": "stdout",
     "output_type": "stream",
     "text": [
      "0.00453395735240201\n",
      "0.0015978787548009965\n"
     ]
    }
   ],
   "source": [
    "# Calculate your portfolio alpha\n",
    "portfolio_alpha = FamaFrench_fit.params['Intercept']\n",
    "print(portfolio_alpha)\n",
    "\n",
    "# Annualize your portfolio alpha\n",
    "portfolio_alpha_annualized = ((1+portfolio_alpha)**(12/months_diff))-1\n",
    "print(portfolio_alpha_annualized)"
   ]
  },
  {
   "cell_type": "code",
   "execution_count": 94,
   "id": "75bb4ad6-2bd7-4a0f-8635-5658fa8b1edd",
   "metadata": {},
   "outputs": [
    {
     "name": "stdout",
     "output_type": "stream",
     "text": [
      "                            OLS Regression Results                            \n",
      "==============================================================================\n",
      "Dep. Variable:       Portfolio_Excess   R-squared:                       0.870\n",
      "Model:                            OLS   Adj. R-squared:                  0.870\n",
      "Method:                 Least Squares   F-statistic:                     1590.\n",
      "Date:                Mon, 16 Dec 2024   Prob (F-statistic):          1.86e-314\n",
      "Time:                        07:37:45   Log-Likelihood:                 2668.3\n",
      "No. Observations:                 714   AIC:                            -5329.\n",
      "Df Residuals:                     710   BIC:                            -5310.\n",
      "Df Model:                           3                                         \n",
      "Covariance Type:            nonrobust                                         \n",
      "=================================================================================\n",
      "                    coef    std err          t      P>|t|      [0.025      0.975]\n",
      "---------------------------------------------------------------------------------\n",
      "Intercept         0.0045      0.001      3.431      0.001       0.002       0.007\n",
      "Market_Excess     1.0906      0.026     41.626      0.000       1.039       1.142\n",
      "SMB               0.3371      0.034      9.864      0.000       0.270       0.404\n",
      "HML              -0.2784      0.030     -9.423      0.000      -0.336      -0.220\n",
      "==============================================================================\n",
      "Omnibus:                       17.286   Durbin-Watson:                   1.977\n",
      "Prob(Omnibus):                  0.000   Jarque-Bera (JB):               24.633\n",
      "Skew:                           0.229   Prob(JB):                     4.48e-06\n",
      "Kurtosis:                       3.787   Cond. No.                         182.\n",
      "==============================================================================\n",
      "\n",
      "Notes:\n",
      "[1] Standard Errors assume that the covariance matrix of the errors is correctly specified.\n"
     ]
    }
   ],
   "source": [
    "print(FamaFrench_fit.summary())"
   ]
  },
  {
   "cell_type": "code",
   "execution_count": null,
   "id": "d3b3a122-f245-48c4-a395-db689328e826",
   "metadata": {},
   "outputs": [],
   "source": []
  }
 ],
 "metadata": {
  "kernelspec": {
   "display_name": "Python 3 (ipykernel)",
   "language": "python",
   "name": "python3"
  },
  "language_info": {
   "codemirror_mode": {
    "name": "ipython",
    "version": 3
   },
   "file_extension": ".py",
   "mimetype": "text/x-python",
   "name": "python",
   "nbconvert_exporter": "python",
   "pygments_lexer": "ipython3",
   "version": "3.11.7"
  },
  "widgets": {
   "application/vnd.jupyter.widget-state+json": {
    "state": {},
    "version_major": 2,
    "version_minor": 0
   }
  }
 },
 "nbformat": 4,
 "nbformat_minor": 5
}
