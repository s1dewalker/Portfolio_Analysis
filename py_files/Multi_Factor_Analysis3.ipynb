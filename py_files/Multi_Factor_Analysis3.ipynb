{
 "cells": [
  {
   "cell_type": "markdown",
   "id": "dbf91ead-9da7-4860-bb32-d4ac4c7ac742",
   "metadata": {},
   "source": [
    "# Fama French 3-Factor Modeling of NYSE stocks"
   ]
  },
  {
   "cell_type": "code",
   "execution_count": 2,
   "id": "7834fa58-dd16-4231-a152-b893affa28e3",
   "metadata": {},
   "outputs": [],
   "source": [
    "import pandas as pd"
   ]
  },
  {
   "cell_type": "markdown",
   "id": "78a93b72-f8c9-426e-ad1f-a6ac363b2817",
   "metadata": {},
   "source": [
    "### Extracting and Preparing Data"
   ]
  },
  {
   "cell_type": "code",
   "execution_count": 4,
   "id": "0843e918-0359-48a8-a8eb-75c4b61bdebf",
   "metadata": {},
   "outputs": [
    {
     "name": "stdout",
     "output_type": "stream",
     "text": [
      "Requirement already satisfied: yfinance in d:\\users\\sujay\\lib\\site-packages (0.2.48)\n",
      "Requirement already satisfied: pandas>=1.3.0 in d:\\users\\sujay\\lib\\site-packages (from yfinance) (2.1.4)\n",
      "Requirement already satisfied: numpy>=1.16.5 in d:\\users\\sujay\\lib\\site-packages (from yfinance) (1.26.4)\n",
      "Requirement already satisfied: requests>=2.31 in d:\\users\\sujay\\lib\\site-packages (from yfinance) (2.32.3)\n",
      "Requirement already satisfied: multitasking>=0.0.7 in d:\\users\\sujay\\lib\\site-packages (from yfinance) (0.0.11)\n",
      "Requirement already satisfied: lxml>=4.9.1 in d:\\users\\sujay\\lib\\site-packages (from yfinance) (4.9.3)\n",
      "Requirement already satisfied: platformdirs>=2.0.0 in d:\\users\\sujay\\lib\\site-packages (from yfinance) (3.10.0)\n",
      "Requirement already satisfied: pytz>=2022.5 in d:\\users\\sujay\\lib\\site-packages (from yfinance) (2023.3.post1)\n",
      "Requirement already satisfied: frozendict>=2.3.4 in d:\\users\\sujay\\lib\\site-packages (from yfinance) (2.4.2)\n",
      "Requirement already satisfied: peewee>=3.16.2 in d:\\users\\sujay\\lib\\site-packages (from yfinance) (3.17.7)\n",
      "Requirement already satisfied: beautifulsoup4>=4.11.1 in d:\\users\\sujay\\lib\\site-packages (from yfinance) (4.12.2)\n",
      "Requirement already satisfied: html5lib>=1.1 in d:\\users\\sujay\\lib\\site-packages (from yfinance) (1.1)\n",
      "Requirement already satisfied: soupsieve>1.2 in d:\\users\\sujay\\lib\\site-packages (from beautifulsoup4>=4.11.1->yfinance) (2.5)\n",
      "Requirement already satisfied: six>=1.9 in d:\\users\\sujay\\lib\\site-packages (from html5lib>=1.1->yfinance) (1.16.0)\n",
      "Requirement already satisfied: webencodings in d:\\users\\sujay\\lib\\site-packages (from html5lib>=1.1->yfinance) (0.5.1)\n",
      "Requirement already satisfied: python-dateutil>=2.8.2 in d:\\users\\sujay\\lib\\site-packages (from pandas>=1.3.0->yfinance) (2.8.2)\n",
      "Requirement already satisfied: tzdata>=2022.1 in d:\\users\\sujay\\lib\\site-packages (from pandas>=1.3.0->yfinance) (2023.3)\n",
      "Requirement already satisfied: charset-normalizer<4,>=2 in d:\\users\\sujay\\lib\\site-packages (from requests>=2.31->yfinance) (2.0.4)\n",
      "Requirement already satisfied: idna<4,>=2.5 in d:\\users\\sujay\\lib\\site-packages (from requests>=2.31->yfinance) (3.4)\n",
      "Requirement already satisfied: urllib3<3,>=1.21.1 in d:\\users\\sujay\\lib\\site-packages (from requests>=2.31->yfinance) (2.0.7)\n",
      "Requirement already satisfied: certifi>=2017.4.17 in d:\\users\\sujay\\lib\\site-packages (from requests>=2.31->yfinance) (2024.12.14)\n",
      "Note: you may need to restart the kernel to use updated packages.\n"
     ]
    }
   ],
   "source": [
    "pip install yfinance"
   ]
  },
  {
   "cell_type": "code",
   "execution_count": 5,
   "id": "24235b5b-e6ec-46e7-9dcf-91636c9ce9dc",
   "metadata": {},
   "outputs": [],
   "source": [
    "import yfinance as yf"
   ]
  },
  {
   "cell_type": "markdown",
   "id": "cc18c770-c213-4e89-b1c7-5d572b05a672",
   "metadata": {},
   "source": [
    "**Enter dates range:**"
   ]
  },
  {
   "cell_type": "code",
   "execution_count": 7,
   "id": "ef07d9b0-21a5-4430-9ba1-89726c1d5734",
   "metadata": {},
   "outputs": [
    {
     "name": "stdout",
     "output_type": "stream",
     "text": [
      "34\n"
     ]
    }
   ],
   "source": [
    "# Define the start and end dates (yyyy-mm-dd)\n",
    "start_date = pd.to_datetime(\"2022-01-01\")\n",
    "end_date = pd.to_datetime(\"2024-11-06\")\n",
    "\n",
    "# Calculate the difference in months\n",
    "months_diff = (end_date.year - start_date.year) * 12 + end_date.month - start_date.month\n",
    "\n",
    "print(months_diff)"
   ]
  },
  {
   "cell_type": "markdown",
   "id": "b85b00a7-7285-4220-bf2f-9513014f3334",
   "metadata": {},
   "source": [
    "**Enter stock tickers:**"
   ]
  },
  {
   "cell_type": "code",
   "execution_count": 9,
   "id": "9b201ffe-a3d3-4a3c-ab60-e970fa6e2f4e",
   "metadata": {},
   "outputs": [
    {
     "name": "stderr",
     "output_type": "stream",
     "text": [
      "[*********************100%***********************]  10 of 10 completed"
     ]
    },
    {
     "name": "stdout",
     "output_type": "stream",
     "text": [
      "Ticker                            AMD        AMZN         CVX         DIS  \\\n",
      "Date                                                                        \n",
      "2022-01-03 00:00:00+00:00  150.240005  170.404495  119.260002  156.759995   \n",
      "2022-01-04 00:00:00+00:00  144.419998  167.522003  121.430000  155.729996   \n",
      "2022-01-05 00:00:00+00:00  136.149994  164.356995  122.220001  155.190002   \n",
      "2022-01-06 00:00:00+00:00  136.229996  163.253998  123.260002  156.899994   \n",
      "2022-01-07 00:00:00+00:00  132.000000  162.554001  125.029999  157.830002   \n",
      "\n",
      "Ticker                           GOOG         JPM        MSFT       PLTR  \\\n",
      "Date                                                                       \n",
      "2022-01-03 00:00:00+00:00  145.074493  161.699997  334.750000  18.530001   \n",
      "2022-01-04 00:00:00+00:00  144.416504  167.830002  329.010010  18.170000   \n",
      "2022-01-05 00:00:00+00:00  137.653503  163.779999  316.380005  16.959999   \n",
      "2022-01-06 00:00:00+00:00  137.550995  165.520004  313.880005  16.740000   \n",
      "2022-01-07 00:00:00+00:00  137.004501  167.160004  314.040009  16.559999   \n",
      "\n",
      "Ticker                           TSLA       UBER  \n",
      "Date                                              \n",
      "2022-01-03 00:00:00+00:00  399.926666  43.950001  \n",
      "2022-01-04 00:00:00+00:00  383.196655  44.419998  \n",
      "2022-01-05 00:00:00+00:00  362.706665  43.240002  \n",
      "2022-01-06 00:00:00+00:00  354.899994  42.029999  \n",
      "2022-01-07 00:00:00+00:00  342.320007  41.509998  \n"
     ]
    },
    {
     "name": "stderr",
     "output_type": "stream",
     "text": [
      "\n"
     ]
    }
   ],
   "source": [
    "# List of tickers for NSE stocks (append '.NS' to each NSE ticker)\n",
    "tickers = [\"JPM\", \"CVX\", \"PLTR\", \"AMD\", \"TSLA\", \"AMZN\", \"UBER\", \"GOOG\", \"MSFT\", \"DIS\"]  # Add more tickers as needed\n",
    "\n",
    "# Download historical data for 1 or 2 years\n",
    "data = yf.download(tickers, start=start_date, end=end_date)\n",
    "\n",
    "# Extract only the closing prices\n",
    "closing_prices = data['Close']\n",
    "\n",
    "# Display the combined DataFrame\n",
    "print(closing_prices.head())\n",
    "\n",
    "# Optionally, save to a CSV file if you want\n",
    "closing_prices.to_csv(\"nse_closing_prices.csv\")"
   ]
  },
  {
   "cell_type": "code",
   "execution_count": 10,
   "id": "b8aef829-d6c8-4333-b7ee-476dba28064f",
   "metadata": {},
   "outputs": [
    {
     "data": {
      "text/html": [
       "<div>\n",
       "<style scoped>\n",
       "    .dataframe tbody tr th:only-of-type {\n",
       "        vertical-align: middle;\n",
       "    }\n",
       "\n",
       "    .dataframe tbody tr th {\n",
       "        vertical-align: top;\n",
       "    }\n",
       "\n",
       "    .dataframe thead th {\n",
       "        text-align: right;\n",
       "    }\n",
       "</style>\n",
       "<table border=\"1\" class=\"dataframe\">\n",
       "  <thead>\n",
       "    <tr style=\"text-align: right;\">\n",
       "      <th></th>\n",
       "      <th>Date</th>\n",
       "      <th>AMD</th>\n",
       "      <th>AMZN</th>\n",
       "      <th>CVX</th>\n",
       "      <th>DIS</th>\n",
       "      <th>GOOG</th>\n",
       "      <th>JPM</th>\n",
       "      <th>MSFT</th>\n",
       "      <th>PLTR</th>\n",
       "      <th>TSLA</th>\n",
       "      <th>UBER</th>\n",
       "    </tr>\n",
       "  </thead>\n",
       "  <tbody>\n",
       "    <tr>\n",
       "      <th>0</th>\n",
       "      <td>2022-01-03 00:00:00+00:00</td>\n",
       "      <td>150.240005</td>\n",
       "      <td>170.404495</td>\n",
       "      <td>119.260002</td>\n",
       "      <td>156.759995</td>\n",
       "      <td>145.074493</td>\n",
       "      <td>161.699997</td>\n",
       "      <td>334.750000</td>\n",
       "      <td>18.530001</td>\n",
       "      <td>399.926666</td>\n",
       "      <td>43.950001</td>\n",
       "    </tr>\n",
       "    <tr>\n",
       "      <th>1</th>\n",
       "      <td>2022-01-04 00:00:00+00:00</td>\n",
       "      <td>144.419998</td>\n",
       "      <td>167.522003</td>\n",
       "      <td>121.430000</td>\n",
       "      <td>155.729996</td>\n",
       "      <td>144.416504</td>\n",
       "      <td>167.830002</td>\n",
       "      <td>329.010010</td>\n",
       "      <td>18.170000</td>\n",
       "      <td>383.196655</td>\n",
       "      <td>44.419998</td>\n",
       "    </tr>\n",
       "    <tr>\n",
       "      <th>2</th>\n",
       "      <td>2022-01-05 00:00:00+00:00</td>\n",
       "      <td>136.149994</td>\n",
       "      <td>164.356995</td>\n",
       "      <td>122.220001</td>\n",
       "      <td>155.190002</td>\n",
       "      <td>137.653503</td>\n",
       "      <td>163.779999</td>\n",
       "      <td>316.380005</td>\n",
       "      <td>16.959999</td>\n",
       "      <td>362.706665</td>\n",
       "      <td>43.240002</td>\n",
       "    </tr>\n",
       "    <tr>\n",
       "      <th>3</th>\n",
       "      <td>2022-01-06 00:00:00+00:00</td>\n",
       "      <td>136.229996</td>\n",
       "      <td>163.253998</td>\n",
       "      <td>123.260002</td>\n",
       "      <td>156.899994</td>\n",
       "      <td>137.550995</td>\n",
       "      <td>165.520004</td>\n",
       "      <td>313.880005</td>\n",
       "      <td>16.740000</td>\n",
       "      <td>354.899994</td>\n",
       "      <td>42.029999</td>\n",
       "    </tr>\n",
       "    <tr>\n",
       "      <th>4</th>\n",
       "      <td>2022-01-07 00:00:00+00:00</td>\n",
       "      <td>132.000000</td>\n",
       "      <td>162.554001</td>\n",
       "      <td>125.029999</td>\n",
       "      <td>157.830002</td>\n",
       "      <td>137.004501</td>\n",
       "      <td>167.160004</td>\n",
       "      <td>314.040009</td>\n",
       "      <td>16.559999</td>\n",
       "      <td>342.320007</td>\n",
       "      <td>41.509998</td>\n",
       "    </tr>\n",
       "  </tbody>\n",
       "</table>\n",
       "</div>"
      ],
      "text/plain": [
       "                        Date         AMD        AMZN         CVX         DIS  \\\n",
       "0  2022-01-03 00:00:00+00:00  150.240005  170.404495  119.260002  156.759995   \n",
       "1  2022-01-04 00:00:00+00:00  144.419998  167.522003  121.430000  155.729996   \n",
       "2  2022-01-05 00:00:00+00:00  136.149994  164.356995  122.220001  155.190002   \n",
       "3  2022-01-06 00:00:00+00:00  136.229996  163.253998  123.260002  156.899994   \n",
       "4  2022-01-07 00:00:00+00:00  132.000000  162.554001  125.029999  157.830002   \n",
       "\n",
       "         GOOG         JPM        MSFT       PLTR        TSLA       UBER  \n",
       "0  145.074493  161.699997  334.750000  18.530001  399.926666  43.950001  \n",
       "1  144.416504  167.830002  329.010010  18.170000  383.196655  44.419998  \n",
       "2  137.653503  163.779999  316.380005  16.959999  362.706665  43.240002  \n",
       "3  137.550995  165.520004  313.880005  16.740000  354.899994  42.029999  \n",
       "4  137.004501  167.160004  314.040009  16.559999  342.320007  41.509998  "
      ]
     },
     "execution_count": 10,
     "metadata": {},
     "output_type": "execute_result"
    }
   ],
   "source": [
    "df = pd.read_csv(r\"nse_closing_prices.csv\")\n",
    "df.head()"
   ]
  },
  {
   "cell_type": "code",
   "execution_count": 11,
   "id": "d1a5f0d2-99e1-414d-8458-6c8f76e6a9d0",
   "metadata": {},
   "outputs": [],
   "source": [
    "df.set_index('Date', inplace =True)"
   ]
  },
  {
   "cell_type": "code",
   "execution_count": 12,
   "id": "0203e59d-f785-4818-8c95-2d5d19c43141",
   "metadata": {},
   "outputs": [
    {
     "data": {
      "text/plain": [
       "(715, 10)"
      ]
     },
     "execution_count": 12,
     "metadata": {},
     "output_type": "execute_result"
    }
   ],
   "source": [
    "df.shape"
   ]
  },
  {
   "cell_type": "markdown",
   "id": "94da3c63-3aed-4dea-9f1a-d76fb627faae",
   "metadata": {},
   "source": [
    "#### Calculating daily returns"
   ]
  },
  {
   "cell_type": "code",
   "execution_count": 14,
   "id": "3f55a84f-45cb-4c8c-a69c-e1c3809f05f5",
   "metadata": {},
   "outputs": [],
   "source": [
    "import numpy as np"
   ]
  },
  {
   "cell_type": "code",
   "execution_count": 15,
   "id": "2a5b94cd-52f6-4d71-8b30-55270b7e10c0",
   "metadata": {},
   "outputs": [],
   "source": [
    "returns = df.pct_change()"
   ]
  },
  {
   "cell_type": "code",
   "execution_count": 16,
   "id": "7aa503f4-e8c2-4f4f-8b59-5b056dd368b4",
   "metadata": {},
   "outputs": [],
   "source": [
    "returns.dropna(inplace = True)"
   ]
  },
  {
   "cell_type": "code",
   "execution_count": 17,
   "id": "77343d37-0d96-41e6-9dfc-272f1b4801ab",
   "metadata": {},
   "outputs": [
    {
     "data": {
      "text/html": [
       "<div>\n",
       "<style scoped>\n",
       "    .dataframe tbody tr th:only-of-type {\n",
       "        vertical-align: middle;\n",
       "    }\n",
       "\n",
       "    .dataframe tbody tr th {\n",
       "        vertical-align: top;\n",
       "    }\n",
       "\n",
       "    .dataframe thead th {\n",
       "        text-align: right;\n",
       "    }\n",
       "</style>\n",
       "<table border=\"1\" class=\"dataframe\">\n",
       "  <thead>\n",
       "    <tr style=\"text-align: right;\">\n",
       "      <th></th>\n",
       "      <th>AMD</th>\n",
       "      <th>AMZN</th>\n",
       "      <th>CVX</th>\n",
       "      <th>DIS</th>\n",
       "      <th>GOOG</th>\n",
       "      <th>JPM</th>\n",
       "      <th>MSFT</th>\n",
       "      <th>PLTR</th>\n",
       "      <th>TSLA</th>\n",
       "      <th>UBER</th>\n",
       "    </tr>\n",
       "    <tr>\n",
       "      <th>Date</th>\n",
       "      <th></th>\n",
       "      <th></th>\n",
       "      <th></th>\n",
       "      <th></th>\n",
       "      <th></th>\n",
       "      <th></th>\n",
       "      <th></th>\n",
       "      <th></th>\n",
       "      <th></th>\n",
       "      <th></th>\n",
       "    </tr>\n",
       "  </thead>\n",
       "  <tbody>\n",
       "    <tr>\n",
       "      <th>2022-01-04 00:00:00+00:00</th>\n",
       "      <td>-0.038738</td>\n",
       "      <td>-0.016916</td>\n",
       "      <td>0.018196</td>\n",
       "      <td>-0.006571</td>\n",
       "      <td>-0.004536</td>\n",
       "      <td>0.037910</td>\n",
       "      <td>-0.017147</td>\n",
       "      <td>-0.019428</td>\n",
       "      <td>-0.041833</td>\n",
       "      <td>0.010694</td>\n",
       "    </tr>\n",
       "    <tr>\n",
       "      <th>2022-01-05 00:00:00+00:00</th>\n",
       "      <td>-0.057264</td>\n",
       "      <td>-0.018893</td>\n",
       "      <td>0.006506</td>\n",
       "      <td>-0.003467</td>\n",
       "      <td>-0.046830</td>\n",
       "      <td>-0.024132</td>\n",
       "      <td>-0.038388</td>\n",
       "      <td>-0.066593</td>\n",
       "      <td>-0.053471</td>\n",
       "      <td>-0.026565</td>\n",
       "    </tr>\n",
       "    <tr>\n",
       "      <th>2022-01-06 00:00:00+00:00</th>\n",
       "      <td>0.000588</td>\n",
       "      <td>-0.006711</td>\n",
       "      <td>0.008509</td>\n",
       "      <td>0.011019</td>\n",
       "      <td>-0.000745</td>\n",
       "      <td>0.010624</td>\n",
       "      <td>-0.007902</td>\n",
       "      <td>-0.012972</td>\n",
       "      <td>-0.021523</td>\n",
       "      <td>-0.027983</td>\n",
       "    </tr>\n",
       "    <tr>\n",
       "      <th>2022-01-07 00:00:00+00:00</th>\n",
       "      <td>-0.031050</td>\n",
       "      <td>-0.004288</td>\n",
       "      <td>0.014360</td>\n",
       "      <td>0.005927</td>\n",
       "      <td>-0.003973</td>\n",
       "      <td>0.009908</td>\n",
       "      <td>0.000510</td>\n",
       "      <td>-0.010753</td>\n",
       "      <td>-0.035447</td>\n",
       "      <td>-0.012372</td>\n",
       "    </tr>\n",
       "    <tr>\n",
       "      <th>2022-01-10 00:00:00+00:00</th>\n",
       "      <td>0.000000</td>\n",
       "      <td>-0.006570</td>\n",
       "      <td>0.000640</td>\n",
       "      <td>-0.007793</td>\n",
       "      <td>0.011456</td>\n",
       "      <td>0.000957</td>\n",
       "      <td>0.000732</td>\n",
       "      <td>-0.003623</td>\n",
       "      <td>0.030342</td>\n",
       "      <td>0.026259</td>\n",
       "    </tr>\n",
       "  </tbody>\n",
       "</table>\n",
       "</div>"
      ],
      "text/plain": [
       "                                AMD      AMZN       CVX       DIS      GOOG  \\\n",
       "Date                                                                          \n",
       "2022-01-04 00:00:00+00:00 -0.038738 -0.016916  0.018196 -0.006571 -0.004536   \n",
       "2022-01-05 00:00:00+00:00 -0.057264 -0.018893  0.006506 -0.003467 -0.046830   \n",
       "2022-01-06 00:00:00+00:00  0.000588 -0.006711  0.008509  0.011019 -0.000745   \n",
       "2022-01-07 00:00:00+00:00 -0.031050 -0.004288  0.014360  0.005927 -0.003973   \n",
       "2022-01-10 00:00:00+00:00  0.000000 -0.006570  0.000640 -0.007793  0.011456   \n",
       "\n",
       "                                JPM      MSFT      PLTR      TSLA      UBER  \n",
       "Date                                                                         \n",
       "2022-01-04 00:00:00+00:00  0.037910 -0.017147 -0.019428 -0.041833  0.010694  \n",
       "2022-01-05 00:00:00+00:00 -0.024132 -0.038388 -0.066593 -0.053471 -0.026565  \n",
       "2022-01-06 00:00:00+00:00  0.010624 -0.007902 -0.012972 -0.021523 -0.027983  \n",
       "2022-01-07 00:00:00+00:00  0.009908  0.000510 -0.010753 -0.035447 -0.012372  \n",
       "2022-01-10 00:00:00+00:00  0.000957  0.000732 -0.003623  0.030342  0.026259  "
      ]
     },
     "execution_count": 17,
     "metadata": {},
     "output_type": "execute_result"
    }
   ],
   "source": [
    "returns.head()"
   ]
  },
  {
   "cell_type": "markdown",
   "id": "b36fb94e-cdd9-48ac-9536-d8ceff198b7c",
   "metadata": {},
   "source": [
    "### Constructing portfolio"
   ]
  },
  {
   "cell_type": "markdown",
   "id": "7b03525b-e169-4778-83d0-7d55204da818",
   "metadata": {},
   "source": [
    "__Equal weighted portfolio__"
   ]
  },
  {
   "cell_type": "code",
   "execution_count": 20,
   "id": "c8bf1e23-02ee-4df6-96f5-50ce826d0599",
   "metadata": {},
   "outputs": [
    {
     "data": {
      "text/plain": [
       "array([0.1, 0.1, 0.1, 0.1, 0.1, 0.1, 0.1, 0.1, 0.1, 0.1])"
      ]
     },
     "execution_count": 20,
     "metadata": {},
     "output_type": "execute_result"
    }
   ],
   "source": [
    "#weights = [0.1,0.1,0.1,0.1,0.1,0.1,0.1,0.1,0.1,0.1]\n",
    "# Count the total number of stocks\n",
    "num_stocks = len(df.columns)\n",
    "num_stocks\n",
    "\n",
    "\n",
    "# Create an array of equal weights\n",
    "equal_weights = np.repeat(1/num_stocks, num_stocks)\n",
    "equal_weights\n",
    "\n",
    "weights = equal_weights\n",
    "weights"
   ]
  },
  {
   "cell_type": "code",
   "execution_count": 21,
   "id": "32d923cf-7deb-4dc6-840b-dde0dda0174b",
   "metadata": {},
   "outputs": [],
   "source": [
    "# Create portfolio returns column\n",
    "returns['Portfolio']= returns.dot(weights)"
   ]
  },
  {
   "cell_type": "code",
   "execution_count": 22,
   "id": "efffbd71-55f9-46a9-8b46-4d08f126e036",
   "metadata": {},
   "outputs": [
    {
     "data": {
      "text/html": [
       "<div>\n",
       "<style scoped>\n",
       "    .dataframe tbody tr th:only-of-type {\n",
       "        vertical-align: middle;\n",
       "    }\n",
       "\n",
       "    .dataframe tbody tr th {\n",
       "        vertical-align: top;\n",
       "    }\n",
       "\n",
       "    .dataframe thead th {\n",
       "        text-align: right;\n",
       "    }\n",
       "</style>\n",
       "<table border=\"1\" class=\"dataframe\">\n",
       "  <thead>\n",
       "    <tr style=\"text-align: right;\">\n",
       "      <th></th>\n",
       "      <th>AMD</th>\n",
       "      <th>AMZN</th>\n",
       "      <th>CVX</th>\n",
       "      <th>DIS</th>\n",
       "      <th>GOOG</th>\n",
       "      <th>JPM</th>\n",
       "      <th>MSFT</th>\n",
       "      <th>PLTR</th>\n",
       "      <th>TSLA</th>\n",
       "      <th>UBER</th>\n",
       "      <th>Portfolio</th>\n",
       "    </tr>\n",
       "    <tr>\n",
       "      <th>Date</th>\n",
       "      <th></th>\n",
       "      <th></th>\n",
       "      <th></th>\n",
       "      <th></th>\n",
       "      <th></th>\n",
       "      <th></th>\n",
       "      <th></th>\n",
       "      <th></th>\n",
       "      <th></th>\n",
       "      <th></th>\n",
       "      <th></th>\n",
       "    </tr>\n",
       "  </thead>\n",
       "  <tbody>\n",
       "    <tr>\n",
       "      <th>2022-01-04 00:00:00+00:00</th>\n",
       "      <td>-0.038738</td>\n",
       "      <td>-0.016916</td>\n",
       "      <td>0.018196</td>\n",
       "      <td>-0.006571</td>\n",
       "      <td>-0.004536</td>\n",
       "      <td>0.037910</td>\n",
       "      <td>-0.017147</td>\n",
       "      <td>-0.019428</td>\n",
       "      <td>-0.041833</td>\n",
       "      <td>0.010694</td>\n",
       "      <td>-0.007837</td>\n",
       "    </tr>\n",
       "    <tr>\n",
       "      <th>2022-01-05 00:00:00+00:00</th>\n",
       "      <td>-0.057264</td>\n",
       "      <td>-0.018893</td>\n",
       "      <td>0.006506</td>\n",
       "      <td>-0.003467</td>\n",
       "      <td>-0.046830</td>\n",
       "      <td>-0.024132</td>\n",
       "      <td>-0.038388</td>\n",
       "      <td>-0.066593</td>\n",
       "      <td>-0.053471</td>\n",
       "      <td>-0.026565</td>\n",
       "      <td>-0.032910</td>\n",
       "    </tr>\n",
       "    <tr>\n",
       "      <th>2022-01-06 00:00:00+00:00</th>\n",
       "      <td>0.000588</td>\n",
       "      <td>-0.006711</td>\n",
       "      <td>0.008509</td>\n",
       "      <td>0.011019</td>\n",
       "      <td>-0.000745</td>\n",
       "      <td>0.010624</td>\n",
       "      <td>-0.007902</td>\n",
       "      <td>-0.012972</td>\n",
       "      <td>-0.021523</td>\n",
       "      <td>-0.027983</td>\n",
       "      <td>-0.004710</td>\n",
       "    </tr>\n",
       "    <tr>\n",
       "      <th>2022-01-07 00:00:00+00:00</th>\n",
       "      <td>-0.031050</td>\n",
       "      <td>-0.004288</td>\n",
       "      <td>0.014360</td>\n",
       "      <td>0.005927</td>\n",
       "      <td>-0.003973</td>\n",
       "      <td>0.009908</td>\n",
       "      <td>0.000510</td>\n",
       "      <td>-0.010753</td>\n",
       "      <td>-0.035447</td>\n",
       "      <td>-0.012372</td>\n",
       "      <td>-0.006718</td>\n",
       "    </tr>\n",
       "    <tr>\n",
       "      <th>2022-01-10 00:00:00+00:00</th>\n",
       "      <td>0.000000</td>\n",
       "      <td>-0.006570</td>\n",
       "      <td>0.000640</td>\n",
       "      <td>-0.007793</td>\n",
       "      <td>0.011456</td>\n",
       "      <td>0.000957</td>\n",
       "      <td>0.000732</td>\n",
       "      <td>-0.003623</td>\n",
       "      <td>0.030342</td>\n",
       "      <td>0.026259</td>\n",
       "      <td>0.005240</td>\n",
       "    </tr>\n",
       "  </tbody>\n",
       "</table>\n",
       "</div>"
      ],
      "text/plain": [
       "                                AMD      AMZN       CVX       DIS      GOOG  \\\n",
       "Date                                                                          \n",
       "2022-01-04 00:00:00+00:00 -0.038738 -0.016916  0.018196 -0.006571 -0.004536   \n",
       "2022-01-05 00:00:00+00:00 -0.057264 -0.018893  0.006506 -0.003467 -0.046830   \n",
       "2022-01-06 00:00:00+00:00  0.000588 -0.006711  0.008509  0.011019 -0.000745   \n",
       "2022-01-07 00:00:00+00:00 -0.031050 -0.004288  0.014360  0.005927 -0.003973   \n",
       "2022-01-10 00:00:00+00:00  0.000000 -0.006570  0.000640 -0.007793  0.011456   \n",
       "\n",
       "                                JPM      MSFT      PLTR      TSLA      UBER  \\\n",
       "Date                                                                          \n",
       "2022-01-04 00:00:00+00:00  0.037910 -0.017147 -0.019428 -0.041833  0.010694   \n",
       "2022-01-05 00:00:00+00:00 -0.024132 -0.038388 -0.066593 -0.053471 -0.026565   \n",
       "2022-01-06 00:00:00+00:00  0.010624 -0.007902 -0.012972 -0.021523 -0.027983   \n",
       "2022-01-07 00:00:00+00:00  0.009908  0.000510 -0.010753 -0.035447 -0.012372   \n",
       "2022-01-10 00:00:00+00:00  0.000957  0.000732 -0.003623  0.030342  0.026259   \n",
       "\n",
       "                           Portfolio  \n",
       "Date                                  \n",
       "2022-01-04 00:00:00+00:00  -0.007837  \n",
       "2022-01-05 00:00:00+00:00  -0.032910  \n",
       "2022-01-06 00:00:00+00:00  -0.004710  \n",
       "2022-01-07 00:00:00+00:00  -0.006718  \n",
       "2022-01-10 00:00:00+00:00   0.005240  "
      ]
     },
     "execution_count": 22,
     "metadata": {},
     "output_type": "execute_result"
    }
   ],
   "source": [
    "returns.head()"
   ]
  },
  {
   "cell_type": "code",
   "execution_count": 23,
   "id": "2a68d4d8-d912-48df-82fe-8cc03213b711",
   "metadata": {},
   "outputs": [
    {
     "data": {
      "text/html": [
       "<div>\n",
       "<style scoped>\n",
       "    .dataframe tbody tr th:only-of-type {\n",
       "        vertical-align: middle;\n",
       "    }\n",
       "\n",
       "    .dataframe tbody tr th {\n",
       "        vertical-align: top;\n",
       "    }\n",
       "\n",
       "    .dataframe thead th {\n",
       "        text-align: right;\n",
       "    }\n",
       "</style>\n",
       "<table border=\"1\" class=\"dataframe\">\n",
       "  <thead>\n",
       "    <tr style=\"text-align: right;\">\n",
       "      <th></th>\n",
       "      <th>count</th>\n",
       "      <th>mean</th>\n",
       "      <th>std</th>\n",
       "      <th>min</th>\n",
       "      <th>25%</th>\n",
       "      <th>50%</th>\n",
       "      <th>75%</th>\n",
       "      <th>max</th>\n",
       "    </tr>\n",
       "  </thead>\n",
       "  <tbody>\n",
       "    <tr>\n",
       "      <th>Portfolio</th>\n",
       "      <td>714.0</td>\n",
       "      <td>0.000607</td>\n",
       "      <td>0.017998</td>\n",
       "      <td>-0.073726</td>\n",
       "      <td>-0.009293</td>\n",
       "      <td>0.000419</td>\n",
       "      <td>0.011122</td>\n",
       "      <td>0.078218</td>\n",
       "    </tr>\n",
       "  </tbody>\n",
       "</table>\n",
       "</div>"
      ],
      "text/plain": [
       "           count      mean       std       min       25%       50%       75%  \\\n",
       "Portfolio  714.0  0.000607  0.017998 -0.073726 -0.009293  0.000419  0.011122   \n",
       "\n",
       "                max  \n",
       "Portfolio  0.078218  "
      ]
     },
     "execution_count": 23,
     "metadata": {},
     "output_type": "execute_result"
    }
   ],
   "source": [
    "returns['Portfolio'].describe().to_frame().T"
   ]
  },
  {
   "cell_type": "code",
   "execution_count": 24,
   "id": "c23af60d-8f01-451b-8314-1cab144dd034",
   "metadata": {},
   "outputs": [
    {
     "data": {
      "text/html": [
       "<div>\n",
       "<style scoped>\n",
       "    .dataframe tbody tr th:only-of-type {\n",
       "        vertical-align: middle;\n",
       "    }\n",
       "\n",
       "    .dataframe tbody tr th {\n",
       "        vertical-align: top;\n",
       "    }\n",
       "\n",
       "    .dataframe thead th {\n",
       "        text-align: right;\n",
       "    }\n",
       "</style>\n",
       "<table border=\"1\" class=\"dataframe\">\n",
       "  <thead>\n",
       "    <tr style=\"text-align: right;\">\n",
       "      <th></th>\n",
       "      <th>AMD</th>\n",
       "      <th>AMZN</th>\n",
       "      <th>CVX</th>\n",
       "      <th>DIS</th>\n",
       "      <th>GOOG</th>\n",
       "      <th>JPM</th>\n",
       "      <th>MSFT</th>\n",
       "      <th>PLTR</th>\n",
       "      <th>TSLA</th>\n",
       "      <th>UBER</th>\n",
       "      <th>Portfolio</th>\n",
       "    </tr>\n",
       "    <tr>\n",
       "      <th>Date</th>\n",
       "      <th></th>\n",
       "      <th></th>\n",
       "      <th></th>\n",
       "      <th></th>\n",
       "      <th></th>\n",
       "      <th></th>\n",
       "      <th></th>\n",
       "      <th></th>\n",
       "      <th></th>\n",
       "      <th></th>\n",
       "      <th></th>\n",
       "    </tr>\n",
       "  </thead>\n",
       "  <tbody>\n",
       "    <tr>\n",
       "      <th>2024-10-30 00:00:00+00:00</th>\n",
       "      <td>0.989084</td>\n",
       "      <td>1.131015</td>\n",
       "      <td>1.241405</td>\n",
       "      <td>0.606532</td>\n",
       "      <td>1.214135</td>\n",
       "      <td>1.387817</td>\n",
       "      <td>1.292099</td>\n",
       "      <td>2.357798</td>\n",
       "      <td>0.643993</td>\n",
       "      <td>1.807281</td>\n",
       "      <td>1.368397</td>\n",
       "    </tr>\n",
       "    <tr>\n",
       "      <th>2024-10-31 00:00:00+00:00</th>\n",
       "      <td>0.958932</td>\n",
       "      <td>1.093868</td>\n",
       "      <td>1.247862</td>\n",
       "      <td>0.613677</td>\n",
       "      <td>1.190354</td>\n",
       "      <td>1.372418</td>\n",
       "      <td>1.213891</td>\n",
       "      <td>2.242849</td>\n",
       "      <td>0.624740</td>\n",
       "      <td>1.639363</td>\n",
       "      <td>1.326097</td>\n",
       "    </tr>\n",
       "    <tr>\n",
       "      <th>2024-11-01 00:00:00+00:00</th>\n",
       "      <td>0.944223</td>\n",
       "      <td>1.161530</td>\n",
       "      <td>1.283498</td>\n",
       "      <td>0.611189</td>\n",
       "      <td>1.190078</td>\n",
       "      <td>1.378726</td>\n",
       "      <td>1.225900</td>\n",
       "      <td>2.262277</td>\n",
       "      <td>0.622564</td>\n",
       "      <td>1.666667</td>\n",
       "      <td>1.340301</td>\n",
       "    </tr>\n",
       "    <tr>\n",
       "      <th>2024-11-04 00:00:00+00:00</th>\n",
       "      <td>0.936568</td>\n",
       "      <td>1.148913</td>\n",
       "      <td>1.291045</td>\n",
       "      <td>0.611062</td>\n",
       "      <td>1.176499</td>\n",
       "      <td>1.359184</td>\n",
       "      <td>1.220194</td>\n",
       "      <td>2.234754</td>\n",
       "      <td>0.607211</td>\n",
       "      <td>1.666667</td>\n",
       "      <td>1.329530</td>\n",
       "    </tr>\n",
       "    <tr>\n",
       "      <th>2024-11-05 00:00:00+00:00</th>\n",
       "      <td>0.942891</td>\n",
       "      <td>1.170744</td>\n",
       "      <td>1.286349</td>\n",
       "      <td>0.616420</td>\n",
       "      <td>1.181531</td>\n",
       "      <td>1.369759</td>\n",
       "      <td>1.229156</td>\n",
       "      <td>2.759309</td>\n",
       "      <td>0.628715</td>\n",
       "      <td>1.687144</td>\n",
       "      <td>1.373765</td>\n",
       "    </tr>\n",
       "  </tbody>\n",
       "</table>\n",
       "</div>"
      ],
      "text/plain": [
       "                                AMD      AMZN       CVX       DIS      GOOG  \\\n",
       "Date                                                                          \n",
       "2024-10-30 00:00:00+00:00  0.989084  1.131015  1.241405  0.606532  1.214135   \n",
       "2024-10-31 00:00:00+00:00  0.958932  1.093868  1.247862  0.613677  1.190354   \n",
       "2024-11-01 00:00:00+00:00  0.944223  1.161530  1.283498  0.611189  1.190078   \n",
       "2024-11-04 00:00:00+00:00  0.936568  1.148913  1.291045  0.611062  1.176499   \n",
       "2024-11-05 00:00:00+00:00  0.942891  1.170744  1.286349  0.616420  1.181531   \n",
       "\n",
       "                                JPM      MSFT      PLTR      TSLA      UBER  \\\n",
       "Date                                                                          \n",
       "2024-10-30 00:00:00+00:00  1.387817  1.292099  2.357798  0.643993  1.807281   \n",
       "2024-10-31 00:00:00+00:00  1.372418  1.213891  2.242849  0.624740  1.639363   \n",
       "2024-11-01 00:00:00+00:00  1.378726  1.225900  2.262277  0.622564  1.666667   \n",
       "2024-11-04 00:00:00+00:00  1.359184  1.220194  2.234754  0.607211  1.666667   \n",
       "2024-11-05 00:00:00+00:00  1.369759  1.229156  2.759309  0.628715  1.687144   \n",
       "\n",
       "                           Portfolio  \n",
       "Date                                  \n",
       "2024-10-30 00:00:00+00:00   1.368397  \n",
       "2024-10-31 00:00:00+00:00   1.326097  \n",
       "2024-11-01 00:00:00+00:00   1.340301  \n",
       "2024-11-04 00:00:00+00:00   1.329530  \n",
       "2024-11-05 00:00:00+00:00   1.373765  "
      ]
     },
     "execution_count": 24,
     "metadata": {},
     "output_type": "execute_result"
    }
   ],
   "source": [
    "# Calculate cumulative returns (growth factor)\n",
    "daily_cum_ret=(1+returns).cumprod()\n",
    "daily_cum_ret.tail()"
   ]
  },
  {
   "cell_type": "markdown",
   "id": "43ea4d81-2c1c-4b7e-a989-0106c5cef621",
   "metadata": {},
   "source": [
    "Assuming risk free rate to be 5% for the duration"
   ]
  },
  {
   "cell_type": "code",
   "execution_count": 26,
   "id": "4b6e5505-f982-4d5c-867a-e20b5384a110",
   "metadata": {},
   "outputs": [],
   "source": [
    "returns['RF'] = 0.05"
   ]
  },
  {
   "cell_type": "code",
   "execution_count": 27,
   "id": "c3f4c134-05b3-4e1e-a0ee-7f1c64ed6115",
   "metadata": {},
   "outputs": [],
   "source": [
    "# Calculate excess portfolio returns\n",
    "returns['Portfolio_Excess'] = returns['Portfolio'] - returns['RF']"
   ]
  },
  {
   "cell_type": "code",
   "execution_count": 28,
   "id": "3de303a5-b252-4fb7-8f8a-953c4c9b3fba",
   "metadata": {},
   "outputs": [
    {
     "data": {
      "text/html": [
       "<div>\n",
       "<style scoped>\n",
       "    .dataframe tbody tr th:only-of-type {\n",
       "        vertical-align: middle;\n",
       "    }\n",
       "\n",
       "    .dataframe tbody tr th {\n",
       "        vertical-align: top;\n",
       "    }\n",
       "\n",
       "    .dataframe thead th {\n",
       "        text-align: right;\n",
       "    }\n",
       "</style>\n",
       "<table border=\"1\" class=\"dataframe\">\n",
       "  <thead>\n",
       "    <tr style=\"text-align: right;\">\n",
       "      <th></th>\n",
       "      <th>AMD</th>\n",
       "      <th>AMZN</th>\n",
       "      <th>CVX</th>\n",
       "      <th>DIS</th>\n",
       "      <th>GOOG</th>\n",
       "      <th>JPM</th>\n",
       "      <th>MSFT</th>\n",
       "      <th>PLTR</th>\n",
       "      <th>TSLA</th>\n",
       "      <th>UBER</th>\n",
       "      <th>Portfolio</th>\n",
       "      <th>RF</th>\n",
       "      <th>Portfolio_Excess</th>\n",
       "    </tr>\n",
       "    <tr>\n",
       "      <th>Date</th>\n",
       "      <th></th>\n",
       "      <th></th>\n",
       "      <th></th>\n",
       "      <th></th>\n",
       "      <th></th>\n",
       "      <th></th>\n",
       "      <th></th>\n",
       "      <th></th>\n",
       "      <th></th>\n",
       "      <th></th>\n",
       "      <th></th>\n",
       "      <th></th>\n",
       "      <th></th>\n",
       "    </tr>\n",
       "  </thead>\n",
       "  <tbody>\n",
       "    <tr>\n",
       "      <th>2024-10-30 00:00:00+00:00</th>\n",
       "      <td>-0.106165</td>\n",
       "      <td>0.009956</td>\n",
       "      <td>-0.003165</td>\n",
       "      <td>-0.010923</td>\n",
       "      <td>0.029216</td>\n",
       "      <td>0.006774</td>\n",
       "      <td>0.001343</td>\n",
       "      <td>-0.027599</td>\n",
       "      <td>-0.007591</td>\n",
       "      <td>0.002777</td>\n",
       "      <td>-0.010538</td>\n",
       "      <td>0.05</td>\n",
       "      <td>-0.060538</td>\n",
       "    </tr>\n",
       "    <tr>\n",
       "      <th>2024-10-31 00:00:00+00:00</th>\n",
       "      <td>-0.030485</td>\n",
       "      <td>-0.032844</td>\n",
       "      <td>0.005201</td>\n",
       "      <td>0.011780</td>\n",
       "      <td>-0.019587</td>\n",
       "      <td>-0.011096</td>\n",
       "      <td>-0.060528</td>\n",
       "      <td>-0.048753</td>\n",
       "      <td>-0.029897</td>\n",
       "      <td>-0.092912</td>\n",
       "      <td>-0.030912</td>\n",
       "      <td>0.05</td>\n",
       "      <td>-0.080912</td>\n",
       "    </tr>\n",
       "    <tr>\n",
       "      <th>2024-11-01 00:00:00+00:00</th>\n",
       "      <td>-0.015340</td>\n",
       "      <td>0.061856</td>\n",
       "      <td>0.028558</td>\n",
       "      <td>-0.004054</td>\n",
       "      <td>-0.000232</td>\n",
       "      <td>0.004596</td>\n",
       "      <td>0.009893</td>\n",
       "      <td>0.008662</td>\n",
       "      <td>-0.003482</td>\n",
       "      <td>0.016655</td>\n",
       "      <td>0.010711</td>\n",
       "      <td>0.05</td>\n",
       "      <td>-0.039289</td>\n",
       "    </tr>\n",
       "    <tr>\n",
       "      <th>2024-11-04 00:00:00+00:00</th>\n",
       "      <td>-0.008107</td>\n",
       "      <td>-0.010862</td>\n",
       "      <td>0.005880</td>\n",
       "      <td>-0.000209</td>\n",
       "      <td>-0.011410</td>\n",
       "      <td>-0.014174</td>\n",
       "      <td>-0.004654</td>\n",
       "      <td>-0.012166</td>\n",
       "      <td>-0.024661</td>\n",
       "      <td>0.000000</td>\n",
       "      <td>-0.008036</td>\n",
       "      <td>0.05</td>\n",
       "      <td>-0.058036</td>\n",
       "    </tr>\n",
       "    <tr>\n",
       "      <th>2024-11-05 00:00:00+00:00</th>\n",
       "      <td>0.006751</td>\n",
       "      <td>0.019001</td>\n",
       "      <td>-0.003637</td>\n",
       "      <td>0.008769</td>\n",
       "      <td>0.004277</td>\n",
       "      <td>0.007781</td>\n",
       "      <td>0.007345</td>\n",
       "      <td>0.234726</td>\n",
       "      <td>0.035414</td>\n",
       "      <td>0.012287</td>\n",
       "      <td>0.033271</td>\n",
       "      <td>0.05</td>\n",
       "      <td>-0.016729</td>\n",
       "    </tr>\n",
       "  </tbody>\n",
       "</table>\n",
       "</div>"
      ],
      "text/plain": [
       "                                AMD      AMZN       CVX       DIS      GOOG  \\\n",
       "Date                                                                          \n",
       "2024-10-30 00:00:00+00:00 -0.106165  0.009956 -0.003165 -0.010923  0.029216   \n",
       "2024-10-31 00:00:00+00:00 -0.030485 -0.032844  0.005201  0.011780 -0.019587   \n",
       "2024-11-01 00:00:00+00:00 -0.015340  0.061856  0.028558 -0.004054 -0.000232   \n",
       "2024-11-04 00:00:00+00:00 -0.008107 -0.010862  0.005880 -0.000209 -0.011410   \n",
       "2024-11-05 00:00:00+00:00  0.006751  0.019001 -0.003637  0.008769  0.004277   \n",
       "\n",
       "                                JPM      MSFT      PLTR      TSLA      UBER  \\\n",
       "Date                                                                          \n",
       "2024-10-30 00:00:00+00:00  0.006774  0.001343 -0.027599 -0.007591  0.002777   \n",
       "2024-10-31 00:00:00+00:00 -0.011096 -0.060528 -0.048753 -0.029897 -0.092912   \n",
       "2024-11-01 00:00:00+00:00  0.004596  0.009893  0.008662 -0.003482  0.016655   \n",
       "2024-11-04 00:00:00+00:00 -0.014174 -0.004654 -0.012166 -0.024661  0.000000   \n",
       "2024-11-05 00:00:00+00:00  0.007781  0.007345  0.234726  0.035414  0.012287   \n",
       "\n",
       "                           Portfolio    RF  Portfolio_Excess  \n",
       "Date                                                          \n",
       "2024-10-30 00:00:00+00:00  -0.010538  0.05         -0.060538  \n",
       "2024-10-31 00:00:00+00:00  -0.030912  0.05         -0.080912  \n",
       "2024-11-01 00:00:00+00:00   0.010711  0.05         -0.039289  \n",
       "2024-11-04 00:00:00+00:00  -0.008036  0.05         -0.058036  \n",
       "2024-11-05 00:00:00+00:00   0.033271  0.05         -0.016729  "
      ]
     },
     "execution_count": 28,
     "metadata": {},
     "output_type": "execute_result"
    }
   ],
   "source": [
    "returns.tail()"
   ]
  },
  {
   "cell_type": "code",
   "execution_count": 29,
   "id": "90e663b8-a492-4eee-97fb-14cefb032df4",
   "metadata": {},
   "outputs": [],
   "source": [
    "import matplotlib.pyplot as plt"
   ]
  },
  {
   "cell_type": "markdown",
   "id": "1160ee95-fe2a-4764-8474-474d6e2420d2",
   "metadata": {},
   "source": [
    "### Benchmark data"
   ]
  },
  {
   "cell_type": "markdown",
   "id": "090599c3-1e90-4083-9ea2-fad63d2c8c16",
   "metadata": {},
   "source": [
    "get S&P500 data for benchmark"
   ]
  },
  {
   "cell_type": "code",
   "execution_count": 32,
   "id": "b4d08e48-7076-4e74-8f49-46b9098f8e34",
   "metadata": {},
   "outputs": [],
   "source": [
    "sp500_ticker = \"^GSPC\""
   ]
  },
  {
   "cell_type": "code",
   "execution_count": 33,
   "id": "a6d5bf27-e74e-42aa-9f0b-212a92ce3c75",
   "metadata": {},
   "outputs": [
    {
     "name": "stderr",
     "output_type": "stream",
     "text": [
      "[*********************100%***********************]  1 of 1 completed\n"
     ]
    }
   ],
   "source": [
    "sp500_data = yf.download(sp500_ticker, start=start_date, end=end_date)"
   ]
  },
  {
   "cell_type": "code",
   "execution_count": 34,
   "id": "3979edeb-151f-43f7-acad-dd4edfa53325",
   "metadata": {},
   "outputs": [],
   "source": [
    "sp500_closing_prices = sp500_data['Close']"
   ]
  },
  {
   "cell_type": "code",
   "execution_count": 35,
   "id": "67d447bc-6a8f-454c-81ff-fb429a625233",
   "metadata": {},
   "outputs": [
    {
     "name": "stdout",
     "output_type": "stream",
     "text": [
      "Ticker                           ^GSPC\n",
      "Date                                  \n",
      "2024-10-30 00:00:00+00:00  5813.669922\n",
      "2024-10-31 00:00:00+00:00  5705.450195\n",
      "2024-11-01 00:00:00+00:00  5728.799805\n",
      "2024-11-04 00:00:00+00:00  5712.689941\n",
      "2024-11-05 00:00:00+00:00  5782.759766\n"
     ]
    }
   ],
   "source": [
    "# Display the closing prices for S&P500\n",
    "print(sp500_closing_prices.tail())"
   ]
  },
  {
   "cell_type": "code",
   "execution_count": 36,
   "id": "82993ca2-6dc6-4018-ba5e-41e0fa007782",
   "metadata": {},
   "outputs": [],
   "source": [
    "# Calculate daily returns\n",
    "sp500_returns = sp500_closing_prices.pct_change().dropna()"
   ]
  },
  {
   "cell_type": "code",
   "execution_count": 37,
   "id": "fbf67ab0-2534-4875-9ed6-9cc0a5126a46",
   "metadata": {},
   "outputs": [
    {
     "name": "stdout",
     "output_type": "stream",
     "text": [
      "Ticker                        ^GSPC\n",
      "Date                               \n",
      "2024-10-30 00:00:00+00:00 -0.003300\n",
      "2024-10-31 00:00:00+00:00 -0.018615\n",
      "2024-11-01 00:00:00+00:00  0.004093\n",
      "2024-11-04 00:00:00+00:00 -0.002812\n",
      "2024-11-05 00:00:00+00:00  0.012266\n"
     ]
    }
   ],
   "source": [
    "# Display Nifty 50 returns\n",
    "print(sp500_returns.tail())"
   ]
  },
  {
   "cell_type": "code",
   "execution_count": 38,
   "id": "356cc268-5845-49f0-b1b5-ea2b995a5def",
   "metadata": {},
   "outputs": [
    {
     "data": {
      "text/html": [
       "<div>\n",
       "<style scoped>\n",
       "    .dataframe tbody tr th:only-of-type {\n",
       "        vertical-align: middle;\n",
       "    }\n",
       "\n",
       "    .dataframe tbody tr th {\n",
       "        vertical-align: top;\n",
       "    }\n",
       "\n",
       "    .dataframe thead th {\n",
       "        text-align: right;\n",
       "    }\n",
       "</style>\n",
       "<table border=\"1\" class=\"dataframe\">\n",
       "  <thead>\n",
       "    <tr style=\"text-align: right;\">\n",
       "      <th>Ticker</th>\n",
       "      <th>^GSPC</th>\n",
       "    </tr>\n",
       "    <tr>\n",
       "      <th>Date</th>\n",
       "      <th></th>\n",
       "    </tr>\n",
       "  </thead>\n",
       "  <tbody>\n",
       "    <tr>\n",
       "      <th>2024-10-30 00:00:00+00:00</th>\n",
       "      <td>1.212050</td>\n",
       "    </tr>\n",
       "    <tr>\n",
       "      <th>2024-10-31 00:00:00+00:00</th>\n",
       "      <td>1.189488</td>\n",
       "    </tr>\n",
       "    <tr>\n",
       "      <th>2024-11-01 00:00:00+00:00</th>\n",
       "      <td>1.194356</td>\n",
       "    </tr>\n",
       "    <tr>\n",
       "      <th>2024-11-04 00:00:00+00:00</th>\n",
       "      <td>1.190997</td>\n",
       "    </tr>\n",
       "    <tr>\n",
       "      <th>2024-11-05 00:00:00+00:00</th>\n",
       "      <td>1.205606</td>\n",
       "    </tr>\n",
       "  </tbody>\n",
       "</table>\n",
       "</div>"
      ],
      "text/plain": [
       "Ticker                        ^GSPC\n",
       "Date                               \n",
       "2024-10-30 00:00:00+00:00  1.212050\n",
       "2024-10-31 00:00:00+00:00  1.189488\n",
       "2024-11-01 00:00:00+00:00  1.194356\n",
       "2024-11-04 00:00:00+00:00  1.190997\n",
       "2024-11-05 00:00:00+00:00  1.205606"
      ]
     },
     "execution_count": 38,
     "metadata": {},
     "output_type": "execute_result"
    }
   ],
   "source": [
    "# Calculate cumulative returns (growth factor)\n",
    "sp500_cum_ret=(1+sp500_returns).cumprod()\n",
    "sp500_cum_ret.tail()"
   ]
  },
  {
   "cell_type": "code",
   "execution_count": 39,
   "id": "94ce93b0-6196-4ace-8934-95f71309d2eb",
   "metadata": {},
   "outputs": [],
   "source": [
    "sp500_returns['RF'] = 0.05"
   ]
  },
  {
   "cell_type": "code",
   "execution_count": 40,
   "id": "99eaf159-1bb0-4642-82b8-12702b52b1ad",
   "metadata": {},
   "outputs": [],
   "source": [
    "sp500_returns['Market_Excess'] = sp500_returns['^GSPC'] - sp500_returns['RF']"
   ]
  },
  {
   "cell_type": "code",
   "execution_count": 41,
   "id": "b820a3e6-9eef-4034-a29f-7b2d2782d796",
   "metadata": {},
   "outputs": [
    {
     "data": {
      "text/html": [
       "<div>\n",
       "<style scoped>\n",
       "    .dataframe tbody tr th:only-of-type {\n",
       "        vertical-align: middle;\n",
       "    }\n",
       "\n",
       "    .dataframe tbody tr th {\n",
       "        vertical-align: top;\n",
       "    }\n",
       "\n",
       "    .dataframe thead th {\n",
       "        text-align: right;\n",
       "    }\n",
       "</style>\n",
       "<table border=\"1\" class=\"dataframe\">\n",
       "  <thead>\n",
       "    <tr style=\"text-align: right;\">\n",
       "      <th>Ticker</th>\n",
       "      <th>^GSPC</th>\n",
       "      <th>RF</th>\n",
       "      <th>Market_Excess</th>\n",
       "    </tr>\n",
       "    <tr>\n",
       "      <th>Date</th>\n",
       "      <th></th>\n",
       "      <th></th>\n",
       "      <th></th>\n",
       "    </tr>\n",
       "  </thead>\n",
       "  <tbody>\n",
       "    <tr>\n",
       "      <th>2024-10-30 00:00:00+00:00</th>\n",
       "      <td>-0.003300</td>\n",
       "      <td>0.05</td>\n",
       "      <td>-0.053300</td>\n",
       "    </tr>\n",
       "    <tr>\n",
       "      <th>2024-10-31 00:00:00+00:00</th>\n",
       "      <td>-0.018615</td>\n",
       "      <td>0.05</td>\n",
       "      <td>-0.068615</td>\n",
       "    </tr>\n",
       "    <tr>\n",
       "      <th>2024-11-01 00:00:00+00:00</th>\n",
       "      <td>0.004093</td>\n",
       "      <td>0.05</td>\n",
       "      <td>-0.045907</td>\n",
       "    </tr>\n",
       "    <tr>\n",
       "      <th>2024-11-04 00:00:00+00:00</th>\n",
       "      <td>-0.002812</td>\n",
       "      <td>0.05</td>\n",
       "      <td>-0.052812</td>\n",
       "    </tr>\n",
       "    <tr>\n",
       "      <th>2024-11-05 00:00:00+00:00</th>\n",
       "      <td>0.012266</td>\n",
       "      <td>0.05</td>\n",
       "      <td>-0.037734</td>\n",
       "    </tr>\n",
       "  </tbody>\n",
       "</table>\n",
       "</div>"
      ],
      "text/plain": [
       "Ticker                        ^GSPC    RF  Market_Excess\n",
       "Date                                                    \n",
       "2024-10-30 00:00:00+00:00 -0.003300  0.05      -0.053300\n",
       "2024-10-31 00:00:00+00:00 -0.018615  0.05      -0.068615\n",
       "2024-11-01 00:00:00+00:00  0.004093  0.05      -0.045907\n",
       "2024-11-04 00:00:00+00:00 -0.002812  0.05      -0.052812\n",
       "2024-11-05 00:00:00+00:00  0.012266  0.05      -0.037734"
      ]
     },
     "execution_count": 41,
     "metadata": {},
     "output_type": "execute_result"
    }
   ],
   "source": [
    "sp500_returns.tail()"
   ]
  },
  {
   "cell_type": "markdown",
   "id": "f8aa6727-de58-489c-9ede-23ca7900700b",
   "metadata": {},
   "source": [
    "### Combining the required dataframes:"
   ]
  },
  {
   "cell_type": "code",
   "execution_count": 43,
   "id": "9a9ee1db-ee56-40da-b0d7-40e9fd7f117b",
   "metadata": {},
   "outputs": [],
   "source": [
    "FamaFrenchData = pd.DataFrame()"
   ]
  },
  {
   "cell_type": "code",
   "execution_count": 44,
   "id": "f017cf3f-e045-4eec-bb75-eee41f37265c",
   "metadata": {},
   "outputs": [
    {
     "data": {
      "text/plain": [
       "(714, 13)"
      ]
     },
     "execution_count": 44,
     "metadata": {},
     "output_type": "execute_result"
    }
   ],
   "source": [
    "returns.shape"
   ]
  },
  {
   "cell_type": "code",
   "execution_count": 45,
   "id": "bf74d82e-bb95-42a7-9347-a1efd499b3d8",
   "metadata": {},
   "outputs": [
    {
     "data": {
      "text/plain": [
       "(714, 3)"
      ]
     },
     "execution_count": 45,
     "metadata": {},
     "output_type": "execute_result"
    }
   ],
   "source": [
    "sp500_returns.shape"
   ]
  },
  {
   "cell_type": "code",
   "execution_count": 46,
   "id": "8073b1ee-f465-4eb6-8cf1-57a3612ee676",
   "metadata": {},
   "outputs": [],
   "source": [
    "Market_Excess = sp500_returns['Market_Excess'].reset_index()"
   ]
  },
  {
   "cell_type": "code",
   "execution_count": 47,
   "id": "21d269fe-2208-40fb-91a1-fe180e0f6e2f",
   "metadata": {},
   "outputs": [
    {
     "data": {
      "text/html": [
       "<div>\n",
       "<style scoped>\n",
       "    .dataframe tbody tr th:only-of-type {\n",
       "        vertical-align: middle;\n",
       "    }\n",
       "\n",
       "    .dataframe tbody tr th {\n",
       "        vertical-align: top;\n",
       "    }\n",
       "\n",
       "    .dataframe thead th {\n",
       "        text-align: right;\n",
       "    }\n",
       "</style>\n",
       "<table border=\"1\" class=\"dataframe\">\n",
       "  <thead>\n",
       "    <tr style=\"text-align: right;\">\n",
       "      <th></th>\n",
       "      <th>Date</th>\n",
       "      <th>Market_Excess</th>\n",
       "    </tr>\n",
       "  </thead>\n",
       "  <tbody>\n",
       "    <tr>\n",
       "      <th>0</th>\n",
       "      <td>2022-01-04 00:00:00+00:00</td>\n",
       "      <td>-0.050630</td>\n",
       "    </tr>\n",
       "    <tr>\n",
       "      <th>1</th>\n",
       "      <td>2022-01-05 00:00:00+00:00</td>\n",
       "      <td>-0.069393</td>\n",
       "    </tr>\n",
       "    <tr>\n",
       "      <th>2</th>\n",
       "      <td>2022-01-06 00:00:00+00:00</td>\n",
       "      <td>-0.050964</td>\n",
       "    </tr>\n",
       "    <tr>\n",
       "      <th>3</th>\n",
       "      <td>2022-01-07 00:00:00+00:00</td>\n",
       "      <td>-0.054050</td>\n",
       "    </tr>\n",
       "    <tr>\n",
       "      <th>4</th>\n",
       "      <td>2022-01-10 00:00:00+00:00</td>\n",
       "      <td>-0.051441</td>\n",
       "    </tr>\n",
       "  </tbody>\n",
       "</table>\n",
       "</div>"
      ],
      "text/plain": [
       "                       Date  Market_Excess\n",
       "0 2022-01-04 00:00:00+00:00      -0.050630\n",
       "1 2022-01-05 00:00:00+00:00      -0.069393\n",
       "2 2022-01-06 00:00:00+00:00      -0.050964\n",
       "3 2022-01-07 00:00:00+00:00      -0.054050\n",
       "4 2022-01-10 00:00:00+00:00      -0.051441"
      ]
     },
     "execution_count": 47,
     "metadata": {},
     "output_type": "execute_result"
    }
   ],
   "source": [
    "Market_Excess.head()"
   ]
  },
  {
   "cell_type": "code",
   "execution_count": 48,
   "id": "8eea1bb1-6ff0-450a-9db3-fb3469344dca",
   "metadata": {},
   "outputs": [],
   "source": [
    "Portfolio_Excess = returns[\"Portfolio_Excess\"].reset_index()"
   ]
  },
  {
   "cell_type": "code",
   "execution_count": 49,
   "id": "fc59921c-fb62-44a1-b143-c34901a8d789",
   "metadata": {},
   "outputs": [
    {
     "data": {
      "text/html": [
       "<div>\n",
       "<style scoped>\n",
       "    .dataframe tbody tr th:only-of-type {\n",
       "        vertical-align: middle;\n",
       "    }\n",
       "\n",
       "    .dataframe tbody tr th {\n",
       "        vertical-align: top;\n",
       "    }\n",
       "\n",
       "    .dataframe thead th {\n",
       "        text-align: right;\n",
       "    }\n",
       "</style>\n",
       "<table border=\"1\" class=\"dataframe\">\n",
       "  <thead>\n",
       "    <tr style=\"text-align: right;\">\n",
       "      <th></th>\n",
       "      <th>Date</th>\n",
       "      <th>Portfolio_Excess</th>\n",
       "    </tr>\n",
       "  </thead>\n",
       "  <tbody>\n",
       "    <tr>\n",
       "      <th>0</th>\n",
       "      <td>2022-01-04 00:00:00+00:00</td>\n",
       "      <td>-0.057837</td>\n",
       "    </tr>\n",
       "    <tr>\n",
       "      <th>1</th>\n",
       "      <td>2022-01-05 00:00:00+00:00</td>\n",
       "      <td>-0.082910</td>\n",
       "    </tr>\n",
       "    <tr>\n",
       "      <th>2</th>\n",
       "      <td>2022-01-06 00:00:00+00:00</td>\n",
       "      <td>-0.054710</td>\n",
       "    </tr>\n",
       "    <tr>\n",
       "      <th>3</th>\n",
       "      <td>2022-01-07 00:00:00+00:00</td>\n",
       "      <td>-0.056718</td>\n",
       "    </tr>\n",
       "    <tr>\n",
       "      <th>4</th>\n",
       "      <td>2022-01-10 00:00:00+00:00</td>\n",
       "      <td>-0.044760</td>\n",
       "    </tr>\n",
       "  </tbody>\n",
       "</table>\n",
       "</div>"
      ],
      "text/plain": [
       "                        Date  Portfolio_Excess\n",
       "0  2022-01-04 00:00:00+00:00         -0.057837\n",
       "1  2022-01-05 00:00:00+00:00         -0.082910\n",
       "2  2022-01-06 00:00:00+00:00         -0.054710\n",
       "3  2022-01-07 00:00:00+00:00         -0.056718\n",
       "4  2022-01-10 00:00:00+00:00         -0.044760"
      ]
     },
     "execution_count": 49,
     "metadata": {},
     "output_type": "execute_result"
    }
   ],
   "source": [
    "Portfolio_Excess.head()"
   ]
  },
  {
   "cell_type": "code",
   "execution_count": 50,
   "id": "7c79bf20-ca3f-45e3-8375-8d54b391107d",
   "metadata": {},
   "outputs": [],
   "source": [
    "# Convert 'Date' column in both dataframes to datetime64 (make sure they're both in the same format)\n",
    "Portfolio_Excess['Date'] = pd.to_datetime(Portfolio_Excess['Date'], errors='coerce')  # Coerce invalid formats to NaT\n",
    "Market_Excess['Date'] = pd.to_datetime(Market_Excess['Date'], errors='coerce')  # Same here\n",
    "\n",
    "# Now merge on 'Date' (after converting to datetime)\n",
    "FamaFrenchData = pd.merge(Portfolio_Excess, Market_Excess, on='Date', how='inner')"
   ]
  },
  {
   "cell_type": "code",
   "execution_count": 51,
   "id": "9e3ab338-2c02-4b8a-8ebf-914649353bcd",
   "metadata": {},
   "outputs": [],
   "source": [
    "nat_count = FamaFrenchData['Date'].isna().sum()"
   ]
  },
  {
   "cell_type": "code",
   "execution_count": 52,
   "id": "477615ff-c54b-46bf-8641-bcde1c873f6c",
   "metadata": {},
   "outputs": [
    {
     "data": {
      "text/plain": [
       "0"
      ]
     },
     "execution_count": 52,
     "metadata": {},
     "output_type": "execute_result"
    }
   ],
   "source": [
    "nat_count"
   ]
  },
  {
   "cell_type": "code",
   "execution_count": 53,
   "id": "65ef1a0b-61ed-4c8f-96be-cfcb79ec5a28",
   "metadata": {},
   "outputs": [],
   "source": [
    "FamaFrenchData.set_index('Date', inplace = True)"
   ]
  },
  {
   "cell_type": "markdown",
   "id": "303eb791-dc4b-4159-9216-7324904e7ca9",
   "metadata": {},
   "source": [
    "**Fama French Data:**"
   ]
  },
  {
   "cell_type": "code",
   "execution_count": 55,
   "id": "b046a6a1-2aea-479b-a984-7fccd08b932f",
   "metadata": {},
   "outputs": [
    {
     "data": {
      "text/html": [
       "<div>\n",
       "<style scoped>\n",
       "    .dataframe tbody tr th:only-of-type {\n",
       "        vertical-align: middle;\n",
       "    }\n",
       "\n",
       "    .dataframe tbody tr th {\n",
       "        vertical-align: top;\n",
       "    }\n",
       "\n",
       "    .dataframe thead th {\n",
       "        text-align: right;\n",
       "    }\n",
       "</style>\n",
       "<table border=\"1\" class=\"dataframe\">\n",
       "  <thead>\n",
       "    <tr style=\"text-align: right;\">\n",
       "      <th></th>\n",
       "      <th>Portfolio_Excess</th>\n",
       "      <th>Market_Excess</th>\n",
       "    </tr>\n",
       "    <tr>\n",
       "      <th>Date</th>\n",
       "      <th></th>\n",
       "      <th></th>\n",
       "    </tr>\n",
       "  </thead>\n",
       "  <tbody>\n",
       "    <tr>\n",
       "      <th>2024-10-30 00:00:00+00:00</th>\n",
       "      <td>-0.060538</td>\n",
       "      <td>-0.053300</td>\n",
       "    </tr>\n",
       "    <tr>\n",
       "      <th>2024-10-31 00:00:00+00:00</th>\n",
       "      <td>-0.080912</td>\n",
       "      <td>-0.068615</td>\n",
       "    </tr>\n",
       "    <tr>\n",
       "      <th>2024-11-01 00:00:00+00:00</th>\n",
       "      <td>-0.039289</td>\n",
       "      <td>-0.045907</td>\n",
       "    </tr>\n",
       "    <tr>\n",
       "      <th>2024-11-04 00:00:00+00:00</th>\n",
       "      <td>-0.058036</td>\n",
       "      <td>-0.052812</td>\n",
       "    </tr>\n",
       "    <tr>\n",
       "      <th>2024-11-05 00:00:00+00:00</th>\n",
       "      <td>-0.016729</td>\n",
       "      <td>-0.037734</td>\n",
       "    </tr>\n",
       "  </tbody>\n",
       "</table>\n",
       "</div>"
      ],
      "text/plain": [
       "                           Portfolio_Excess  Market_Excess\n",
       "Date                                                      \n",
       "2024-10-30 00:00:00+00:00         -0.060538      -0.053300\n",
       "2024-10-31 00:00:00+00:00         -0.080912      -0.068615\n",
       "2024-11-01 00:00:00+00:00         -0.039289      -0.045907\n",
       "2024-11-04 00:00:00+00:00         -0.058036      -0.052812\n",
       "2024-11-05 00:00:00+00:00         -0.016729      -0.037734"
      ]
     },
     "execution_count": 55,
     "metadata": {},
     "output_type": "execute_result"
    }
   ],
   "source": [
    "FamaFrenchData.tail()"
   ]
  },
  {
   "cell_type": "markdown",
   "id": "153944cc-362f-4ed5-97ad-1ee97e12ad1f",
   "metadata": {},
   "source": [
    "### Calculating Beta"
   ]
  },
  {
   "cell_type": "markdown",
   "id": "9a0cce2d-a59b-45f5-a1a5-61778e63bcd5",
   "metadata": {},
   "source": [
    "**with Covariance and variance of benchmark**"
   ]
  },
  {
   "cell_type": "code",
   "execution_count": 58,
   "id": "628bb961-810a-4d42-ba53-a7e2bc6f5c61",
   "metadata": {},
   "outputs": [],
   "source": [
    "# Calculate the co-variance matrix between Portfolio_Excess and Market_Excess\n",
    "covariance_matrix = FamaFrenchData[['Portfolio_Excess', 'Market_Excess']].cov()"
   ]
  },
  {
   "cell_type": "code",
   "execution_count": 59,
   "id": "4079e057-cf87-4a04-b482-d42a9c29216d",
   "metadata": {},
   "outputs": [
    {
     "data": {
      "text/html": [
       "<div>\n",
       "<style scoped>\n",
       "    .dataframe tbody tr th:only-of-type {\n",
       "        vertical-align: middle;\n",
       "    }\n",
       "\n",
       "    .dataframe tbody tr th {\n",
       "        vertical-align: top;\n",
       "    }\n",
       "\n",
       "    .dataframe thead th {\n",
       "        text-align: right;\n",
       "    }\n",
       "</style>\n",
       "<table border=\"1\" class=\"dataframe\">\n",
       "  <thead>\n",
       "    <tr style=\"text-align: right;\">\n",
       "      <th></th>\n",
       "      <th>Portfolio_Excess</th>\n",
       "      <th>Market_Excess</th>\n",
       "    </tr>\n",
       "  </thead>\n",
       "  <tbody>\n",
       "    <tr>\n",
       "      <th>Portfolio_Excess</th>\n",
       "      <td>0.000324</td>\n",
       "      <td>0.000179</td>\n",
       "    </tr>\n",
       "    <tr>\n",
       "      <th>Market_Excess</th>\n",
       "      <td>0.000179</td>\n",
       "      <td>0.000124</td>\n",
       "    </tr>\n",
       "  </tbody>\n",
       "</table>\n",
       "</div>"
      ],
      "text/plain": [
       "                  Portfolio_Excess  Market_Excess\n",
       "Portfolio_Excess          0.000324       0.000179\n",
       "Market_Excess             0.000179       0.000124"
      ]
     },
     "execution_count": 59,
     "metadata": {},
     "output_type": "execute_result"
    }
   ],
   "source": [
    "covariance_matrix"
   ]
  },
  {
   "cell_type": "code",
   "execution_count": 60,
   "id": "fc67e0a4-cad8-407c-b120-56ae514a72c7",
   "metadata": {},
   "outputs": [
    {
     "name": "stdout",
     "output_type": "stream",
     "text": [
      "0.00017850929377744525\n"
     ]
    }
   ],
   "source": [
    "# Extract the co-variance co-efficient\n",
    "covariance_coefficient = covariance_matrix.iloc[0, 1]\n",
    "print(covariance_coefficient)"
   ]
  },
  {
   "cell_type": "code",
   "execution_count": 61,
   "id": "a59f9402-e6bb-44f9-8add-858bb3ef2657",
   "metadata": {},
   "outputs": [
    {
     "name": "stdout",
     "output_type": "stream",
     "text": [
      "0.00012416761304298387\n"
     ]
    }
   ],
   "source": [
    "# Calculate the benchmark variance\n",
    "benchmark_variance = FamaFrenchData['Market_Excess'].var()\n",
    "print(benchmark_variance)"
   ]
  },
  {
   "cell_type": "code",
   "execution_count": 62,
   "id": "576599b8-2535-4166-b60a-4310c462fdea",
   "metadata": {},
   "outputs": [
    {
     "name": "stdout",
     "output_type": "stream",
     "text": [
      "1.4376477843352726\n"
     ]
    }
   ],
   "source": [
    "# Calculating the portfolio market beta\n",
    "portfolio_beta = covariance_coefficient/benchmark_variance\n",
    "print(portfolio_beta)"
   ]
  },
  {
   "cell_type": "markdown",
   "id": "0ed5eae7-7778-4d39-a8d4-0f3c3613ab15",
   "metadata": {},
   "source": [
    "#### Calculating beta with CAPM"
   ]
  },
  {
   "cell_type": "markdown",
   "id": "a865caaa-f365-4cd2-806d-c9d5d2d94427",
   "metadata": {},
   "source": [
    "<img src=\"screenshots/capm.JPG\" alt=\"Image Description\" width=\"50%\">"
   ]
  },
  {
   "cell_type": "code",
   "execution_count": 65,
   "id": "dc2ba46e-d3bd-418f-99e7-6133a12c6143",
   "metadata": {},
   "outputs": [
    {
     "name": "stdout",
     "output_type": "stream",
     "text": [
      "0.7919854577210157\n",
      "1.4376477843352697\n"
     ]
    }
   ],
   "source": [
    "# Import statsmodels.formula.api\n",
    "import statsmodels.formula.api as smf \n",
    "\n",
    "# Define the regression formula\n",
    "CAPM_model = smf.ols(formula='Portfolio_Excess ~ Market_Excess', data=FamaFrenchData)\n",
    "\n",
    "# Print adjusted r-squared of the fitted regression\n",
    "CAPM_fit = CAPM_model.fit()\n",
    "print(CAPM_fit.rsquared_adj)\n",
    "\n",
    "# Extract the beta\n",
    "regression_beta = CAPM_fit.params['Market_Excess']\n",
    "print(regression_beta)"
   ]
  },
  {
   "cell_type": "markdown",
   "id": "efc96761-e356-4fc9-8d6d-61d350fa9394",
   "metadata": {},
   "source": [
    "### Alpha and multi-factor models"
   ]
  },
  {
   "cell_type": "markdown",
   "id": "ff327b0c-2a3d-499b-a5fe-9c9fa7872fbf",
   "metadata": {},
   "source": [
    "##### The Fama French 3-factor model"
   ]
  },
  {
   "cell_type": "markdown",
   "id": "ad81de68-5891-442f-8c8d-6868b9d87cb7",
   "metadata": {},
   "source": [
    "#### Data Preparation"
   ]
  },
  {
   "cell_type": "code",
   "execution_count": 69,
   "id": "2991bb3a-84a9-4d0d-b955-ba34695aa36b",
   "metadata": {},
   "outputs": [],
   "source": [
    "# Require SMB and HML\n",
    "small = \"VB\"\n",
    "big = \"^DJI\"\n",
    "value = \"IWD\"\n",
    "growth = \"IWF\""
   ]
  },
  {
   "cell_type": "code",
   "execution_count": 70,
   "id": "bb26a1c5-2f1c-4344-a300-0f4a39ae4204",
   "metadata": {},
   "outputs": [
    {
     "name": "stderr",
     "output_type": "stream",
     "text": [
      "[*********************100%***********************]  1 of 1 completed\n",
      "[*********************100%***********************]  1 of 1 completed\n",
      "[*********************100%***********************]  1 of 1 completed\n",
      "[*********************100%***********************]  1 of 1 completed\n"
     ]
    }
   ],
   "source": [
    "# Download data\n",
    "def download_data(symbol, start_date, end_date):\n",
    "    data2 = yf.download(symbol, start=start_date, end=end_date)\n",
    "    # Convert index to datetime\n",
    "    data2.index = pd.to_datetime(data2.index)\n",
    "    return data2['Adj Close']\n",
    "    \n",
    "\n",
    "# Fetch adjusted close prices for each\n",
    "small_data = download_data(small, start_date, end_date)\n",
    "big_data = download_data(big, start_date, end_date)\n",
    "value_data = download_data(value, start_date, end_date)\n",
    "growth_data = download_data(growth, start_date, end_date)"
   ]
  },
  {
   "cell_type": "code",
   "execution_count": 71,
   "id": "9ded7a45-f147-4904-aed7-b69aed488e95",
   "metadata": {},
   "outputs": [],
   "source": [
    "# changing column names for convenience\n",
    "small_data.columns = ['small']\n",
    "big_data.columns = ['big']\n",
    "value_data.columns = ['value']\n",
    "growth_data.columns = ['growth']"
   ]
  },
  {
   "cell_type": "code",
   "execution_count": 72,
   "id": "1d42d78b-a463-42d2-9579-2f8a6bcefaa5",
   "metadata": {},
   "outputs": [
    {
     "data": {
      "text/plain": [
       "datetime64[ns, UTC]"
      ]
     },
     "execution_count": 72,
     "metadata": {},
     "output_type": "execute_result"
    }
   ],
   "source": [
    "small_data.index.dtype"
   ]
  },
  {
   "cell_type": "code",
   "execution_count": 73,
   "id": "a7204a70-f1b2-4d7d-a51e-12f36ee57398",
   "metadata": {},
   "outputs": [
    {
     "data": {
      "text/html": [
       "<div>\n",
       "<style scoped>\n",
       "    .dataframe tbody tr th:only-of-type {\n",
       "        vertical-align: middle;\n",
       "    }\n",
       "\n",
       "    .dataframe tbody tr th {\n",
       "        vertical-align: top;\n",
       "    }\n",
       "\n",
       "    .dataframe thead th {\n",
       "        text-align: right;\n",
       "    }\n",
       "</style>\n",
       "<table border=\"1\" class=\"dataframe\">\n",
       "  <thead>\n",
       "    <tr style=\"text-align: right;\">\n",
       "      <th></th>\n",
       "      <th>big</th>\n",
       "    </tr>\n",
       "    <tr>\n",
       "      <th>Date</th>\n",
       "      <th></th>\n",
       "    </tr>\n",
       "  </thead>\n",
       "  <tbody>\n",
       "    <tr>\n",
       "      <th>2022-01-03 00:00:00+00:00</th>\n",
       "      <td>36585.058594</td>\n",
       "    </tr>\n",
       "    <tr>\n",
       "      <th>2022-01-04 00:00:00+00:00</th>\n",
       "      <td>36799.648438</td>\n",
       "    </tr>\n",
       "    <tr>\n",
       "      <th>2022-01-05 00:00:00+00:00</th>\n",
       "      <td>36407.109375</td>\n",
       "    </tr>\n",
       "    <tr>\n",
       "      <th>2022-01-06 00:00:00+00:00</th>\n",
       "      <td>36236.468750</td>\n",
       "    </tr>\n",
       "    <tr>\n",
       "      <th>2022-01-07 00:00:00+00:00</th>\n",
       "      <td>36231.660156</td>\n",
       "    </tr>\n",
       "  </tbody>\n",
       "</table>\n",
       "</div>"
      ],
      "text/plain": [
       "                                    big\n",
       "Date                                   \n",
       "2022-01-03 00:00:00+00:00  36585.058594\n",
       "2022-01-04 00:00:00+00:00  36799.648438\n",
       "2022-01-05 00:00:00+00:00  36407.109375\n",
       "2022-01-06 00:00:00+00:00  36236.468750\n",
       "2022-01-07 00:00:00+00:00  36231.660156"
      ]
     },
     "execution_count": 73,
     "metadata": {},
     "output_type": "execute_result"
    }
   ],
   "source": [
    "big_data.head()"
   ]
  },
  {
   "cell_type": "code",
   "execution_count": 74,
   "id": "999b65e5-ca87-49e6-b23f-e81452c9bf56",
   "metadata": {},
   "outputs": [],
   "source": [
    "# Calculate daily returns\n",
    "small_returns = small_data.pct_change().dropna()\n",
    "big_returns = big_data.pct_change().dropna()\n",
    "value_returns = value_data.pct_change().dropna()\n",
    "growth_returns = growth_data.pct_change().dropna()"
   ]
  },
  {
   "cell_type": "code",
   "execution_count": 75,
   "id": "78df9130-34a5-4dfe-b73d-f37268fe3a3a",
   "metadata": {},
   "outputs": [
    {
     "data": {
      "text/html": [
       "<div>\n",
       "<style scoped>\n",
       "    .dataframe tbody tr th:only-of-type {\n",
       "        vertical-align: middle;\n",
       "    }\n",
       "\n",
       "    .dataframe tbody tr th {\n",
       "        vertical-align: top;\n",
       "    }\n",
       "\n",
       "    .dataframe thead th {\n",
       "        text-align: right;\n",
       "    }\n",
       "</style>\n",
       "<table border=\"1\" class=\"dataframe\">\n",
       "  <thead>\n",
       "    <tr style=\"text-align: right;\">\n",
       "      <th></th>\n",
       "      <th>small</th>\n",
       "      <th>big</th>\n",
       "      <th>value</th>\n",
       "      <th>growth</th>\n",
       "    </tr>\n",
       "    <tr>\n",
       "      <th>Date</th>\n",
       "      <th></th>\n",
       "      <th></th>\n",
       "      <th></th>\n",
       "      <th></th>\n",
       "    </tr>\n",
       "  </thead>\n",
       "  <tbody>\n",
       "    <tr>\n",
       "      <th>2022-01-04 00:00:00+00:00</th>\n",
       "      <td>0.002242</td>\n",
       "      <td>0.005866</td>\n",
       "      <td>0.008782</td>\n",
       "      <td>-0.010365</td>\n",
       "    </tr>\n",
       "    <tr>\n",
       "      <th>2022-01-05 00:00:00+00:00</th>\n",
       "      <td>-0.028074</td>\n",
       "      <td>-0.010667</td>\n",
       "      <td>-0.008765</td>\n",
       "      <td>-0.031912</td>\n",
       "    </tr>\n",
       "    <tr>\n",
       "      <th>2022-01-06 00:00:00+00:00</th>\n",
       "      <td>0.004829</td>\n",
       "      <td>-0.004687</td>\n",
       "      <td>0.001958</td>\n",
       "      <td>-0.002781</td>\n",
       "    </tr>\n",
       "    <tr>\n",
       "      <th>2022-01-07 00:00:00+00:00</th>\n",
       "      <td>-0.007681</td>\n",
       "      <td>-0.000133</td>\n",
       "      <td>0.002488</td>\n",
       "      <td>-0.011019</td>\n",
       "    </tr>\n",
       "    <tr>\n",
       "      <th>2022-01-10 00:00:00+00:00</th>\n",
       "      <td>-0.003802</td>\n",
       "      <td>-0.004493</td>\n",
       "      <td>-0.001536</td>\n",
       "      <td>-0.000584</td>\n",
       "    </tr>\n",
       "  </tbody>\n",
       "</table>\n",
       "</div>"
      ],
      "text/plain": [
       "                              small       big     value    growth\n",
       "Date                                                             \n",
       "2022-01-04 00:00:00+00:00  0.002242  0.005866  0.008782 -0.010365\n",
       "2022-01-05 00:00:00+00:00 -0.028074 -0.010667 -0.008765 -0.031912\n",
       "2022-01-06 00:00:00+00:00  0.004829 -0.004687  0.001958 -0.002781\n",
       "2022-01-07 00:00:00+00:00 -0.007681 -0.000133  0.002488 -0.011019\n",
       "2022-01-10 00:00:00+00:00 -0.003802 -0.004493 -0.001536 -0.000584"
      ]
     },
     "execution_count": 75,
     "metadata": {},
     "output_type": "execute_result"
    }
   ],
   "source": [
    "combined_returns = pd.concat([small_returns, big_returns, value_returns, growth_returns], axis = 1) # axis = 1 to join along columns \n",
    "combined_returns.head()"
   ]
  },
  {
   "cell_type": "code",
   "execution_count": 76,
   "id": "f3b05759-59c6-4b6a-8e6a-760d7bcd8e8a",
   "metadata": {},
   "outputs": [],
   "source": [
    "combined_returns['SMB'] = combined_returns['small'] - combined_returns['big'] \n",
    "combined_returns['HML'] = combined_returns['value'] - combined_returns['growth'] "
   ]
  },
  {
   "cell_type": "code",
   "execution_count": 77,
   "id": "b3e09320-bcca-43a9-994c-9b1686b827ad",
   "metadata": {},
   "outputs": [
    {
     "data": {
      "text/html": [
       "<div>\n",
       "<style scoped>\n",
       "    .dataframe tbody tr th:only-of-type {\n",
       "        vertical-align: middle;\n",
       "    }\n",
       "\n",
       "    .dataframe tbody tr th {\n",
       "        vertical-align: top;\n",
       "    }\n",
       "\n",
       "    .dataframe thead th {\n",
       "        text-align: right;\n",
       "    }\n",
       "</style>\n",
       "<table border=\"1\" class=\"dataframe\">\n",
       "  <thead>\n",
       "    <tr style=\"text-align: right;\">\n",
       "      <th></th>\n",
       "      <th>small</th>\n",
       "      <th>big</th>\n",
       "      <th>value</th>\n",
       "      <th>growth</th>\n",
       "      <th>SMB</th>\n",
       "      <th>HML</th>\n",
       "    </tr>\n",
       "    <tr>\n",
       "      <th>Date</th>\n",
       "      <th></th>\n",
       "      <th></th>\n",
       "      <th></th>\n",
       "      <th></th>\n",
       "      <th></th>\n",
       "      <th></th>\n",
       "    </tr>\n",
       "  </thead>\n",
       "  <tbody>\n",
       "    <tr>\n",
       "      <th>2022-01-04 00:00:00+00:00</th>\n",
       "      <td>0.002242</td>\n",
       "      <td>0.005866</td>\n",
       "      <td>0.008782</td>\n",
       "      <td>-0.010365</td>\n",
       "      <td>-0.003623</td>\n",
       "      <td>0.019147</td>\n",
       "    </tr>\n",
       "    <tr>\n",
       "      <th>2022-01-05 00:00:00+00:00</th>\n",
       "      <td>-0.028074</td>\n",
       "      <td>-0.010667</td>\n",
       "      <td>-0.008765</td>\n",
       "      <td>-0.031912</td>\n",
       "      <td>-0.017407</td>\n",
       "      <td>0.023147</td>\n",
       "    </tr>\n",
       "    <tr>\n",
       "      <th>2022-01-06 00:00:00+00:00</th>\n",
       "      <td>0.004829</td>\n",
       "      <td>-0.004687</td>\n",
       "      <td>0.001958</td>\n",
       "      <td>-0.002781</td>\n",
       "      <td>0.009516</td>\n",
       "      <td>0.004739</td>\n",
       "    </tr>\n",
       "    <tr>\n",
       "      <th>2022-01-07 00:00:00+00:00</th>\n",
       "      <td>-0.007681</td>\n",
       "      <td>-0.000133</td>\n",
       "      <td>0.002488</td>\n",
       "      <td>-0.011019</td>\n",
       "      <td>-0.007548</td>\n",
       "      <td>0.013506</td>\n",
       "    </tr>\n",
       "    <tr>\n",
       "      <th>2022-01-10 00:00:00+00:00</th>\n",
       "      <td>-0.003802</td>\n",
       "      <td>-0.004493</td>\n",
       "      <td>-0.001536</td>\n",
       "      <td>-0.000584</td>\n",
       "      <td>0.000691</td>\n",
       "      <td>-0.000952</td>\n",
       "    </tr>\n",
       "  </tbody>\n",
       "</table>\n",
       "</div>"
      ],
      "text/plain": [
       "                              small       big     value    growth       SMB  \\\n",
       "Date                                                                          \n",
       "2022-01-04 00:00:00+00:00  0.002242  0.005866  0.008782 -0.010365 -0.003623   \n",
       "2022-01-05 00:00:00+00:00 -0.028074 -0.010667 -0.008765 -0.031912 -0.017407   \n",
       "2022-01-06 00:00:00+00:00  0.004829 -0.004687  0.001958 -0.002781  0.009516   \n",
       "2022-01-07 00:00:00+00:00 -0.007681 -0.000133  0.002488 -0.011019 -0.007548   \n",
       "2022-01-10 00:00:00+00:00 -0.003802 -0.004493 -0.001536 -0.000584  0.000691   \n",
       "\n",
       "                                HML  \n",
       "Date                                 \n",
       "2022-01-04 00:00:00+00:00  0.019147  \n",
       "2022-01-05 00:00:00+00:00  0.023147  \n",
       "2022-01-06 00:00:00+00:00  0.004739  \n",
       "2022-01-07 00:00:00+00:00  0.013506  \n",
       "2022-01-10 00:00:00+00:00 -0.000952  "
      ]
     },
     "execution_count": 77,
     "metadata": {},
     "output_type": "execute_result"
    }
   ],
   "source": [
    "combined_returns.head()"
   ]
  },
  {
   "cell_type": "code",
   "execution_count": 78,
   "id": "9f41fde8-f579-4c30-ac4c-655f28ed41ef",
   "metadata": {},
   "outputs": [],
   "source": [
    "ff = combined_returns[['SMB', 'HML']]\n",
    "ff.to_csv(\"fama_factors.csv\")"
   ]
  },
  {
   "cell_type": "code",
   "execution_count": 79,
   "id": "19214040-4862-4d9e-af4d-332df37a28ad",
   "metadata": {},
   "outputs": [
    {
     "data": {
      "text/html": [
       "<div>\n",
       "<style scoped>\n",
       "    .dataframe tbody tr th:only-of-type {\n",
       "        vertical-align: middle;\n",
       "    }\n",
       "\n",
       "    .dataframe tbody tr th {\n",
       "        vertical-align: top;\n",
       "    }\n",
       "\n",
       "    .dataframe thead th {\n",
       "        text-align: right;\n",
       "    }\n",
       "</style>\n",
       "<table border=\"1\" class=\"dataframe\">\n",
       "  <thead>\n",
       "    <tr style=\"text-align: right;\">\n",
       "      <th></th>\n",
       "      <th>SMB</th>\n",
       "      <th>HML</th>\n",
       "    </tr>\n",
       "    <tr>\n",
       "      <th>Date</th>\n",
       "      <th></th>\n",
       "      <th></th>\n",
       "    </tr>\n",
       "  </thead>\n",
       "  <tbody>\n",
       "    <tr>\n",
       "      <th>2022-01-04 00:00:00+00:00</th>\n",
       "      <td>-0.003623</td>\n",
       "      <td>0.019147</td>\n",
       "    </tr>\n",
       "    <tr>\n",
       "      <th>2022-01-05 00:00:00+00:00</th>\n",
       "      <td>-0.017407</td>\n",
       "      <td>0.023147</td>\n",
       "    </tr>\n",
       "    <tr>\n",
       "      <th>2022-01-06 00:00:00+00:00</th>\n",
       "      <td>0.009516</td>\n",
       "      <td>0.004739</td>\n",
       "    </tr>\n",
       "    <tr>\n",
       "      <th>2022-01-07 00:00:00+00:00</th>\n",
       "      <td>-0.007548</td>\n",
       "      <td>0.013506</td>\n",
       "    </tr>\n",
       "    <tr>\n",
       "      <th>2022-01-10 00:00:00+00:00</th>\n",
       "      <td>0.000691</td>\n",
       "      <td>-0.000952</td>\n",
       "    </tr>\n",
       "  </tbody>\n",
       "</table>\n",
       "</div>"
      ],
      "text/plain": [
       "                                SMB       HML\n",
       "Date                                         \n",
       "2022-01-04 00:00:00+00:00 -0.003623  0.019147\n",
       "2022-01-05 00:00:00+00:00 -0.017407  0.023147\n",
       "2022-01-06 00:00:00+00:00  0.009516  0.004739\n",
       "2022-01-07 00:00:00+00:00 -0.007548  0.013506\n",
       "2022-01-10 00:00:00+00:00  0.000691 -0.000952"
      ]
     },
     "execution_count": 79,
     "metadata": {},
     "output_type": "execute_result"
    }
   ],
   "source": [
    "ff.head()"
   ]
  },
  {
   "cell_type": "markdown",
   "id": "1fa33175-3db2-4149-bb4f-66b149767f97",
   "metadata": {},
   "source": [
    "##### Fama French Data Final:"
   ]
  },
  {
   "cell_type": "code",
   "execution_count": 81,
   "id": "997d37e5-9695-4905-98be-db7c74381305",
   "metadata": {},
   "outputs": [],
   "source": [
    "FamaFrenchData_final = pd.merge(FamaFrenchData, ff, on='Date', how='inner')"
   ]
  },
  {
   "cell_type": "code",
   "execution_count": 82,
   "id": "3845767b-3829-4b80-a682-4c0cfadb385a",
   "metadata": {},
   "outputs": [
    {
     "data": {
      "text/html": [
       "<div>\n",
       "<style scoped>\n",
       "    .dataframe tbody tr th:only-of-type {\n",
       "        vertical-align: middle;\n",
       "    }\n",
       "\n",
       "    .dataframe tbody tr th {\n",
       "        vertical-align: top;\n",
       "    }\n",
       "\n",
       "    .dataframe thead th {\n",
       "        text-align: right;\n",
       "    }\n",
       "</style>\n",
       "<table border=\"1\" class=\"dataframe\">\n",
       "  <thead>\n",
       "    <tr style=\"text-align: right;\">\n",
       "      <th></th>\n",
       "      <th>Portfolio_Excess</th>\n",
       "      <th>Market_Excess</th>\n",
       "      <th>SMB</th>\n",
       "      <th>HML</th>\n",
       "    </tr>\n",
       "    <tr>\n",
       "      <th>Date</th>\n",
       "      <th></th>\n",
       "      <th></th>\n",
       "      <th></th>\n",
       "      <th></th>\n",
       "    </tr>\n",
       "  </thead>\n",
       "  <tbody>\n",
       "    <tr>\n",
       "      <th>2024-10-30 00:00:00+00:00</th>\n",
       "      <td>-0.060538</td>\n",
       "      <td>-0.053300</td>\n",
       "      <td>0.002543</td>\n",
       "      <td>0.003310</td>\n",
       "    </tr>\n",
       "    <tr>\n",
       "      <th>2024-10-31 00:00:00+00:00</th>\n",
       "      <td>-0.080912</td>\n",
       "      <td>-0.068615</td>\n",
       "      <td>-0.005334</td>\n",
       "      <td>0.021311</td>\n",
       "    </tr>\n",
       "    <tr>\n",
       "      <th>2024-11-01 00:00:00+00:00</th>\n",
       "      <td>-0.039289</td>\n",
       "      <td>-0.045907</td>\n",
       "      <td>-0.004367</td>\n",
       "      <td>-0.007248</td>\n",
       "    </tr>\n",
       "    <tr>\n",
       "      <th>2024-11-04 00:00:00+00:00</th>\n",
       "      <td>-0.058036</td>\n",
       "      <td>-0.052812</td>\n",
       "      <td>0.008792</td>\n",
       "      <td>0.002226</td>\n",
       "    </tr>\n",
       "    <tr>\n",
       "      <th>2024-11-05 00:00:00+00:00</th>\n",
       "      <td>-0.016729</td>\n",
       "      <td>-0.037734</td>\n",
       "      <td>0.006537</td>\n",
       "      <td>-0.003208</td>\n",
       "    </tr>\n",
       "  </tbody>\n",
       "</table>\n",
       "</div>"
      ],
      "text/plain": [
       "                           Portfolio_Excess  Market_Excess       SMB       HML\n",
       "Date                                                                          \n",
       "2024-10-30 00:00:00+00:00         -0.060538      -0.053300  0.002543  0.003310\n",
       "2024-10-31 00:00:00+00:00         -0.080912      -0.068615 -0.005334  0.021311\n",
       "2024-11-01 00:00:00+00:00         -0.039289      -0.045907 -0.004367 -0.007248\n",
       "2024-11-04 00:00:00+00:00         -0.058036      -0.052812  0.008792  0.002226\n",
       "2024-11-05 00:00:00+00:00         -0.016729      -0.037734  0.006537 -0.003208"
      ]
     },
     "execution_count": 82,
     "metadata": {},
     "output_type": "execute_result"
    }
   ],
   "source": [
    "FamaFrenchData_final.tail()"
   ]
  },
  {
   "cell_type": "markdown",
   "id": "9257ff69-6074-4b56-ba13-e96e39c15993",
   "metadata": {},
   "source": [
    "### MODEL VALIDATION 1: Checking Multicollinearity OF features or independent variables w/ Correlation matrix"
   ]
  },
  {
   "cell_type": "code",
   "execution_count": 84,
   "id": "4769649e-4b18-402c-9651-f20ef8dd5e30",
   "metadata": {},
   "outputs": [
    {
     "data": {
      "text/html": [
       "<div>\n",
       "<style scoped>\n",
       "    .dataframe tbody tr th:only-of-type {\n",
       "        vertical-align: middle;\n",
       "    }\n",
       "\n",
       "    .dataframe tbody tr th {\n",
       "        vertical-align: top;\n",
       "    }\n",
       "\n",
       "    .dataframe thead th {\n",
       "        text-align: right;\n",
       "    }\n",
       "</style>\n",
       "<table border=\"1\" class=\"dataframe\">\n",
       "  <thead>\n",
       "    <tr style=\"text-align: right;\">\n",
       "      <th></th>\n",
       "      <th>Portfolio_Excess</th>\n",
       "      <th>Market_Excess</th>\n",
       "      <th>SMB</th>\n",
       "      <th>HML</th>\n",
       "    </tr>\n",
       "  </thead>\n",
       "  <tbody>\n",
       "    <tr>\n",
       "      <th>Portfolio_Excess</th>\n",
       "      <td>1.000000</td>\n",
       "      <td>0.890100</td>\n",
       "      <td>0.556204</td>\n",
       "      <td>-0.648375</td>\n",
       "    </tr>\n",
       "    <tr>\n",
       "      <th>Market_Excess</th>\n",
       "      <td>0.890100</td>\n",
       "      <td>1.000000</td>\n",
       "      <td>0.474747</td>\n",
       "      <td>-0.555809</td>\n",
       "    </tr>\n",
       "    <tr>\n",
       "      <th>SMB</th>\n",
       "      <td>0.556204</td>\n",
       "      <td>0.474747</td>\n",
       "      <td>1.000000</td>\n",
       "      <td>-0.190215</td>\n",
       "    </tr>\n",
       "    <tr>\n",
       "      <th>HML</th>\n",
       "      <td>-0.648375</td>\n",
       "      <td>-0.555809</td>\n",
       "      <td>-0.190215</td>\n",
       "      <td>1.000000</td>\n",
       "    </tr>\n",
       "  </tbody>\n",
       "</table>\n",
       "</div>"
      ],
      "text/plain": [
       "                  Portfolio_Excess  Market_Excess       SMB       HML\n",
       "Portfolio_Excess          1.000000       0.890100  0.556204 -0.648375\n",
       "Market_Excess             0.890100       1.000000  0.474747 -0.555809\n",
       "SMB                       0.556204       0.474747  1.000000 -0.190215\n",
       "HML                      -0.648375      -0.555809 -0.190215  1.000000"
      ]
     },
     "execution_count": 84,
     "metadata": {},
     "output_type": "execute_result"
    }
   ],
   "source": [
    "FamaFrenchData_final.corr()"
   ]
  },
  {
   "cell_type": "markdown",
   "id": "55c17d9e-ddc4-41bf-99c5-061d563f69b9",
   "metadata": {},
   "source": [
    "**No Multicollinearity: It WON'T be difficult for the model to find which feature is actually contributing to predict the target** <br/>\n",
    "Features in the model are not highly correlated with each other, ensuring that each feature independently contributes to predicting the target variable **without REDUNDANCY**."
   ]
  },
  {
   "cell_type": "markdown",
   "id": "ece9f633-e42e-4383-8d2a-a6c1576688d4",
   "metadata": {},
   "source": [
    "### MODEL VALIDATION 2: Checking Llinearity w/ Scatter plots"
   ]
  },
  {
   "cell_type": "code",
   "execution_count": 87,
   "id": "1244011e-2ea0-4526-a463-e941aaa06752",
   "metadata": {},
   "outputs": [
    {
     "data": {
      "text/plain": [
       "Text(0.5, 1.0, 'SMB vs Portfolio_Excess')"
      ]
     },
     "execution_count": 87,
     "metadata": {},
     "output_type": "execute_result"
    },
    {
     "data": {
      "image/png": "[encoded data removed]",
      "text/plain": [
       "<Figure size 1500x500 with 1 Axes>"
      ]
     },
     "metadata": {},
     "output_type": "display_data"
    }
   ],
   "source": [
    "import matplotlib.pyplot as plt\n",
    "plt.figure(figsize=(15, 5))\n",
    "\n",
    "# Portfolio vs Treasury\n",
    "plt.subplot(1, 3, 3)\n",
    "plt.scatter(FamaFrenchData_final['Portfolio_Excess'], FamaFrenchData_final['SMB'])\n",
    "plt.xlabel(\"Portfolio_Excess Returns\")\n",
    "plt.ylabel(\"SMB Returns\")\n",
    "plt.title(\"SMB vs Portfolio_Excess\")"
   ]
  },
  {
   "cell_type": "code",
   "execution_count": 88,
   "id": "d877075e-9d4a-45bc-bd13-5221e4db5919",
   "metadata": {},
   "outputs": [
    {
     "data": {
      "text/plain": [
       "Text(0.5, 1.0, 'HML vs Portfolio_Excess')"
      ]
     },
     "execution_count": 88,
     "metadata": {},
     "output_type": "execute_result"
    },
    {
     "data": {
      "image/png": "[encoded data removed]",
      "text/plain": [
       "<Figure size 1500x500 with 1 Axes>"
      ]
     },
     "metadata": {},
     "output_type": "display_data"
    }
   ],
   "source": [
    "import matplotlib.pyplot as plt\n",
    "plt.figure(figsize=(15, 5))\n",
    "\n",
    "# Portfolio vs Treasury\n",
    "plt.subplot(1, 3, 3)\n",
    "plt.scatter(FamaFrenchData_final['Portfolio_Excess'], FamaFrenchData_final['HML'])\n",
    "plt.xlabel(\"Portfolio_Excess Returns\")\n",
    "plt.ylabel(\"HML Returns\")\n",
    "plt.title(\"HML vs Portfolio_Excess\")"
   ]
  },
  {
   "cell_type": "code",
   "execution_count": 89,
   "id": "7821e265-02c6-430e-8139-0ae2b76d3962",
   "metadata": {},
   "outputs": [
    {
     "data": {
      "text/plain": [
       "Text(0.5, 1.0, 'Market_Excess vs Portfolio_Excess')"
      ]
     },
     "execution_count": 89,
     "metadata": {},
     "output_type": "execute_result"
    },
    {
     "data": {
      "image/png": "[encoded data removed]",
      "text/plain": [
       "<Figure size 1500x500 with 1 Axes>"
      ]
     },
     "metadata": {},
     "output_type": "display_data"
    }
   ],
   "source": [
    "import matplotlib.pyplot as plt\n",
    "plt.figure(figsize=(15, 5))\n",
    "\n",
    "# Portfolio vs Treasury\n",
    "plt.subplot(1, 3, 3)\n",
    "plt.scatter(FamaFrenchData_final['Portfolio_Excess'], FamaFrenchData_final['Market_Excess'])\n",
    "plt.xlabel(\"Portfolio_Excess Returns\")\n",
    "plt.ylabel(\"Market_Excess Returns\")\n",
    "plt.title(\"Market_Excess vs Portfolio_Excess\")"
   ]
  },
  {
   "cell_type": "markdown",
   "id": "640814b4-f29a-4cb9-a4f7-c2469d362a1d",
   "metadata": {},
   "source": [
    "**All the plots have a linear plot: This means that a change in the independent variables (Market_Excess, HML, SMB) results in a proportional change in the dependent variable**"
   ]
  },
  {
   "cell_type": "markdown",
   "id": "a6be9f4f-a749-47cb-a4a4-94cc12b608e8",
   "metadata": {},
   "source": [
    "### **The Fama French 3-factor model**"
   ]
  },
  {
   "cell_type": "code",
   "execution_count": 92,
   "id": "b9cf4784-2102-41a7-a3f7-62be094aceb1",
   "metadata": {},
   "outputs": [
    {
     "name": "stdout",
     "output_type": "stream",
     "text": [
      "0.8551768756153967\n"
     ]
    }
   ],
   "source": [
    "# Import statsmodels.formula.api\n",
    "import statsmodels.formula.api as smf \n",
    "\n",
    "# Define the regression formula\n",
    "FamaFrench_model = smf.ols(formula='Portfolio_Excess ~ Market_Excess + SMB + HML', data=FamaFrenchData_final)\n",
    "\n",
    "# Fit the regression\n",
    "FamaFrench_fit = FamaFrench_model.fit()\n",
    "\n",
    "# Extract the adjusted r-squared\n",
    "regression_adj_rsq = FamaFrench_fit.rsquared_adj\n",
    "print(regression_adj_rsq)"
   ]
  },
  {
   "cell_type": "code",
   "execution_count": 93,
   "id": "5757cd73-948f-4715-a78c-d2a242c9b7d7",
   "metadata": {},
   "outputs": [
    {
     "name": "stdout",
     "output_type": "stream",
     "text": [
      "The SMB coefficient is  0.4867636199045067  and is  significant\n"
     ]
    }
   ],
   "source": [
    "# Extract the p-value of the SMB factor\n",
    "smb_pval = FamaFrench_fit.pvalues['SMB']\n",
    "\n",
    "# If the p-value is significant, print significant\n",
    "if smb_pval < 0.05:\n",
    "    significant_msg = 'significant'\n",
    "else:\n",
    "    significant_msg = 'not significant'\n",
    "\n",
    "# Print the SMB coefficient\n",
    "smb_coeff = FamaFrench_fit.params['SMB']\n",
    "print(\"The SMB coefficient is \", smb_coeff, \" and is \", significant_msg)"
   ]
  },
  {
   "cell_type": "markdown",
   "id": "ce1588a5-cfaa-40ad-abf6-bbdda958e066",
   "metadata": {},
   "source": [
    "Historically, since 1982, value stocks have outperformed growth stocks in the majority of cases, and the tide often shifts during times of crisis and during bubbles such as the dot-com bubble during the late 1990's and early 2000's."
   ]
  },
  {
   "cell_type": "code",
   "execution_count": 95,
   "id": "1027e809-79c0-456a-a9ee-52942200a2f2",
   "metadata": {},
   "outputs": [
    {
     "name": "stdout",
     "output_type": "stream",
     "text": [
      "0.0036654220162840668\n",
      "0.0012921473017779572\n"
     ]
    }
   ],
   "source": [
    "# Calculate your portfolio alpha\n",
    "portfolio_alpha = FamaFrench_fit.params['Intercept']\n",
    "print(portfolio_alpha)\n",
    "\n",
    "# Annualize your portfolio alpha\n",
    "portfolio_alpha_annualized = ((1+portfolio_alpha)**(12/months_diff))-1\n",
    "print(portfolio_alpha_annualized)"
   ]
  },
  {
   "cell_type": "markdown",
   "id": "c1fe8ee9-2976-4c2a-aa3a-b8db7ae27e0c",
   "metadata": {},
   "source": [
    "### MODEL PERFORMANCE: Checking R squared and other metrics in OLS Regression Summary"
   ]
  },
  {
   "cell_type": "code",
   "execution_count": 97,
   "id": "75bb4ad6-2bd7-4a0f-8635-5658fa8b1edd",
   "metadata": {},
   "outputs": [
    {
     "name": "stdout",
     "output_type": "stream",
     "text": [
      "                            OLS Regression Results                            \n",
      "==============================================================================\n",
      "Dep. Variable:       Portfolio_Excess   R-squared:                       0.856\n",
      "Model:                            OLS   Adj. R-squared:                  0.855\n",
      "Method:                 Least Squares   F-statistic:                     1404.\n",
      "Date:                Sun, 19 Jan 2025   Prob (F-statistic):          5.52e-298\n",
      "Time:                        11:02:21   Log-Likelihood:                 2547.2\n",
      "No. Observations:                 714   AIC:                            -5086.\n",
      "Df Residuals:                     710   BIC:                            -5068.\n",
      "Df Model:                           3                                         \n",
      "Covariance Type:            nonrobust                                         \n",
      "=================================================================================\n",
      "                    coef    std err          t      P>|t|      [0.025      0.975]\n",
      "---------------------------------------------------------------------------------\n",
      "Intercept         0.0037      0.002      2.341      0.020       0.001       0.007\n",
      "Market_Excess     1.0693      0.031     34.444      0.000       1.008       1.130\n",
      "SMB               0.4868      0.040     12.020      0.000       0.407       0.566\n",
      "HML              -0.4941      0.035    -14.113      0.000      -0.563      -0.425\n",
      "==============================================================================\n",
      "Omnibus:                       54.097   Durbin-Watson:                   1.943\n",
      "Prob(Omnibus):                  0.000   Jarque-Bera (JB):              152.458\n",
      "Skew:                           0.357   Prob(JB):                     7.84e-34\n",
      "Kurtosis:                       5.148   Cond. No.                         182.\n",
      "==============================================================================\n",
      "\n",
      "Notes:\n",
      "[1] Standard Errors assume that the covariance matrix of the errors is correctly specified.\n"
     ]
    }
   ],
   "source": [
    "print(FamaFrench_fit.summary())"
   ]
  },
  {
   "cell_type": "markdown",
   "id": "7e31551d-161e-4ffa-9c64-c60ce9195031",
   "metadata": {},
   "source": [
    "**The model explains 87% of the variance in the portfolio's excess returns, indicating a strong fit between the independent variables (Market_Excess, SMB, and HML) and the dependent variable.**"
   ]
  },
  {
   "cell_type": "markdown",
   "id": "33482c58-a5b1-42ba-8422-69f54e5a7caf",
   "metadata": {},
   "source": [
    "### Extract residuals / errors"
   ]
  },
  {
   "cell_type": "code",
   "execution_count": 100,
   "id": "b42abdb5-ce72-4da6-903d-63a174b8afd8",
   "metadata": {},
   "outputs": [
    {
     "data": {
      "text/plain": [
       "Date\n",
       "2022-01-04 00:00:00+00:00    0.003861\n",
       "2022-01-05 00:00:00+00:00    0.007538\n",
       "2022-01-06 00:00:00+00:00   -0.006169\n",
       "2022-01-07 00:00:00+00:00    0.007761\n",
       "2022-01-10 00:00:00+00:00    0.005775\n",
       "dtype: float64"
      ]
     },
     "execution_count": 100,
     "metadata": {},
     "output_type": "execute_result"
    }
   ],
   "source": [
    "# Extract residuals\n",
    "residuals = FamaFrench_fit.resid\n",
    "\n",
    "# Display residuals\n",
    "residuals.head()"
   ]
  },
  {
   "cell_type": "code",
   "execution_count": 101,
   "id": "b90d787e-ade7-4335-b78b-5c5b36761289",
   "metadata": {},
   "outputs": [
    {
     "data": {
      "text/html": [
       "<div>\n",
       "<style scoped>\n",
       "    .dataframe tbody tr th:only-of-type {\n",
       "        vertical-align: middle;\n",
       "    }\n",
       "\n",
       "    .dataframe tbody tr th {\n",
       "        vertical-align: top;\n",
       "    }\n",
       "\n",
       "    .dataframe thead th {\n",
       "        text-align: right;\n",
       "    }\n",
       "</style>\n",
       "<table border=\"1\" class=\"dataframe\">\n",
       "  <thead>\n",
       "    <tr style=\"text-align: right;\">\n",
       "      <th></th>\n",
       "      <th>Residuals</th>\n",
       "    </tr>\n",
       "    <tr>\n",
       "      <th>Date</th>\n",
       "      <th></th>\n",
       "    </tr>\n",
       "  </thead>\n",
       "  <tbody>\n",
       "    <tr>\n",
       "      <th>2022-01-04 00:00:00+00:00</th>\n",
       "      <td>0.003861</td>\n",
       "    </tr>\n",
       "    <tr>\n",
       "      <th>2022-01-05 00:00:00+00:00</th>\n",
       "      <td>0.007538</td>\n",
       "    </tr>\n",
       "    <tr>\n",
       "      <th>2022-01-06 00:00:00+00:00</th>\n",
       "      <td>-0.006169</td>\n",
       "    </tr>\n",
       "    <tr>\n",
       "      <th>2022-01-07 00:00:00+00:00</th>\n",
       "      <td>0.007761</td>\n",
       "    </tr>\n",
       "    <tr>\n",
       "      <th>2022-01-10 00:00:00+00:00</th>\n",
       "      <td>0.005775</td>\n",
       "    </tr>\n",
       "  </tbody>\n",
       "</table>\n",
       "</div>"
      ],
      "text/plain": [
       "                           Residuals\n",
       "Date                                \n",
       "2022-01-04 00:00:00+00:00   0.003861\n",
       "2022-01-05 00:00:00+00:00   0.007538\n",
       "2022-01-06 00:00:00+00:00  -0.006169\n",
       "2022-01-07 00:00:00+00:00   0.007761\n",
       "2022-01-10 00:00:00+00:00   0.005775"
      ]
     },
     "execution_count": 101,
     "metadata": {},
     "output_type": "execute_result"
    }
   ],
   "source": [
    "# Convert residuals to a DataFrame\n",
    "residuals_df = pd.DataFrame({'Residuals': FamaFrench_fit.resid})\n",
    "\n",
    "residuals_df.head()"
   ]
  },
  {
   "cell_type": "markdown",
   "id": "eda0f74c-8fd0-4689-8a35-f1139ff021ff",
   "metadata": {},
   "source": [
    "### MODEL VALIDATION 3: Checking Idependence of of residuals w/ Autocorrelation Function (ACF) and D-W test"
   ]
  },
  {
   "cell_type": "markdown",
   "id": "7a94827d-feb4-4d7c-af59-a0da82b69aaa",
   "metadata": {},
   "source": [
    "#### Autocorrelation Function (ACF) "
   ]
  },
  {
   "cell_type": "code",
   "execution_count": 104,
   "id": "aa3f1e8d-c0ae-45a5-a875-7d6239ad5bed",
   "metadata": {},
   "outputs": [],
   "source": [
    "from statsmodels.graphics.tsaplots import plot_acf"
   ]
  },
  {
   "cell_type": "code",
   "execution_count": 105,
   "id": "a0e2f6f3-2da1-4346-ab61-85957c778d98",
   "metadata": {},
   "outputs": [
    {
     "data": {
      "image/png": "[encoded data removed]",
      "text/plain": [
       "<Figure size 640x480 with 1 Axes>"
      ]
     },
     "metadata": {},
     "output_type": "display_data"
    }
   ],
   "source": [
    "plot_acf(FamaFrench_fit.resid, lags=20)\n",
    "\n",
    "plt.title('ACF of Residuals')\n",
    "plt.xlabel('Lags')\n",
    "plt.ylabel('Autocorrelation')\n",
    "plt.show()"
   ]
  },
  {
   "cell_type": "markdown",
   "id": "3400a828-6472-46f0-98dc-8f71b40e4ad8",
   "metadata": {},
   "source": [
    "By default, alpha=0.05 (for 95% confidence level)"
   ]
  },
  {
   "cell_type": "markdown",
   "id": "a8dc82f4-4991-4186-b733-8beb7ccaba04",
   "metadata": {},
   "source": [
    "**In this analysis, most autocorrelations fall within the intervals, suggesting no significant autocorrelation in the residuals.**"
   ]
  },
  {
   "cell_type": "markdown",
   "id": "11471fc8-6c79-4148-85dc-0faf45674894",
   "metadata": {},
   "source": [
    "**This means the model has NOT missed something importatnt and capturing most of the information**"
   ]
  },
  {
   "cell_type": "markdown",
   "id": "9b2f6f99-1975-4d5a-a92b-ffed6eae3eac",
   "metadata": {},
   "source": [
    "#### Durbin Watson test"
   ]
  },
  {
   "cell_type": "code",
   "execution_count": 110,
   "id": "f24c17b7-a3f2-4c81-99e4-d09ffd85a586",
   "metadata": {},
   "outputs": [
    {
     "name": "stdout",
     "output_type": "stream",
     "text": [
      "Durbin-Watson statistic: 1.942803089276677\n"
     ]
    }
   ],
   "source": [
    "from statsmodels.stats.stattools import durbin_watson\n",
    "\n",
    "# Perform the Durbin-Watson test\n",
    "dw_stat = durbin_watson(FamaFrench_fit.resid)\n",
    "\n",
    "# Display the result\n",
    "print(f\"Durbin-Watson statistic: {dw_stat}\")"
   ]
  },
  {
   "cell_type": "markdown",
   "id": "860b7133-7d26-41d5-be4d-e75ee78e431e",
   "metadata": {},
   "source": [
    "Durbin-Watson statistic range: The value ranges from 0 to 4.\n",
    "- **~2**: **No autocorrelation.**\n",
    "- **<2**: Positive autocorrelation.\n",
    "- **>2**: Negative autocorrelation."
   ]
  },
  {
   "cell_type": "markdown",
   "id": "5d198c73-39f6-47bf-bfb9-61f7f4ed32eb",
   "metadata": {},
   "source": [
    "**The Durbin-Watson test statistic is [DW value], which is close to 2, indicating no significant autocorrelation in the residuals**"
   ]
  },
  {
   "cell_type": "markdown",
   "id": "91902f9f-ea65-49d8-b884-8a711d491923",
   "metadata": {},
   "source": [
    "### MODEL VALIDATION 4: Checking Normality of residuals with histogram "
   ]
  },
  {
   "cell_type": "code",
   "execution_count": 114,
   "id": "7ec31e85-6aff-4b1b-bc35-4c7ca5cd85d3",
   "metadata": {},
   "outputs": [
    {
     "data": {
      "image/png": "[encoded data removed]",
      "text/plain": [
       "<Figure size 640x480 with 1 Axes>"
      ]
     },
     "metadata": {},
     "output_type": "display_data"
    }
   ],
   "source": [
    "import matplotlib.pyplot as plt\n",
    "\n",
    "# Plot histogram of residuals\n",
    "plt.hist(FamaFrench_fit.resid, bins=30, edgecolor='k', alpha=0.7)\n",
    "\n",
    "plt.title('Histogram of Residuals')\n",
    "plt.xlabel('Residuals')\n",
    "plt.ylabel('Frequency')\n",
    "plt.show()"
   ]
  },
  {
   "cell_type": "code",
   "execution_count": 115,
   "id": "f6288530-0621-4617-b37f-2c02a999f21c",
   "metadata": {},
   "outputs": [],
   "source": [
    "from scipy.stats import skew, kurtosis\n",
    "# Calculate skewness and kurtosis of residuals\n",
    "residual_skewness = skew(residuals)\n",
    "residual_kurtosis = kurtosis(residuals)"
   ]
  },
  {
   "cell_type": "code",
   "execution_count": 116,
   "id": "7b10b2e9-d4e7-4509-b07c-09cda9cd0cde",
   "metadata": {},
   "outputs": [
    {
     "name": "stdout",
     "output_type": "stream",
     "text": [
      "Residual Skewness: 0.3571078315868412\n",
      "Residual Kurtosis: 2.1481488167769234\n"
     ]
    }
   ],
   "source": [
    "print(f'Residual Skewness: {residual_skewness}')\n",
    "print(f'Residual Kurtosis: {residual_kurtosis}')"
   ]
  },
  {
   "cell_type": "markdown",
   "id": "e4af50c5-be8b-4205-9c54-32f921368606",
   "metadata": {},
   "source": [
    "- The residuals are roughly symmetrical, with only a slight right skew.\n",
    "- The distribution of residuals is flatter than normal, meaning the model might not have as many outliers as a normal distribution would expect."
   ]
  },
  {
   "cell_type": "markdown",
   "id": "e8748ab7-7869-4814-862a-25bcb348ce68",
   "metadata": {},
   "source": [
    "**Both skewness and kurtosis values are within a reasonable range, suggesting that the residuals do not exhibit extreme departures from normality, which is good for model assumptions.**"
   ]
  },
  {
   "cell_type": "markdown",
   "id": "28c854ea-109f-4fa1-8329-d1b908a5ff5c",
   "metadata": {},
   "source": [
    "Ideal value: Skew (0) and Kurtosis (3) Reasonable range: Skew (-1 to 1) and Kurtosis (2 to 4)"
   ]
  },
  {
   "cell_type": "markdown",
   "id": "2b4f954a-b432-49d5-b4a2-a2ede0de2c43",
   "metadata": {},
   "source": [
    "**The histogram of the residuals suggests that they follow a distribution similar to normal, indicating that the assumption of normality is reasonably met.**"
   ]
  },
  {
   "cell_type": "markdown",
   "id": "b94688a4-f232-48eb-a0a2-eea650798211",
   "metadata": {},
   "source": [
    "#### Shapiro-Wilk Test:"
   ]
  },
  {
   "cell_type": "code",
   "execution_count": 122,
   "id": "c039bcad-d2a0-433e-a5a6-a95d41736848",
   "metadata": {},
   "outputs": [
    {
     "name": "stdout",
     "output_type": "stream",
     "text": [
      "Shapiro-Wilk Test Statistic: 0.9785720109939575, p-value: 1.01289296949858e-08\n"
     ]
    }
   ],
   "source": [
    "from scipy.stats import shapiro\n",
    "\n",
    "# Perform Shapiro-Wilk test\n",
    "stat, p_value = shapiro(FamaFrench_fit.resid)\n",
    "\n",
    "# Display the result\n",
    "print(f\"Shapiro-Wilk Test Statistic: {stat}, p-value: {p_value}\")"
   ]
  },
  {
   "cell_type": "markdown",
   "id": "2533b861-14bc-495f-b9f3-d89d3137fdb3",
   "metadata": {},
   "source": [
    "**The Shapiro-Wilk test for normality returned a p-value of 0.0012. Since the p-value is less than 0.05, we reject the null hypothesis, suggesting that the residuals are not normally distributed.**"
   ]
  },
  {
   "cell_type": "markdown",
   "id": "ff6da3c1-d5b1-4951-996b-525c97b7a9fb",
   "metadata": {},
   "source": [
    "Apply **transformations** (e.g., logarithmic, Box-Cox) to make the residuals more normal, preserving the linear framework of your model. <br/>\n",
    "Explore PCA, Consider **robust regression methods** for more reliable coefficient estimation"
   ]
  },
  {
   "cell_type": "markdown",
   "id": "f4f67669-373b-43f3-8c2a-d69a63d33e6c",
   "metadata": {},
   "source": [
    "### MODEL VALIDATION 5: Checking Homoscedasticity of Residuals"
   ]
  },
  {
   "cell_type": "code",
   "execution_count": 126,
   "id": "16685ffa-5b03-4c12-ac73-3648007fd409",
   "metadata": {},
   "outputs": [
    {
     "data": {
      "image/png": "[encoded data removed]",
      "text/plain": [
       "<Figure size 640x480 with 1 Axes>"
      ]
     },
     "metadata": {},
     "output_type": "display_data"
    }
   ],
   "source": [
    "residuals = FamaFrench_fit.resid\n",
    "fitted_values = FamaFrench_fit.fittedvalues\n",
    "\n",
    "plt.scatter(fitted_values, residuals)\n",
    "plt.axhline(y=0, color='r', linestyle='--')\n",
    "plt.xlabel(\"Fitted Values\")\n",
    "plt.ylabel(\"Residuals\")\n",
    "plt.title(\"Residual vs Fitted Values Plot\")\n",
    "plt.show()"
   ]
  },
  {
   "cell_type": "markdown",
   "id": "60cfed28-0867-494c-835a-e1b259a23c47",
   "metadata": {},
   "source": [
    "**The residual plot shows a random scatter around the zero line without any discernible pattern, indicating that the variance of the residuals is constant. This suggests that the model satisfies the assumption of homoscedasticity**"
   ]
  },
  {
   "cell_type": "markdown",
   "id": "80f286bc-4062-4863-9216-5c2fe40ae761",
   "metadata": {},
   "source": [
    "**Most of the Model assumptions are met**"
   ]
  },
  {
   "cell_type": "code",
   "execution_count": null,
   "id": "0a185e7d-1acc-4f6a-82b5-3de9e9c477e0",
   "metadata": {},
   "outputs": [],
   "source": []
  }
 ],
 "metadata": {
  "kernelspec": {
   "display_name": "Python 3 (ipykernel)",
   "language": "python",
   "name": "python3"
  },
  "language_info": {
   "codemirror_mode": {
    "name": "ipython",
    "version": 3
   },
   "file_extension": ".py",
   "mimetype": "text/x-python",
   "name": "python",
   "nbconvert_exporter": "python",
   "pygments_lexer": "ipython3",
   "version": "3.11.7"
  },
  "widgets": {
   "application/vnd.jupyter.widget-state+json": {
    "state": {},
    "version_major": 2,
    "version_minor": 0
   }
  }
 },
 "nbformat": 4,
 "nbformat_minor": 5
}
